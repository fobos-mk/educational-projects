{
 "cells": [
  {
   "cell_type": "markdown",
   "metadata": {},
   "source": [
    "# Поведение пользователей мобильного приложения\n",
    "\n",
    "Вы работаете в стартапе, который продаёт продукты питания. Нужно разобраться, как ведут себя пользователи вашего мобильного приложения.\n",
    "\n",
    "**Цель:** проанализировать поведение пользователей мобильного приложения стартапа продуктов питания.\n",
    "\n",
    "**Задачи:**\n",
    "- Изучить воронку продаж. Узнайть, как пользователи доходят до покупки. Сколько пользователей доходит до покупки, а сколько — «застревает» на предыдущих шагах. На каких именно.\n",
    "- Исследовать результаты A/A/B-эксперимента. Дизайнеры захотели поменять шрифты во всём приложении, а менеджеры испугались, что пользователям будет непривычно. Договорились принять решение по результатам A/A/B-теста. Пользователей разбили на 3 группы: 2 контрольные со старыми шрифтами и одну экспериментальную — с новыми. Необходимо выяснить, какой шрифт лучше."
   ]
  },
  {
   "cell_type": "markdown",
   "metadata": {},
   "source": [
    "## Изучение и предобработка файла данных "
   ]
  },
  {
   "cell_type": "markdown",
   "metadata": {},
   "source": [
    "Импортируем необходимые библиотеки"
   ]
  },
  {
   "cell_type": "code",
   "execution_count": 1,
   "metadata": {},
   "outputs": [],
   "source": [
    "import pandas as pd\n",
    "import numpy as np\n",
    "import matplotlib.pyplot as plt\n",
    "import plotly.express as px\n",
    "import seaborn as sns\n",
    "from datetime import datetime as dt\n",
    "from scipy import stats as st\n",
    "import math as mth\n",
    "from plotly import graph_objects as go\n",
    "\n",
    "\n",
    "import warnings\n",
    "warnings.filterwarnings('ignore')\n",
    "pd.set_option(\"max_colwidth\", 200)\n",
    "import plotly.io as pio\n",
    "pio.renderers.default='notebook'"
   ]
  },
  {
   "cell_type": "markdown",
   "metadata": {},
   "source": [
    "Запишем датасет в переменную df"
   ]
  },
  {
   "cell_type": "code",
   "execution_count": 2,
   "metadata": {},
   "outputs": [],
   "source": [
    "try:\n",
    "    df = pd.read_csv('/datasets/logs_exp.csv', sep='\\t')\n",
    "except:\n",
    "    df = pd.read_csv('logs_exp.csv', sep='\\t')\n",
    "    \n",
    "pd.options.display.max_columns = 50"
   ]
  },
  {
   "cell_type": "markdown",
   "metadata": {},
   "source": [
    "Посмотрим на первые 10 строк и общую информацию о датафрейме"
   ]
  },
  {
   "cell_type": "code",
   "execution_count": 3,
   "metadata": {},
   "outputs": [
    {
     "name": "stdout",
     "output_type": "stream",
     "text": [
      "<class 'pandas.core.frame.DataFrame'>\n",
      "RangeIndex: 244126 entries, 0 to 244125\n",
      "Data columns (total 4 columns):\n",
      " #   Column          Non-Null Count   Dtype \n",
      "---  ------          --------------   ----- \n",
      " 0   EventName       244126 non-null  object\n",
      " 1   DeviceIDHash    244126 non-null  int64 \n",
      " 2   EventTimestamp  244126 non-null  int64 \n",
      " 3   ExpId           244126 non-null  int64 \n",
      "dtypes: int64(3), object(1)\n",
      "memory usage: 7.5+ MB\n"
     ]
    },
    {
     "data": {
      "text/html": [
       "<div>\n",
       "<style scoped>\n",
       "    .dataframe tbody tr th:only-of-type {\n",
       "        vertical-align: middle;\n",
       "    }\n",
       "\n",
       "    .dataframe tbody tr th {\n",
       "        vertical-align: top;\n",
       "    }\n",
       "\n",
       "    .dataframe thead th {\n",
       "        text-align: right;\n",
       "    }\n",
       "</style>\n",
       "<table border=\"1\" class=\"dataframe\">\n",
       "  <thead>\n",
       "    <tr style=\"text-align: right;\">\n",
       "      <th></th>\n",
       "      <th>EventName</th>\n",
       "      <th>DeviceIDHash</th>\n",
       "      <th>EventTimestamp</th>\n",
       "      <th>ExpId</th>\n",
       "    </tr>\n",
       "  </thead>\n",
       "  <tbody>\n",
       "    <tr>\n",
       "      <th>0</th>\n",
       "      <td>MainScreenAppear</td>\n",
       "      <td>4575588528974610257</td>\n",
       "      <td>1564029816</td>\n",
       "      <td>246</td>\n",
       "    </tr>\n",
       "    <tr>\n",
       "      <th>1</th>\n",
       "      <td>MainScreenAppear</td>\n",
       "      <td>7416695313311560658</td>\n",
       "      <td>1564053102</td>\n",
       "      <td>246</td>\n",
       "    </tr>\n",
       "    <tr>\n",
       "      <th>2</th>\n",
       "      <td>PaymentScreenSuccessful</td>\n",
       "      <td>3518123091307005509</td>\n",
       "      <td>1564054127</td>\n",
       "      <td>248</td>\n",
       "    </tr>\n",
       "    <tr>\n",
       "      <th>3</th>\n",
       "      <td>CartScreenAppear</td>\n",
       "      <td>3518123091307005509</td>\n",
       "      <td>1564054127</td>\n",
       "      <td>248</td>\n",
       "    </tr>\n",
       "    <tr>\n",
       "      <th>4</th>\n",
       "      <td>PaymentScreenSuccessful</td>\n",
       "      <td>6217807653094995999</td>\n",
       "      <td>1564055322</td>\n",
       "      <td>248</td>\n",
       "    </tr>\n",
       "    <tr>\n",
       "      <th>5</th>\n",
       "      <td>CartScreenAppear</td>\n",
       "      <td>6217807653094995999</td>\n",
       "      <td>1564055323</td>\n",
       "      <td>248</td>\n",
       "    </tr>\n",
       "    <tr>\n",
       "      <th>6</th>\n",
       "      <td>OffersScreenAppear</td>\n",
       "      <td>8351860793733343758</td>\n",
       "      <td>1564066242</td>\n",
       "      <td>246</td>\n",
       "    </tr>\n",
       "    <tr>\n",
       "      <th>7</th>\n",
       "      <td>MainScreenAppear</td>\n",
       "      <td>5682100281902512875</td>\n",
       "      <td>1564085677</td>\n",
       "      <td>246</td>\n",
       "    </tr>\n",
       "    <tr>\n",
       "      <th>8</th>\n",
       "      <td>MainScreenAppear</td>\n",
       "      <td>1850981295691852772</td>\n",
       "      <td>1564086702</td>\n",
       "      <td>247</td>\n",
       "    </tr>\n",
       "    <tr>\n",
       "      <th>9</th>\n",
       "      <td>MainScreenAppear</td>\n",
       "      <td>5407636962369102641</td>\n",
       "      <td>1564112112</td>\n",
       "      <td>246</td>\n",
       "    </tr>\n",
       "  </tbody>\n",
       "</table>\n",
       "</div>"
      ],
      "text/plain": [
       "                 EventName         DeviceIDHash  EventTimestamp  ExpId\n",
       "0         MainScreenAppear  4575588528974610257      1564029816    246\n",
       "1         MainScreenAppear  7416695313311560658      1564053102    246\n",
       "2  PaymentScreenSuccessful  3518123091307005509      1564054127    248\n",
       "3         CartScreenAppear  3518123091307005509      1564054127    248\n",
       "4  PaymentScreenSuccessful  6217807653094995999      1564055322    248\n",
       "5         CartScreenAppear  6217807653094995999      1564055323    248\n",
       "6       OffersScreenAppear  8351860793733343758      1564066242    246\n",
       "7         MainScreenAppear  5682100281902512875      1564085677    246\n",
       "8         MainScreenAppear  1850981295691852772      1564086702    247\n",
       "9         MainScreenAppear  5407636962369102641      1564112112    246"
      ]
     },
     "execution_count": 3,
     "metadata": {},
     "output_type": "execute_result"
    }
   ],
   "source": [
    "df.info()\n",
    "df.head(10)"
   ]
  },
  {
   "cell_type": "markdown",
   "metadata": {},
   "source": [
    "Описание данных:\n",
    "\n",
    "`EventName` — название события;\n",
    "\n",
    "`DeviceIDHash` — уникальный идентификатор пользователя;\n",
    "\n",
    "`EventTimestamp` — время события;\n",
    "\n",
    "`ExpId` — номер эксперимента: 246 и 247 — контрольные группы, а 248 — экспериментальная."
   ]
  },
  {
   "cell_type": "markdown",
   "metadata": {},
   "source": [
    "Данные полные, пропусков нет. Типы данных столбцов в порядке. Можно привести названия столбцов к нижнему регистру и переименовать для удобства, перевести названия событий на русский. Также необходимо преобразовать время события в привычный формат."
   ]
  },
  {
   "cell_type": "code",
   "execution_count": 4,
   "metadata": {},
   "outputs": [],
   "source": [
    "# Приводим названия столбцов к нижнему регистру\n",
    "df.columns = df.columns.str.lower()\n",
    "\n",
    "# Переименовываем названия столбцов\n",
    "df = df.rename(columns={'eventname': 'event', 'deviceidhash': 'user_id', 'expid': 'exp_id'})\n",
    "\n",
    "# Приводим столбец с временем события в привычный формат\n",
    "df['eventtimestamp'] = pd.to_datetime(df['eventtimestamp'], unit='s')\n",
    "\n",
    "# Английские названия событий\n",
    "eng_event = ['MainScreenAppear', 'PaymentScreenSuccessful', 'CartScreenAppear', 'OffersScreenAppear', 'Tutorial']\n",
    "\n",
    "# Русские названия событий\n",
    "rus_event = ['Главный экран', 'Покупка', 'Переход в корзину', 'Просмотр предложений', 'Обучение']\n",
    "\n",
    "# Переменная для итерации внутри цикла\n",
    "i = 0\n",
    "\n",
    "# Замена английских названий событий на русские\n",
    "for num in eng_event:\n",
    "    df.loc[df['event'] == num, 'event'] = rus_event[i]\n",
    "    i += 1"
   ]
  },
  {
   "cell_type": "markdown",
   "metadata": {},
   "source": [
    "###  Проверка на дубликаты"
   ]
  },
  {
   "cell_type": "markdown",
   "metadata": {},
   "source": [
    "Проверим данные на дубликаты:"
   ]
  },
  {
   "cell_type": "code",
   "execution_count": 5,
   "metadata": {
    "scrolled": true
   },
   "outputs": [
    {
     "name": "stdout",
     "output_type": "stream",
     "text": [
      "Пользователей без проверки на дубликаты - 7551\n",
      "Количество дубликатов - 413\n"
     ]
    }
   ],
   "source": [
    "# Посмотрим также на количество пользователей\n",
    "print('Пользователей без проверки на дубликаты -', df['user_id'].nunique())\n",
    "\n",
    "print('Количество дубликатов -', df.duplicated().sum())"
   ]
  },
  {
   "cell_type": "markdown",
   "metadata": {},
   "source": [
    "Удалим их:"
   ]
  },
  {
   "cell_type": "code",
   "execution_count": 6,
   "metadata": {},
   "outputs": [
    {
     "name": "stdout",
     "output_type": "stream",
     "text": [
      "Пользователей после удаления дубликатов - 7551\n"
     ]
    }
   ],
   "source": [
    "df = df.drop_duplicates()\n",
    "\n",
    "print('Пользователей после удаления дубликатов -', df['user_id'].nunique())"
   ]
  },
  {
   "cell_type": "markdown",
   "metadata": {},
   "source": [
    "Вновь посмотрим общую информацию и количество пользователей в логе"
   ]
  },
  {
   "cell_type": "code",
   "execution_count": 7,
   "metadata": {},
   "outputs": [
    {
     "name": "stdout",
     "output_type": "stream",
     "text": [
      "<class 'pandas.core.frame.DataFrame'>\n",
      "Int64Index: 243713 entries, 0 to 244125\n",
      "Data columns (total 4 columns):\n",
      " #   Column          Non-Null Count   Dtype         \n",
      "---  ------          --------------   -----         \n",
      " 0   event           243713 non-null  object        \n",
      " 1   user_id         243713 non-null  int64         \n",
      " 2   eventtimestamp  243713 non-null  datetime64[ns]\n",
      " 3   exp_id          243713 non-null  int64         \n",
      "dtypes: datetime64[ns](1), int64(2), object(1)\n",
      "memory usage: 9.3+ MB\n"
     ]
    }
   ],
   "source": [
    "df.info()"
   ]
  },
  {
   "cell_type": "markdown",
   "metadata": {},
   "source": [
    "Посмотрим на количество событий в логе, количество пользователей и среднее количество событий на пользователя."
   ]
  },
  {
   "cell_type": "code",
   "execution_count": 8,
   "metadata": {},
   "outputs": [
    {
     "data": {
      "text/html": [
       "<div>\n",
       "<style scoped>\n",
       "    .dataframe tbody tr th:only-of-type {\n",
       "        vertical-align: middle;\n",
       "    }\n",
       "\n",
       "    .dataframe tbody tr th {\n",
       "        vertical-align: top;\n",
       "    }\n",
       "\n",
       "    .dataframe thead th {\n",
       "        text-align: right;\n",
       "    }\n",
       "</style>\n",
       "<table border=\"1\" class=\"dataframe\">\n",
       "  <thead>\n",
       "    <tr style=\"text-align: right;\">\n",
       "      <th></th>\n",
       "      <th>event</th>\n",
       "      <th>user_id</th>\n",
       "    </tr>\n",
       "  </thead>\n",
       "  <tbody>\n",
       "    <tr>\n",
       "      <th>0</th>\n",
       "      <td>Главный экран</td>\n",
       "      <td>119101</td>\n",
       "    </tr>\n",
       "    <tr>\n",
       "      <th>4</th>\n",
       "      <td>Просмотр предложений</td>\n",
       "      <td>46808</td>\n",
       "    </tr>\n",
       "    <tr>\n",
       "      <th>2</th>\n",
       "      <td>Переход в корзину</td>\n",
       "      <td>42668</td>\n",
       "    </tr>\n",
       "    <tr>\n",
       "      <th>3</th>\n",
       "      <td>Покупка</td>\n",
       "      <td>34118</td>\n",
       "    </tr>\n",
       "    <tr>\n",
       "      <th>1</th>\n",
       "      <td>Обучение</td>\n",
       "      <td>1018</td>\n",
       "    </tr>\n",
       "  </tbody>\n",
       "</table>\n",
       "</div>"
      ],
      "text/plain": [
       "                  event  user_id\n",
       "0         Главный экран   119101\n",
       "4  Просмотр предложений    46808\n",
       "2     Переход в корзину    42668\n",
       "3               Покупка    34118\n",
       "1              Обучение     1018"
      ]
     },
     "metadata": {},
     "output_type": "display_data"
    },
    {
     "name": "stdout",
     "output_type": "stream",
     "text": [
      "Количество пользователей в логе: 7551\n",
      "Среднее количество событий на пользователя 20.0\n"
     ]
    }
   ],
   "source": [
    "# Количество событий в логе\n",
    "display(df.groupby('event', as_index=False).agg({'user_id': 'count'}).sort_values(by='user_id', ascending=False))\n",
    "\n",
    "print('Количество пользователей в логе:', df['user_id'].nunique())\n",
    "\n",
    "\n",
    "print('Среднее количество событий на пользователя', \n",
    "      df.groupby('user_id', as_index=False).agg({'event': 'count'})['event'].median())"
   ]
  },
  {
   "cell_type": "markdown",
   "metadata": {},
   "source": [
    "По итогу предобработки данных в виде исключения дубликатов располагаем 243713 событиями, 7551 пользователем со средним количеством событий 20. Дублирующиеся пользователи отсутствуют"
   ]
  },
  {
   "cell_type": "markdown",
   "metadata": {},
   "source": [
    "### Определение временного периода данных"
   ]
  },
  {
   "cell_type": "code",
   "execution_count": 9,
   "metadata": {},
   "outputs": [
    {
     "name": "stdout",
     "output_type": "stream",
     "text": [
      "Начало периода: 2019-07-25 04:43:36\n",
      "Конец периода: 2019-08-07 21:15:17\n",
      "Временной интервал равен 13 days 16:31:41\n"
     ]
    }
   ],
   "source": [
    "print('Начало периода:', df['eventtimestamp'].min())\n",
    "print('Конец периода:', df['eventtimestamp'].max())\n",
    "print('Временной интервал равен', (df['eventtimestamp'].max() - df['eventtimestamp'].min()))"
   ]
  },
  {
   "cell_type": "markdown",
   "metadata": {},
   "source": [
    "Выделим дату в отдельный столбик"
   ]
  },
  {
   "cell_type": "code",
   "execution_count": 10,
   "metadata": {},
   "outputs": [],
   "source": [
    "df['date'] = pd.to_datetime(df['eventtimestamp'].dt.date)"
   ]
  },
  {
   "cell_type": "markdown",
   "metadata": {},
   "source": [
    "Построим гистограмму по дате"
   ]
  },
  {
   "cell_type": "code",
   "execution_count": 11,
   "metadata": {},
   "outputs": [
    {
     "data": {
      "image/svg+xml": [
       "<svg class=\"main-svg\" xmlns=\"http://www.w3.org/2000/svg\" xmlns:xlink=\"http://www.w3.org/1999/xlink\" width=\"700\" height=\"500\" style=\"\" viewBox=\"0 0 700 500\"><rect x=\"0\" y=\"0\" width=\"700\" height=\"500\" style=\"fill: rgb(255, 255, 255); fill-opacity: 1;\"/><defs id=\"defs-99415f\"><g class=\"clips\"><clipPath id=\"clip99415fxyplot\" class=\"plotclip\"><rect width=\"456\" height=\"360\"/></clipPath><clipPath class=\"axesclip\" id=\"clip99415fx\"><rect x=\"80\" y=\"0\" width=\"456\" height=\"500\"/></clipPath><clipPath class=\"axesclip\" id=\"clip99415fy\"><rect x=\"0\" y=\"60\" width=\"700\" height=\"360\"/></clipPath><clipPath class=\"axesclip\" id=\"clip99415fxy\"><rect x=\"80\" y=\"60\" width=\"456\" height=\"360\"/></clipPath></g><g class=\"gradients\"/><g class=\"patterns\"/></defs><g class=\"bglayer\"><rect class=\"bg\" x=\"80\" y=\"60\" width=\"456\" height=\"360\" style=\"fill: rgb(229, 236, 246); fill-opacity: 1; stroke-width: 0;\"/></g><g class=\"layer-below\"><g class=\"imagelayer\"/><g class=\"shapelayer\"/></g><g class=\"cartesianlayer\"><g class=\"subplot xy\"><g class=\"layer-subplot\"><g class=\"shapelayer\"/><g class=\"imagelayer\"/></g><g class=\"gridlayer\"><g class=\"x\"/><g class=\"y\"><path class=\"ygrid crisp\" transform=\"translate(0,361.9)\" d=\"M80,0h456\" style=\"stroke: rgb(255, 255, 255); stroke-opacity: 1; stroke-width: 1px;\"/><path class=\"ygrid crisp\" transform=\"translate(0,303.78999999999996)\" d=\"M80,0h456\" style=\"stroke: rgb(255, 255, 255); stroke-opacity: 1; stroke-width: 1px;\"/><path class=\"ygrid crisp\" transform=\"translate(0,245.69)\" d=\"M80,0h456\" style=\"stroke: rgb(255, 255, 255); stroke-opacity: 1; stroke-width: 1px;\"/><path class=\"ygrid crisp\" transform=\"translate(0,187.57999999999998)\" d=\"M80,0h456\" style=\"stroke: rgb(255, 255, 255); stroke-opacity: 1; stroke-width: 1px;\"/><path class=\"ygrid crisp\" transform=\"translate(0,129.48000000000002)\" d=\"M80,0h456\" style=\"stroke: rgb(255, 255, 255); stroke-opacity: 1; stroke-width: 1px;\"/><path class=\"ygrid crisp\" transform=\"translate(0,71.38)\" d=\"M80,0h456\" style=\"stroke: rgb(255, 255, 255); stroke-opacity: 1; stroke-width: 1px;\"/></g></g><g class=\"zerolinelayer\"><path class=\"yzl zl crisp\" transform=\"translate(0,420)\" d=\"M80,0h456\" style=\"stroke: rgb(255, 255, 255); stroke-opacity: 1; stroke-width: 2px;\"/></g><path class=\"xlines-below\"/><path class=\"ylines-below\"/><g class=\"overlines-below\"/><g class=\"xaxislayer-below\"/><g class=\"yaxislayer-below\"/><g class=\"overaxes-below\"/><g class=\"plot\" transform=\"translate(80,60)\" clip-path=\"url(#clip99415fxyplot)\"><g class=\"barlayer mlayer\"><g class=\"trace bars\" shape-rendering=\"crispEdges\" style=\"opacity: 1;\"><g class=\"points\"><g class=\"point\"><path d=\"M0,360V359.88H1.38V360Z\" style=\"vector-effect: non-scaling-stroke; opacity: 1; stroke-width: 0px; fill: rgb(99, 110, 250); fill-opacity: 1;\"/></g><g class=\"point\"><path d=\"M0,0Z\" style=\"vector-effect: non-scaling-stroke; opacity: 1; stroke-width: 0px; fill: rgb(99, 110, 250); fill-opacity: 1;\"/></g><g class=\"point\"><path d=\"M0,0Z\" style=\"vector-effect: non-scaling-stroke; opacity: 1; stroke-width: 0px; fill: rgb(99, 110, 250); fill-opacity: 1;\"/></g><g class=\"point\"><path d=\"M0,0Z\" style=\"vector-effect: non-scaling-stroke; opacity: 1; stroke-width: 0px; fill: rgb(99, 110, 250); fill-opacity: 1;\"/></g><g class=\"point\"><path d=\"M0,0Z\" style=\"vector-effect: non-scaling-stroke; opacity: 1; stroke-width: 0px; fill: rgb(99, 110, 250); fill-opacity: 1;\"/></g><g class=\"point\"><path d=\"M0,0Z\" style=\"vector-effect: non-scaling-stroke; opacity: 1; stroke-width: 0px; fill: rgb(99, 110, 250); fill-opacity: 1;\"/></g><g class=\"point\"><path d=\"M0,0Z\" style=\"vector-effect: non-scaling-stroke; opacity: 1; stroke-width: 0px; fill: rgb(99, 110, 250); fill-opacity: 1;\"/></g><g class=\"point\"><path d=\"M9.67,360V359.42H11.05V360Z\" style=\"vector-effect: non-scaling-stroke; opacity: 1; stroke-width: 0px; fill: rgb(99, 110, 250); fill-opacity: 1;\"/></g><g class=\"point\"><path d=\"M0,0Z\" style=\"vector-effect: non-scaling-stroke; opacity: 1; stroke-width: 0px; fill: rgb(99, 110, 250); fill-opacity: 1;\"/></g><g class=\"point\"><path d=\"M0,0Z\" style=\"vector-effect: non-scaling-stroke; opacity: 1; stroke-width: 0px; fill: rgb(99, 110, 250); fill-opacity: 1;\"/></g><g class=\"point\"><path d=\"M13.82,360V359.88H15.2V360Z\" style=\"vector-effect: non-scaling-stroke; opacity: 1; stroke-width: 0px; fill: rgb(99, 110, 250); fill-opacity: 1;\"/></g><g class=\"point\"><path d=\"M0,0Z\" style=\"vector-effect: non-scaling-stroke; opacity: 1; stroke-width: 0px; fill: rgb(99, 110, 250); fill-opacity: 1;\"/></g><g class=\"point\"><path d=\"M0,0Z\" style=\"vector-effect: non-scaling-stroke; opacity: 1; stroke-width: 0px; fill: rgb(99, 110, 250); fill-opacity: 1;\"/></g><g class=\"point\"><path d=\"M0,0Z\" style=\"vector-effect: non-scaling-stroke; opacity: 1; stroke-width: 0px; fill: rgb(99, 110, 250); fill-opacity: 1;\"/></g><g class=\"point\"><path d=\"M0,0Z\" style=\"vector-effect: non-scaling-stroke; opacity: 1; stroke-width: 0px; fill: rgb(99, 110, 250); fill-opacity: 1;\"/></g><g class=\"point\"><path d=\"M0,0Z\" style=\"vector-effect: non-scaling-stroke; opacity: 1; stroke-width: 0px; fill: rgb(99, 110, 250); fill-opacity: 1;\"/></g><g class=\"point\"><path d=\"M22.11,360V359.77H23.49V360Z\" style=\"vector-effect: non-scaling-stroke; opacity: 1; stroke-width: 0px; fill: rgb(99, 110, 250); fill-opacity: 1;\"/></g><g class=\"point\"><path d=\"M0,0Z\" style=\"vector-effect: non-scaling-stroke; opacity: 1; stroke-width: 0px; fill: rgb(99, 110, 250); fill-opacity: 1;\"/></g><g class=\"point\"><path d=\"M0,0Z\" style=\"vector-effect: non-scaling-stroke; opacity: 1; stroke-width: 0px; fill: rgb(99, 110, 250); fill-opacity: 1;\"/></g><g class=\"point\"><path d=\"M0,0Z\" style=\"vector-effect: non-scaling-stroke; opacity: 1; stroke-width: 0px; fill: rgb(99, 110, 250); fill-opacity: 1;\"/></g><g class=\"point\"><path d=\"M0,0Z\" style=\"vector-effect: non-scaling-stroke; opacity: 1; stroke-width: 0px; fill: rgb(99, 110, 250); fill-opacity: 1;\"/></g><g class=\"point\"><path d=\"M0,0Z\" style=\"vector-effect: non-scaling-stroke; opacity: 1; stroke-width: 0px; fill: rgb(99, 110, 250); fill-opacity: 1;\"/></g><g class=\"point\"><path d=\"M0,0Z\" style=\"vector-effect: non-scaling-stroke; opacity: 1; stroke-width: 0px; fill: rgb(99, 110, 250); fill-opacity: 1;\"/></g><g class=\"point\"><path d=\"M31.78,360V359.88H33.16V360Z\" style=\"vector-effect: non-scaling-stroke; opacity: 1; stroke-width: 0px; fill: rgb(99, 110, 250); fill-opacity: 1;\"/></g><g class=\"point\"><path d=\"M0,0Z\" style=\"vector-effect: non-scaling-stroke; opacity: 1; stroke-width: 0px; fill: rgb(99, 110, 250); fill-opacity: 1;\"/></g><g class=\"point\"><path d=\"M34.55,360V359.88H35.93V360Z\" style=\"vector-effect: non-scaling-stroke; opacity: 1; stroke-width: 0px; fill: rgb(99, 110, 250); fill-opacity: 1;\"/></g><g class=\"point\"><path d=\"M35.93,360V359.77H37.31V360Z\" style=\"vector-effect: non-scaling-stroke; opacity: 1; stroke-width: 0px; fill: rgb(99, 110, 250); fill-opacity: 1;\"/></g><g class=\"point\"><path d=\"M37.31,360V359.88H38.69V360Z\" style=\"vector-effect: non-scaling-stroke; opacity: 1; stroke-width: 0px; fill: rgb(99, 110, 250); fill-opacity: 1;\"/></g><g class=\"point\"><path d=\"M0,0Z\" style=\"vector-effect: non-scaling-stroke; opacity: 1; stroke-width: 0px; fill: rgb(99, 110, 250); fill-opacity: 1;\"/></g><g class=\"point\"><path d=\"M0,0Z\" style=\"vector-effect: non-scaling-stroke; opacity: 1; stroke-width: 0px; fill: rgb(99, 110, 250); fill-opacity: 1;\"/></g><g class=\"point\"><path d=\"M41.45,360V359.88H42.84V360Z\" style=\"vector-effect: non-scaling-stroke; opacity: 1; stroke-width: 0px; fill: rgb(99, 110, 250); fill-opacity: 1;\"/></g><g class=\"point\"><path d=\"M42.84,360V359.77H44.22V360Z\" style=\"vector-effect: non-scaling-stroke; opacity: 1; stroke-width: 0px; fill: rgb(99, 110, 250); fill-opacity: 1;\"/></g><g class=\"point\"><path d=\"M44.22,360V359.88H45.6V360Z\" style=\"vector-effect: non-scaling-stroke; opacity: 1; stroke-width: 0px; fill: rgb(99, 110, 250); fill-opacity: 1;\"/></g><g class=\"point\"><path d=\"M45.6,360V359.88H46.98V360Z\" style=\"vector-effect: non-scaling-stroke; opacity: 1; stroke-width: 0px; fill: rgb(99, 110, 250); fill-opacity: 1;\"/></g><g class=\"point\"><path d=\"M46.98,360V359.42H48.36V360Z\" style=\"vector-effect: non-scaling-stroke; opacity: 1; stroke-width: 0px; fill: rgb(99, 110, 250); fill-opacity: 1;\"/></g><g class=\"point\"><path d=\"M48.36,360V359.88H49.75V360Z\" style=\"vector-effect: non-scaling-stroke; opacity: 1; stroke-width: 0px; fill: rgb(99, 110, 250); fill-opacity: 1;\"/></g><g class=\"point\"><path d=\"M49.75,360V359.88H51.13V360Z\" style=\"vector-effect: non-scaling-stroke; opacity: 1; stroke-width: 0px; fill: rgb(99, 110, 250); fill-opacity: 1;\"/></g><g class=\"point\"><path d=\"M51.13,360V359.65H52.51V360Z\" style=\"vector-effect: non-scaling-stroke; opacity: 1; stroke-width: 0px; fill: rgb(99, 110, 250); fill-opacity: 1;\"/></g><g class=\"point\"><path d=\"M52.51,360V359.3H53.89V360Z\" style=\"vector-effect: non-scaling-stroke; opacity: 1; stroke-width: 0px; fill: rgb(99, 110, 250); fill-opacity: 1;\"/></g><g class=\"point\"><path d=\"M53.89,360V359.54H55.27V360Z\" style=\"vector-effect: non-scaling-stroke; opacity: 1; stroke-width: 0px; fill: rgb(99, 110, 250); fill-opacity: 1;\"/></g><g class=\"point\"><path d=\"M0,0Z\" style=\"vector-effect: non-scaling-stroke; opacity: 1; stroke-width: 0px; fill: rgb(99, 110, 250); fill-opacity: 1;\"/></g><g class=\"point\"><path d=\"M0,0Z\" style=\"vector-effect: non-scaling-stroke; opacity: 1; stroke-width: 0px; fill: rgb(99, 110, 250); fill-opacity: 1;\"/></g><g class=\"point\"><path d=\"M0,0Z\" style=\"vector-effect: non-scaling-stroke; opacity: 1; stroke-width: 0px; fill: rgb(99, 110, 250); fill-opacity: 1;\"/></g><g class=\"point\"><path d=\"M59.42,360V359.88H60.8V360Z\" style=\"vector-effect: non-scaling-stroke; opacity: 1; stroke-width: 0px; fill: rgb(99, 110, 250); fill-opacity: 1;\"/></g><g class=\"point\"><path d=\"M0,0Z\" style=\"vector-effect: non-scaling-stroke; opacity: 1; stroke-width: 0px; fill: rgb(99, 110, 250); fill-opacity: 1;\"/></g><g class=\"point\"><path d=\"M0,0Z\" style=\"vector-effect: non-scaling-stroke; opacity: 1; stroke-width: 0px; fill: rgb(99, 110, 250); fill-opacity: 1;\"/></g><g class=\"point\"><path d=\"M0,0Z\" style=\"vector-effect: non-scaling-stroke; opacity: 1; stroke-width: 0px; fill: rgb(99, 110, 250); fill-opacity: 1;\"/></g><g class=\"point\"><path d=\"M0,0Z\" style=\"vector-effect: non-scaling-stroke; opacity: 1; stroke-width: 0px; fill: rgb(99, 110, 250); fill-opacity: 1;\"/></g><g class=\"point\"><path d=\"M66.33,360V359.88H67.71V360Z\" style=\"vector-effect: non-scaling-stroke; opacity: 1; stroke-width: 0px; fill: rgb(99, 110, 250); fill-opacity: 1;\"/></g><g class=\"point\"><path d=\"M0,0Z\" style=\"vector-effect: non-scaling-stroke; opacity: 1; stroke-width: 0px; fill: rgb(99, 110, 250); fill-opacity: 1;\"/></g><g class=\"point\"><path d=\"M69.09,360V359.54H70.47V360Z\" style=\"vector-effect: non-scaling-stroke; opacity: 1; stroke-width: 0px; fill: rgb(99, 110, 250); fill-opacity: 1;\"/></g><g class=\"point\"><path d=\"M0,0Z\" style=\"vector-effect: non-scaling-stroke; opacity: 1; stroke-width: 0px; fill: rgb(99, 110, 250); fill-opacity: 1;\"/></g><g class=\"point\"><path d=\"M71.85,360V358.95H73.24V360Z\" style=\"vector-effect: non-scaling-stroke; opacity: 1; stroke-width: 0px; fill: rgb(99, 110, 250); fill-opacity: 1;\"/></g><g class=\"point\"><path d=\"M0,0Z\" style=\"vector-effect: non-scaling-stroke; opacity: 1; stroke-width: 0px; fill: rgb(99, 110, 250); fill-opacity: 1;\"/></g><g class=\"point\"><path d=\"M74.62,360V358.49H76V360Z\" style=\"vector-effect: non-scaling-stroke; opacity: 1; stroke-width: 0px; fill: rgb(99, 110, 250); fill-opacity: 1;\"/></g><g class=\"point\"><path d=\"M76,360V359.88H77.38V360Z\" style=\"vector-effect: non-scaling-stroke; opacity: 1; stroke-width: 0px; fill: rgb(99, 110, 250); fill-opacity: 1;\"/></g><g class=\"point\"><path d=\"M77.38,360V359.77H78.76V360Z\" style=\"vector-effect: non-scaling-stroke; opacity: 1; stroke-width: 0px; fill: rgb(99, 110, 250); fill-opacity: 1;\"/></g><g class=\"point\"><path d=\"M78.76,360V359.88H80.15V360Z\" style=\"vector-effect: non-scaling-stroke; opacity: 1; stroke-width: 0px; fill: rgb(99, 110, 250); fill-opacity: 1;\"/></g><g class=\"point\"><path d=\"M80.15,360V359.54H81.53V360Z\" style=\"vector-effect: non-scaling-stroke; opacity: 1; stroke-width: 0px; fill: rgb(99, 110, 250); fill-opacity: 1;\"/></g><g class=\"point\"><path d=\"M81.53,360V359.77H82.91V360Z\" style=\"vector-effect: non-scaling-stroke; opacity: 1; stroke-width: 0px; fill: rgb(99, 110, 250); fill-opacity: 1;\"/></g><g class=\"point\"><path d=\"M82.91,360V359.42H84.29V360Z\" style=\"vector-effect: non-scaling-stroke; opacity: 1; stroke-width: 0px; fill: rgb(99, 110, 250); fill-opacity: 1;\"/></g><g class=\"point\"><path d=\"M84.29,360V359.3H85.67V360Z\" style=\"vector-effect: non-scaling-stroke; opacity: 1; stroke-width: 0px; fill: rgb(99, 110, 250); fill-opacity: 1;\"/></g><g class=\"point\"><path d=\"M85.67,360V359.54H87.05V360Z\" style=\"vector-effect: non-scaling-stroke; opacity: 1; stroke-width: 0px; fill: rgb(99, 110, 250); fill-opacity: 1;\"/></g><g class=\"point\"><path d=\"M87.05,360V359.77H88.44V360Z\" style=\"vector-effect: non-scaling-stroke; opacity: 1; stroke-width: 0px; fill: rgb(99, 110, 250); fill-opacity: 1;\"/></g><g class=\"point\"><path d=\"M0,0Z\" style=\"vector-effect: non-scaling-stroke; opacity: 1; stroke-width: 0px; fill: rgb(99, 110, 250); fill-opacity: 1;\"/></g><g class=\"point\"><path d=\"M0,0Z\" style=\"vector-effect: non-scaling-stroke; opacity: 1; stroke-width: 0px; fill: rgb(99, 110, 250); fill-opacity: 1;\"/></g><g class=\"point\"><path d=\"M0,0Z\" style=\"vector-effect: non-scaling-stroke; opacity: 1; stroke-width: 0px; fill: rgb(99, 110, 250); fill-opacity: 1;\"/></g><g class=\"point\"><path d=\"M92.58,360V359.88H93.96V360Z\" style=\"vector-effect: non-scaling-stroke; opacity: 1; stroke-width: 0px; fill: rgb(99, 110, 250); fill-opacity: 1;\"/></g><g class=\"point\"><path d=\"M0,0Z\" style=\"vector-effect: non-scaling-stroke; opacity: 1; stroke-width: 0px; fill: rgb(99, 110, 250); fill-opacity: 1;\"/></g><g class=\"point\"><path d=\"M0,0Z\" style=\"vector-effect: non-scaling-stroke; opacity: 1; stroke-width: 0px; fill: rgb(99, 110, 250); fill-opacity: 1;\"/></g><g class=\"point\"><path d=\"M96.73,360V359.88H98.11V360Z\" style=\"vector-effect: non-scaling-stroke; opacity: 1; stroke-width: 0px; fill: rgb(99, 110, 250); fill-opacity: 1;\"/></g><g class=\"point\"><path d=\"M0,0Z\" style=\"vector-effect: non-scaling-stroke; opacity: 1; stroke-width: 0px; fill: rgb(99, 110, 250); fill-opacity: 1;\"/></g><g class=\"point\"><path d=\"M99.49,360V358.95H100.87V360Z\" style=\"vector-effect: non-scaling-stroke; opacity: 1; stroke-width: 0px; fill: rgb(99, 110, 250); fill-opacity: 1;\"/></g><g class=\"point\"><path d=\"M100.87,360V359.77H102.25V360Z\" style=\"vector-effect: non-scaling-stroke; opacity: 1; stroke-width: 0px; fill: rgb(99, 110, 250); fill-opacity: 1;\"/></g><g class=\"point\"><path d=\"M102.25,360V359.65H103.64V360Z\" style=\"vector-effect: non-scaling-stroke; opacity: 1; stroke-width: 0px; fill: rgb(99, 110, 250); fill-opacity: 1;\"/></g><g class=\"point\"><path d=\"M103.64,360V359.19H105.02V360Z\" style=\"vector-effect: non-scaling-stroke; opacity: 1; stroke-width: 0px; fill: rgb(99, 110, 250); fill-opacity: 1;\"/></g><g class=\"point\"><path d=\"M105.02,360V359.42H106.4V360Z\" style=\"vector-effect: non-scaling-stroke; opacity: 1; stroke-width: 0px; fill: rgb(99, 110, 250); fill-opacity: 1;\"/></g><g class=\"point\"><path d=\"M106.4,360V359.77H107.78V360Z\" style=\"vector-effect: non-scaling-stroke; opacity: 1; stroke-width: 0px; fill: rgb(99, 110, 250); fill-opacity: 1;\"/></g><g class=\"point\"><path d=\"M107.78,360V359.65H109.16V360Z\" style=\"vector-effect: non-scaling-stroke; opacity: 1; stroke-width: 0px; fill: rgb(99, 110, 250); fill-opacity: 1;\"/></g><g class=\"point\"><path d=\"M109.16,360V359.88H110.55V360Z\" style=\"vector-effect: non-scaling-stroke; opacity: 1; stroke-width: 0px; fill: rgb(99, 110, 250); fill-opacity: 1;\"/></g><g class=\"point\"><path d=\"M110.55,360V358.84H111.93V360Z\" style=\"vector-effect: non-scaling-stroke; opacity: 1; stroke-width: 0px; fill: rgb(99, 110, 250); fill-opacity: 1;\"/></g><g class=\"point\"><path d=\"M111.93,360V358.37H113.31V360Z\" style=\"vector-effect: non-scaling-stroke; opacity: 1; stroke-width: 0px; fill: rgb(99, 110, 250); fill-opacity: 1;\"/></g><g class=\"point\"><path d=\"M113.31,360V359.19H114.69V360Z\" style=\"vector-effect: non-scaling-stroke; opacity: 1; stroke-width: 0px; fill: rgb(99, 110, 250); fill-opacity: 1;\"/></g><g class=\"point\"><path d=\"M114.69,360V359.19H116.07V360Z\" style=\"vector-effect: non-scaling-stroke; opacity: 1; stroke-width: 0px; fill: rgb(99, 110, 250); fill-opacity: 1;\"/></g><g class=\"point\"><path d=\"M116.07,360V358.72H117.45V360Z\" style=\"vector-effect: non-scaling-stroke; opacity: 1; stroke-width: 0px; fill: rgb(99, 110, 250); fill-opacity: 1;\"/></g><g class=\"point\"><path d=\"M117.45,360V359.3H118.84V360Z\" style=\"vector-effect: non-scaling-stroke; opacity: 1; stroke-width: 0px; fill: rgb(99, 110, 250); fill-opacity: 1;\"/></g><g class=\"point\"><path d=\"M118.84,360V359.07H120.22V360Z\" style=\"vector-effect: non-scaling-stroke; opacity: 1; stroke-width: 0px; fill: rgb(99, 110, 250); fill-opacity: 1;\"/></g><g class=\"point\"><path d=\"M120.22,360V359.3H121.6V360Z\" style=\"vector-effect: non-scaling-stroke; opacity: 1; stroke-width: 0px; fill: rgb(99, 110, 250); fill-opacity: 1;\"/></g><g class=\"point\"><path d=\"M121.6,360V359.88H122.98V360Z\" style=\"vector-effect: non-scaling-stroke; opacity: 1; stroke-width: 0px; fill: rgb(99, 110, 250); fill-opacity: 1;\"/></g><g class=\"point\"><path d=\"M122.98,360V359.77H124.36V360Z\" style=\"vector-effect: non-scaling-stroke; opacity: 1; stroke-width: 0px; fill: rgb(99, 110, 250); fill-opacity: 1;\"/></g><g class=\"point\"><path d=\"M0,0Z\" style=\"vector-effect: non-scaling-stroke; opacity: 1; stroke-width: 0px; fill: rgb(99, 110, 250); fill-opacity: 1;\"/></g><g class=\"point\"><path d=\"M0,0Z\" style=\"vector-effect: non-scaling-stroke; opacity: 1; stroke-width: 0px; fill: rgb(99, 110, 250); fill-opacity: 1;\"/></g><g class=\"point\"><path d=\"M0,0Z\" style=\"vector-effect: non-scaling-stroke; opacity: 1; stroke-width: 0px; fill: rgb(99, 110, 250); fill-opacity: 1;\"/></g><g class=\"point\"><path d=\"M0,0Z\" style=\"vector-effect: non-scaling-stroke; opacity: 1; stroke-width: 0px; fill: rgb(99, 110, 250); fill-opacity: 1;\"/></g><g class=\"point\"><path d=\"M129.89,360V359.77H131.27V360Z\" style=\"vector-effect: non-scaling-stroke; opacity: 1; stroke-width: 0px; fill: rgb(99, 110, 250); fill-opacity: 1;\"/></g><g class=\"point\"><path d=\"M0,0Z\" style=\"vector-effect: non-scaling-stroke; opacity: 1; stroke-width: 0px; fill: rgb(99, 110, 250); fill-opacity: 1;\"/></g><g class=\"point\"><path d=\"M132.65,360V359.88H134.04V360Z\" style=\"vector-effect: non-scaling-stroke; opacity: 1; stroke-width: 0px; fill: rgb(99, 110, 250); fill-opacity: 1;\"/></g><g class=\"point\"><path d=\"M134.04,360V359.42H135.42V360Z\" style=\"vector-effect: non-scaling-stroke; opacity: 1; stroke-width: 0px; fill: rgb(99, 110, 250); fill-opacity: 1;\"/></g><g class=\"point\"><path d=\"M135.42,360V359.77H136.8V360Z\" style=\"vector-effect: non-scaling-stroke; opacity: 1; stroke-width: 0px; fill: rgb(99, 110, 250); fill-opacity: 1;\"/></g><g class=\"point\"><path d=\"M136.8,360V359.65H138.18V360Z\" style=\"vector-effect: non-scaling-stroke; opacity: 1; stroke-width: 0px; fill: rgb(99, 110, 250); fill-opacity: 1;\"/></g><g class=\"point\"><path d=\"M138.18,360V359.42H139.56V360Z\" style=\"vector-effect: non-scaling-stroke; opacity: 1; stroke-width: 0px; fill: rgb(99, 110, 250); fill-opacity: 1;\"/></g><g class=\"point\"><path d=\"M139.56,360V359.07H140.95V360Z\" style=\"vector-effect: non-scaling-stroke; opacity: 1; stroke-width: 0px; fill: rgb(99, 110, 250); fill-opacity: 1;\"/></g><g class=\"point\"><path d=\"M140.95,360V358.72H142.33V360Z\" style=\"vector-effect: non-scaling-stroke; opacity: 1; stroke-width: 0px; fill: rgb(99, 110, 250); fill-opacity: 1;\"/></g><g class=\"point\"><path d=\"M142.33,360V359.19H143.71V360Z\" style=\"vector-effect: non-scaling-stroke; opacity: 1; stroke-width: 0px; fill: rgb(99, 110, 250); fill-opacity: 1;\"/></g><g class=\"point\"><path d=\"M143.71,360V358.95H145.09V360Z\" style=\"vector-effect: non-scaling-stroke; opacity: 1; stroke-width: 0px; fill: rgb(99, 110, 250); fill-opacity: 1;\"/></g><g class=\"point\"><path d=\"M145.09,360V358.72H146.47V360Z\" style=\"vector-effect: non-scaling-stroke; opacity: 1; stroke-width: 0px; fill: rgb(99, 110, 250); fill-opacity: 1;\"/></g><g class=\"point\"><path d=\"M146.47,360V356.86H147.85V360Z\" style=\"vector-effect: non-scaling-stroke; opacity: 1; stroke-width: 0px; fill: rgb(99, 110, 250); fill-opacity: 1;\"/></g><g class=\"point\"><path d=\"M147.85,360V358.84H149.24V360Z\" style=\"vector-effect: non-scaling-stroke; opacity: 1; stroke-width: 0px; fill: rgb(99, 110, 250); fill-opacity: 1;\"/></g><g class=\"point\"><path d=\"M149.24,360V357.79H150.62V360Z\" style=\"vector-effect: non-scaling-stroke; opacity: 1; stroke-width: 0px; fill: rgb(99, 110, 250); fill-opacity: 1;\"/></g><g class=\"point\"><path d=\"M150.62,360V356.86H152V360Z\" style=\"vector-effect: non-scaling-stroke; opacity: 1; stroke-width: 0px; fill: rgb(99, 110, 250); fill-opacity: 1;\"/></g><g class=\"point\"><path d=\"M152,360V358.49H153.38V360Z\" style=\"vector-effect: non-scaling-stroke; opacity: 1; stroke-width: 0px; fill: rgb(99, 110, 250); fill-opacity: 1;\"/></g><g class=\"point\"><path d=\"M153.38,360V358.14H154.76V360Z\" style=\"vector-effect: non-scaling-stroke; opacity: 1; stroke-width: 0px; fill: rgb(99, 110, 250); fill-opacity: 1;\"/></g><g class=\"point\"><path d=\"M154.76,360V359.65H156.15V360Z\" style=\"vector-effect: non-scaling-stroke; opacity: 1; stroke-width: 0px; fill: rgb(99, 110, 250); fill-opacity: 1;\"/></g><g class=\"point\"><path d=\"M156.15,360V359.54H157.53V360Z\" style=\"vector-effect: non-scaling-stroke; opacity: 1; stroke-width: 0px; fill: rgb(99, 110, 250); fill-opacity: 1;\"/></g><g class=\"point\"><path d=\"M157.53,360V359.88H158.91V360Z\" style=\"vector-effect: non-scaling-stroke; opacity: 1; stroke-width: 0px; fill: rgb(99, 110, 250); fill-opacity: 1;\"/></g><g class=\"point\"><path d=\"M0,0Z\" style=\"vector-effect: non-scaling-stroke; opacity: 1; stroke-width: 0px; fill: rgb(99, 110, 250); fill-opacity: 1;\"/></g><g class=\"point\"><path d=\"M0,0Z\" style=\"vector-effect: non-scaling-stroke; opacity: 1; stroke-width: 0px; fill: rgb(99, 110, 250); fill-opacity: 1;\"/></g><g class=\"point\"><path d=\"M161.67,360V359.77H163.05V360Z\" style=\"vector-effect: non-scaling-stroke; opacity: 1; stroke-width: 0px; fill: rgb(99, 110, 250); fill-opacity: 1;\"/></g><g class=\"point\"><path d=\"M163.05,360V359.77H164.44V360Z\" style=\"vector-effect: non-scaling-stroke; opacity: 1; stroke-width: 0px; fill: rgb(99, 110, 250); fill-opacity: 1;\"/></g><g class=\"point\"><path d=\"M164.44,360V359.77H165.82V360Z\" style=\"vector-effect: non-scaling-stroke; opacity: 1; stroke-width: 0px; fill: rgb(99, 110, 250); fill-opacity: 1;\"/></g><g class=\"point\"><path d=\"M165.82,360V358.61H167.2V360Z\" style=\"vector-effect: non-scaling-stroke; opacity: 1; stroke-width: 0px; fill: rgb(99, 110, 250); fill-opacity: 1;\"/></g><g class=\"point\"><path d=\"M167.2,360V358.26H168.58V360Z\" style=\"vector-effect: non-scaling-stroke; opacity: 1; stroke-width: 0px; fill: rgb(99, 110, 250); fill-opacity: 1;\"/></g><g class=\"point\"><path d=\"M168.58,360V358.37H169.96V360Z\" style=\"vector-effect: non-scaling-stroke; opacity: 1; stroke-width: 0px; fill: rgb(99, 110, 250); fill-opacity: 1;\"/></g><g class=\"point\"><path d=\"M169.96,360V358.95H171.35V360Z\" style=\"vector-effect: non-scaling-stroke; opacity: 1; stroke-width: 0px; fill: rgb(99, 110, 250); fill-opacity: 1;\"/></g><g class=\"point\"><path d=\"M171.35,360V357.09H172.73V360Z\" style=\"vector-effect: non-scaling-stroke; opacity: 1; stroke-width: 0px; fill: rgb(99, 110, 250); fill-opacity: 1;\"/></g><g class=\"point\"><path d=\"M172.73,360V357.79H174.11V360Z\" style=\"vector-effect: non-scaling-stroke; opacity: 1; stroke-width: 0px; fill: rgb(99, 110, 250); fill-opacity: 1;\"/></g><g class=\"point\"><path d=\"M174.11,360V356.4H175.49V360Z\" style=\"vector-effect: non-scaling-stroke; opacity: 1; stroke-width: 0px; fill: rgb(99, 110, 250); fill-opacity: 1;\"/></g><g class=\"point\"><path d=\"M175.49,360V356.28H176.87V360Z\" style=\"vector-effect: non-scaling-stroke; opacity: 1; stroke-width: 0px; fill: rgb(99, 110, 250); fill-opacity: 1;\"/></g><g class=\"point\"><path d=\"M176.87,360V357.44H178.25V360Z\" style=\"vector-effect: non-scaling-stroke; opacity: 1; stroke-width: 0px; fill: rgb(99, 110, 250); fill-opacity: 1;\"/></g><g class=\"point\"><path d=\"M178.25,360V356.98H179.64V360Z\" style=\"vector-effect: non-scaling-stroke; opacity: 1; stroke-width: 0px; fill: rgb(99, 110, 250); fill-opacity: 1;\"/></g><g class=\"point\"><path d=\"M179.64,360V357.21H181.02V360Z\" style=\"vector-effect: non-scaling-stroke; opacity: 1; stroke-width: 0px; fill: rgb(99, 110, 250); fill-opacity: 1;\"/></g><g class=\"point\"><path d=\"M181.02,360V356.75H182.4V360Z\" style=\"vector-effect: non-scaling-stroke; opacity: 1; stroke-width: 0px; fill: rgb(99, 110, 250); fill-opacity: 1;\"/></g><g class=\"point\"><path d=\"M182.4,360V355.24H183.78V360Z\" style=\"vector-effect: non-scaling-stroke; opacity: 1; stroke-width: 0px; fill: rgb(99, 110, 250); fill-opacity: 1;\"/></g><g class=\"point\"><path d=\"M183.78,360V356.51H185.16V360Z\" style=\"vector-effect: non-scaling-stroke; opacity: 1; stroke-width: 0px; fill: rgb(99, 110, 250); fill-opacity: 1;\"/></g><g class=\"point\"><path d=\"M185.16,360V357.33H186.55V360Z\" style=\"vector-effect: non-scaling-stroke; opacity: 1; stroke-width: 0px; fill: rgb(99, 110, 250); fill-opacity: 1;\"/></g><g class=\"point\"><path d=\"M186.55,360V357.56H187.93V360Z\" style=\"vector-effect: non-scaling-stroke; opacity: 1; stroke-width: 0px; fill: rgb(99, 110, 250); fill-opacity: 1;\"/></g><g class=\"point\"><path d=\"M187.93,360V358.37H189.31V360Z\" style=\"vector-effect: non-scaling-stroke; opacity: 1; stroke-width: 0px; fill: rgb(99, 110, 250); fill-opacity: 1;\"/></g><g class=\"point\"><path d=\"M189.31,360V358.84H190.69V360Z\" style=\"vector-effect: non-scaling-stroke; opacity: 1; stroke-width: 0px; fill: rgb(99, 110, 250); fill-opacity: 1;\"/></g><g class=\"point\"><path d=\"M190.69,360V359.54H192.07V360Z\" style=\"vector-effect: non-scaling-stroke; opacity: 1; stroke-width: 0px; fill: rgb(99, 110, 250); fill-opacity: 1;\"/></g><g class=\"point\"><path d=\"M192.07,360V359.3H193.45V360Z\" style=\"vector-effect: non-scaling-stroke; opacity: 1; stroke-width: 0px; fill: rgb(99, 110, 250); fill-opacity: 1;\"/></g><g class=\"point\"><path d=\"M0,0Z\" style=\"vector-effect: non-scaling-stroke; opacity: 1; stroke-width: 0px; fill: rgb(99, 110, 250); fill-opacity: 1;\"/></g><g class=\"point\"><path d=\"M194.84,360V359.65H196.22V360Z\" style=\"vector-effect: non-scaling-stroke; opacity: 1; stroke-width: 0px; fill: rgb(99, 110, 250); fill-opacity: 1;\"/></g><g class=\"point\"><path d=\"M196.22,360V359.77H197.6V360Z\" style=\"vector-effect: non-scaling-stroke; opacity: 1; stroke-width: 0px; fill: rgb(99, 110, 250); fill-opacity: 1;\"/></g><g class=\"point\"><path d=\"M197.6,360V358.61H198.98V360Z\" style=\"vector-effect: non-scaling-stroke; opacity: 1; stroke-width: 0px; fill: rgb(99, 110, 250); fill-opacity: 1;\"/></g><g class=\"point\"><path d=\"M198.98,360V357.44H200.36V360Z\" style=\"vector-effect: non-scaling-stroke; opacity: 1; stroke-width: 0px; fill: rgb(99, 110, 250); fill-opacity: 1;\"/></g><g class=\"point\"><path d=\"M200.36,360V356.86H201.75V360Z\" style=\"vector-effect: non-scaling-stroke; opacity: 1; stroke-width: 0px; fill: rgb(99, 110, 250); fill-opacity: 1;\"/></g><g class=\"point\"><path d=\"M201.75,360V356.4H203.13V360Z\" style=\"vector-effect: non-scaling-stroke; opacity: 1; stroke-width: 0px; fill: rgb(99, 110, 250); fill-opacity: 1;\"/></g><g class=\"point\"><path d=\"M203.13,360V354.77H204.51V360Z\" style=\"vector-effect: non-scaling-stroke; opacity: 1; stroke-width: 0px; fill: rgb(99, 110, 250); fill-opacity: 1;\"/></g><g class=\"point\"><path d=\"M204.51,360V356.4H205.89V360Z\" style=\"vector-effect: non-scaling-stroke; opacity: 1; stroke-width: 0px; fill: rgb(99, 110, 250); fill-opacity: 1;\"/></g><g class=\"point\"><path d=\"M205.89,360V354.31H207.27V360Z\" style=\"vector-effect: non-scaling-stroke; opacity: 1; stroke-width: 0px; fill: rgb(99, 110, 250); fill-opacity: 1;\"/></g><g class=\"point\"><path d=\"M207.27,360V349.77H208.65V360Z\" style=\"vector-effect: non-scaling-stroke; opacity: 1; stroke-width: 0px; fill: rgb(99, 110, 250); fill-opacity: 1;\"/></g><g class=\"point\"><path d=\"M208.65,360V353.84H210.04V360Z\" style=\"vector-effect: non-scaling-stroke; opacity: 1; stroke-width: 0px; fill: rgb(99, 110, 250); fill-opacity: 1;\"/></g><g class=\"point\"><path d=\"M210.04,360V350.47H211.42V360Z\" style=\"vector-effect: non-scaling-stroke; opacity: 1; stroke-width: 0px; fill: rgb(99, 110, 250); fill-opacity: 1;\"/></g><g class=\"point\"><path d=\"M211.42,360V349.31H212.8V360Z\" style=\"vector-effect: non-scaling-stroke; opacity: 1; stroke-width: 0px; fill: rgb(99, 110, 250); fill-opacity: 1;\"/></g><g class=\"point\"><path d=\"M212.8,360V348.73H214.18V360Z\" style=\"vector-effect: non-scaling-stroke; opacity: 1; stroke-width: 0px; fill: rgb(99, 110, 250); fill-opacity: 1;\"/></g><g class=\"point\"><path d=\"M214.18,360V347.1H215.56V360Z\" style=\"vector-effect: non-scaling-stroke; opacity: 1; stroke-width: 0px; fill: rgb(99, 110, 250); fill-opacity: 1;\"/></g><g class=\"point\"><path d=\"M215.56,360V347.45H216.95V360Z\" style=\"vector-effect: non-scaling-stroke; opacity: 1; stroke-width: 0px; fill: rgb(99, 110, 250); fill-opacity: 1;\"/></g><g class=\"point\"><path d=\"M216.95,360V346.87H218.33V360Z\" style=\"vector-effect: non-scaling-stroke; opacity: 1; stroke-width: 0px; fill: rgb(99, 110, 250); fill-opacity: 1;\"/></g><g class=\"point\"><path d=\"M218.33,360V347.68H219.71V360Z\" style=\"vector-effect: non-scaling-stroke; opacity: 1; stroke-width: 0px; fill: rgb(99, 110, 250); fill-opacity: 1;\"/></g><g class=\"point\"><path d=\"M219.71,360V352.45H221.09V360Z\" style=\"vector-effect: non-scaling-stroke; opacity: 1; stroke-width: 0px; fill: rgb(99, 110, 250); fill-opacity: 1;\"/></g><g class=\"point\"><path d=\"M221.09,360V353.49H222.47V360Z\" style=\"vector-effect: non-scaling-stroke; opacity: 1; stroke-width: 0px; fill: rgb(99, 110, 250); fill-opacity: 1;\"/></g><g class=\"point\"><path d=\"M222.47,360V310.73H223.85V360Z\" style=\"vector-effect: non-scaling-stroke; opacity: 1; stroke-width: 0px; fill: rgb(99, 110, 250); fill-opacity: 1;\"/></g><g class=\"point\"><path d=\"M223.85,360V324.09H225.24V360Z\" style=\"vector-effect: non-scaling-stroke; opacity: 1; stroke-width: 0px; fill: rgb(99, 110, 250); fill-opacity: 1;\"/></g><g class=\"point\"><path d=\"M225.24,360V347.91H226.62V360Z\" style=\"vector-effect: non-scaling-stroke; opacity: 1; stroke-width: 0px; fill: rgb(99, 110, 250); fill-opacity: 1;\"/></g><g class=\"point\"><path d=\"M226.62,360V337.69H228V360Z\" style=\"vector-effect: non-scaling-stroke; opacity: 1; stroke-width: 0px; fill: rgb(99, 110, 250); fill-opacity: 1;\"/></g><g class=\"point\"><path d=\"M228,360V333.5H229.38V360Z\" style=\"vector-effect: non-scaling-stroke; opacity: 1; stroke-width: 0px; fill: rgb(99, 110, 250); fill-opacity: 1;\"/></g><g class=\"point\"><path d=\"M229.38,360V321.88H230.76V360Z\" style=\"vector-effect: non-scaling-stroke; opacity: 1; stroke-width: 0px; fill: rgb(99, 110, 250); fill-opacity: 1;\"/></g><g class=\"point\"><path d=\"M230.76,360V283.65H232.15V360Z\" style=\"vector-effect: non-scaling-stroke; opacity: 1; stroke-width: 0px; fill: rgb(99, 110, 250); fill-opacity: 1;\"/></g><g class=\"point\"><path d=\"M232.15,360V262.73H233.53V360Z\" style=\"vector-effect: non-scaling-stroke; opacity: 1; stroke-width: 0px; fill: rgb(99, 110, 250); fill-opacity: 1;\"/></g><g class=\"point\"><path d=\"M233.53,360V230.54H234.91V360Z\" style=\"vector-effect: non-scaling-stroke; opacity: 1; stroke-width: 0px; fill: rgb(99, 110, 250); fill-opacity: 1;\"/></g><g class=\"point\"><path d=\"M234.91,360V193.59H236.29V360Z\" style=\"vector-effect: non-scaling-stroke; opacity: 1; stroke-width: 0px; fill: rgb(99, 110, 250); fill-opacity: 1;\"/></g><g class=\"point\"><path d=\"M236.29,360V155.94H237.67V360Z\" style=\"vector-effect: non-scaling-stroke; opacity: 1; stroke-width: 0px; fill: rgb(99, 110, 250); fill-opacity: 1;\"/></g><g class=\"point\"><path d=\"M237.67,360V139.09H239.05V360Z\" style=\"vector-effect: non-scaling-stroke; opacity: 1; stroke-width: 0px; fill: rgb(99, 110, 250); fill-opacity: 1;\"/></g><g class=\"point\"><path d=\"M239.05,360V127.12H240.44V360Z\" style=\"vector-effect: non-scaling-stroke; opacity: 1; stroke-width: 0px; fill: rgb(99, 110, 250); fill-opacity: 1;\"/></g><g class=\"point\"><path d=\"M240.44,360V132H241.82V360Z\" style=\"vector-effect: non-scaling-stroke; opacity: 1; stroke-width: 0px; fill: rgb(99, 110, 250); fill-opacity: 1;\"/></g><g class=\"point\"><path d=\"M241.82,360V64.95H243.2V360Z\" style=\"vector-effect: non-scaling-stroke; opacity: 1; stroke-width: 0px; fill: rgb(99, 110, 250); fill-opacity: 1;\"/></g><g class=\"point\"><path d=\"M243.2,360V62.97H244.58V360Z\" style=\"vector-effect: non-scaling-stroke; opacity: 1; stroke-width: 0px; fill: rgb(99, 110, 250); fill-opacity: 1;\"/></g><g class=\"point\"><path d=\"M244.58,360V94H245.96V360Z\" style=\"vector-effect: non-scaling-stroke; opacity: 1; stroke-width: 0px; fill: rgb(99, 110, 250); fill-opacity: 1;\"/></g><g class=\"point\"><path d=\"M245.96,360V33.92H247.35V360Z\" style=\"vector-effect: non-scaling-stroke; opacity: 1; stroke-width: 0px; fill: rgb(99, 110, 250); fill-opacity: 1;\"/></g><g class=\"point\"><path d=\"M247.35,360V87.26H248.73V360Z\" style=\"vector-effect: non-scaling-stroke; opacity: 1; stroke-width: 0px; fill: rgb(99, 110, 250); fill-opacity: 1;\"/></g><g class=\"point\"><path d=\"M248.73,360V54.14H250.11V360Z\" style=\"vector-effect: non-scaling-stroke; opacity: 1; stroke-width: 0px; fill: rgb(99, 110, 250); fill-opacity: 1;\"/></g><g class=\"point\"><path d=\"M250.11,360V77.85H251.49V360Z\" style=\"vector-effect: non-scaling-stroke; opacity: 1; stroke-width: 0px; fill: rgb(99, 110, 250); fill-opacity: 1;\"/></g><g class=\"point\"><path d=\"M251.49,360V115.96H252.87V360Z\" style=\"vector-effect: non-scaling-stroke; opacity: 1; stroke-width: 0px; fill: rgb(99, 110, 250); fill-opacity: 1;\"/></g><g class=\"point\"><path d=\"M252.87,360V149.31H254.25V360Z\" style=\"vector-effect: non-scaling-stroke; opacity: 1; stroke-width: 0px; fill: rgb(99, 110, 250); fill-opacity: 1;\"/></g><g class=\"point\"><path d=\"M254.25,360V242.75H255.64V360Z\" style=\"vector-effect: non-scaling-stroke; opacity: 1; stroke-width: 0px; fill: rgb(99, 110, 250); fill-opacity: 1;\"/></g><g class=\"point\"><path d=\"M255.64,360V281.79H257.02V360Z\" style=\"vector-effect: non-scaling-stroke; opacity: 1; stroke-width: 0px; fill: rgb(99, 110, 250); fill-opacity: 1;\"/></g><g class=\"point\"><path d=\"M257.02,360V325.95H258.4V360Z\" style=\"vector-effect: non-scaling-stroke; opacity: 1; stroke-width: 0px; fill: rgb(99, 110, 250); fill-opacity: 1;\"/></g><g class=\"point\"><path d=\"M258.4,360V331.53H259.78V360Z\" style=\"vector-effect: non-scaling-stroke; opacity: 1; stroke-width: 0px; fill: rgb(99, 110, 250); fill-opacity: 1;\"/></g><g class=\"point\"><path d=\"M259.78,360V284.81H261.16V360Z\" style=\"vector-effect: non-scaling-stroke; opacity: 1; stroke-width: 0px; fill: rgb(99, 110, 250); fill-opacity: 1;\"/></g><g class=\"point\"><path d=\"M261.16,360V266.92H262.55V360Z\" style=\"vector-effect: non-scaling-stroke; opacity: 1; stroke-width: 0px; fill: rgb(99, 110, 250); fill-opacity: 1;\"/></g><g class=\"point\"><path d=\"M262.55,360V277.84H263.93V360Z\" style=\"vector-effect: non-scaling-stroke; opacity: 1; stroke-width: 0px; fill: rgb(99, 110, 250); fill-opacity: 1;\"/></g><g class=\"point\"><path d=\"M263.93,360V261.22H265.31V360Z\" style=\"vector-effect: non-scaling-stroke; opacity: 1; stroke-width: 0px; fill: rgb(99, 110, 250); fill-opacity: 1;\"/></g><g class=\"point\"><path d=\"M265.31,360V269.59H266.69V360Z\" style=\"vector-effect: non-scaling-stroke; opacity: 1; stroke-width: 0px; fill: rgb(99, 110, 250); fill-opacity: 1;\"/></g><g class=\"point\"><path d=\"M266.69,360V240.31H268.07V360Z\" style=\"vector-effect: non-scaling-stroke; opacity: 1; stroke-width: 0px; fill: rgb(99, 110, 250); fill-opacity: 1;\"/></g><g class=\"point\"><path d=\"M268.07,360V205.68H269.45V360Z\" style=\"vector-effect: non-scaling-stroke; opacity: 1; stroke-width: 0px; fill: rgb(99, 110, 250); fill-opacity: 1;\"/></g><g class=\"point\"><path d=\"M269.45,360V163.14H270.84V360Z\" style=\"vector-effect: non-scaling-stroke; opacity: 1; stroke-width: 0px; fill: rgb(99, 110, 250); fill-opacity: 1;\"/></g><g class=\"point\"><path d=\"M270.84,360V131.54H272.22V360Z\" style=\"vector-effect: non-scaling-stroke; opacity: 1; stroke-width: 0px; fill: rgb(99, 110, 250); fill-opacity: 1;\"/></g><g class=\"point\"><path d=\"M272.22,360V105.74H273.6V360Z\" style=\"vector-effect: non-scaling-stroke; opacity: 1; stroke-width: 0px; fill: rgb(99, 110, 250); fill-opacity: 1;\"/></g><g class=\"point\"><path d=\"M273.6,360V122.24H274.98V360Z\" style=\"vector-effect: non-scaling-stroke; opacity: 1; stroke-width: 0px; fill: rgb(99, 110, 250); fill-opacity: 1;\"/></g><g class=\"point\"><path d=\"M274.98,360V93.54H276.36V360Z\" style=\"vector-effect: non-scaling-stroke; opacity: 1; stroke-width: 0px; fill: rgb(99, 110, 250); fill-opacity: 1;\"/></g><g class=\"point\"><path d=\"M276.36,360V142.34H277.75V360Z\" style=\"vector-effect: non-scaling-stroke; opacity: 1; stroke-width: 0px; fill: rgb(99, 110, 250); fill-opacity: 1;\"/></g><g class=\"point\"><path d=\"M277.75,360V86.33H279.13V360Z\" style=\"vector-effect: non-scaling-stroke; opacity: 1; stroke-width: 0px; fill: rgb(99, 110, 250); fill-opacity: 1;\"/></g><g class=\"point\"><path d=\"M279.13,360V84.47H280.51V360Z\" style=\"vector-effect: non-scaling-stroke; opacity: 1; stroke-width: 0px; fill: rgb(99, 110, 250); fill-opacity: 1;\"/></g><g class=\"point\"><path d=\"M280.51,360V65.65H281.89V360Z\" style=\"vector-effect: non-scaling-stroke; opacity: 1; stroke-width: 0px; fill: rgb(99, 110, 250); fill-opacity: 1;\"/></g><g class=\"point\"><path d=\"M281.89,360V94.58H283.27V360Z\" style=\"vector-effect: non-scaling-stroke; opacity: 1; stroke-width: 0px; fill: rgb(99, 110, 250); fill-opacity: 1;\"/></g><g class=\"point\"><path d=\"M283.27,360V142.57H284.65V360Z\" style=\"vector-effect: non-scaling-stroke; opacity: 1; stroke-width: 0px; fill: rgb(99, 110, 250); fill-opacity: 1;\"/></g><g class=\"point\"><path d=\"M284.65,360V160.94H286.04V360Z\" style=\"vector-effect: non-scaling-stroke; opacity: 1; stroke-width: 0px; fill: rgb(99, 110, 250); fill-opacity: 1;\"/></g><g class=\"point\"><path d=\"M286.04,360V158.26H287.42V360Z\" style=\"vector-effect: non-scaling-stroke; opacity: 1; stroke-width: 0px; fill: rgb(99, 110, 250); fill-opacity: 1;\"/></g><g class=\"point\"><path d=\"M287.42,360V209.39H288.8V360Z\" style=\"vector-effect: non-scaling-stroke; opacity: 1; stroke-width: 0px; fill: rgb(99, 110, 250); fill-opacity: 1;\"/></g><g class=\"point\"><path d=\"M288.8,360V275.4H290.18V360Z\" style=\"vector-effect: non-scaling-stroke; opacity: 1; stroke-width: 0px; fill: rgb(99, 110, 250); fill-opacity: 1;\"/></g><g class=\"point\"><path d=\"M290.18,360V328.28H291.56V360Z\" style=\"vector-effect: non-scaling-stroke; opacity: 1; stroke-width: 0px; fill: rgb(99, 110, 250); fill-opacity: 1;\"/></g><g class=\"point\"><path d=\"M291.56,360V337.57H292.95V360Z\" style=\"vector-effect: non-scaling-stroke; opacity: 1; stroke-width: 0px; fill: rgb(99, 110, 250); fill-opacity: 1;\"/></g><g class=\"point\"><path d=\"M292.95,360V350.59H294.33V360Z\" style=\"vector-effect: non-scaling-stroke; opacity: 1; stroke-width: 0px; fill: rgb(99, 110, 250); fill-opacity: 1;\"/></g><g class=\"point\"><path d=\"M294.33,360V340.01H295.71V360Z\" style=\"vector-effect: non-scaling-stroke; opacity: 1; stroke-width: 0px; fill: rgb(99, 110, 250); fill-opacity: 1;\"/></g><g class=\"point\"><path d=\"M295.71,360V306.31H297.09V360Z\" style=\"vector-effect: non-scaling-stroke; opacity: 1; stroke-width: 0px; fill: rgb(99, 110, 250); fill-opacity: 1;\"/></g><g class=\"point\"><path d=\"M297.09,360V310.96H298.47V360Z\" style=\"vector-effect: non-scaling-stroke; opacity: 1; stroke-width: 0px; fill: rgb(99, 110, 250); fill-opacity: 1;\"/></g><g class=\"point\"><path d=\"M298.47,360V287.6H299.85V360Z\" style=\"vector-effect: non-scaling-stroke; opacity: 1; stroke-width: 0px; fill: rgb(99, 110, 250); fill-opacity: 1;\"/></g><g class=\"point\"><path d=\"M299.85,360V240.31H301.24V360Z\" style=\"vector-effect: non-scaling-stroke; opacity: 1; stroke-width: 0px; fill: rgb(99, 110, 250); fill-opacity: 1;\"/></g><g class=\"point\"><path d=\"M301.24,360V201.49H302.62V360Z\" style=\"vector-effect: non-scaling-stroke; opacity: 1; stroke-width: 0px; fill: rgb(99, 110, 250); fill-opacity: 1;\"/></g><g class=\"point\"><path d=\"M302.62,360V168.49H304V360Z\" style=\"vector-effect: non-scaling-stroke; opacity: 1; stroke-width: 0px; fill: rgb(99, 110, 250); fill-opacity: 1;\"/></g><g class=\"point\"><path d=\"M304,360V128.63H305.38V360Z\" style=\"vector-effect: non-scaling-stroke; opacity: 1; stroke-width: 0px; fill: rgb(99, 110, 250); fill-opacity: 1;\"/></g><g class=\"point\"><path d=\"M305.38,360V77.61H306.76V360Z\" style=\"vector-effect: non-scaling-stroke; opacity: 1; stroke-width: 0px; fill: rgb(99, 110, 250); fill-opacity: 1;\"/></g><g class=\"point\"><path d=\"M306.76,360V127.12H308.15V360Z\" style=\"vector-effect: non-scaling-stroke; opacity: 1; stroke-width: 0px; fill: rgb(99, 110, 250); fill-opacity: 1;\"/></g><g class=\"point\"><path d=\"M308.15,360V22.42H309.53V360Z\" style=\"vector-effect: non-scaling-stroke; opacity: 1; stroke-width: 0px; fill: rgb(99, 110, 250); fill-opacity: 1;\"/></g><g class=\"point\"><path d=\"M309.53,360V101.32H310.91V360Z\" style=\"vector-effect: non-scaling-stroke; opacity: 1; stroke-width: 0px; fill: rgb(99, 110, 250); fill-opacity: 1;\"/></g><g class=\"point\"><path d=\"M310.91,360V123.17H312.29V360Z\" style=\"vector-effect: non-scaling-stroke; opacity: 1; stroke-width: 0px; fill: rgb(99, 110, 250); fill-opacity: 1;\"/></g><g class=\"point\"><path d=\"M312.29,360V49.38H313.67V360Z\" style=\"vector-effect: non-scaling-stroke; opacity: 1; stroke-width: 0px; fill: rgb(99, 110, 250); fill-opacity: 1;\"/></g><g class=\"point\"><path d=\"M313.67,360V101.79H315.05V360Z\" style=\"vector-effect: non-scaling-stroke; opacity: 1; stroke-width: 0px; fill: rgb(99, 110, 250); fill-opacity: 1;\"/></g><g class=\"point\"><path d=\"M315.05,360V105.27H316.44V360Z\" style=\"vector-effect: non-scaling-stroke; opacity: 1; stroke-width: 0px; fill: rgb(99, 110, 250); fill-opacity: 1;\"/></g><g class=\"point\"><path d=\"M316.44,360V126.65H317.82V360Z\" style=\"vector-effect: non-scaling-stroke; opacity: 1; stroke-width: 0px; fill: rgb(99, 110, 250); fill-opacity: 1;\"/></g><g class=\"point\"><path d=\"M317.82,360V166.28H319.2V360Z\" style=\"vector-effect: non-scaling-stroke; opacity: 1; stroke-width: 0px; fill: rgb(99, 110, 250); fill-opacity: 1;\"/></g><g class=\"point\"><path d=\"M319.2,360V186.97H320.58V360Z\" style=\"vector-effect: non-scaling-stroke; opacity: 1; stroke-width: 0px; fill: rgb(99, 110, 250); fill-opacity: 1;\"/></g><g class=\"point\"><path d=\"M320.58,360V271.57H321.96V360Z\" style=\"vector-effect: non-scaling-stroke; opacity: 1; stroke-width: 0px; fill: rgb(99, 110, 250); fill-opacity: 1;\"/></g><g class=\"point\"><path d=\"M321.96,360V300.62H323.35V360Z\" style=\"vector-effect: non-scaling-stroke; opacity: 1; stroke-width: 0px; fill: rgb(99, 110, 250); fill-opacity: 1;\"/></g><g class=\"point\"><path d=\"M323.35,360V330.25H324.73V360Z\" style=\"vector-effect: non-scaling-stroke; opacity: 1; stroke-width: 0px; fill: rgb(99, 110, 250); fill-opacity: 1;\"/></g><g class=\"point\"><path d=\"M324.73,360V347.57H326.11V360Z\" style=\"vector-effect: non-scaling-stroke; opacity: 1; stroke-width: 0px; fill: rgb(99, 110, 250); fill-opacity: 1;\"/></g><g class=\"point\"><path d=\"M326.11,360V346.17H327.49V360Z\" style=\"vector-effect: non-scaling-stroke; opacity: 1; stroke-width: 0px; fill: rgb(99, 110, 250); fill-opacity: 1;\"/></g><g class=\"point\"><path d=\"M327.49,360V336.06H328.87V360Z\" style=\"vector-effect: non-scaling-stroke; opacity: 1; stroke-width: 0px; fill: rgb(99, 110, 250); fill-opacity: 1;\"/></g><g class=\"point\"><path d=\"M328.87,360V332.81H330.25V360Z\" style=\"vector-effect: non-scaling-stroke; opacity: 1; stroke-width: 0px; fill: rgb(99, 110, 250); fill-opacity: 1;\"/></g><g class=\"point\"><path d=\"M330.25,360V304.92H331.64V360Z\" style=\"vector-effect: non-scaling-stroke; opacity: 1; stroke-width: 0px; fill: rgb(99, 110, 250); fill-opacity: 1;\"/></g><g class=\"point\"><path d=\"M331.64,360V280.75H333.02V360Z\" style=\"vector-effect: non-scaling-stroke; opacity: 1; stroke-width: 0px; fill: rgb(99, 110, 250); fill-opacity: 1;\"/></g><g class=\"point\"><path d=\"M333.02,360V237.63H334.4V360Z\" style=\"vector-effect: non-scaling-stroke; opacity: 1; stroke-width: 0px; fill: rgb(99, 110, 250); fill-opacity: 1;\"/></g><g class=\"point\"><path d=\"M334.4,360V202.31H335.78V360Z\" style=\"vector-effect: non-scaling-stroke; opacity: 1; stroke-width: 0px; fill: rgb(99, 110, 250); fill-opacity: 1;\"/></g><g class=\"point\"><path d=\"M335.78,360V178.72H337.16V360Z\" style=\"vector-effect: non-scaling-stroke; opacity: 1; stroke-width: 0px; fill: rgb(99, 110, 250); fill-opacity: 1;\"/></g><g class=\"point\"><path d=\"M337.16,360V146.18H338.55V360Z\" style=\"vector-effect: non-scaling-stroke; opacity: 1; stroke-width: 0px; fill: rgb(99, 110, 250); fill-opacity: 1;\"/></g><g class=\"point\"><path d=\"M338.55,360V128.63H339.93V360Z\" style=\"vector-effect: non-scaling-stroke; opacity: 1; stroke-width: 0px; fill: rgb(99, 110, 250); fill-opacity: 1;\"/></g><g class=\"point\"><path d=\"M339.93,360V70.64H341.31V360Z\" style=\"vector-effect: non-scaling-stroke; opacity: 1; stroke-width: 0px; fill: rgb(99, 110, 250); fill-opacity: 1;\"/></g><g class=\"point\"><path d=\"M341.31,360V71.34H342.69V360Z\" style=\"vector-effect: non-scaling-stroke; opacity: 1; stroke-width: 0px; fill: rgb(99, 110, 250); fill-opacity: 1;\"/></g><g class=\"point\"><path d=\"M342.69,360V85.17H344.07V360Z\" style=\"vector-effect: non-scaling-stroke; opacity: 1; stroke-width: 0px; fill: rgb(99, 110, 250); fill-opacity: 1;\"/></g><g class=\"point\"><path d=\"M344.07,360V113.99H345.45V360Z\" style=\"vector-effect: non-scaling-stroke; opacity: 1; stroke-width: 0px; fill: rgb(99, 110, 250); fill-opacity: 1;\"/></g><g class=\"point\"><path d=\"M345.45,360V127H346.84V360Z\" style=\"vector-effect: non-scaling-stroke; opacity: 1; stroke-width: 0px; fill: rgb(99, 110, 250); fill-opacity: 1;\"/></g><g class=\"point\"><path d=\"M346.84,360V73.31H348.22V360Z\" style=\"vector-effect: non-scaling-stroke; opacity: 1; stroke-width: 0px; fill: rgb(99, 110, 250); fill-opacity: 1;\"/></g><g class=\"point\"><path d=\"M348.22,360V107.71H349.6V360Z\" style=\"vector-effect: non-scaling-stroke; opacity: 1; stroke-width: 0px; fill: rgb(99, 110, 250); fill-opacity: 1;\"/></g><g class=\"point\"><path d=\"M349.6,360V108.87H350.98V360Z\" style=\"vector-effect: non-scaling-stroke; opacity: 1; stroke-width: 0px; fill: rgb(99, 110, 250); fill-opacity: 1;\"/></g><g class=\"point\"><path d=\"M350.98,360V161.52H352.36V360Z\" style=\"vector-effect: non-scaling-stroke; opacity: 1; stroke-width: 0px; fill: rgb(99, 110, 250); fill-opacity: 1;\"/></g><g class=\"point\"><path d=\"M352.36,360V206.95H353.75V360Z\" style=\"vector-effect: non-scaling-stroke; opacity: 1; stroke-width: 0px; fill: rgb(99, 110, 250); fill-opacity: 1;\"/></g><g class=\"point\"><path d=\"M353.75,360V254.48H355.13V360Z\" style=\"vector-effect: non-scaling-stroke; opacity: 1; stroke-width: 0px; fill: rgb(99, 110, 250); fill-opacity: 1;\"/></g><g class=\"point\"><path d=\"M355.13,360V285.28H356.51V360Z\" style=\"vector-effect: non-scaling-stroke; opacity: 1; stroke-width: 0px; fill: rgb(99, 110, 250); fill-opacity: 1;\"/></g><g class=\"point\"><path d=\"M356.51,360V309.1H357.89V360Z\" style=\"vector-effect: non-scaling-stroke; opacity: 1; stroke-width: 0px; fill: rgb(99, 110, 250); fill-opacity: 1;\"/></g><g class=\"point\"><path d=\"M357.89,360V339.31H359.27V360Z\" style=\"vector-effect: non-scaling-stroke; opacity: 1; stroke-width: 0px; fill: rgb(99, 110, 250); fill-opacity: 1;\"/></g><g class=\"point\"><path d=\"M359.27,360V339.78H360.65V360Z\" style=\"vector-effect: non-scaling-stroke; opacity: 1; stroke-width: 0px; fill: rgb(99, 110, 250); fill-opacity: 1;\"/></g><g class=\"point\"><path d=\"M360.65,360V341.52H362.04V360Z\" style=\"vector-effect: non-scaling-stroke; opacity: 1; stroke-width: 0px; fill: rgb(99, 110, 250); fill-opacity: 1;\"/></g><g class=\"point\"><path d=\"M362.04,360V321.77H363.42V360Z\" style=\"vector-effect: non-scaling-stroke; opacity: 1; stroke-width: 0px; fill: rgb(99, 110, 250); fill-opacity: 1;\"/></g><g class=\"point\"><path d=\"M363.42,360V297.71H364.8V360Z\" style=\"vector-effect: non-scaling-stroke; opacity: 1; stroke-width: 0px; fill: rgb(99, 110, 250); fill-opacity: 1;\"/></g><g class=\"point\"><path d=\"M364.8,360V257.74H366.18V360Z\" style=\"vector-effect: non-scaling-stroke; opacity: 1; stroke-width: 0px; fill: rgb(99, 110, 250); fill-opacity: 1;\"/></g><g class=\"point\"><path d=\"M366.18,360V206.02H367.56V360Z\" style=\"vector-effect: non-scaling-stroke; opacity: 1; stroke-width: 0px; fill: rgb(99, 110, 250); fill-opacity: 1;\"/></g><g class=\"point\"><path d=\"M367.56,360V185.22H368.95V360Z\" style=\"vector-effect: non-scaling-stroke; opacity: 1; stroke-width: 0px; fill: rgb(99, 110, 250); fill-opacity: 1;\"/></g><g class=\"point\"><path d=\"M368.95,360V188.01H370.33V360Z\" style=\"vector-effect: non-scaling-stroke; opacity: 1; stroke-width: 0px; fill: rgb(99, 110, 250); fill-opacity: 1;\"/></g><g class=\"point\"><path d=\"M370.33,360V134.21H371.71V360Z\" style=\"vector-effect: non-scaling-stroke; opacity: 1; stroke-width: 0px; fill: rgb(99, 110, 250); fill-opacity: 1;\"/></g><g class=\"point\"><path d=\"M371.71,360V128.4H373.09V360Z\" style=\"vector-effect: non-scaling-stroke; opacity: 1; stroke-width: 0px; fill: rgb(99, 110, 250); fill-opacity: 1;\"/></g><g class=\"point\"><path d=\"M373.09,360V82.96H374.47V360Z\" style=\"vector-effect: non-scaling-stroke; opacity: 1; stroke-width: 0px; fill: rgb(99, 110, 250); fill-opacity: 1;\"/></g><g class=\"point\"><path d=\"M374.47,360V113.99H375.85V360Z\" style=\"vector-effect: non-scaling-stroke; opacity: 1; stroke-width: 0px; fill: rgb(99, 110, 250); fill-opacity: 1;\"/></g><g class=\"point\"><path d=\"M375.85,360V111.55H377.24V360Z\" style=\"vector-effect: non-scaling-stroke; opacity: 1; stroke-width: 0px; fill: rgb(99, 110, 250); fill-opacity: 1;\"/></g><g class=\"point\"><path d=\"M377.24,360V67.85H378.62V360Z\" style=\"vector-effect: non-scaling-stroke; opacity: 1; stroke-width: 0px; fill: rgb(99, 110, 250); fill-opacity: 1;\"/></g><g class=\"point\"><path d=\"M378.62,360V18H380V360Z\" style=\"vector-effect: non-scaling-stroke; opacity: 1; stroke-width: 0px; fill: rgb(99, 110, 250); fill-opacity: 1;\"/></g><g class=\"point\"><path d=\"M380,360V33.22H381.38V360Z\" style=\"vector-effect: non-scaling-stroke; opacity: 1; stroke-width: 0px; fill: rgb(99, 110, 250); fill-opacity: 1;\"/></g><g class=\"point\"><path d=\"M381.38,360V49.72H382.76V360Z\" style=\"vector-effect: non-scaling-stroke; opacity: 1; stroke-width: 0px; fill: rgb(99, 110, 250); fill-opacity: 1;\"/></g><g class=\"point\"><path d=\"M382.76,360V57.74H384.15V360Z\" style=\"vector-effect: non-scaling-stroke; opacity: 1; stroke-width: 0px; fill: rgb(99, 110, 250); fill-opacity: 1;\"/></g><g class=\"point\"><path d=\"M384.15,360V161.52H385.53V360Z\" style=\"vector-effect: non-scaling-stroke; opacity: 1; stroke-width: 0px; fill: rgb(99, 110, 250); fill-opacity: 1;\"/></g><g class=\"point\"><path d=\"M385.53,360V172.79H386.91V360Z\" style=\"vector-effect: non-scaling-stroke; opacity: 1; stroke-width: 0px; fill: rgb(99, 110, 250); fill-opacity: 1;\"/></g><g class=\"point\"><path d=\"M386.91,360V244.37H388.29V360Z\" style=\"vector-effect: non-scaling-stroke; opacity: 1; stroke-width: 0px; fill: rgb(99, 110, 250); fill-opacity: 1;\"/></g><g class=\"point\"><path d=\"M388.29,360V272.73H389.67V360Z\" style=\"vector-effect: non-scaling-stroke; opacity: 1; stroke-width: 0px; fill: rgb(99, 110, 250); fill-opacity: 1;\"/></g><g class=\"point\"><path d=\"M389.67,360V330.02H391.05V360Z\" style=\"vector-effect: non-scaling-stroke; opacity: 1; stroke-width: 0px; fill: rgb(99, 110, 250); fill-opacity: 1;\"/></g><g class=\"point\"><path d=\"M391.05,360V332.92H392.44V360Z\" style=\"vector-effect: non-scaling-stroke; opacity: 1; stroke-width: 0px; fill: rgb(99, 110, 250); fill-opacity: 1;\"/></g><g class=\"point\"><path d=\"M392.44,360V341.52H393.82V360Z\" style=\"vector-effect: non-scaling-stroke; opacity: 1; stroke-width: 0px; fill: rgb(99, 110, 250); fill-opacity: 1;\"/></g><g class=\"point\"><path d=\"M393.82,360V339.2H395.2V360Z\" style=\"vector-effect: non-scaling-stroke; opacity: 1; stroke-width: 0px; fill: rgb(99, 110, 250); fill-opacity: 1;\"/></g><g class=\"point\"><path d=\"M395.2,360V312.01H396.58V360Z\" style=\"vector-effect: non-scaling-stroke; opacity: 1; stroke-width: 0px; fill: rgb(99, 110, 250); fill-opacity: 1;\"/></g><g class=\"point\"><path d=\"M396.58,360V279.24H397.96V360Z\" style=\"vector-effect: non-scaling-stroke; opacity: 1; stroke-width: 0px; fill: rgb(99, 110, 250); fill-opacity: 1;\"/></g><g class=\"point\"><path d=\"M397.96,360V226.94H399.35V360Z\" style=\"vector-effect: non-scaling-stroke; opacity: 1; stroke-width: 0px; fill: rgb(99, 110, 250); fill-opacity: 1;\"/></g><g class=\"point\"><path d=\"M399.35,360V145.83H400.73V360Z\" style=\"vector-effect: non-scaling-stroke; opacity: 1; stroke-width: 0px; fill: rgb(99, 110, 250); fill-opacity: 1;\"/></g><g class=\"point\"><path d=\"M400.73,360V168.95H402.11V360Z\" style=\"vector-effect: non-scaling-stroke; opacity: 1; stroke-width: 0px; fill: rgb(99, 110, 250); fill-opacity: 1;\"/></g><g class=\"point\"><path d=\"M402.11,360V165.12H403.49V360Z\" style=\"vector-effect: non-scaling-stroke; opacity: 1; stroke-width: 0px; fill: rgb(99, 110, 250); fill-opacity: 1;\"/></g><g class=\"point\"><path d=\"M403.49,360V144.43H404.87V360Z\" style=\"vector-effect: non-scaling-stroke; opacity: 1; stroke-width: 0px; fill: rgb(99, 110, 250); fill-opacity: 1;\"/></g><g class=\"point\"><path d=\"M404.87,360V122.7H406.25V360Z\" style=\"vector-effect: non-scaling-stroke; opacity: 1; stroke-width: 0px; fill: rgb(99, 110, 250); fill-opacity: 1;\"/></g><g class=\"point\"><path d=\"M406.25,360V148.15H407.64V360Z\" style=\"vector-effect: non-scaling-stroke; opacity: 1; stroke-width: 0px; fill: rgb(99, 110, 250); fill-opacity: 1;\"/></g><g class=\"point\"><path d=\"M407.64,360V119.33H409.02V360Z\" style=\"vector-effect: non-scaling-stroke; opacity: 1; stroke-width: 0px; fill: rgb(99, 110, 250); fill-opacity: 1;\"/></g><g class=\"point\"><path d=\"M409.02,360V148.5H410.4V360Z\" style=\"vector-effect: non-scaling-stroke; opacity: 1; stroke-width: 0px; fill: rgb(99, 110, 250); fill-opacity: 1;\"/></g><g class=\"point\"><path d=\"M410.4,360V94.93H411.78V360Z\" style=\"vector-effect: non-scaling-stroke; opacity: 1; stroke-width: 0px; fill: rgb(99, 110, 250); fill-opacity: 1;\"/></g><g class=\"point\"><path d=\"M411.78,360V42.29H413.16V360Z\" style=\"vector-effect: non-scaling-stroke; opacity: 1; stroke-width: 0px; fill: rgb(99, 110, 250); fill-opacity: 1;\"/></g><g class=\"point\"><path d=\"M413.16,360V42.17H414.55V360Z\" style=\"vector-effect: non-scaling-stroke; opacity: 1; stroke-width: 0px; fill: rgb(99, 110, 250); fill-opacity: 1;\"/></g><g class=\"point\"><path d=\"M414.55,360V73.66H415.93V360Z\" style=\"vector-effect: non-scaling-stroke; opacity: 1; stroke-width: 0px; fill: rgb(99, 110, 250); fill-opacity: 1;\"/></g><g class=\"point\"><path d=\"M415.93,360V78.89H417.31V360Z\" style=\"vector-effect: non-scaling-stroke; opacity: 1; stroke-width: 0px; fill: rgb(99, 110, 250); fill-opacity: 1;\"/></g><g class=\"point\"><path d=\"M417.31,360V97.25H418.69V360Z\" style=\"vector-effect: non-scaling-stroke; opacity: 1; stroke-width: 0px; fill: rgb(99, 110, 250); fill-opacity: 1;\"/></g><g class=\"point\"><path d=\"M418.69,360V165.58H420.07V360Z\" style=\"vector-effect: non-scaling-stroke; opacity: 1; stroke-width: 0px; fill: rgb(99, 110, 250); fill-opacity: 1;\"/></g><g class=\"point\"><path d=\"M420.07,360V232.75H421.45V360Z\" style=\"vector-effect: non-scaling-stroke; opacity: 1; stroke-width: 0px; fill: rgb(99, 110, 250); fill-opacity: 1;\"/></g><g class=\"point\"><path d=\"M421.45,360V310.15H422.84V360Z\" style=\"vector-effect: non-scaling-stroke; opacity: 1; stroke-width: 0px; fill: rgb(99, 110, 250); fill-opacity: 1;\"/></g><g class=\"point\"><path d=\"M422.84,360V336.29H424.22V360Z\" style=\"vector-effect: non-scaling-stroke; opacity: 1; stroke-width: 0px; fill: rgb(99, 110, 250); fill-opacity: 1;\"/></g><g class=\"point\"><path d=\"M424.22,360V345.24H425.6V360Z\" style=\"vector-effect: non-scaling-stroke; opacity: 1; stroke-width: 0px; fill: rgb(99, 110, 250); fill-opacity: 1;\"/></g><g class=\"point\"><path d=\"M425.6,360V346.64H426.98V360Z\" style=\"vector-effect: non-scaling-stroke; opacity: 1; stroke-width: 0px; fill: rgb(99, 110, 250); fill-opacity: 1;\"/></g><g class=\"point\"><path d=\"M426.98,360V332.57H428.36V360Z\" style=\"vector-effect: non-scaling-stroke; opacity: 1; stroke-width: 0px; fill: rgb(99, 110, 250); fill-opacity: 1;\"/></g><g class=\"point\"><path d=\"M428.36,360V324.56H429.75V360Z\" style=\"vector-effect: non-scaling-stroke; opacity: 1; stroke-width: 0px; fill: rgb(99, 110, 250); fill-opacity: 1;\"/></g><g class=\"point\"><path d=\"M429.75,360V279.12H431.13V360Z\" style=\"vector-effect: non-scaling-stroke; opacity: 1; stroke-width: 0px; fill: rgb(99, 110, 250); fill-opacity: 1;\"/></g><g class=\"point\"><path d=\"M431.13,360V223.92H432.51V360Z\" style=\"vector-effect: non-scaling-stroke; opacity: 1; stroke-width: 0px; fill: rgb(99, 110, 250); fill-opacity: 1;\"/></g><g class=\"point\"><path d=\"M432.51,360V232.17H433.89V360Z\" style=\"vector-effect: non-scaling-stroke; opacity: 1; stroke-width: 0px; fill: rgb(99, 110, 250); fill-opacity: 1;\"/></g><g class=\"point\"><path d=\"M433.89,360V196.84H435.27V360Z\" style=\"vector-effect: non-scaling-stroke; opacity: 1; stroke-width: 0px; fill: rgb(99, 110, 250); fill-opacity: 1;\"/></g><g class=\"point\"><path d=\"M435.27,360V195.91H436.65V360Z\" style=\"vector-effect: non-scaling-stroke; opacity: 1; stroke-width: 0px; fill: rgb(99, 110, 250); fill-opacity: 1;\"/></g><g class=\"point\"><path d=\"M436.65,360V177.44H438.04V360Z\" style=\"vector-effect: non-scaling-stroke; opacity: 1; stroke-width: 0px; fill: rgb(99, 110, 250); fill-opacity: 1;\"/></g><g class=\"point\"><path d=\"M438.04,360V125.96H439.42V360Z\" style=\"vector-effect: non-scaling-stroke; opacity: 1; stroke-width: 0px; fill: rgb(99, 110, 250); fill-opacity: 1;\"/></g><g class=\"point\"><path d=\"M439.42,360V166.98H440.8V360Z\" style=\"vector-effect: non-scaling-stroke; opacity: 1; stroke-width: 0px; fill: rgb(99, 110, 250); fill-opacity: 1;\"/></g><g class=\"point\"><path d=\"M440.8,360V145.25H442.18V360Z\" style=\"vector-effect: non-scaling-stroke; opacity: 1; stroke-width: 0px; fill: rgb(99, 110, 250); fill-opacity: 1;\"/></g><g class=\"point\"><path d=\"M442.18,360V139.44H443.56V360Z\" style=\"vector-effect: non-scaling-stroke; opacity: 1; stroke-width: 0px; fill: rgb(99, 110, 250); fill-opacity: 1;\"/></g><g class=\"point\"><path d=\"M443.56,360V130.84H444.95V360Z\" style=\"vector-effect: non-scaling-stroke; opacity: 1; stroke-width: 0px; fill: rgb(99, 110, 250); fill-opacity: 1;\"/></g><g class=\"point\"><path d=\"M444.95,360V79.71H446.33V360Z\" style=\"vector-effect: non-scaling-stroke; opacity: 1; stroke-width: 0px; fill: rgb(99, 110, 250); fill-opacity: 1;\"/></g><g class=\"point\"><path d=\"M446.33,360V37.41H447.71V360Z\" style=\"vector-effect: non-scaling-stroke; opacity: 1; stroke-width: 0px; fill: rgb(99, 110, 250); fill-opacity: 1;\"/></g><g class=\"point\"><path d=\"M447.71,360V81.57H449.09V360Z\" style=\"vector-effect: non-scaling-stroke; opacity: 1; stroke-width: 0px; fill: rgb(99, 110, 250); fill-opacity: 1;\"/></g><g class=\"point\"><path d=\"M449.09,360V138.51H450.47V360Z\" style=\"vector-effect: non-scaling-stroke; opacity: 1; stroke-width: 0px; fill: rgb(99, 110, 250); fill-opacity: 1;\"/></g><g class=\"point\"><path d=\"M450.47,360V164.89H451.85V360Z\" style=\"vector-effect: non-scaling-stroke; opacity: 1; stroke-width: 0px; fill: rgb(99, 110, 250); fill-opacity: 1;\"/></g><g class=\"point\"><path d=\"M451.85,360V184.87H453.24V360Z\" style=\"vector-effect: non-scaling-stroke; opacity: 1; stroke-width: 0px; fill: rgb(99, 110, 250); fill-opacity: 1;\"/></g><g class=\"point\"><path d=\"M453.24,360V249.72H454.62V360Z\" style=\"vector-effect: non-scaling-stroke; opacity: 1; stroke-width: 0px; fill: rgb(99, 110, 250); fill-opacity: 1;\"/></g><g class=\"point\"><path d=\"M454.62,360V352.1H456V360Z\" style=\"vector-effect: non-scaling-stroke; opacity: 1; stroke-width: 0px; fill: rgb(99, 110, 250); fill-opacity: 1;\"/></g></g></g></g></g><g class=\"overplot\"/><path class=\"xlines-above crisp\" d=\"M0,0\" style=\"fill: none;\"/><path class=\"ylines-above crisp\" d=\"M0,0\" style=\"fill: none;\"/><g class=\"overlines-above\"/><g class=\"xaxislayer-above\"><g class=\"xtick\"><text text-anchor=\"middle\" x=\"0\" y=\"433\" transform=\"translate(140.8,0)\" style=\"font-family: 'Open Sans', verdana, arial, sans-serif; font-size: 12px; fill: rgb(42, 63, 95); fill-opacity: 1; white-space: pre; opacity: 1;\"><tspan class=\"line\" dy=\"0em\" x=\"0\" y=\"433\">Jul 27</tspan><tspan class=\"line\" dy=\"1.3em\" x=\"0\" y=\"433\">2019</tspan></text></g><g class=\"xtick\"><text text-anchor=\"middle\" x=\"0\" y=\"433\" style=\"font-family: 'Open Sans', verdana, arial, sans-serif; font-size: 12px; fill: rgb(42, 63, 95); fill-opacity: 1; white-space: pre; opacity: 1;\" transform=\"translate(240.29,0)\">Jul 30</text></g><g class=\"xtick\"><text text-anchor=\"middle\" x=\"0\" y=\"433\" style=\"font-family: 'Open Sans', verdana, arial, sans-serif; font-size: 12px; fill: rgb(42, 63, 95); fill-opacity: 1; white-space: pre; opacity: 1;\" transform=\"translate(339.78,0)\">Aug 2</text></g><g class=\"xtick\"><text text-anchor=\"middle\" x=\"0\" y=\"433\" style=\"font-family: 'Open Sans', verdana, arial, sans-serif; font-size: 12px; fill: rgb(42, 63, 95); fill-opacity: 1; white-space: pre; opacity: 1;\" transform=\"translate(439.27,0)\">Aug 5</text></g></g><g class=\"yaxislayer-above\"><g class=\"ytick\"><text text-anchor=\"end\" x=\"79\" y=\"4.199999999999999\" transform=\"translate(0,420)\" style=\"font-family: 'Open Sans', verdana, arial, sans-serif; font-size: 12px; fill: rgb(42, 63, 95); fill-opacity: 1; white-space: pre; opacity: 1;\">0</text></g><g class=\"ytick\"><text text-anchor=\"end\" x=\"79\" y=\"4.199999999999999\" style=\"font-family: 'Open Sans', verdana, arial, sans-serif; font-size: 12px; fill: rgb(42, 63, 95); fill-opacity: 1; white-space: pre; opacity: 1;\" transform=\"translate(0,361.9)\">500</text></g><g class=\"ytick\"><text text-anchor=\"end\" x=\"79\" y=\"4.199999999999999\" style=\"font-family: 'Open Sans', verdana, arial, sans-serif; font-size: 12px; fill: rgb(42, 63, 95); fill-opacity: 1; white-space: pre; opacity: 1;\" transform=\"translate(0,303.78999999999996)\">1000</text></g><g class=\"ytick\"><text text-anchor=\"end\" x=\"79\" y=\"4.199999999999999\" style=\"font-family: 'Open Sans', verdana, arial, sans-serif; font-size: 12px; fill: rgb(42, 63, 95); fill-opacity: 1; white-space: pre; opacity: 1;\" transform=\"translate(0,245.69)\">1500</text></g><g class=\"ytick\"><text text-anchor=\"end\" x=\"79\" y=\"4.199999999999999\" style=\"font-family: 'Open Sans', verdana, arial, sans-serif; font-size: 12px; fill: rgb(42, 63, 95); fill-opacity: 1; white-space: pre; opacity: 1;\" transform=\"translate(0,187.57999999999998)\">2000</text></g><g class=\"ytick\"><text text-anchor=\"end\" x=\"79\" y=\"4.199999999999999\" style=\"font-family: 'Open Sans', verdana, arial, sans-serif; font-size: 12px; fill: rgb(42, 63, 95); fill-opacity: 1; white-space: pre; opacity: 1;\" transform=\"translate(0,129.48000000000002)\">2500</text></g><g class=\"ytick\"><text text-anchor=\"end\" x=\"79\" y=\"4.199999999999999\" style=\"font-family: 'Open Sans', verdana, arial, sans-serif; font-size: 12px; fill: rgb(42, 63, 95); fill-opacity: 1; white-space: pre; opacity: 1;\" transform=\"translate(0,71.38)\">3000</text></g></g><g class=\"overaxes-above\"/></g></g><g class=\"polarlayer\"/><g class=\"smithlayer\"/><g class=\"ternarylayer\"/><g class=\"geolayer\"/><g class=\"funnelarealayer\"/><g class=\"pielayer\"/><g class=\"iciclelayer\"/><g class=\"treemaplayer\"/><g class=\"sunburstlayer\"/><g class=\"glimages\"/><defs id=\"topdefs-99415f\"><g class=\"clips\"/><clipPath id=\"legend99415f\"><rect width=\"143\" height=\"48\" x=\"0\" y=\"0\"/></clipPath></defs><g class=\"layer-above\"><g class=\"imagelayer\"/><g class=\"shapelayer\"/></g><g class=\"infolayer\"><g class=\"legend\" pointer-events=\"all\" transform=\"translate(545.12,60)\"><rect class=\"bg\" shape-rendering=\"crispEdges\" style=\"stroke: rgb(68, 68, 68); stroke-opacity: 1; fill: rgb(255, 255, 255); fill-opacity: 1; stroke-width: 0px;\" width=\"143\" height=\"48\" x=\"0\" y=\"0\"/><g class=\"scrollbox\" transform=\"\" clip-path=\"url(#legend99415f)\"><text class=\"legendtitletext\" text-anchor=\"start\" x=\"2\" y=\"18.2\" style=\"font-family: 'Open Sans', verdana, arial, sans-serif; font-size: 14px; fill: rgb(42, 63, 95); fill-opacity: 1; white-space: pre;\">variable</text><g class=\"groups\" transform=\"\"><g class=\"traces\" transform=\"translate(0,32.7)\" style=\"opacity: 1;\"><text class=\"legendtext\" text-anchor=\"start\" x=\"40\" y=\"4.680000000000001\" style=\"font-family: 'Open Sans', verdana, arial, sans-serif; font-size: 12px; fill: rgb(42, 63, 95); fill-opacity: 1; white-space: pre;\">eventtimestamp</text><g class=\"layers\" style=\"opacity: 1;\"><g class=\"legendfill\"/><g class=\"legendlines\"/><g class=\"legendsymbols\"><g class=\"legendpoints\"><path class=\"legendundefined\" d=\"M6,6H-6V-6H6Z\" transform=\"translate(20,0)\" style=\"stroke-width: 0px; fill: rgb(99, 110, 250); fill-opacity: 1;\"/></g></g></g><rect class=\"legendtoggle\" x=\"0\" y=\"-9.5\" width=\"137.796875\" height=\"19\" style=\"fill: rgb(0, 0, 0); fill-opacity: 0;\"/></g></g></g><rect class=\"scrollbar\" rx=\"20\" ry=\"3\" width=\"0\" height=\"0\" style=\"fill: rgb(128, 139, 164); fill-opacity: 1;\" x=\"0\" y=\"0\"/></g><g class=\"g-gtitle\"/><g class=\"g-xtitle\"><text class=\"xtitle\" x=\"308\" y=\"476.409375\" text-anchor=\"middle\" style=\"font-family: 'Open Sans', verdana, arial, sans-serif; font-size: 14px; fill: rgb(42, 63, 95); opacity: 1; font-weight: normal; white-space: pre;\">value</text></g><g class=\"g-ytitle\"><text class=\"ytitle\" transform=\"rotate(-90,23.684375000000003,240)\" x=\"23.684375000000003\" y=\"240\" text-anchor=\"middle\" style=\"font-family: 'Open Sans', verdana, arial, sans-serif; font-size: 14px; fill: rgb(42, 63, 95); opacity: 1; font-weight: normal; white-space: pre;\">count</text></g></g></svg>"
      ]
     },
     "metadata": {},
     "output_type": "display_data"
    }
   ],
   "source": [
    "fig = px.histogram(df['eventtimestamp'])\n",
    "fig.show('svg')"
   ]
  },
  {
   "cell_type": "markdown",
   "metadata": {},
   "source": [
    "Между 25 июля и 1 августом огромная \"пропасть\" в данных. Возможно, в то время были сбои на серевере, работе приложения или велись технические работы и доступ к приложению имели только тестировщики."
   ]
  },
  {
   "cell_type": "markdown",
   "metadata": {},
   "source": [
    "Отбросим данные до 1 августа"
   ]
  },
  {
   "cell_type": "code",
   "execution_count": 12,
   "metadata": {
    "scrolled": true
   },
   "outputs": [
    {
     "name": "stdout",
     "output_type": "stream",
     "text": [
      "Пользователей до фильтрации 7551\n",
      "Записей (событий в логе) до фильтрации 243713\n",
      "\n",
      "Пользователей после фильтрации 7534\n",
      "Записей (событий в логе) после фильтрации 240887\n",
      "Доля удалённых пользователей 0.23\n",
      "Доля удалённых записей 1.16\n"
     ]
    }
   ],
   "source": [
    "user_c_bef = df['user_id'].nunique()\n",
    "ev_c_bef = df['event'].count()\n",
    "\n",
    "print('Пользователей до фильтрации', user_c_bef)\n",
    "print('Записей (событий в логе) до фильтрации', ev_c_bef)\n",
    "\n",
    "df = df.query('date >= \"2019-08-01\"')\n",
    "\n",
    "user_c_aft = df['user_id'].nunique()\n",
    "ev_c_aft = df['event'].count()\n",
    "\n",
    "print('\\nПользователей после фильтрации', user_c_aft)\n",
    "print('Записей (событий в логе) после фильтрации', ev_c_aft)\n",
    "\n",
    "print('Доля удалённых пользователей', round((100 - (user_c_aft / user_c_bef) * 100), 2))\n",
    "print('Доля удалённых записей', round((100 - (ev_c_aft / ev_c_bef) * 100), 2))"
   ]
  },
  {
   "cell_type": "markdown",
   "metadata": {},
   "source": [
    "### Данные о пользователях"
   ]
  },
  {
   "cell_type": "markdown",
   "metadata": {},
   "source": [
    "Посмотрим на среднее количество событий на пользователя"
   ]
  },
  {
   "cell_type": "code",
   "execution_count": 13,
   "metadata": {},
   "outputs": [
    {
     "data": {
      "text/html": [
       "<div>\n",
       "<style scoped>\n",
       "    .dataframe tbody tr th:only-of-type {\n",
       "        vertical-align: middle;\n",
       "    }\n",
       "\n",
       "    .dataframe tbody tr th {\n",
       "        vertical-align: top;\n",
       "    }\n",
       "\n",
       "    .dataframe thead th {\n",
       "        text-align: right;\n",
       "    }\n",
       "</style>\n",
       "<table border=\"1\" class=\"dataframe\">\n",
       "  <thead>\n",
       "    <tr style=\"text-align: right;\">\n",
       "      <th></th>\n",
       "      <th>count</th>\n",
       "      <th>mean</th>\n",
       "      <th>std</th>\n",
       "      <th>min</th>\n",
       "      <th>25%</th>\n",
       "      <th>50%</th>\n",
       "      <th>75%</th>\n",
       "      <th>max</th>\n",
       "    </tr>\n",
       "  </thead>\n",
       "  <tbody>\n",
       "    <tr>\n",
       "      <th>event</th>\n",
       "      <td>7534.0</td>\n",
       "      <td>31.973321</td>\n",
       "      <td>65.090307</td>\n",
       "      <td>1.0</td>\n",
       "      <td>9.0</td>\n",
       "      <td>19.0</td>\n",
       "      <td>37.0</td>\n",
       "      <td>2307.0</td>\n",
       "    </tr>\n",
       "  </tbody>\n",
       "</table>\n",
       "</div>"
      ],
      "text/plain": [
       "        count       mean        std  min  25%   50%   75%     max\n",
       "event  7534.0  31.973321  65.090307  1.0  9.0  19.0  37.0  2307.0"
      ]
     },
     "metadata": {},
     "output_type": "display_data"
    },
    {
     "data": {
      "image/svg+xml": [
       "<svg class=\"main-svg\" xmlns=\"http://www.w3.org/2000/svg\" xmlns:xlink=\"http://www.w3.org/1999/xlink\" width=\"700\" height=\"500\" style=\"\" viewBox=\"0 0 700 500\"><rect x=\"0\" y=\"0\" width=\"700\" height=\"500\" style=\"fill: rgb(255, 255, 255); fill-opacity: 1;\"/><defs id=\"defs-701f30\"><g class=\"clips\"><clipPath id=\"clip701f30xyplot\" class=\"plotclip\"><rect width=\"540\" height=\"360\"/></clipPath><clipPath class=\"axesclip\" id=\"clip701f30x\"><rect x=\"80\" y=\"0\" width=\"540\" height=\"500\"/></clipPath><clipPath class=\"axesclip\" id=\"clip701f30y\"><rect x=\"0\" y=\"60\" width=\"700\" height=\"360\"/></clipPath><clipPath class=\"axesclip\" id=\"clip701f30xy\"><rect x=\"80\" y=\"60\" width=\"540\" height=\"360\"/></clipPath></g><g class=\"gradients\"/><g class=\"patterns\"/></defs><g class=\"bglayer\"><rect class=\"bg\" x=\"80\" y=\"60\" width=\"540\" height=\"360\" style=\"fill: rgb(229, 236, 246); fill-opacity: 1; stroke-width: 0;\"/></g><g class=\"layer-below\"><g class=\"imagelayer\"/><g class=\"shapelayer\"/></g><g class=\"cartesianlayer\"><g class=\"subplot xy\"><g class=\"layer-subplot\"><g class=\"shapelayer\"/><g class=\"imagelayer\"/></g><g class=\"gridlayer\"><g class=\"x\"/><g class=\"y\"><path class=\"ygrid crisp\" transform=\"translate(0,331.89)\" d=\"M80,0h540\" style=\"stroke: rgb(255, 255, 255); stroke-opacity: 1; stroke-width: 1px;\"/><path class=\"ygrid crisp\" transform=\"translate(0,261.64)\" d=\"M80,0h540\" style=\"stroke: rgb(255, 255, 255); stroke-opacity: 1; stroke-width: 1px;\"/><path class=\"ygrid crisp\" transform=\"translate(0,191.39)\" d=\"M80,0h540\" style=\"stroke: rgb(255, 255, 255); stroke-opacity: 1; stroke-width: 1px;\"/><path class=\"ygrid crisp\" transform=\"translate(0,121.13)\" d=\"M80,0h540\" style=\"stroke: rgb(255, 255, 255); stroke-opacity: 1; stroke-width: 1px;\"/></g></g><g class=\"zerolinelayer\"><path class=\"yzl zl crisp\" transform=\"translate(0,402.14)\" d=\"M80,0h540\" style=\"stroke: rgb(255, 255, 255); stroke-opacity: 1; stroke-width: 2px;\"/></g><path class=\"xlines-below\"/><path class=\"ylines-below\"/><g class=\"overlines-below\"/><g class=\"xaxislayer-below\"/><g class=\"yaxislayer-below\"/><g class=\"overaxes-below\"/><g class=\"plot\" transform=\"translate(80,60)\" clip-path=\"url(#clip701f30xyplot)\"><g class=\"boxlayer mlayer\"><g class=\"trace boxes\" style=\"opacity: 1;\"><path class=\"box\" d=\"M137.7,339.47H402.3M137.7,340.88H402.3V336.94H137.7ZM270,340.88V342M270,336.94V331.04M203.85,342H336.15M203.85,331.04H336.15\" style=\"vector-effect: non-scaling-stroke; stroke-width: 2px; stroke: rgb(99, 110, 250); stroke-opacity: 1; fill: rgb(99, 110, 250); fill-opacity: 0.5;\"/><g class=\"points\"><path class=\"point\" transform=\"translate(270,330.9)\" d=\"M3,0A3,3 0 1,1 0,-3A3,3 0 0,1 3,0Z\" style=\"opacity: 1; stroke-width: 0px; fill: rgb(99, 110, 250); fill-opacity: 1;\"/><path class=\"point\" transform=\"translate(270,330.9)\" d=\"M3,0A3,3 0 1,1 0,-3A3,3 0 0,1 3,0Z\" style=\"opacity: 1; stroke-width: 0px; fill: rgb(99, 110, 250); fill-opacity: 1;\"/><path class=\"point\" transform=\"translate(270,330.9)\" d=\"M3,0A3,3 0 1,1 0,-3A3,3 0 0,1 3,0Z\" style=\"opacity: 1; stroke-width: 0px; fill: rgb(99, 110, 250); fill-opacity: 1;\"/><path class=\"point\" transform=\"translate(270,330.9)\" d=\"M3,0A3,3 0 1,1 0,-3A3,3 0 0,1 3,0Z\" style=\"opacity: 1; stroke-width: 0px; fill: rgb(99, 110, 250); fill-opacity: 1;\"/><path class=\"point\" transform=\"translate(270,330.9)\" d=\"M3,0A3,3 0 1,1 0,-3A3,3 0 0,1 3,0Z\" style=\"opacity: 1; stroke-width: 0px; fill: rgb(99, 110, 250); fill-opacity: 1;\"/><path class=\"point\" transform=\"translate(270,330.9)\" d=\"M3,0A3,3 0 1,1 0,-3A3,3 0 0,1 3,0Z\" style=\"opacity: 1; stroke-width: 0px; fill: rgb(99, 110, 250); fill-opacity: 1;\"/><path class=\"point\" transform=\"translate(270,330.9)\" d=\"M3,0A3,3 0 1,1 0,-3A3,3 0 0,1 3,0Z\" style=\"opacity: 1; stroke-width: 0px; fill: rgb(99, 110, 250); fill-opacity: 1;\"/><path class=\"point\" transform=\"translate(270,330.9)\" d=\"M3,0A3,3 0 1,1 0,-3A3,3 0 0,1 3,0Z\" style=\"opacity: 1; stroke-width: 0px; fill: rgb(99, 110, 250); fill-opacity: 1;\"/><path class=\"point\" transform=\"translate(270,330.9)\" d=\"M3,0A3,3 0 1,1 0,-3A3,3 0 0,1 3,0Z\" style=\"opacity: 1; stroke-width: 0px; fill: rgb(99, 110, 250); fill-opacity: 1;\"/><path class=\"point\" transform=\"translate(270,330.9)\" d=\"M3,0A3,3 0 1,1 0,-3A3,3 0 0,1 3,0Z\" style=\"opacity: 1; stroke-width: 0px; fill: rgb(99, 110, 250); fill-opacity: 1;\"/><path class=\"point\" transform=\"translate(270,330.9)\" d=\"M3,0A3,3 0 1,1 0,-3A3,3 0 0,1 3,0Z\" style=\"opacity: 1; stroke-width: 0px; fill: rgb(99, 110, 250); fill-opacity: 1;\"/><path class=\"point\" transform=\"translate(270,330.9)\" d=\"M3,0A3,3 0 1,1 0,-3A3,3 0 0,1 3,0Z\" style=\"opacity: 1; stroke-width: 0px; fill: rgb(99, 110, 250); fill-opacity: 1;\"/><path class=\"point\" transform=\"translate(270,330.9)\" d=\"M3,0A3,3 0 1,1 0,-3A3,3 0 0,1 3,0Z\" style=\"opacity: 1; stroke-width: 0px; fill: rgb(99, 110, 250); fill-opacity: 1;\"/><path class=\"point\" transform=\"translate(270,330.9)\" d=\"M3,0A3,3 0 1,1 0,-3A3,3 0 0,1 3,0Z\" style=\"opacity: 1; stroke-width: 0px; fill: rgb(99, 110, 250); fill-opacity: 1;\"/><path class=\"point\" transform=\"translate(270,330.76)\" d=\"M3,0A3,3 0 1,1 0,-3A3,3 0 0,1 3,0Z\" style=\"opacity: 1; stroke-width: 0px; fill: rgb(99, 110, 250); fill-opacity: 1;\"/><path class=\"point\" transform=\"translate(270,330.76)\" d=\"M3,0A3,3 0 1,1 0,-3A3,3 0 0,1 3,0Z\" style=\"opacity: 1; stroke-width: 0px; fill: rgb(99, 110, 250); fill-opacity: 1;\"/><path class=\"point\" transform=\"translate(270,330.76)\" d=\"M3,0A3,3 0 1,1 0,-3A3,3 0 0,1 3,0Z\" style=\"opacity: 1; stroke-width: 0px; fill: rgb(99, 110, 250); fill-opacity: 1;\"/><path class=\"point\" transform=\"translate(270,330.76)\" d=\"M3,0A3,3 0 1,1 0,-3A3,3 0 0,1 3,0Z\" style=\"opacity: 1; stroke-width: 0px; fill: rgb(99, 110, 250); fill-opacity: 1;\"/><path class=\"point\" transform=\"translate(270,330.76)\" d=\"M3,0A3,3 0 1,1 0,-3A3,3 0 0,1 3,0Z\" style=\"opacity: 1; stroke-width: 0px; fill: rgb(99, 110, 250); fill-opacity: 1;\"/><path class=\"point\" transform=\"translate(270,330.76)\" d=\"M3,0A3,3 0 1,1 0,-3A3,3 0 0,1 3,0Z\" style=\"opacity: 1; stroke-width: 0px; fill: rgb(99, 110, 250); fill-opacity: 1;\"/><path class=\"point\" transform=\"translate(270,330.76)\" d=\"M3,0A3,3 0 1,1 0,-3A3,3 0 0,1 3,0Z\" style=\"opacity: 1; stroke-width: 0px; fill: rgb(99, 110, 250); fill-opacity: 1;\"/><path class=\"point\" transform=\"translate(270,330.76)\" d=\"M3,0A3,3 0 1,1 0,-3A3,3 0 0,1 3,0Z\" style=\"opacity: 1; stroke-width: 0px; fill: rgb(99, 110, 250); fill-opacity: 1;\"/><path class=\"point\" transform=\"translate(270,330.76)\" d=\"M3,0A3,3 0 1,1 0,-3A3,3 0 0,1 3,0Z\" style=\"opacity: 1; stroke-width: 0px; fill: rgb(99, 110, 250); fill-opacity: 1;\"/><path class=\"point\" transform=\"translate(270,330.76)\" d=\"M3,0A3,3 0 1,1 0,-3A3,3 0 0,1 3,0Z\" style=\"opacity: 1; stroke-width: 0px; fill: rgb(99, 110, 250); fill-opacity: 1;\"/><path class=\"point\" transform=\"translate(270,330.76)\" d=\"M3,0A3,3 0 1,1 0,-3A3,3 0 0,1 3,0Z\" style=\"opacity: 1; stroke-width: 0px; fill: rgb(99, 110, 250); fill-opacity: 1;\"/><path class=\"point\" transform=\"translate(270,330.76)\" d=\"M3,0A3,3 0 1,1 0,-3A3,3 0 0,1 3,0Z\" style=\"opacity: 1; stroke-width: 0px; fill: rgb(99, 110, 250); fill-opacity: 1;\"/><path class=\"point\" transform=\"translate(270,330.76)\" d=\"M3,0A3,3 0 1,1 0,-3A3,3 0 0,1 3,0Z\" style=\"opacity: 1; stroke-width: 0px; fill: rgb(99, 110, 250); fill-opacity: 1;\"/><path class=\"point\" transform=\"translate(270,330.76)\" d=\"M3,0A3,3 0 1,1 0,-3A3,3 0 0,1 3,0Z\" style=\"opacity: 1; stroke-width: 0px; fill: rgb(99, 110, 250); fill-opacity: 1;\"/><path class=\"point\" transform=\"translate(270,330.76)\" d=\"M3,0A3,3 0 1,1 0,-3A3,3 0 0,1 3,0Z\" style=\"opacity: 1; stroke-width: 0px; fill: rgb(99, 110, 250); fill-opacity: 1;\"/><path class=\"point\" transform=\"translate(270,330.76)\" d=\"M3,0A3,3 0 1,1 0,-3A3,3 0 0,1 3,0Z\" style=\"opacity: 1; stroke-width: 0px; fill: rgb(99, 110, 250); fill-opacity: 1;\"/><path class=\"point\" transform=\"translate(270,330.62)\" d=\"M3,0A3,3 0 1,1 0,-3A3,3 0 0,1 3,0Z\" style=\"opacity: 1; stroke-width: 0px; fill: rgb(99, 110, 250); fill-opacity: 1;\"/><path class=\"point\" transform=\"translate(270,330.62)\" d=\"M3,0A3,3 0 1,1 0,-3A3,3 0 0,1 3,0Z\" style=\"opacity: 1; stroke-width: 0px; fill: rgb(99, 110, 250); fill-opacity: 1;\"/><path class=\"point\" transform=\"translate(270,330.62)\" d=\"M3,0A3,3 0 1,1 0,-3A3,3 0 0,1 3,0Z\" style=\"opacity: 1; stroke-width: 0px; fill: rgb(99, 110, 250); fill-opacity: 1;\"/><path class=\"point\" transform=\"translate(270,330.62)\" d=\"M3,0A3,3 0 1,1 0,-3A3,3 0 0,1 3,0Z\" style=\"opacity: 1; stroke-width: 0px; fill: rgb(99, 110, 250); fill-opacity: 1;\"/><path class=\"point\" transform=\"translate(270,330.62)\" d=\"M3,0A3,3 0 1,1 0,-3A3,3 0 0,1 3,0Z\" style=\"opacity: 1; stroke-width: 0px; fill: rgb(99, 110, 250); fill-opacity: 1;\"/><path class=\"point\" transform=\"translate(270,330.62)\" d=\"M3,0A3,3 0 1,1 0,-3A3,3 0 0,1 3,0Z\" style=\"opacity: 1; stroke-width: 0px; fill: rgb(99, 110, 250); fill-opacity: 1;\"/><path class=\"point\" transform=\"translate(270,330.62)\" d=\"M3,0A3,3 0 1,1 0,-3A3,3 0 0,1 3,0Z\" style=\"opacity: 1; stroke-width: 0px; fill: rgb(99, 110, 250); fill-opacity: 1;\"/><path class=\"point\" transform=\"translate(270,330.62)\" d=\"M3,0A3,3 0 1,1 0,-3A3,3 0 0,1 3,0Z\" style=\"opacity: 1; stroke-width: 0px; fill: rgb(99, 110, 250); fill-opacity: 1;\"/><path class=\"point\" transform=\"translate(270,330.62)\" d=\"M3,0A3,3 0 1,1 0,-3A3,3 0 0,1 3,0Z\" style=\"opacity: 1; stroke-width: 0px; fill: rgb(99, 110, 250); fill-opacity: 1;\"/><path class=\"point\" transform=\"translate(270,330.62)\" d=\"M3,0A3,3 0 1,1 0,-3A3,3 0 0,1 3,0Z\" style=\"opacity: 1; stroke-width: 0px; fill: rgb(99, 110, 250); fill-opacity: 1;\"/><path class=\"point\" transform=\"translate(270,330.62)\" d=\"M3,0A3,3 0 1,1 0,-3A3,3 0 0,1 3,0Z\" style=\"opacity: 1; stroke-width: 0px; fill: rgb(99, 110, 250); fill-opacity: 1;\"/><path class=\"point\" transform=\"translate(270,330.48)\" d=\"M3,0A3,3 0 1,1 0,-3A3,3 0 0,1 3,0Z\" style=\"opacity: 1; stroke-width: 0px; fill: rgb(99, 110, 250); fill-opacity: 1;\"/><path class=\"point\" transform=\"translate(270,330.48)\" d=\"M3,0A3,3 0 1,1 0,-3A3,3 0 0,1 3,0Z\" style=\"opacity: 1; stroke-width: 0px; fill: rgb(99, 110, 250); fill-opacity: 1;\"/><path class=\"point\" transform=\"translate(270,330.48)\" d=\"M3,0A3,3 0 1,1 0,-3A3,3 0 0,1 3,0Z\" style=\"opacity: 1; stroke-width: 0px; fill: rgb(99, 110, 250); fill-opacity: 1;\"/><path class=\"point\" transform=\"translate(270,330.48)\" d=\"M3,0A3,3 0 1,1 0,-3A3,3 0 0,1 3,0Z\" style=\"opacity: 1; stroke-width: 0px; fill: rgb(99, 110, 250); fill-opacity: 1;\"/><path class=\"point\" transform=\"translate(270,330.48)\" d=\"M3,0A3,3 0 1,1 0,-3A3,3 0 0,1 3,0Z\" style=\"opacity: 1; stroke-width: 0px; fill: rgb(99, 110, 250); fill-opacity: 1;\"/><path class=\"point\" transform=\"translate(270,330.48)\" d=\"M3,0A3,3 0 1,1 0,-3A3,3 0 0,1 3,0Z\" style=\"opacity: 1; stroke-width: 0px; fill: rgb(99, 110, 250); fill-opacity: 1;\"/><path class=\"point\" transform=\"translate(270,330.48)\" d=\"M3,0A3,3 0 1,1 0,-3A3,3 0 0,1 3,0Z\" style=\"opacity: 1; stroke-width: 0px; fill: rgb(99, 110, 250); fill-opacity: 1;\"/><path class=\"point\" transform=\"translate(270,330.48)\" d=\"M3,0A3,3 0 1,1 0,-3A3,3 0 0,1 3,0Z\" style=\"opacity: 1; stroke-width: 0px; fill: rgb(99, 110, 250); fill-opacity: 1;\"/><path class=\"point\" transform=\"translate(270,330.48)\" d=\"M3,0A3,3 0 1,1 0,-3A3,3 0 0,1 3,0Z\" style=\"opacity: 1; stroke-width: 0px; fill: rgb(99, 110, 250); fill-opacity: 1;\"/><path class=\"point\" transform=\"translate(270,330.48)\" d=\"M3,0A3,3 0 1,1 0,-3A3,3 0 0,1 3,0Z\" style=\"opacity: 1; stroke-width: 0px; fill: rgb(99, 110, 250); fill-opacity: 1;\"/><path class=\"point\" transform=\"translate(270,330.34)\" d=\"M3,0A3,3 0 1,1 0,-3A3,3 0 0,1 3,0Z\" style=\"opacity: 1; stroke-width: 0px; fill: rgb(99, 110, 250); fill-opacity: 1;\"/><path class=\"point\" transform=\"translate(270,330.34)\" d=\"M3,0A3,3 0 1,1 0,-3A3,3 0 0,1 3,0Z\" style=\"opacity: 1; stroke-width: 0px; fill: rgb(99, 110, 250); fill-opacity: 1;\"/><path class=\"point\" transform=\"translate(270,330.34)\" d=\"M3,0A3,3 0 1,1 0,-3A3,3 0 0,1 3,0Z\" style=\"opacity: 1; stroke-width: 0px; fill: rgb(99, 110, 250); fill-opacity: 1;\"/><path class=\"point\" transform=\"translate(270,330.34)\" d=\"M3,0A3,3 0 1,1 0,-3A3,3 0 0,1 3,0Z\" style=\"opacity: 1; stroke-width: 0px; fill: rgb(99, 110, 250); fill-opacity: 1;\"/><path class=\"point\" transform=\"translate(270,330.34)\" d=\"M3,0A3,3 0 1,1 0,-3A3,3 0 0,1 3,0Z\" style=\"opacity: 1; stroke-width: 0px; fill: rgb(99, 110, 250); fill-opacity: 1;\"/><path class=\"point\" transform=\"translate(270,330.34)\" d=\"M3,0A3,3 0 1,1 0,-3A3,3 0 0,1 3,0Z\" style=\"opacity: 1; stroke-width: 0px; fill: rgb(99, 110, 250); fill-opacity: 1;\"/><path class=\"point\" transform=\"translate(270,330.34)\" d=\"M3,0A3,3 0 1,1 0,-3A3,3 0 0,1 3,0Z\" style=\"opacity: 1; stroke-width: 0px; fill: rgb(99, 110, 250); fill-opacity: 1;\"/><path class=\"point\" transform=\"translate(270,330.34)\" d=\"M3,0A3,3 0 1,1 0,-3A3,3 0 0,1 3,0Z\" style=\"opacity: 1; stroke-width: 0px; fill: rgb(99, 110, 250); fill-opacity: 1;\"/><path class=\"point\" transform=\"translate(270,330.34)\" d=\"M3,0A3,3 0 1,1 0,-3A3,3 0 0,1 3,0Z\" style=\"opacity: 1; stroke-width: 0px; fill: rgb(99, 110, 250); fill-opacity: 1;\"/><path class=\"point\" transform=\"translate(270,330.34)\" d=\"M3,0A3,3 0 1,1 0,-3A3,3 0 0,1 3,0Z\" style=\"opacity: 1; stroke-width: 0px; fill: rgb(99, 110, 250); fill-opacity: 1;\"/><path class=\"point\" transform=\"translate(270,330.34)\" d=\"M3,0A3,3 0 1,1 0,-3A3,3 0 0,1 3,0Z\" style=\"opacity: 1; stroke-width: 0px; fill: rgb(99, 110, 250); fill-opacity: 1;\"/><path class=\"point\" transform=\"translate(270,330.34)\" d=\"M3,0A3,3 0 1,1 0,-3A3,3 0 0,1 3,0Z\" style=\"opacity: 1; stroke-width: 0px; fill: rgb(99, 110, 250); fill-opacity: 1;\"/><path class=\"point\" transform=\"translate(270,330.34)\" d=\"M3,0A3,3 0 1,1 0,-3A3,3 0 0,1 3,0Z\" style=\"opacity: 1; stroke-width: 0px; fill: rgb(99, 110, 250); fill-opacity: 1;\"/><path class=\"point\" transform=\"translate(270,330.34)\" d=\"M3,0A3,3 0 1,1 0,-3A3,3 0 0,1 3,0Z\" style=\"opacity: 1; stroke-width: 0px; fill: rgb(99, 110, 250); fill-opacity: 1;\"/><path class=\"point\" transform=\"translate(270,330.2)\" d=\"M3,0A3,3 0 1,1 0,-3A3,3 0 0,1 3,0Z\" style=\"opacity: 1; stroke-width: 0px; fill: rgb(99, 110, 250); fill-opacity: 1;\"/><path class=\"point\" transform=\"translate(270,330.2)\" d=\"M3,0A3,3 0 1,1 0,-3A3,3 0 0,1 3,0Z\" style=\"opacity: 1; stroke-width: 0px; fill: rgb(99, 110, 250); fill-opacity: 1;\"/><path class=\"point\" transform=\"translate(270,330.2)\" d=\"M3,0A3,3 0 1,1 0,-3A3,3 0 0,1 3,0Z\" style=\"opacity: 1; stroke-width: 0px; fill: rgb(99, 110, 250); fill-opacity: 1;\"/><path class=\"point\" transform=\"translate(270,330.2)\" d=\"M3,0A3,3 0 1,1 0,-3A3,3 0 0,1 3,0Z\" style=\"opacity: 1; stroke-width: 0px; fill: rgb(99, 110, 250); fill-opacity: 1;\"/><path class=\"point\" transform=\"translate(270,330.2)\" d=\"M3,0A3,3 0 1,1 0,-3A3,3 0 0,1 3,0Z\" style=\"opacity: 1; stroke-width: 0px; fill: rgb(99, 110, 250); fill-opacity: 1;\"/><path class=\"point\" transform=\"translate(270,330.2)\" d=\"M3,0A3,3 0 1,1 0,-3A3,3 0 0,1 3,0Z\" style=\"opacity: 1; stroke-width: 0px; fill: rgb(99, 110, 250); fill-opacity: 1;\"/><path class=\"point\" transform=\"translate(270,330.2)\" d=\"M3,0A3,3 0 1,1 0,-3A3,3 0 0,1 3,0Z\" style=\"opacity: 1; stroke-width: 0px; fill: rgb(99, 110, 250); fill-opacity: 1;\"/><path class=\"point\" transform=\"translate(270,330.2)\" d=\"M3,0A3,3 0 1,1 0,-3A3,3 0 0,1 3,0Z\" style=\"opacity: 1; stroke-width: 0px; fill: rgb(99, 110, 250); fill-opacity: 1;\"/><path class=\"point\" transform=\"translate(270,330.2)\" d=\"M3,0A3,3 0 1,1 0,-3A3,3 0 0,1 3,0Z\" style=\"opacity: 1; stroke-width: 0px; fill: rgb(99, 110, 250); fill-opacity: 1;\"/><path class=\"point\" transform=\"translate(270,330.06)\" d=\"M3,0A3,3 0 1,1 0,-3A3,3 0 0,1 3,0Z\" style=\"opacity: 1; stroke-width: 0px; fill: rgb(99, 110, 250); fill-opacity: 1;\"/><path class=\"point\" transform=\"translate(270,330.06)\" d=\"M3,0A3,3 0 1,1 0,-3A3,3 0 0,1 3,0Z\" style=\"opacity: 1; stroke-width: 0px; fill: rgb(99, 110, 250); fill-opacity: 1;\"/><path class=\"point\" transform=\"translate(270,330.06)\" d=\"M3,0A3,3 0 1,1 0,-3A3,3 0 0,1 3,0Z\" style=\"opacity: 1; stroke-width: 0px; fill: rgb(99, 110, 250); fill-opacity: 1;\"/><path class=\"point\" transform=\"translate(270,330.06)\" d=\"M3,0A3,3 0 1,1 0,-3A3,3 0 0,1 3,0Z\" style=\"opacity: 1; stroke-width: 0px; fill: rgb(99, 110, 250); fill-opacity: 1;\"/><path class=\"point\" transform=\"translate(270,330.06)\" d=\"M3,0A3,3 0 1,1 0,-3A3,3 0 0,1 3,0Z\" style=\"opacity: 1; stroke-width: 0px; fill: rgb(99, 110, 250); fill-opacity: 1;\"/><path class=\"point\" transform=\"translate(270,330.06)\" d=\"M3,0A3,3 0 1,1 0,-3A3,3 0 0,1 3,0Z\" style=\"opacity: 1; stroke-width: 0px; fill: rgb(99, 110, 250); fill-opacity: 1;\"/><path class=\"point\" transform=\"translate(270,330.06)\" d=\"M3,0A3,3 0 1,1 0,-3A3,3 0 0,1 3,0Z\" style=\"opacity: 1; stroke-width: 0px; fill: rgb(99, 110, 250); fill-opacity: 1;\"/><path class=\"point\" transform=\"translate(270,330.06)\" d=\"M3,0A3,3 0 1,1 0,-3A3,3 0 0,1 3,0Z\" style=\"opacity: 1; stroke-width: 0px; fill: rgb(99, 110, 250); fill-opacity: 1;\"/><path class=\"point\" transform=\"translate(270,330.06)\" d=\"M3,0A3,3 0 1,1 0,-3A3,3 0 0,1 3,0Z\" style=\"opacity: 1; stroke-width: 0px; fill: rgb(99, 110, 250); fill-opacity: 1;\"/><path class=\"point\" transform=\"translate(270,329.92)\" d=\"M3,0A3,3 0 1,1 0,-3A3,3 0 0,1 3,0Z\" style=\"opacity: 1; stroke-width: 0px; fill: rgb(99, 110, 250); fill-opacity: 1;\"/><path class=\"point\" transform=\"translate(270,329.92)\" d=\"M3,0A3,3 0 1,1 0,-3A3,3 0 0,1 3,0Z\" style=\"opacity: 1; stroke-width: 0px; fill: rgb(99, 110, 250); fill-opacity: 1;\"/><path class=\"point\" transform=\"translate(270,329.92)\" d=\"M3,0A3,3 0 1,1 0,-3A3,3 0 0,1 3,0Z\" style=\"opacity: 1; stroke-width: 0px; fill: rgb(99, 110, 250); fill-opacity: 1;\"/><path class=\"point\" transform=\"translate(270,329.92)\" d=\"M3,0A3,3 0 1,1 0,-3A3,3 0 0,1 3,0Z\" style=\"opacity: 1; stroke-width: 0px; fill: rgb(99, 110, 250); fill-opacity: 1;\"/><path class=\"point\" transform=\"translate(270,329.92)\" d=\"M3,0A3,3 0 1,1 0,-3A3,3 0 0,1 3,0Z\" style=\"opacity: 1; stroke-width: 0px; fill: rgb(99, 110, 250); fill-opacity: 1;\"/><path class=\"point\" transform=\"translate(270,329.92)\" d=\"M3,0A3,3 0 1,1 0,-3A3,3 0 0,1 3,0Z\" style=\"opacity: 1; stroke-width: 0px; fill: rgb(99, 110, 250); fill-opacity: 1;\"/><path class=\"point\" transform=\"translate(270,329.92)\" d=\"M3,0A3,3 0 1,1 0,-3A3,3 0 0,1 3,0Z\" style=\"opacity: 1; stroke-width: 0px; fill: rgb(99, 110, 250); fill-opacity: 1;\"/><path class=\"point\" transform=\"translate(270,329.92)\" d=\"M3,0A3,3 0 1,1 0,-3A3,3 0 0,1 3,0Z\" style=\"opacity: 1; stroke-width: 0px; fill: rgb(99, 110, 250); fill-opacity: 1;\"/><path class=\"point\" transform=\"translate(270,329.92)\" d=\"M3,0A3,3 0 1,1 0,-3A3,3 0 0,1 3,0Z\" style=\"opacity: 1; stroke-width: 0px; fill: rgb(99, 110, 250); fill-opacity: 1;\"/><path class=\"point\" transform=\"translate(270,329.92)\" d=\"M3,0A3,3 0 1,1 0,-3A3,3 0 0,1 3,0Z\" style=\"opacity: 1; stroke-width: 0px; fill: rgb(99, 110, 250); fill-opacity: 1;\"/><path class=\"point\" transform=\"translate(270,329.92)\" d=\"M3,0A3,3 0 1,1 0,-3A3,3 0 0,1 3,0Z\" style=\"opacity: 1; stroke-width: 0px; fill: rgb(99, 110, 250); fill-opacity: 1;\"/><path class=\"point\" transform=\"translate(270,329.92)\" d=\"M3,0A3,3 0 1,1 0,-3A3,3 0 0,1 3,0Z\" style=\"opacity: 1; stroke-width: 0px; fill: rgb(99, 110, 250); fill-opacity: 1;\"/><path class=\"point\" transform=\"translate(270,329.92)\" d=\"M3,0A3,3 0 1,1 0,-3A3,3 0 0,1 3,0Z\" style=\"opacity: 1; stroke-width: 0px; fill: rgb(99, 110, 250); fill-opacity: 1;\"/><path class=\"point\" transform=\"translate(270,329.92)\" d=\"M3,0A3,3 0 1,1 0,-3A3,3 0 0,1 3,0Z\" style=\"opacity: 1; stroke-width: 0px; fill: rgb(99, 110, 250); fill-opacity: 1;\"/><path class=\"point\" transform=\"translate(270,329.92)\" d=\"M3,0A3,3 0 1,1 0,-3A3,3 0 0,1 3,0Z\" style=\"opacity: 1; stroke-width: 0px; fill: rgb(99, 110, 250); fill-opacity: 1;\"/><path class=\"point\" transform=\"translate(270,329.92)\" d=\"M3,0A3,3 0 1,1 0,-3A3,3 0 0,1 3,0Z\" style=\"opacity: 1; stroke-width: 0px; fill: rgb(99, 110, 250); fill-opacity: 1;\"/><path class=\"point\" transform=\"translate(270,329.92)\" d=\"M3,0A3,3 0 1,1 0,-3A3,3 0 0,1 3,0Z\" style=\"opacity: 1; stroke-width: 0px; fill: rgb(99, 110, 250); fill-opacity: 1;\"/><path class=\"point\" transform=\"translate(270,329.92)\" d=\"M3,0A3,3 0 1,1 0,-3A3,3 0 0,1 3,0Z\" style=\"opacity: 1; stroke-width: 0px; fill: rgb(99, 110, 250); fill-opacity: 1;\"/><path class=\"point\" transform=\"translate(270,329.92)\" d=\"M3,0A3,3 0 1,1 0,-3A3,3 0 0,1 3,0Z\" style=\"opacity: 1; stroke-width: 0px; fill: rgb(99, 110, 250); fill-opacity: 1;\"/><path class=\"point\" transform=\"translate(270,329.78)\" d=\"M3,0A3,3 0 1,1 0,-3A3,3 0 0,1 3,0Z\" style=\"opacity: 1; stroke-width: 0px; fill: rgb(99, 110, 250); fill-opacity: 1;\"/><path class=\"point\" transform=\"translate(270,329.78)\" d=\"M3,0A3,3 0 1,1 0,-3A3,3 0 0,1 3,0Z\" style=\"opacity: 1; stroke-width: 0px; fill: rgb(99, 110, 250); fill-opacity: 1;\"/><path class=\"point\" transform=\"translate(270,329.78)\" d=\"M3,0A3,3 0 1,1 0,-3A3,3 0 0,1 3,0Z\" style=\"opacity: 1; stroke-width: 0px; fill: rgb(99, 110, 250); fill-opacity: 1;\"/><path class=\"point\" transform=\"translate(270,329.78)\" d=\"M3,0A3,3 0 1,1 0,-3A3,3 0 0,1 3,0Z\" style=\"opacity: 1; stroke-width: 0px; fill: rgb(99, 110, 250); fill-opacity: 1;\"/><path class=\"point\" transform=\"translate(270,329.78)\" d=\"M3,0A3,3 0 1,1 0,-3A3,3 0 0,1 3,0Z\" style=\"opacity: 1; stroke-width: 0px; fill: rgb(99, 110, 250); fill-opacity: 1;\"/><path class=\"point\" transform=\"translate(270,329.78)\" d=\"M3,0A3,3 0 1,1 0,-3A3,3 0 0,1 3,0Z\" style=\"opacity: 1; stroke-width: 0px; fill: rgb(99, 110, 250); fill-opacity: 1;\"/><path class=\"point\" transform=\"translate(270,329.78)\" d=\"M3,0A3,3 0 1,1 0,-3A3,3 0 0,1 3,0Z\" style=\"opacity: 1; stroke-width: 0px; fill: rgb(99, 110, 250); fill-opacity: 1;\"/><path class=\"point\" transform=\"translate(270,329.78)\" d=\"M3,0A3,3 0 1,1 0,-3A3,3 0 0,1 3,0Z\" style=\"opacity: 1; stroke-width: 0px; fill: rgb(99, 110, 250); fill-opacity: 1;\"/><path class=\"point\" transform=\"translate(270,329.78)\" d=\"M3,0A3,3 0 1,1 0,-3A3,3 0 0,1 3,0Z\" style=\"opacity: 1; stroke-width: 0px; fill: rgb(99, 110, 250); fill-opacity: 1;\"/><path class=\"point\" transform=\"translate(270,329.78)\" d=\"M3,0A3,3 0 1,1 0,-3A3,3 0 0,1 3,0Z\" style=\"opacity: 1; stroke-width: 0px; fill: rgb(99, 110, 250); fill-opacity: 1;\"/><path class=\"point\" transform=\"translate(270,329.78)\" d=\"M3,0A3,3 0 1,1 0,-3A3,3 0 0,1 3,0Z\" style=\"opacity: 1; stroke-width: 0px; fill: rgb(99, 110, 250); fill-opacity: 1;\"/><path class=\"point\" transform=\"translate(270,329.78)\" d=\"M3,0A3,3 0 1,1 0,-3A3,3 0 0,1 3,0Z\" style=\"opacity: 1; stroke-width: 0px; fill: rgb(99, 110, 250); fill-opacity: 1;\"/><path class=\"point\" transform=\"translate(270,329.78)\" d=\"M3,0A3,3 0 1,1 0,-3A3,3 0 0,1 3,0Z\" style=\"opacity: 1; stroke-width: 0px; fill: rgb(99, 110, 250); fill-opacity: 1;\"/><path class=\"point\" transform=\"translate(270,329.64)\" d=\"M3,0A3,3 0 1,1 0,-3A3,3 0 0,1 3,0Z\" style=\"opacity: 1; stroke-width: 0px; fill: rgb(99, 110, 250); fill-opacity: 1;\"/><path class=\"point\" transform=\"translate(270,329.64)\" d=\"M3,0A3,3 0 1,1 0,-3A3,3 0 0,1 3,0Z\" style=\"opacity: 1; stroke-width: 0px; fill: rgb(99, 110, 250); fill-opacity: 1;\"/><path class=\"point\" transform=\"translate(270,329.64)\" d=\"M3,0A3,3 0 1,1 0,-3A3,3 0 0,1 3,0Z\" style=\"opacity: 1; stroke-width: 0px; fill: rgb(99, 110, 250); fill-opacity: 1;\"/><path class=\"point\" transform=\"translate(270,329.64)\" d=\"M3,0A3,3 0 1,1 0,-3A3,3 0 0,1 3,0Z\" style=\"opacity: 1; stroke-width: 0px; fill: rgb(99, 110, 250); fill-opacity: 1;\"/><path class=\"point\" transform=\"translate(270,329.64)\" d=\"M3,0A3,3 0 1,1 0,-3A3,3 0 0,1 3,0Z\" style=\"opacity: 1; stroke-width: 0px; fill: rgb(99, 110, 250); fill-opacity: 1;\"/><path class=\"point\" transform=\"translate(270,329.64)\" d=\"M3,0A3,3 0 1,1 0,-3A3,3 0 0,1 3,0Z\" style=\"opacity: 1; stroke-width: 0px; fill: rgb(99, 110, 250); fill-opacity: 1;\"/><path class=\"point\" transform=\"translate(270,329.64)\" d=\"M3,0A3,3 0 1,1 0,-3A3,3 0 0,1 3,0Z\" style=\"opacity: 1; stroke-width: 0px; fill: rgb(99, 110, 250); fill-opacity: 1;\"/><path class=\"point\" transform=\"translate(270,329.64)\" d=\"M3,0A3,3 0 1,1 0,-3A3,3 0 0,1 3,0Z\" style=\"opacity: 1; stroke-width: 0px; fill: rgb(99, 110, 250); fill-opacity: 1;\"/><path class=\"point\" transform=\"translate(270,329.64)\" d=\"M3,0A3,3 0 1,1 0,-3A3,3 0 0,1 3,0Z\" style=\"opacity: 1; stroke-width: 0px; fill: rgb(99, 110, 250); fill-opacity: 1;\"/><path class=\"point\" transform=\"translate(270,329.64)\" d=\"M3,0A3,3 0 1,1 0,-3A3,3 0 0,1 3,0Z\" style=\"opacity: 1; stroke-width: 0px; fill: rgb(99, 110, 250); fill-opacity: 1;\"/><path class=\"point\" transform=\"translate(270,329.5)\" d=\"M3,0A3,3 0 1,1 0,-3A3,3 0 0,1 3,0Z\" style=\"opacity: 1; stroke-width: 0px; fill: rgb(99, 110, 250); fill-opacity: 1;\"/><path class=\"point\" transform=\"translate(270,329.5)\" d=\"M3,0A3,3 0 1,1 0,-3A3,3 0 0,1 3,0Z\" style=\"opacity: 1; stroke-width: 0px; fill: rgb(99, 110, 250); fill-opacity: 1;\"/><path class=\"point\" transform=\"translate(270,329.5)\" d=\"M3,0A3,3 0 1,1 0,-3A3,3 0 0,1 3,0Z\" style=\"opacity: 1; stroke-width: 0px; fill: rgb(99, 110, 250); fill-opacity: 1;\"/><path class=\"point\" transform=\"translate(270,329.5)\" d=\"M3,0A3,3 0 1,1 0,-3A3,3 0 0,1 3,0Z\" style=\"opacity: 1; stroke-width: 0px; fill: rgb(99, 110, 250); fill-opacity: 1;\"/><path class=\"point\" transform=\"translate(270,329.5)\" d=\"M3,0A3,3 0 1,1 0,-3A3,3 0 0,1 3,0Z\" style=\"opacity: 1; stroke-width: 0px; fill: rgb(99, 110, 250); fill-opacity: 1;\"/><path class=\"point\" transform=\"translate(270,329.5)\" d=\"M3,0A3,3 0 1,1 0,-3A3,3 0 0,1 3,0Z\" style=\"opacity: 1; stroke-width: 0px; fill: rgb(99, 110, 250); fill-opacity: 1;\"/><path class=\"point\" transform=\"translate(270,329.5)\" d=\"M3,0A3,3 0 1,1 0,-3A3,3 0 0,1 3,0Z\" style=\"opacity: 1; stroke-width: 0px; fill: rgb(99, 110, 250); fill-opacity: 1;\"/><path class=\"point\" transform=\"translate(270,329.5)\" d=\"M3,0A3,3 0 1,1 0,-3A3,3 0 0,1 3,0Z\" style=\"opacity: 1; stroke-width: 0px; fill: rgb(99, 110, 250); fill-opacity: 1;\"/><path class=\"point\" transform=\"translate(270,329.35)\" d=\"M3,0A3,3 0 1,1 0,-3A3,3 0 0,1 3,0Z\" style=\"opacity: 1; stroke-width: 0px; fill: rgb(99, 110, 250); fill-opacity: 1;\"/><path class=\"point\" transform=\"translate(270,329.35)\" d=\"M3,0A3,3 0 1,1 0,-3A3,3 0 0,1 3,0Z\" style=\"opacity: 1; stroke-width: 0px; fill: rgb(99, 110, 250); fill-opacity: 1;\"/><path class=\"point\" transform=\"translate(270,329.35)\" d=\"M3,0A3,3 0 1,1 0,-3A3,3 0 0,1 3,0Z\" style=\"opacity: 1; stroke-width: 0px; fill: rgb(99, 110, 250); fill-opacity: 1;\"/><path class=\"point\" transform=\"translate(270,329.35)\" d=\"M3,0A3,3 0 1,1 0,-3A3,3 0 0,1 3,0Z\" style=\"opacity: 1; stroke-width: 0px; fill: rgb(99, 110, 250); fill-opacity: 1;\"/><path class=\"point\" transform=\"translate(270,329.35)\" d=\"M3,0A3,3 0 1,1 0,-3A3,3 0 0,1 3,0Z\" style=\"opacity: 1; stroke-width: 0px; fill: rgb(99, 110, 250); fill-opacity: 1;\"/><path class=\"point\" transform=\"translate(270,329.35)\" d=\"M3,0A3,3 0 1,1 0,-3A3,3 0 0,1 3,0Z\" style=\"opacity: 1; stroke-width: 0px; fill: rgb(99, 110, 250); fill-opacity: 1;\"/><path class=\"point\" transform=\"translate(270,329.35)\" d=\"M3,0A3,3 0 1,1 0,-3A3,3 0 0,1 3,0Z\" style=\"opacity: 1; stroke-width: 0px; fill: rgb(99, 110, 250); fill-opacity: 1;\"/><path class=\"point\" transform=\"translate(270,329.21)\" d=\"M3,0A3,3 0 1,1 0,-3A3,3 0 0,1 3,0Z\" style=\"opacity: 1; stroke-width: 0px; fill: rgb(99, 110, 250); fill-opacity: 1;\"/><path class=\"point\" transform=\"translate(270,329.21)\" d=\"M3,0A3,3 0 1,1 0,-3A3,3 0 0,1 3,0Z\" style=\"opacity: 1; stroke-width: 0px; fill: rgb(99, 110, 250); fill-opacity: 1;\"/><path class=\"point\" transform=\"translate(270,329.21)\" d=\"M3,0A3,3 0 1,1 0,-3A3,3 0 0,1 3,0Z\" style=\"opacity: 1; stroke-width: 0px; fill: rgb(99, 110, 250); fill-opacity: 1;\"/><path class=\"point\" transform=\"translate(270,329.21)\" d=\"M3,0A3,3 0 1,1 0,-3A3,3 0 0,1 3,0Z\" style=\"opacity: 1; stroke-width: 0px; fill: rgb(99, 110, 250); fill-opacity: 1;\"/><path class=\"point\" transform=\"translate(270,329.21)\" d=\"M3,0A3,3 0 1,1 0,-3A3,3 0 0,1 3,0Z\" style=\"opacity: 1; stroke-width: 0px; fill: rgb(99, 110, 250); fill-opacity: 1;\"/><path class=\"point\" transform=\"translate(270,329.07)\" d=\"M3,0A3,3 0 1,1 0,-3A3,3 0 0,1 3,0Z\" style=\"opacity: 1; stroke-width: 0px; fill: rgb(99, 110, 250); fill-opacity: 1;\"/><path class=\"point\" transform=\"translate(270,329.07)\" d=\"M3,0A3,3 0 1,1 0,-3A3,3 0 0,1 3,0Z\" style=\"opacity: 1; stroke-width: 0px; fill: rgb(99, 110, 250); fill-opacity: 1;\"/><path class=\"point\" transform=\"translate(270,329.07)\" d=\"M3,0A3,3 0 1,1 0,-3A3,3 0 0,1 3,0Z\" style=\"opacity: 1; stroke-width: 0px; fill: rgb(99, 110, 250); fill-opacity: 1;\"/><path class=\"point\" transform=\"translate(270,329.07)\" d=\"M3,0A3,3 0 1,1 0,-3A3,3 0 0,1 3,0Z\" style=\"opacity: 1; stroke-width: 0px; fill: rgb(99, 110, 250); fill-opacity: 1;\"/><path class=\"point\" transform=\"translate(270,329.07)\" d=\"M3,0A3,3 0 1,1 0,-3A3,3 0 0,1 3,0Z\" style=\"opacity: 1; stroke-width: 0px; fill: rgb(99, 110, 250); fill-opacity: 1;\"/><path class=\"point\" transform=\"translate(270,329.07)\" d=\"M3,0A3,3 0 1,1 0,-3A3,3 0 0,1 3,0Z\" style=\"opacity: 1; stroke-width: 0px; fill: rgb(99, 110, 250); fill-opacity: 1;\"/><path class=\"point\" transform=\"translate(270,329.07)\" d=\"M3,0A3,3 0 1,1 0,-3A3,3 0 0,1 3,0Z\" style=\"opacity: 1; stroke-width: 0px; fill: rgb(99, 110, 250); fill-opacity: 1;\"/><path class=\"point\" transform=\"translate(270,329.07)\" d=\"M3,0A3,3 0 1,1 0,-3A3,3 0 0,1 3,0Z\" style=\"opacity: 1; stroke-width: 0px; fill: rgb(99, 110, 250); fill-opacity: 1;\"/><path class=\"point\" transform=\"translate(270,329.07)\" d=\"M3,0A3,3 0 1,1 0,-3A3,3 0 0,1 3,0Z\" style=\"opacity: 1; stroke-width: 0px; fill: rgb(99, 110, 250); fill-opacity: 1;\"/><path class=\"point\" transform=\"translate(270,329.07)\" d=\"M3,0A3,3 0 1,1 0,-3A3,3 0 0,1 3,0Z\" style=\"opacity: 1; stroke-width: 0px; fill: rgb(99, 110, 250); fill-opacity: 1;\"/><path class=\"point\" transform=\"translate(270,328.93)\" d=\"M3,0A3,3 0 1,1 0,-3A3,3 0 0,1 3,0Z\" style=\"opacity: 1; stroke-width: 0px; fill: rgb(99, 110, 250); fill-opacity: 1;\"/><path class=\"point\" transform=\"translate(270,328.93)\" d=\"M3,0A3,3 0 1,1 0,-3A3,3 0 0,1 3,0Z\" style=\"opacity: 1; stroke-width: 0px; fill: rgb(99, 110, 250); fill-opacity: 1;\"/><path class=\"point\" transform=\"translate(270,328.93)\" d=\"M3,0A3,3 0 1,1 0,-3A3,3 0 0,1 3,0Z\" style=\"opacity: 1; stroke-width: 0px; fill: rgb(99, 110, 250); fill-opacity: 1;\"/><path class=\"point\" transform=\"translate(270,328.93)\" d=\"M3,0A3,3 0 1,1 0,-3A3,3 0 0,1 3,0Z\" style=\"opacity: 1; stroke-width: 0px; fill: rgb(99, 110, 250); fill-opacity: 1;\"/><path class=\"point\" transform=\"translate(270,328.79)\" d=\"M3,0A3,3 0 1,1 0,-3A3,3 0 0,1 3,0Z\" style=\"opacity: 1; stroke-width: 0px; fill: rgb(99, 110, 250); fill-opacity: 1;\"/><path class=\"point\" transform=\"translate(270,328.79)\" d=\"M3,0A3,3 0 1,1 0,-3A3,3 0 0,1 3,0Z\" style=\"opacity: 1; stroke-width: 0px; fill: rgb(99, 110, 250); fill-opacity: 1;\"/><path class=\"point\" transform=\"translate(270,328.79)\" d=\"M3,0A3,3 0 1,1 0,-3A3,3 0 0,1 3,0Z\" style=\"opacity: 1; stroke-width: 0px; fill: rgb(99, 110, 250); fill-opacity: 1;\"/><path class=\"point\" transform=\"translate(270,328.79)\" d=\"M3,0A3,3 0 1,1 0,-3A3,3 0 0,1 3,0Z\" style=\"opacity: 1; stroke-width: 0px; fill: rgb(99, 110, 250); fill-opacity: 1;\"/><path class=\"point\" transform=\"translate(270,328.79)\" d=\"M3,0A3,3 0 1,1 0,-3A3,3 0 0,1 3,0Z\" style=\"opacity: 1; stroke-width: 0px; fill: rgb(99, 110, 250); fill-opacity: 1;\"/><path class=\"point\" transform=\"translate(270,328.79)\" d=\"M3,0A3,3 0 1,1 0,-3A3,3 0 0,1 3,0Z\" style=\"opacity: 1; stroke-width: 0px; fill: rgb(99, 110, 250); fill-opacity: 1;\"/><path class=\"point\" transform=\"translate(270,328.79)\" d=\"M3,0A3,3 0 1,1 0,-3A3,3 0 0,1 3,0Z\" style=\"opacity: 1; stroke-width: 0px; fill: rgb(99, 110, 250); fill-opacity: 1;\"/><path class=\"point\" transform=\"translate(270,328.79)\" d=\"M3,0A3,3 0 1,1 0,-3A3,3 0 0,1 3,0Z\" style=\"opacity: 1; stroke-width: 0px; fill: rgb(99, 110, 250); fill-opacity: 1;\"/><path class=\"point\" transform=\"translate(270,328.79)\" d=\"M3,0A3,3 0 1,1 0,-3A3,3 0 0,1 3,0Z\" style=\"opacity: 1; stroke-width: 0px; fill: rgb(99, 110, 250); fill-opacity: 1;\"/><path class=\"point\" transform=\"translate(270,328.65)\" d=\"M3,0A3,3 0 1,1 0,-3A3,3 0 0,1 3,0Z\" style=\"opacity: 1; stroke-width: 0px; fill: rgb(99, 110, 250); fill-opacity: 1;\"/><path class=\"point\" transform=\"translate(270,328.65)\" d=\"M3,0A3,3 0 1,1 0,-3A3,3 0 0,1 3,0Z\" style=\"opacity: 1; stroke-width: 0px; fill: rgb(99, 110, 250); fill-opacity: 1;\"/><path class=\"point\" transform=\"translate(270,328.65)\" d=\"M3,0A3,3 0 1,1 0,-3A3,3 0 0,1 3,0Z\" style=\"opacity: 1; stroke-width: 0px; fill: rgb(99, 110, 250); fill-opacity: 1;\"/><path class=\"point\" transform=\"translate(270,328.51)\" d=\"M3,0A3,3 0 1,1 0,-3A3,3 0 0,1 3,0Z\" style=\"opacity: 1; stroke-width: 0px; fill: rgb(99, 110, 250); fill-opacity: 1;\"/><path class=\"point\" transform=\"translate(270,328.51)\" d=\"M3,0A3,3 0 1,1 0,-3A3,3 0 0,1 3,0Z\" style=\"opacity: 1; stroke-width: 0px; fill: rgb(99, 110, 250); fill-opacity: 1;\"/><path class=\"point\" transform=\"translate(270,328.51)\" d=\"M3,0A3,3 0 1,1 0,-3A3,3 0 0,1 3,0Z\" style=\"opacity: 1; stroke-width: 0px; fill: rgb(99, 110, 250); fill-opacity: 1;\"/><path class=\"point\" transform=\"translate(270,328.37)\" d=\"M3,0A3,3 0 1,1 0,-3A3,3 0 0,1 3,0Z\" style=\"opacity: 1; stroke-width: 0px; fill: rgb(99, 110, 250); fill-opacity: 1;\"/><path class=\"point\" transform=\"translate(270,328.37)\" d=\"M3,0A3,3 0 1,1 0,-3A3,3 0 0,1 3,0Z\" style=\"opacity: 1; stroke-width: 0px; fill: rgb(99, 110, 250); fill-opacity: 1;\"/><path class=\"point\" transform=\"translate(270,328.37)\" d=\"M3,0A3,3 0 1,1 0,-3A3,3 0 0,1 3,0Z\" style=\"opacity: 1; stroke-width: 0px; fill: rgb(99, 110, 250); fill-opacity: 1;\"/><path class=\"point\" transform=\"translate(270,328.37)\" d=\"M3,0A3,3 0 1,1 0,-3A3,3 0 0,1 3,0Z\" style=\"opacity: 1; stroke-width: 0px; fill: rgb(99, 110, 250); fill-opacity: 1;\"/><path class=\"point\" transform=\"translate(270,328.37)\" d=\"M3,0A3,3 0 1,1 0,-3A3,3 0 0,1 3,0Z\" style=\"opacity: 1; stroke-width: 0px; fill: rgb(99, 110, 250); fill-opacity: 1;\"/><path class=\"point\" transform=\"translate(270,328.37)\" d=\"M3,0A3,3 0 1,1 0,-3A3,3 0 0,1 3,0Z\" style=\"opacity: 1; stroke-width: 0px; fill: rgb(99, 110, 250); fill-opacity: 1;\"/><path class=\"point\" transform=\"translate(270,328.37)\" d=\"M3,0A3,3 0 1,1 0,-3A3,3 0 0,1 3,0Z\" style=\"opacity: 1; stroke-width: 0px; fill: rgb(99, 110, 250); fill-opacity: 1;\"/><path class=\"point\" transform=\"translate(270,328.37)\" d=\"M3,0A3,3 0 1,1 0,-3A3,3 0 0,1 3,0Z\" style=\"opacity: 1; stroke-width: 0px; fill: rgb(99, 110, 250); fill-opacity: 1;\"/><path class=\"point\" transform=\"translate(270,328.37)\" d=\"M3,0A3,3 0 1,1 0,-3A3,3 0 0,1 3,0Z\" style=\"opacity: 1; stroke-width: 0px; fill: rgb(99, 110, 250); fill-opacity: 1;\"/><path class=\"point\" transform=\"translate(270,328.37)\" d=\"M3,0A3,3 0 1,1 0,-3A3,3 0 0,1 3,0Z\" style=\"opacity: 1; stroke-width: 0px; fill: rgb(99, 110, 250); fill-opacity: 1;\"/><path class=\"point\" transform=\"translate(270,328.37)\" d=\"M3,0A3,3 0 1,1 0,-3A3,3 0 0,1 3,0Z\" style=\"opacity: 1; stroke-width: 0px; fill: rgb(99, 110, 250); fill-opacity: 1;\"/><path class=\"point\" transform=\"translate(270,328.23)\" d=\"M3,0A3,3 0 1,1 0,-3A3,3 0 0,1 3,0Z\" style=\"opacity: 1; stroke-width: 0px; fill: rgb(99, 110, 250); fill-opacity: 1;\"/><path class=\"point\" transform=\"translate(270,328.23)\" d=\"M3,0A3,3 0 1,1 0,-3A3,3 0 0,1 3,0Z\" style=\"opacity: 1; stroke-width: 0px; fill: rgb(99, 110, 250); fill-opacity: 1;\"/><path class=\"point\" transform=\"translate(270,328.23)\" d=\"M3,0A3,3 0 1,1 0,-3A3,3 0 0,1 3,0Z\" style=\"opacity: 1; stroke-width: 0px; fill: rgb(99, 110, 250); fill-opacity: 1;\"/><path class=\"point\" transform=\"translate(270,328.09)\" d=\"M3,0A3,3 0 1,1 0,-3A3,3 0 0,1 3,0Z\" style=\"opacity: 1; stroke-width: 0px; fill: rgb(99, 110, 250); fill-opacity: 1;\"/><path class=\"point\" transform=\"translate(270,328.09)\" d=\"M3,0A3,3 0 1,1 0,-3A3,3 0 0,1 3,0Z\" style=\"opacity: 1; stroke-width: 0px; fill: rgb(99, 110, 250); fill-opacity: 1;\"/><path class=\"point\" transform=\"translate(270,328.09)\" d=\"M3,0A3,3 0 1,1 0,-3A3,3 0 0,1 3,0Z\" style=\"opacity: 1; stroke-width: 0px; fill: rgb(99, 110, 250); fill-opacity: 1;\"/><path class=\"point\" transform=\"translate(270,328.09)\" d=\"M3,0A3,3 0 1,1 0,-3A3,3 0 0,1 3,0Z\" style=\"opacity: 1; stroke-width: 0px; fill: rgb(99, 110, 250); fill-opacity: 1;\"/><path class=\"point\" transform=\"translate(270,327.95)\" d=\"M3,0A3,3 0 1,1 0,-3A3,3 0 0,1 3,0Z\" style=\"opacity: 1; stroke-width: 0px; fill: rgb(99, 110, 250); fill-opacity: 1;\"/><path class=\"point\" transform=\"translate(270,327.95)\" d=\"M3,0A3,3 0 1,1 0,-3A3,3 0 0,1 3,0Z\" style=\"opacity: 1; stroke-width: 0px; fill: rgb(99, 110, 250); fill-opacity: 1;\"/><path class=\"point\" transform=\"translate(270,327.95)\" d=\"M3,0A3,3 0 1,1 0,-3A3,3 0 0,1 3,0Z\" style=\"opacity: 1; stroke-width: 0px; fill: rgb(99, 110, 250); fill-opacity: 1;\"/><path class=\"point\" transform=\"translate(270,327.95)\" d=\"M3,0A3,3 0 1,1 0,-3A3,3 0 0,1 3,0Z\" style=\"opacity: 1; stroke-width: 0px; fill: rgb(99, 110, 250); fill-opacity: 1;\"/><path class=\"point\" transform=\"translate(270,327.95)\" d=\"M3,0A3,3 0 1,1 0,-3A3,3 0 0,1 3,0Z\" style=\"opacity: 1; stroke-width: 0px; fill: rgb(99, 110, 250); fill-opacity: 1;\"/><path class=\"point\" transform=\"translate(270,327.95)\" d=\"M3,0A3,3 0 1,1 0,-3A3,3 0 0,1 3,0Z\" style=\"opacity: 1; stroke-width: 0px; fill: rgb(99, 110, 250); fill-opacity: 1;\"/><path class=\"point\" transform=\"translate(270,327.81)\" d=\"M3,0A3,3 0 1,1 0,-3A3,3 0 0,1 3,0Z\" style=\"opacity: 1; stroke-width: 0px; fill: rgb(99, 110, 250); fill-opacity: 1;\"/><path class=\"point\" transform=\"translate(270,327.81)\" d=\"M3,0A3,3 0 1,1 0,-3A3,3 0 0,1 3,0Z\" style=\"opacity: 1; stroke-width: 0px; fill: rgb(99, 110, 250); fill-opacity: 1;\"/><path class=\"point\" transform=\"translate(270,327.81)\" d=\"M3,0A3,3 0 1,1 0,-3A3,3 0 0,1 3,0Z\" style=\"opacity: 1; stroke-width: 0px; fill: rgb(99, 110, 250); fill-opacity: 1;\"/><path class=\"point\" transform=\"translate(270,327.81)\" d=\"M3,0A3,3 0 1,1 0,-3A3,3 0 0,1 3,0Z\" style=\"opacity: 1; stroke-width: 0px; fill: rgb(99, 110, 250); fill-opacity: 1;\"/><path class=\"point\" transform=\"translate(270,327.81)\" d=\"M3,0A3,3 0 1,1 0,-3A3,3 0 0,1 3,0Z\" style=\"opacity: 1; stroke-width: 0px; fill: rgb(99, 110, 250); fill-opacity: 1;\"/><path class=\"point\" transform=\"translate(270,327.81)\" d=\"M3,0A3,3 0 1,1 0,-3A3,3 0 0,1 3,0Z\" style=\"opacity: 1; stroke-width: 0px; fill: rgb(99, 110, 250); fill-opacity: 1;\"/><path class=\"point\" transform=\"translate(270,327.81)\" d=\"M3,0A3,3 0 1,1 0,-3A3,3 0 0,1 3,0Z\" style=\"opacity: 1; stroke-width: 0px; fill: rgb(99, 110, 250); fill-opacity: 1;\"/><path class=\"point\" transform=\"translate(270,327.81)\" d=\"M3,0A3,3 0 1,1 0,-3A3,3 0 0,1 3,0Z\" style=\"opacity: 1; stroke-width: 0px; fill: rgb(99, 110, 250); fill-opacity: 1;\"/><path class=\"point\" transform=\"translate(270,327.81)\" d=\"M3,0A3,3 0 1,1 0,-3A3,3 0 0,1 3,0Z\" style=\"opacity: 1; stroke-width: 0px; fill: rgb(99, 110, 250); fill-opacity: 1;\"/><path class=\"point\" transform=\"translate(270,327.81)\" d=\"M3,0A3,3 0 1,1 0,-3A3,3 0 0,1 3,0Z\" style=\"opacity: 1; stroke-width: 0px; fill: rgb(99, 110, 250); fill-opacity: 1;\"/><path class=\"point\" transform=\"translate(270,327.67)\" d=\"M3,0A3,3 0 1,1 0,-3A3,3 0 0,1 3,0Z\" style=\"opacity: 1; stroke-width: 0px; fill: rgb(99, 110, 250); fill-opacity: 1;\"/><path class=\"point\" transform=\"translate(270,327.67)\" d=\"M3,0A3,3 0 1,1 0,-3A3,3 0 0,1 3,0Z\" style=\"opacity: 1; stroke-width: 0px; fill: rgb(99, 110, 250); fill-opacity: 1;\"/><path class=\"point\" transform=\"translate(270,327.67)\" d=\"M3,0A3,3 0 1,1 0,-3A3,3 0 0,1 3,0Z\" style=\"opacity: 1; stroke-width: 0px; fill: rgb(99, 110, 250); fill-opacity: 1;\"/><path class=\"point\" transform=\"translate(270,327.67)\" d=\"M3,0A3,3 0 1,1 0,-3A3,3 0 0,1 3,0Z\" style=\"opacity: 1; stroke-width: 0px; fill: rgb(99, 110, 250); fill-opacity: 1;\"/><path class=\"point\" transform=\"translate(270,327.67)\" d=\"M3,0A3,3 0 1,1 0,-3A3,3 0 0,1 3,0Z\" style=\"opacity: 1; stroke-width: 0px; fill: rgb(99, 110, 250); fill-opacity: 1;\"/><path class=\"point\" transform=\"translate(270,327.67)\" d=\"M3,0A3,3 0 1,1 0,-3A3,3 0 0,1 3,0Z\" style=\"opacity: 1; stroke-width: 0px; fill: rgb(99, 110, 250); fill-opacity: 1;\"/><path class=\"point\" transform=\"translate(270,327.67)\" d=\"M3,0A3,3 0 1,1 0,-3A3,3 0 0,1 3,0Z\" style=\"opacity: 1; stroke-width: 0px; fill: rgb(99, 110, 250); fill-opacity: 1;\"/><path class=\"point\" transform=\"translate(270,327.53)\" d=\"M3,0A3,3 0 1,1 0,-3A3,3 0 0,1 3,0Z\" style=\"opacity: 1; stroke-width: 0px; fill: rgb(99, 110, 250); fill-opacity: 1;\"/><path class=\"point\" transform=\"translate(270,327.53)\" d=\"M3,0A3,3 0 1,1 0,-3A3,3 0 0,1 3,0Z\" style=\"opacity: 1; stroke-width: 0px; fill: rgb(99, 110, 250); fill-opacity: 1;\"/><path class=\"point\" transform=\"translate(270,327.53)\" d=\"M3,0A3,3 0 1,1 0,-3A3,3 0 0,1 3,0Z\" style=\"opacity: 1; stroke-width: 0px; fill: rgb(99, 110, 250); fill-opacity: 1;\"/><path class=\"point\" transform=\"translate(270,327.39)\" d=\"M3,0A3,3 0 1,1 0,-3A3,3 0 0,1 3,0Z\" style=\"opacity: 1; stroke-width: 0px; fill: rgb(99, 110, 250); fill-opacity: 1;\"/><path class=\"point\" transform=\"translate(270,327.39)\" d=\"M3,0A3,3 0 1,1 0,-3A3,3 0 0,1 3,0Z\" style=\"opacity: 1; stroke-width: 0px; fill: rgb(99, 110, 250); fill-opacity: 1;\"/><path class=\"point\" transform=\"translate(270,327.39)\" d=\"M3,0A3,3 0 1,1 0,-3A3,3 0 0,1 3,0Z\" style=\"opacity: 1; stroke-width: 0px; fill: rgb(99, 110, 250); fill-opacity: 1;\"/><path class=\"point\" transform=\"translate(270,327.39)\" d=\"M3,0A3,3 0 1,1 0,-3A3,3 0 0,1 3,0Z\" style=\"opacity: 1; stroke-width: 0px; fill: rgb(99, 110, 250); fill-opacity: 1;\"/><path class=\"point\" transform=\"translate(270,327.39)\" d=\"M3,0A3,3 0 1,1 0,-3A3,3 0 0,1 3,0Z\" style=\"opacity: 1; stroke-width: 0px; fill: rgb(99, 110, 250); fill-opacity: 1;\"/><path class=\"point\" transform=\"translate(270,327.39)\" d=\"M3,0A3,3 0 1,1 0,-3A3,3 0 0,1 3,0Z\" style=\"opacity: 1; stroke-width: 0px; fill: rgb(99, 110, 250); fill-opacity: 1;\"/><path class=\"point\" transform=\"translate(270,327.25)\" d=\"M3,0A3,3 0 1,1 0,-3A3,3 0 0,1 3,0Z\" style=\"opacity: 1; stroke-width: 0px; fill: rgb(99, 110, 250); fill-opacity: 1;\"/><path class=\"point\" transform=\"translate(270,327.25)\" d=\"M3,0A3,3 0 1,1 0,-3A3,3 0 0,1 3,0Z\" style=\"opacity: 1; stroke-width: 0px; fill: rgb(99, 110, 250); fill-opacity: 1;\"/><path class=\"point\" transform=\"translate(270,327.25)\" d=\"M3,0A3,3 0 1,1 0,-3A3,3 0 0,1 3,0Z\" style=\"opacity: 1; stroke-width: 0px; fill: rgb(99, 110, 250); fill-opacity: 1;\"/><path class=\"point\" transform=\"translate(270,327.25)\" d=\"M3,0A3,3 0 1,1 0,-3A3,3 0 0,1 3,0Z\" style=\"opacity: 1; stroke-width: 0px; fill: rgb(99, 110, 250); fill-opacity: 1;\"/><path class=\"point\" transform=\"translate(270,327.25)\" d=\"M3,0A3,3 0 1,1 0,-3A3,3 0 0,1 3,0Z\" style=\"opacity: 1; stroke-width: 0px; fill: rgb(99, 110, 250); fill-opacity: 1;\"/><path class=\"point\" transform=\"translate(270,327.11)\" d=\"M3,0A3,3 0 1,1 0,-3A3,3 0 0,1 3,0Z\" style=\"opacity: 1; stroke-width: 0px; fill: rgb(99, 110, 250); fill-opacity: 1;\"/><path class=\"point\" transform=\"translate(270,327.11)\" d=\"M3,0A3,3 0 1,1 0,-3A3,3 0 0,1 3,0Z\" style=\"opacity: 1; stroke-width: 0px; fill: rgb(99, 110, 250); fill-opacity: 1;\"/><path class=\"point\" transform=\"translate(270,327.11)\" d=\"M3,0A3,3 0 1,1 0,-3A3,3 0 0,1 3,0Z\" style=\"opacity: 1; stroke-width: 0px; fill: rgb(99, 110, 250); fill-opacity: 1;\"/><path class=\"point\" transform=\"translate(270,326.97)\" d=\"M3,0A3,3 0 1,1 0,-3A3,3 0 0,1 3,0Z\" style=\"opacity: 1; stroke-width: 0px; fill: rgb(99, 110, 250); fill-opacity: 1;\"/><path class=\"point\" transform=\"translate(270,326.97)\" d=\"M3,0A3,3 0 1,1 0,-3A3,3 0 0,1 3,0Z\" style=\"opacity: 1; stroke-width: 0px; fill: rgb(99, 110, 250); fill-opacity: 1;\"/><path class=\"point\" transform=\"translate(270,326.97)\" d=\"M3,0A3,3 0 1,1 0,-3A3,3 0 0,1 3,0Z\" style=\"opacity: 1; stroke-width: 0px; fill: rgb(99, 110, 250); fill-opacity: 1;\"/><path class=\"point\" transform=\"translate(270,326.97)\" d=\"M3,0A3,3 0 1,1 0,-3A3,3 0 0,1 3,0Z\" style=\"opacity: 1; stroke-width: 0px; fill: rgb(99, 110, 250); fill-opacity: 1;\"/><path class=\"point\" transform=\"translate(270,326.97)\" d=\"M3,0A3,3 0 1,1 0,-3A3,3 0 0,1 3,0Z\" style=\"opacity: 1; stroke-width: 0px; fill: rgb(99, 110, 250); fill-opacity: 1;\"/><path class=\"point\" transform=\"translate(270,326.83)\" d=\"M3,0A3,3 0 1,1 0,-3A3,3 0 0,1 3,0Z\" style=\"opacity: 1; stroke-width: 0px; fill: rgb(99, 110, 250); fill-opacity: 1;\"/><path class=\"point\" transform=\"translate(270,326.83)\" d=\"M3,0A3,3 0 1,1 0,-3A3,3 0 0,1 3,0Z\" style=\"opacity: 1; stroke-width: 0px; fill: rgb(99, 110, 250); fill-opacity: 1;\"/><path class=\"point\" transform=\"translate(270,326.83)\" d=\"M3,0A3,3 0 1,1 0,-3A3,3 0 0,1 3,0Z\" style=\"opacity: 1; stroke-width: 0px; fill: rgb(99, 110, 250); fill-opacity: 1;\"/><path class=\"point\" transform=\"translate(270,326.83)\" d=\"M3,0A3,3 0 1,1 0,-3A3,3 0 0,1 3,0Z\" style=\"opacity: 1; stroke-width: 0px; fill: rgb(99, 110, 250); fill-opacity: 1;\"/><path class=\"point\" transform=\"translate(270,326.83)\" d=\"M3,0A3,3 0 1,1 0,-3A3,3 0 0,1 3,0Z\" style=\"opacity: 1; stroke-width: 0px; fill: rgb(99, 110, 250); fill-opacity: 1;\"/><path class=\"point\" transform=\"translate(270,326.69)\" d=\"M3,0A3,3 0 1,1 0,-3A3,3 0 0,1 3,0Z\" style=\"opacity: 1; stroke-width: 0px; fill: rgb(99, 110, 250); fill-opacity: 1;\"/><path class=\"point\" transform=\"translate(270,326.69)\" d=\"M3,0A3,3 0 1,1 0,-3A3,3 0 0,1 3,0Z\" style=\"opacity: 1; stroke-width: 0px; fill: rgb(99, 110, 250); fill-opacity: 1;\"/><path class=\"point\" transform=\"translate(270,326.69)\" d=\"M3,0A3,3 0 1,1 0,-3A3,3 0 0,1 3,0Z\" style=\"opacity: 1; stroke-width: 0px; fill: rgb(99, 110, 250); fill-opacity: 1;\"/><path class=\"point\" transform=\"translate(270,326.69)\" d=\"M3,0A3,3 0 1,1 0,-3A3,3 0 0,1 3,0Z\" style=\"opacity: 1; stroke-width: 0px; fill: rgb(99, 110, 250); fill-opacity: 1;\"/><path class=\"point\" transform=\"translate(270,326.69)\" d=\"M3,0A3,3 0 1,1 0,-3A3,3 0 0,1 3,0Z\" style=\"opacity: 1; stroke-width: 0px; fill: rgb(99, 110, 250); fill-opacity: 1;\"/><path class=\"point\" transform=\"translate(270,326.69)\" d=\"M3,0A3,3 0 1,1 0,-3A3,3 0 0,1 3,0Z\" style=\"opacity: 1; stroke-width: 0px; fill: rgb(99, 110, 250); fill-opacity: 1;\"/><path class=\"point\" transform=\"translate(270,326.69)\" d=\"M3,0A3,3 0 1,1 0,-3A3,3 0 0,1 3,0Z\" style=\"opacity: 1; stroke-width: 0px; fill: rgb(99, 110, 250); fill-opacity: 1;\"/><path class=\"point\" transform=\"translate(270,326.69)\" d=\"M3,0A3,3 0 1,1 0,-3A3,3 0 0,1 3,0Z\" style=\"opacity: 1; stroke-width: 0px; fill: rgb(99, 110, 250); fill-opacity: 1;\"/><path class=\"point\" transform=\"translate(270,326.54)\" d=\"M3,0A3,3 0 1,1 0,-3A3,3 0 0,1 3,0Z\" style=\"opacity: 1; stroke-width: 0px; fill: rgb(99, 110, 250); fill-opacity: 1;\"/><path class=\"point\" transform=\"translate(270,326.54)\" d=\"M3,0A3,3 0 1,1 0,-3A3,3 0 0,1 3,0Z\" style=\"opacity: 1; stroke-width: 0px; fill: rgb(99, 110, 250); fill-opacity: 1;\"/><path class=\"point\" transform=\"translate(270,326.54)\" d=\"M3,0A3,3 0 1,1 0,-3A3,3 0 0,1 3,0Z\" style=\"opacity: 1; stroke-width: 0px; fill: rgb(99, 110, 250); fill-opacity: 1;\"/><path class=\"point\" transform=\"translate(270,326.54)\" d=\"M3,0A3,3 0 1,1 0,-3A3,3 0 0,1 3,0Z\" style=\"opacity: 1; stroke-width: 0px; fill: rgb(99, 110, 250); fill-opacity: 1;\"/><path class=\"point\" transform=\"translate(270,326.54)\" d=\"M3,0A3,3 0 1,1 0,-3A3,3 0 0,1 3,0Z\" style=\"opacity: 1; stroke-width: 0px; fill: rgb(99, 110, 250); fill-opacity: 1;\"/><path class=\"point\" transform=\"translate(270,326.4)\" d=\"M3,0A3,3 0 1,1 0,-3A3,3 0 0,1 3,0Z\" style=\"opacity: 1; stroke-width: 0px; fill: rgb(99, 110, 250); fill-opacity: 1;\"/><path class=\"point\" transform=\"translate(270,326.4)\" d=\"M3,0A3,3 0 1,1 0,-3A3,3 0 0,1 3,0Z\" style=\"opacity: 1; stroke-width: 0px; fill: rgb(99, 110, 250); fill-opacity: 1;\"/><path class=\"point\" transform=\"translate(270,326.4)\" d=\"M3,0A3,3 0 1,1 0,-3A3,3 0 0,1 3,0Z\" style=\"opacity: 1; stroke-width: 0px; fill: rgb(99, 110, 250); fill-opacity: 1;\"/><path class=\"point\" transform=\"translate(270,326.4)\" d=\"M3,0A3,3 0 1,1 0,-3A3,3 0 0,1 3,0Z\" style=\"opacity: 1; stroke-width: 0px; fill: rgb(99, 110, 250); fill-opacity: 1;\"/><path class=\"point\" transform=\"translate(270,326.26)\" d=\"M3,0A3,3 0 1,1 0,-3A3,3 0 0,1 3,0Z\" style=\"opacity: 1; stroke-width: 0px; fill: rgb(99, 110, 250); fill-opacity: 1;\"/><path class=\"point\" transform=\"translate(270,326.26)\" d=\"M3,0A3,3 0 1,1 0,-3A3,3 0 0,1 3,0Z\" style=\"opacity: 1; stroke-width: 0px; fill: rgb(99, 110, 250); fill-opacity: 1;\"/><path class=\"point\" transform=\"translate(270,326.26)\" d=\"M3,0A3,3 0 1,1 0,-3A3,3 0 0,1 3,0Z\" style=\"opacity: 1; stroke-width: 0px; fill: rgb(99, 110, 250); fill-opacity: 1;\"/><path class=\"point\" transform=\"translate(270,326.12)\" d=\"M3,0A3,3 0 1,1 0,-3A3,3 0 0,1 3,0Z\" style=\"opacity: 1; stroke-width: 0px; fill: rgb(99, 110, 250); fill-opacity: 1;\"/><path class=\"point\" transform=\"translate(270,326.12)\" d=\"M3,0A3,3 0 1,1 0,-3A3,3 0 0,1 3,0Z\" style=\"opacity: 1; stroke-width: 0px; fill: rgb(99, 110, 250); fill-opacity: 1;\"/><path class=\"point\" transform=\"translate(270,325.98)\" d=\"M3,0A3,3 0 1,1 0,-3A3,3 0 0,1 3,0Z\" style=\"opacity: 1; stroke-width: 0px; fill: rgb(99, 110, 250); fill-opacity: 1;\"/><path class=\"point\" transform=\"translate(270,325.98)\" d=\"M3,0A3,3 0 1,1 0,-3A3,3 0 0,1 3,0Z\" style=\"opacity: 1; stroke-width: 0px; fill: rgb(99, 110, 250); fill-opacity: 1;\"/><path class=\"point\" transform=\"translate(270,325.84)\" d=\"M3,0A3,3 0 1,1 0,-3A3,3 0 0,1 3,0Z\" style=\"opacity: 1; stroke-width: 0px; fill: rgb(99, 110, 250); fill-opacity: 1;\"/><path class=\"point\" transform=\"translate(270,325.84)\" d=\"M3,0A3,3 0 1,1 0,-3A3,3 0 0,1 3,0Z\" style=\"opacity: 1; stroke-width: 0px; fill: rgb(99, 110, 250); fill-opacity: 1;\"/><path class=\"point\" transform=\"translate(270,325.84)\" d=\"M3,0A3,3 0 1,1 0,-3A3,3 0 0,1 3,0Z\" style=\"opacity: 1; stroke-width: 0px; fill: rgb(99, 110, 250); fill-opacity: 1;\"/><path class=\"point\" transform=\"translate(270,325.84)\" d=\"M3,0A3,3 0 1,1 0,-3A3,3 0 0,1 3,0Z\" style=\"opacity: 1; stroke-width: 0px; fill: rgb(99, 110, 250); fill-opacity: 1;\"/><path class=\"point\" transform=\"translate(270,325.84)\" d=\"M3,0A3,3 0 1,1 0,-3A3,3 0 0,1 3,0Z\" style=\"opacity: 1; stroke-width: 0px; fill: rgb(99, 110, 250); fill-opacity: 1;\"/><path class=\"point\" transform=\"translate(270,325.84)\" d=\"M3,0A3,3 0 1,1 0,-3A3,3 0 0,1 3,0Z\" style=\"opacity: 1; stroke-width: 0px; fill: rgb(99, 110, 250); fill-opacity: 1;\"/><path class=\"point\" transform=\"translate(270,325.7)\" d=\"M3,0A3,3 0 1,1 0,-3A3,3 0 0,1 3,0Z\" style=\"opacity: 1; stroke-width: 0px; fill: rgb(99, 110, 250); fill-opacity: 1;\"/><path class=\"point\" transform=\"translate(270,325.7)\" d=\"M3,0A3,3 0 1,1 0,-3A3,3 0 0,1 3,0Z\" style=\"opacity: 1; stroke-width: 0px; fill: rgb(99, 110, 250); fill-opacity: 1;\"/><path class=\"point\" transform=\"translate(270,325.7)\" d=\"M3,0A3,3 0 1,1 0,-3A3,3 0 0,1 3,0Z\" style=\"opacity: 1; stroke-width: 0px; fill: rgb(99, 110, 250); fill-opacity: 1;\"/><path class=\"point\" transform=\"translate(270,325.7)\" d=\"M3,0A3,3 0 1,1 0,-3A3,3 0 0,1 3,0Z\" style=\"opacity: 1; stroke-width: 0px; fill: rgb(99, 110, 250); fill-opacity: 1;\"/><path class=\"point\" transform=\"translate(270,325.7)\" d=\"M3,0A3,3 0 1,1 0,-3A3,3 0 0,1 3,0Z\" style=\"opacity: 1; stroke-width: 0px; fill: rgb(99, 110, 250); fill-opacity: 1;\"/><path class=\"point\" transform=\"translate(270,325.56)\" d=\"M3,0A3,3 0 1,1 0,-3A3,3 0 0,1 3,0Z\" style=\"opacity: 1; stroke-width: 0px; fill: rgb(99, 110, 250); fill-opacity: 1;\"/><path class=\"point\" transform=\"translate(270,325.56)\" d=\"M3,0A3,3 0 1,1 0,-3A3,3 0 0,1 3,0Z\" style=\"opacity: 1; stroke-width: 0px; fill: rgb(99, 110, 250); fill-opacity: 1;\"/><path class=\"point\" transform=\"translate(270,325.56)\" d=\"M3,0A3,3 0 1,1 0,-3A3,3 0 0,1 3,0Z\" style=\"opacity: 1; stroke-width: 0px; fill: rgb(99, 110, 250); fill-opacity: 1;\"/><path class=\"point\" transform=\"translate(270,325.56)\" d=\"M3,0A3,3 0 1,1 0,-3A3,3 0 0,1 3,0Z\" style=\"opacity: 1; stroke-width: 0px; fill: rgb(99, 110, 250); fill-opacity: 1;\"/><path class=\"point\" transform=\"translate(270,325.42)\" d=\"M3,0A3,3 0 1,1 0,-3A3,3 0 0,1 3,0Z\" style=\"opacity: 1; stroke-width: 0px; fill: rgb(99, 110, 250); fill-opacity: 1;\"/><path class=\"point\" transform=\"translate(270,325.42)\" d=\"M3,0A3,3 0 1,1 0,-3A3,3 0 0,1 3,0Z\" style=\"opacity: 1; stroke-width: 0px; fill: rgb(99, 110, 250); fill-opacity: 1;\"/><path class=\"point\" transform=\"translate(270,325.42)\" d=\"M3,0A3,3 0 1,1 0,-3A3,3 0 0,1 3,0Z\" style=\"opacity: 1; stroke-width: 0px; fill: rgb(99, 110, 250); fill-opacity: 1;\"/><path class=\"point\" transform=\"translate(270,325.42)\" d=\"M3,0A3,3 0 1,1 0,-3A3,3 0 0,1 3,0Z\" style=\"opacity: 1; stroke-width: 0px; fill: rgb(99, 110, 250); fill-opacity: 1;\"/><path class=\"point\" transform=\"translate(270,325.28)\" d=\"M3,0A3,3 0 1,1 0,-3A3,3 0 0,1 3,0Z\" style=\"opacity: 1; stroke-width: 0px; fill: rgb(99, 110, 250); fill-opacity: 1;\"/><path class=\"point\" transform=\"translate(270,325.28)\" d=\"M3,0A3,3 0 1,1 0,-3A3,3 0 0,1 3,0Z\" style=\"opacity: 1; stroke-width: 0px; fill: rgb(99, 110, 250); fill-opacity: 1;\"/><path class=\"point\" transform=\"translate(270,325.28)\" d=\"M3,0A3,3 0 1,1 0,-3A3,3 0 0,1 3,0Z\" style=\"opacity: 1; stroke-width: 0px; fill: rgb(99, 110, 250); fill-opacity: 1;\"/><path class=\"point\" transform=\"translate(270,325.28)\" d=\"M3,0A3,3 0 1,1 0,-3A3,3 0 0,1 3,0Z\" style=\"opacity: 1; stroke-width: 0px; fill: rgb(99, 110, 250); fill-opacity: 1;\"/><path class=\"point\" transform=\"translate(270,325.14)\" d=\"M3,0A3,3 0 1,1 0,-3A3,3 0 0,1 3,0Z\" style=\"opacity: 1; stroke-width: 0px; fill: rgb(99, 110, 250); fill-opacity: 1;\"/><path class=\"point\" transform=\"translate(270,325.14)\" d=\"M3,0A3,3 0 1,1 0,-3A3,3 0 0,1 3,0Z\" style=\"opacity: 1; stroke-width: 0px; fill: rgb(99, 110, 250); fill-opacity: 1;\"/><path class=\"point\" transform=\"translate(270,325.14)\" d=\"M3,0A3,3 0 1,1 0,-3A3,3 0 0,1 3,0Z\" style=\"opacity: 1; stroke-width: 0px; fill: rgb(99, 110, 250); fill-opacity: 1;\"/><path class=\"point\" transform=\"translate(270,325.14)\" d=\"M3,0A3,3 0 1,1 0,-3A3,3 0 0,1 3,0Z\" style=\"opacity: 1; stroke-width: 0px; fill: rgb(99, 110, 250); fill-opacity: 1;\"/><path class=\"point\" transform=\"translate(270,325.14)\" d=\"M3,0A3,3 0 1,1 0,-3A3,3 0 0,1 3,0Z\" style=\"opacity: 1; stroke-width: 0px; fill: rgb(99, 110, 250); fill-opacity: 1;\"/><path class=\"point\" transform=\"translate(270,325)\" d=\"M3,0A3,3 0 1,1 0,-3A3,3 0 0,1 3,0Z\" style=\"opacity: 1; stroke-width: 0px; fill: rgb(99, 110, 250); fill-opacity: 1;\"/><path class=\"point\" transform=\"translate(270,325)\" d=\"M3,0A3,3 0 1,1 0,-3A3,3 0 0,1 3,0Z\" style=\"opacity: 1; stroke-width: 0px; fill: rgb(99, 110, 250); fill-opacity: 1;\"/><path class=\"point\" transform=\"translate(270,325)\" d=\"M3,0A3,3 0 1,1 0,-3A3,3 0 0,1 3,0Z\" style=\"opacity: 1; stroke-width: 0px; fill: rgb(99, 110, 250); fill-opacity: 1;\"/><path class=\"point\" transform=\"translate(270,324.86)\" d=\"M3,0A3,3 0 1,1 0,-3A3,3 0 0,1 3,0Z\" style=\"opacity: 1; stroke-width: 0px; fill: rgb(99, 110, 250); fill-opacity: 1;\"/><path class=\"point\" transform=\"translate(270,324.86)\" d=\"M3,0A3,3 0 1,1 0,-3A3,3 0 0,1 3,0Z\" style=\"opacity: 1; stroke-width: 0px; fill: rgb(99, 110, 250); fill-opacity: 1;\"/><path class=\"point\" transform=\"translate(270,324.72)\" d=\"M3,0A3,3 0 1,1 0,-3A3,3 0 0,1 3,0Z\" style=\"opacity: 1; stroke-width: 0px; fill: rgb(99, 110, 250); fill-opacity: 1;\"/><path class=\"point\" transform=\"translate(270,324.72)\" d=\"M3,0A3,3 0 1,1 0,-3A3,3 0 0,1 3,0Z\" style=\"opacity: 1; stroke-width: 0px; fill: rgb(99, 110, 250); fill-opacity: 1;\"/><path class=\"point\" transform=\"translate(270,324.72)\" d=\"M3,0A3,3 0 1,1 0,-3A3,3 0 0,1 3,0Z\" style=\"opacity: 1; stroke-width: 0px; fill: rgb(99, 110, 250); fill-opacity: 1;\"/><path class=\"point\" transform=\"translate(270,324.58)\" d=\"M3,0A3,3 0 1,1 0,-3A3,3 0 0,1 3,0Z\" style=\"opacity: 1; stroke-width: 0px; fill: rgb(99, 110, 250); fill-opacity: 1;\"/><path class=\"point\" transform=\"translate(270,324.58)\" d=\"M3,0A3,3 0 1,1 0,-3A3,3 0 0,1 3,0Z\" style=\"opacity: 1; stroke-width: 0px; fill: rgb(99, 110, 250); fill-opacity: 1;\"/><path class=\"point\" transform=\"translate(270,324.58)\" d=\"M3,0A3,3 0 1,1 0,-3A3,3 0 0,1 3,0Z\" style=\"opacity: 1; stroke-width: 0px; fill: rgb(99, 110, 250); fill-opacity: 1;\"/><path class=\"point\" transform=\"translate(270,324.58)\" d=\"M3,0A3,3 0 1,1 0,-3A3,3 0 0,1 3,0Z\" style=\"opacity: 1; stroke-width: 0px; fill: rgb(99, 110, 250); fill-opacity: 1;\"/><path class=\"point\" transform=\"translate(270,324.44)\" d=\"M3,0A3,3 0 1,1 0,-3A3,3 0 0,1 3,0Z\" style=\"opacity: 1; stroke-width: 0px; fill: rgb(99, 110, 250); fill-opacity: 1;\"/><path class=\"point\" transform=\"translate(270,324.44)\" d=\"M3,0A3,3 0 1,1 0,-3A3,3 0 0,1 3,0Z\" style=\"opacity: 1; stroke-width: 0px; fill: rgb(99, 110, 250); fill-opacity: 1;\"/><path class=\"point\" transform=\"translate(270,324.44)\" d=\"M3,0A3,3 0 1,1 0,-3A3,3 0 0,1 3,0Z\" style=\"opacity: 1; stroke-width: 0px; fill: rgb(99, 110, 250); fill-opacity: 1;\"/><path class=\"point\" transform=\"translate(270,324.44)\" d=\"M3,0A3,3 0 1,1 0,-3A3,3 0 0,1 3,0Z\" style=\"opacity: 1; stroke-width: 0px; fill: rgb(99, 110, 250); fill-opacity: 1;\"/><path class=\"point\" transform=\"translate(270,324.44)\" d=\"M3,0A3,3 0 1,1 0,-3A3,3 0 0,1 3,0Z\" style=\"opacity: 1; stroke-width: 0px; fill: rgb(99, 110, 250); fill-opacity: 1;\"/><path class=\"point\" transform=\"translate(270,324.3)\" d=\"M3,0A3,3 0 1,1 0,-3A3,3 0 0,1 3,0Z\" style=\"opacity: 1; stroke-width: 0px; fill: rgb(99, 110, 250); fill-opacity: 1;\"/><path class=\"point\" transform=\"translate(270,324.3)\" d=\"M3,0A3,3 0 1,1 0,-3A3,3 0 0,1 3,0Z\" style=\"opacity: 1; stroke-width: 0px; fill: rgb(99, 110, 250); fill-opacity: 1;\"/><path class=\"point\" transform=\"translate(270,324.16)\" d=\"M3,0A3,3 0 1,1 0,-3A3,3 0 0,1 3,0Z\" style=\"opacity: 1; stroke-width: 0px; fill: rgb(99, 110, 250); fill-opacity: 1;\"/><path class=\"point\" transform=\"translate(270,324.16)\" d=\"M3,0A3,3 0 1,1 0,-3A3,3 0 0,1 3,0Z\" style=\"opacity: 1; stroke-width: 0px; fill: rgb(99, 110, 250); fill-opacity: 1;\"/><path class=\"point\" transform=\"translate(270,324.16)\" d=\"M3,0A3,3 0 1,1 0,-3A3,3 0 0,1 3,0Z\" style=\"opacity: 1; stroke-width: 0px; fill: rgb(99, 110, 250); fill-opacity: 1;\"/><path class=\"point\" transform=\"translate(270,324.02)\" d=\"M3,0A3,3 0 1,1 0,-3A3,3 0 0,1 3,0Z\" style=\"opacity: 1; stroke-width: 0px; fill: rgb(99, 110, 250); fill-opacity: 1;\"/><path class=\"point\" transform=\"translate(270,324.02)\" d=\"M3,0A3,3 0 1,1 0,-3A3,3 0 0,1 3,0Z\" style=\"opacity: 1; stroke-width: 0px; fill: rgb(99, 110, 250); fill-opacity: 1;\"/><path class=\"point\" transform=\"translate(270,324.02)\" d=\"M3,0A3,3 0 1,1 0,-3A3,3 0 0,1 3,0Z\" style=\"opacity: 1; stroke-width: 0px; fill: rgb(99, 110, 250); fill-opacity: 1;\"/><path class=\"point\" transform=\"translate(270,323.88)\" d=\"M3,0A3,3 0 1,1 0,-3A3,3 0 0,1 3,0Z\" style=\"opacity: 1; stroke-width: 0px; fill: rgb(99, 110, 250); fill-opacity: 1;\"/><path class=\"point\" transform=\"translate(270,323.88)\" d=\"M3,0A3,3 0 1,1 0,-3A3,3 0 0,1 3,0Z\" style=\"opacity: 1; stroke-width: 0px; fill: rgb(99, 110, 250); fill-opacity: 1;\"/><path class=\"point\" transform=\"translate(270,323.88)\" d=\"M3,0A3,3 0 1,1 0,-3A3,3 0 0,1 3,0Z\" style=\"opacity: 1; stroke-width: 0px; fill: rgb(99, 110, 250); fill-opacity: 1;\"/><path class=\"point\" transform=\"translate(270,323.73)\" d=\"M3,0A3,3 0 1,1 0,-3A3,3 0 0,1 3,0Z\" style=\"opacity: 1; stroke-width: 0px; fill: rgb(99, 110, 250); fill-opacity: 1;\"/><path class=\"point\" transform=\"translate(270,323.73)\" d=\"M3,0A3,3 0 1,1 0,-3A3,3 0 0,1 3,0Z\" style=\"opacity: 1; stroke-width: 0px; fill: rgb(99, 110, 250); fill-opacity: 1;\"/><path class=\"point\" transform=\"translate(270,323.59)\" d=\"M3,0A3,3 0 1,1 0,-3A3,3 0 0,1 3,0Z\" style=\"opacity: 1; stroke-width: 0px; fill: rgb(99, 110, 250); fill-opacity: 1;\"/><path class=\"point\" transform=\"translate(270,323.59)\" d=\"M3,0A3,3 0 1,1 0,-3A3,3 0 0,1 3,0Z\" style=\"opacity: 1; stroke-width: 0px; fill: rgb(99, 110, 250); fill-opacity: 1;\"/><path class=\"point\" transform=\"translate(270,323.59)\" d=\"M3,0A3,3 0 1,1 0,-3A3,3 0 0,1 3,0Z\" style=\"opacity: 1; stroke-width: 0px; fill: rgb(99, 110, 250); fill-opacity: 1;\"/><path class=\"point\" transform=\"translate(270,323.59)\" d=\"M3,0A3,3 0 1,1 0,-3A3,3 0 0,1 3,0Z\" style=\"opacity: 1; stroke-width: 0px; fill: rgb(99, 110, 250); fill-opacity: 1;\"/><path class=\"point\" transform=\"translate(270,323.45)\" d=\"M3,0A3,3 0 1,1 0,-3A3,3 0 0,1 3,0Z\" style=\"opacity: 1; stroke-width: 0px; fill: rgb(99, 110, 250); fill-opacity: 1;\"/><path class=\"point\" transform=\"translate(270,323.45)\" d=\"M3,0A3,3 0 1,1 0,-3A3,3 0 0,1 3,0Z\" style=\"opacity: 1; stroke-width: 0px; fill: rgb(99, 110, 250); fill-opacity: 1;\"/><path class=\"point\" transform=\"translate(270,323.45)\" d=\"M3,0A3,3 0 1,1 0,-3A3,3 0 0,1 3,0Z\" style=\"opacity: 1; stroke-width: 0px; fill: rgb(99, 110, 250); fill-opacity: 1;\"/><path class=\"point\" transform=\"translate(270,323.31)\" d=\"M3,0A3,3 0 1,1 0,-3A3,3 0 0,1 3,0Z\" style=\"opacity: 1; stroke-width: 0px; fill: rgb(99, 110, 250); fill-opacity: 1;\"/><path class=\"point\" transform=\"translate(270,323.31)\" d=\"M3,0A3,3 0 1,1 0,-3A3,3 0 0,1 3,0Z\" style=\"opacity: 1; stroke-width: 0px; fill: rgb(99, 110, 250); fill-opacity: 1;\"/><path class=\"point\" transform=\"translate(270,323.31)\" d=\"M3,0A3,3 0 1,1 0,-3A3,3 0 0,1 3,0Z\" style=\"opacity: 1; stroke-width: 0px; fill: rgb(99, 110, 250); fill-opacity: 1;\"/><path class=\"point\" transform=\"translate(270,323.31)\" d=\"M3,0A3,3 0 1,1 0,-3A3,3 0 0,1 3,0Z\" style=\"opacity: 1; stroke-width: 0px; fill: rgb(99, 110, 250); fill-opacity: 1;\"/><path class=\"point\" transform=\"translate(270,323.31)\" d=\"M3,0A3,3 0 1,1 0,-3A3,3 0 0,1 3,0Z\" style=\"opacity: 1; stroke-width: 0px; fill: rgb(99, 110, 250); fill-opacity: 1;\"/><path class=\"point\" transform=\"translate(270,323.03)\" d=\"M3,0A3,3 0 1,1 0,-3A3,3 0 0,1 3,0Z\" style=\"opacity: 1; stroke-width: 0px; fill: rgb(99, 110, 250); fill-opacity: 1;\"/><path class=\"point\" transform=\"translate(270,323.03)\" d=\"M3,0A3,3 0 1,1 0,-3A3,3 0 0,1 3,0Z\" style=\"opacity: 1; stroke-width: 0px; fill: rgb(99, 110, 250); fill-opacity: 1;\"/><path class=\"point\" transform=\"translate(270,323.03)\" d=\"M3,0A3,3 0 1,1 0,-3A3,3 0 0,1 3,0Z\" style=\"opacity: 1; stroke-width: 0px; fill: rgb(99, 110, 250); fill-opacity: 1;\"/><path class=\"point\" transform=\"translate(270,323.03)\" d=\"M3,0A3,3 0 1,1 0,-3A3,3 0 0,1 3,0Z\" style=\"opacity: 1; stroke-width: 0px; fill: rgb(99, 110, 250); fill-opacity: 1;\"/><path class=\"point\" transform=\"translate(270,322.89)\" d=\"M3,0A3,3 0 1,1 0,-3A3,3 0 0,1 3,0Z\" style=\"opacity: 1; stroke-width: 0px; fill: rgb(99, 110, 250); fill-opacity: 1;\"/><path class=\"point\" transform=\"translate(270,322.89)\" d=\"M3,0A3,3 0 1,1 0,-3A3,3 0 0,1 3,0Z\" style=\"opacity: 1; stroke-width: 0px; fill: rgb(99, 110, 250); fill-opacity: 1;\"/><path class=\"point\" transform=\"translate(270,322.75)\" d=\"M3,0A3,3 0 1,1 0,-3A3,3 0 0,1 3,0Z\" style=\"opacity: 1; stroke-width: 0px; fill: rgb(99, 110, 250); fill-opacity: 1;\"/><path class=\"point\" transform=\"translate(270,322.61)\" d=\"M3,0A3,3 0 1,1 0,-3A3,3 0 0,1 3,0Z\" style=\"opacity: 1; stroke-width: 0px; fill: rgb(99, 110, 250); fill-opacity: 1;\"/><path class=\"point\" transform=\"translate(270,322.47)\" d=\"M3,0A3,3 0 1,1 0,-3A3,3 0 0,1 3,0Z\" style=\"opacity: 1; stroke-width: 0px; fill: rgb(99, 110, 250); fill-opacity: 1;\"/><path class=\"point\" transform=\"translate(270,322.33)\" d=\"M3,0A3,3 0 1,1 0,-3A3,3 0 0,1 3,0Z\" style=\"opacity: 1; stroke-width: 0px; fill: rgb(99, 110, 250); fill-opacity: 1;\"/><path class=\"point\" transform=\"translate(270,322.19)\" d=\"M3,0A3,3 0 1,1 0,-3A3,3 0 0,1 3,0Z\" style=\"opacity: 1; stroke-width: 0px; fill: rgb(99, 110, 250); fill-opacity: 1;\"/><path class=\"point\" transform=\"translate(270,321.91)\" d=\"M3,0A3,3 0 1,1 0,-3A3,3 0 0,1 3,0Z\" style=\"opacity: 1; stroke-width: 0px; fill: rgb(99, 110, 250); fill-opacity: 1;\"/><path class=\"point\" transform=\"translate(270,321.77)\" d=\"M3,0A3,3 0 1,1 0,-3A3,3 0 0,1 3,0Z\" style=\"opacity: 1; stroke-width: 0px; fill: rgb(99, 110, 250); fill-opacity: 1;\"/><path class=\"point\" transform=\"translate(270,321.77)\" d=\"M3,0A3,3 0 1,1 0,-3A3,3 0 0,1 3,0Z\" style=\"opacity: 1; stroke-width: 0px; fill: rgb(99, 110, 250); fill-opacity: 1;\"/><path class=\"point\" transform=\"translate(270,321.49)\" d=\"M3,0A3,3 0 1,1 0,-3A3,3 0 0,1 3,0Z\" style=\"opacity: 1; stroke-width: 0px; fill: rgb(99, 110, 250); fill-opacity: 1;\"/><path class=\"point\" transform=\"translate(270,321.35)\" d=\"M3,0A3,3 0 1,1 0,-3A3,3 0 0,1 3,0Z\" style=\"opacity: 1; stroke-width: 0px; fill: rgb(99, 110, 250); fill-opacity: 1;\"/><path class=\"point\" transform=\"translate(270,321.35)\" d=\"M3,0A3,3 0 1,1 0,-3A3,3 0 0,1 3,0Z\" style=\"opacity: 1; stroke-width: 0px; fill: rgb(99, 110, 250); fill-opacity: 1;\"/><path class=\"point\" transform=\"translate(270,321.21)\" d=\"M3,0A3,3 0 1,1 0,-3A3,3 0 0,1 3,0Z\" style=\"opacity: 1; stroke-width: 0px; fill: rgb(99, 110, 250); fill-opacity: 1;\"/><path class=\"point\" transform=\"translate(270,321.21)\" d=\"M3,0A3,3 0 1,1 0,-3A3,3 0 0,1 3,0Z\" style=\"opacity: 1; stroke-width: 0px; fill: rgb(99, 110, 250); fill-opacity: 1;\"/><path class=\"point\" transform=\"translate(270,321.07)\" d=\"M3,0A3,3 0 1,1 0,-3A3,3 0 0,1 3,0Z\" style=\"opacity: 1; stroke-width: 0px; fill: rgb(99, 110, 250); fill-opacity: 1;\"/><path class=\"point\" transform=\"translate(270,320.78)\" d=\"M3,0A3,3 0 1,1 0,-3A3,3 0 0,1 3,0Z\" style=\"opacity: 1; stroke-width: 0px; fill: rgb(99, 110, 250); fill-opacity: 1;\"/><path class=\"point\" transform=\"translate(270,320.78)\" d=\"M3,0A3,3 0 1,1 0,-3A3,3 0 0,1 3,0Z\" style=\"opacity: 1; stroke-width: 0px; fill: rgb(99, 110, 250); fill-opacity: 1;\"/><path class=\"point\" transform=\"translate(270,320.78)\" d=\"M3,0A3,3 0 1,1 0,-3A3,3 0 0,1 3,0Z\" style=\"opacity: 1; stroke-width: 0px; fill: rgb(99, 110, 250); fill-opacity: 1;\"/><path class=\"point\" transform=\"translate(270,320.64)\" d=\"M3,0A3,3 0 1,1 0,-3A3,3 0 0,1 3,0Z\" style=\"opacity: 1; stroke-width: 0px; fill: rgb(99, 110, 250); fill-opacity: 1;\"/><path class=\"point\" transform=\"translate(270,320.5)\" d=\"M3,0A3,3 0 1,1 0,-3A3,3 0 0,1 3,0Z\" style=\"opacity: 1; stroke-width: 0px; fill: rgb(99, 110, 250); fill-opacity: 1;\"/><path class=\"point\" transform=\"translate(270,320.36)\" d=\"M3,0A3,3 0 1,1 0,-3A3,3 0 0,1 3,0Z\" style=\"opacity: 1; stroke-width: 0px; fill: rgb(99, 110, 250); fill-opacity: 1;\"/><path class=\"point\" transform=\"translate(270,320.22)\" d=\"M3,0A3,3 0 1,1 0,-3A3,3 0 0,1 3,0Z\" style=\"opacity: 1; stroke-width: 0px; fill: rgb(99, 110, 250); fill-opacity: 1;\"/><path class=\"point\" transform=\"translate(270,320.22)\" d=\"M3,0A3,3 0 1,1 0,-3A3,3 0 0,1 3,0Z\" style=\"opacity: 1; stroke-width: 0px; fill: rgb(99, 110, 250); fill-opacity: 1;\"/><path class=\"point\" transform=\"translate(270,320.22)\" d=\"M3,0A3,3 0 1,1 0,-3A3,3 0 0,1 3,0Z\" style=\"opacity: 1; stroke-width: 0px; fill: rgb(99, 110, 250); fill-opacity: 1;\"/><path class=\"point\" transform=\"translate(270,319.94)\" d=\"M3,0A3,3 0 1,1 0,-3A3,3 0 0,1 3,0Z\" style=\"opacity: 1; stroke-width: 0px; fill: rgb(99, 110, 250); fill-opacity: 1;\"/><path class=\"point\" transform=\"translate(270,319.94)\" d=\"M3,0A3,3 0 1,1 0,-3A3,3 0 0,1 3,0Z\" style=\"opacity: 1; stroke-width: 0px; fill: rgb(99, 110, 250); fill-opacity: 1;\"/><path class=\"point\" transform=\"translate(270,319.8)\" d=\"M3,0A3,3 0 1,1 0,-3A3,3 0 0,1 3,0Z\" style=\"opacity: 1; stroke-width: 0px; fill: rgb(99, 110, 250); fill-opacity: 1;\"/><path class=\"point\" transform=\"translate(270,319.8)\" d=\"M3,0A3,3 0 1,1 0,-3A3,3 0 0,1 3,0Z\" style=\"opacity: 1; stroke-width: 0px; fill: rgb(99, 110, 250); fill-opacity: 1;\"/><path class=\"point\" transform=\"translate(270,319.8)\" d=\"M3,0A3,3 0 1,1 0,-3A3,3 0 0,1 3,0Z\" style=\"opacity: 1; stroke-width: 0px; fill: rgb(99, 110, 250); fill-opacity: 1;\"/><path class=\"point\" transform=\"translate(270,319.8)\" d=\"M3,0A3,3 0 1,1 0,-3A3,3 0 0,1 3,0Z\" style=\"opacity: 1; stroke-width: 0px; fill: rgb(99, 110, 250); fill-opacity: 1;\"/><path class=\"point\" transform=\"translate(270,319.66)\" d=\"M3,0A3,3 0 1,1 0,-3A3,3 0 0,1 3,0Z\" style=\"opacity: 1; stroke-width: 0px; fill: rgb(99, 110, 250); fill-opacity: 1;\"/><path class=\"point\" transform=\"translate(270,319.52)\" d=\"M3,0A3,3 0 1,1 0,-3A3,3 0 0,1 3,0Z\" style=\"opacity: 1; stroke-width: 0px; fill: rgb(99, 110, 250); fill-opacity: 1;\"/><path class=\"point\" transform=\"translate(270,319.52)\" d=\"M3,0A3,3 0 1,1 0,-3A3,3 0 0,1 3,0Z\" style=\"opacity: 1; stroke-width: 0px; fill: rgb(99, 110, 250); fill-opacity: 1;\"/><path class=\"point\" transform=\"translate(270,319.38)\" d=\"M3,0A3,3 0 1,1 0,-3A3,3 0 0,1 3,0Z\" style=\"opacity: 1; stroke-width: 0px; fill: rgb(99, 110, 250); fill-opacity: 1;\"/><path class=\"point\" transform=\"translate(270,319.24)\" d=\"M3,0A3,3 0 1,1 0,-3A3,3 0 0,1 3,0Z\" style=\"opacity: 1; stroke-width: 0px; fill: rgb(99, 110, 250); fill-opacity: 1;\"/><path class=\"point\" transform=\"translate(270,319.1)\" d=\"M3,0A3,3 0 1,1 0,-3A3,3 0 0,1 3,0Z\" style=\"opacity: 1; stroke-width: 0px; fill: rgb(99, 110, 250); fill-opacity: 1;\"/><path class=\"point\" transform=\"translate(270,319.1)\" d=\"M3,0A3,3 0 1,1 0,-3A3,3 0 0,1 3,0Z\" style=\"opacity: 1; stroke-width: 0px; fill: rgb(99, 110, 250); fill-opacity: 1;\"/><path class=\"point\" transform=\"translate(270,318.96)\" d=\"M3,0A3,3 0 1,1 0,-3A3,3 0 0,1 3,0Z\" style=\"opacity: 1; stroke-width: 0px; fill: rgb(99, 110, 250); fill-opacity: 1;\"/><path class=\"point\" transform=\"translate(270,318.96)\" d=\"M3,0A3,3 0 1,1 0,-3A3,3 0 0,1 3,0Z\" style=\"opacity: 1; stroke-width: 0px; fill: rgb(99, 110, 250); fill-opacity: 1;\"/><path class=\"point\" transform=\"translate(270,318.82)\" d=\"M3,0A3,3 0 1,1 0,-3A3,3 0 0,1 3,0Z\" style=\"opacity: 1; stroke-width: 0px; fill: rgb(99, 110, 250); fill-opacity: 1;\"/><path class=\"point\" transform=\"translate(270,318.68)\" d=\"M3,0A3,3 0 1,1 0,-3A3,3 0 0,1 3,0Z\" style=\"opacity: 1; stroke-width: 0px; fill: rgb(99, 110, 250); fill-opacity: 1;\"/><path class=\"point\" transform=\"translate(270,318.68)\" d=\"M3,0A3,3 0 1,1 0,-3A3,3 0 0,1 3,0Z\" style=\"opacity: 1; stroke-width: 0px; fill: rgb(99, 110, 250); fill-opacity: 1;\"/><path class=\"point\" transform=\"translate(270,318.68)\" d=\"M3,0A3,3 0 1,1 0,-3A3,3 0 0,1 3,0Z\" style=\"opacity: 1; stroke-width: 0px; fill: rgb(99, 110, 250); fill-opacity: 1;\"/><path class=\"point\" transform=\"translate(270,318.4)\" d=\"M3,0A3,3 0 1,1 0,-3A3,3 0 0,1 3,0Z\" style=\"opacity: 1; stroke-width: 0px; fill: rgb(99, 110, 250); fill-opacity: 1;\"/><path class=\"point\" transform=\"translate(270,318.25)\" d=\"M3,0A3,3 0 1,1 0,-3A3,3 0 0,1 3,0Z\" style=\"opacity: 1; stroke-width: 0px; fill: rgb(99, 110, 250); fill-opacity: 1;\"/><path class=\"point\" transform=\"translate(270,318.25)\" d=\"M3,0A3,3 0 1,1 0,-3A3,3 0 0,1 3,0Z\" style=\"opacity: 1; stroke-width: 0px; fill: rgb(99, 110, 250); fill-opacity: 1;\"/><path class=\"point\" transform=\"translate(270,318.25)\" d=\"M3,0A3,3 0 1,1 0,-3A3,3 0 0,1 3,0Z\" style=\"opacity: 1; stroke-width: 0px; fill: rgb(99, 110, 250); fill-opacity: 1;\"/><path class=\"point\" transform=\"translate(270,317.83)\" d=\"M3,0A3,3 0 1,1 0,-3A3,3 0 0,1 3,0Z\" style=\"opacity: 1; stroke-width: 0px; fill: rgb(99, 110, 250); fill-opacity: 1;\"/><path class=\"point\" transform=\"translate(270,317.83)\" d=\"M3,0A3,3 0 1,1 0,-3A3,3 0 0,1 3,0Z\" style=\"opacity: 1; stroke-width: 0px; fill: rgb(99, 110, 250); fill-opacity: 1;\"/><path class=\"point\" transform=\"translate(270,317.55)\" d=\"M3,0A3,3 0 1,1 0,-3A3,3 0 0,1 3,0Z\" style=\"opacity: 1; stroke-width: 0px; fill: rgb(99, 110, 250); fill-opacity: 1;\"/><path class=\"point\" transform=\"translate(270,317.13)\" d=\"M3,0A3,3 0 1,1 0,-3A3,3 0 0,1 3,0Z\" style=\"opacity: 1; stroke-width: 0px; fill: rgb(99, 110, 250); fill-opacity: 1;\"/><path class=\"point\" transform=\"translate(270,317.13)\" d=\"M3,0A3,3 0 1,1 0,-3A3,3 0 0,1 3,0Z\" style=\"opacity: 1; stroke-width: 0px; fill: rgb(99, 110, 250); fill-opacity: 1;\"/><path class=\"point\" transform=\"translate(270,317.13)\" d=\"M3,0A3,3 0 1,1 0,-3A3,3 0 0,1 3,0Z\" style=\"opacity: 1; stroke-width: 0px; fill: rgb(99, 110, 250); fill-opacity: 1;\"/><path class=\"point\" transform=\"translate(270,316.99)\" d=\"M3,0A3,3 0 1,1 0,-3A3,3 0 0,1 3,0Z\" style=\"opacity: 1; stroke-width: 0px; fill: rgb(99, 110, 250); fill-opacity: 1;\"/><path class=\"point\" transform=\"translate(270,316.99)\" d=\"M3,0A3,3 0 1,1 0,-3A3,3 0 0,1 3,0Z\" style=\"opacity: 1; stroke-width: 0px; fill: rgb(99, 110, 250); fill-opacity: 1;\"/><path class=\"point\" transform=\"translate(270,316.71)\" d=\"M3,0A3,3 0 1,1 0,-3A3,3 0 0,1 3,0Z\" style=\"opacity: 1; stroke-width: 0px; fill: rgb(99, 110, 250); fill-opacity: 1;\"/><path class=\"point\" transform=\"translate(270,316.71)\" d=\"M3,0A3,3 0 1,1 0,-3A3,3 0 0,1 3,0Z\" style=\"opacity: 1; stroke-width: 0px; fill: rgb(99, 110, 250); fill-opacity: 1;\"/><path class=\"point\" transform=\"translate(270,316.43)\" d=\"M3,0A3,3 0 1,1 0,-3A3,3 0 0,1 3,0Z\" style=\"opacity: 1; stroke-width: 0px; fill: rgb(99, 110, 250); fill-opacity: 1;\"/><path class=\"point\" transform=\"translate(270,316.15)\" d=\"M3,0A3,3 0 1,1 0,-3A3,3 0 0,1 3,0Z\" style=\"opacity: 1; stroke-width: 0px; fill: rgb(99, 110, 250); fill-opacity: 1;\"/><path class=\"point\" transform=\"translate(270,316.01)\" d=\"M3,0A3,3 0 1,1 0,-3A3,3 0 0,1 3,0Z\" style=\"opacity: 1; stroke-width: 0px; fill: rgb(99, 110, 250); fill-opacity: 1;\"/><path class=\"point\" transform=\"translate(270,316.01)\" d=\"M3,0A3,3 0 1,1 0,-3A3,3 0 0,1 3,0Z\" style=\"opacity: 1; stroke-width: 0px; fill: rgb(99, 110, 250); fill-opacity: 1;\"/><path class=\"point\" transform=\"translate(270,315.59)\" d=\"M3,0A3,3 0 1,1 0,-3A3,3 0 0,1 3,0Z\" style=\"opacity: 1; stroke-width: 0px; fill: rgb(99, 110, 250); fill-opacity: 1;\"/><path class=\"point\" transform=\"translate(270,315.3)\" d=\"M3,0A3,3 0 1,1 0,-3A3,3 0 0,1 3,0Z\" style=\"opacity: 1; stroke-width: 0px; fill: rgb(99, 110, 250); fill-opacity: 1;\"/><path class=\"point\" transform=\"translate(270,315.3)\" d=\"M3,0A3,3 0 1,1 0,-3A3,3 0 0,1 3,0Z\" style=\"opacity: 1; stroke-width: 0px; fill: rgb(99, 110, 250); fill-opacity: 1;\"/><path class=\"point\" transform=\"translate(270,315.16)\" d=\"M3,0A3,3 0 1,1 0,-3A3,3 0 0,1 3,0Z\" style=\"opacity: 1; stroke-width: 0px; fill: rgb(99, 110, 250); fill-opacity: 1;\"/><path class=\"point\" transform=\"translate(270,315.16)\" d=\"M3,0A3,3 0 1,1 0,-3A3,3 0 0,1 3,0Z\" style=\"opacity: 1; stroke-width: 0px; fill: rgb(99, 110, 250); fill-opacity: 1;\"/><path class=\"point\" transform=\"translate(270,315.02)\" d=\"M3,0A3,3 0 1,1 0,-3A3,3 0 0,1 3,0Z\" style=\"opacity: 1; stroke-width: 0px; fill: rgb(99, 110, 250); fill-opacity: 1;\"/><path class=\"point\" transform=\"translate(270,314.88)\" d=\"M3,0A3,3 0 1,1 0,-3A3,3 0 0,1 3,0Z\" style=\"opacity: 1; stroke-width: 0px; fill: rgb(99, 110, 250); fill-opacity: 1;\"/><path class=\"point\" transform=\"translate(270,314.74)\" d=\"M3,0A3,3 0 1,1 0,-3A3,3 0 0,1 3,0Z\" style=\"opacity: 1; stroke-width: 0px; fill: rgb(99, 110, 250); fill-opacity: 1;\"/><path class=\"point\" transform=\"translate(270,314.32)\" d=\"M3,0A3,3 0 1,1 0,-3A3,3 0 0,1 3,0Z\" style=\"opacity: 1; stroke-width: 0px; fill: rgb(99, 110, 250); fill-opacity: 1;\"/><path class=\"point\" transform=\"translate(270,314.32)\" d=\"M3,0A3,3 0 1,1 0,-3A3,3 0 0,1 3,0Z\" style=\"opacity: 1; stroke-width: 0px; fill: rgb(99, 110, 250); fill-opacity: 1;\"/><path class=\"point\" transform=\"translate(270,314.18)\" d=\"M3,0A3,3 0 1,1 0,-3A3,3 0 0,1 3,0Z\" style=\"opacity: 1; stroke-width: 0px; fill: rgb(99, 110, 250); fill-opacity: 1;\"/><path class=\"point\" transform=\"translate(270,313.76)\" d=\"M3,0A3,3 0 1,1 0,-3A3,3 0 0,1 3,0Z\" style=\"opacity: 1; stroke-width: 0px; fill: rgb(99, 110, 250); fill-opacity: 1;\"/><path class=\"point\" transform=\"translate(270,313.62)\" d=\"M3,0A3,3 0 1,1 0,-3A3,3 0 0,1 3,0Z\" style=\"opacity: 1; stroke-width: 0px; fill: rgb(99, 110, 250); fill-opacity: 1;\"/><path class=\"point\" transform=\"translate(270,313.2)\" d=\"M3,0A3,3 0 1,1 0,-3A3,3 0 0,1 3,0Z\" style=\"opacity: 1; stroke-width: 0px; fill: rgb(99, 110, 250); fill-opacity: 1;\"/><path class=\"point\" transform=\"translate(270,313.06)\" d=\"M3,0A3,3 0 1,1 0,-3A3,3 0 0,1 3,0Z\" style=\"opacity: 1; stroke-width: 0px; fill: rgb(99, 110, 250); fill-opacity: 1;\"/><path class=\"point\" transform=\"translate(270,312.92)\" d=\"M3,0A3,3 0 1,1 0,-3A3,3 0 0,1 3,0Z\" style=\"opacity: 1; stroke-width: 0px; fill: rgb(99, 110, 250); fill-opacity: 1;\"/><path class=\"point\" transform=\"translate(270,312.92)\" d=\"M3,0A3,3 0 1,1 0,-3A3,3 0 0,1 3,0Z\" style=\"opacity: 1; stroke-width: 0px; fill: rgb(99, 110, 250); fill-opacity: 1;\"/><path class=\"point\" transform=\"translate(270,312.92)\" d=\"M3,0A3,3 0 1,1 0,-3A3,3 0 0,1 3,0Z\" style=\"opacity: 1; stroke-width: 0px; fill: rgb(99, 110, 250); fill-opacity: 1;\"/><path class=\"point\" transform=\"translate(270,312.63)\" d=\"M3,0A3,3 0 1,1 0,-3A3,3 0 0,1 3,0Z\" style=\"opacity: 1; stroke-width: 0px; fill: rgb(99, 110, 250); fill-opacity: 1;\"/><path class=\"point\" transform=\"translate(270,312.49)\" d=\"M3,0A3,3 0 1,1 0,-3A3,3 0 0,1 3,0Z\" style=\"opacity: 1; stroke-width: 0px; fill: rgb(99, 110, 250); fill-opacity: 1;\"/><path class=\"point\" transform=\"translate(270,312.49)\" d=\"M3,0A3,3 0 1,1 0,-3A3,3 0 0,1 3,0Z\" style=\"opacity: 1; stroke-width: 0px; fill: rgb(99, 110, 250); fill-opacity: 1;\"/><path class=\"point\" transform=\"translate(270,312.07)\" d=\"M3,0A3,3 0 1,1 0,-3A3,3 0 0,1 3,0Z\" style=\"opacity: 1; stroke-width: 0px; fill: rgb(99, 110, 250); fill-opacity: 1;\"/><path class=\"point\" transform=\"translate(270,312.07)\" d=\"M3,0A3,3 0 1,1 0,-3A3,3 0 0,1 3,0Z\" style=\"opacity: 1; stroke-width: 0px; fill: rgb(99, 110, 250); fill-opacity: 1;\"/><path class=\"point\" transform=\"translate(270,311.93)\" d=\"M3,0A3,3 0 1,1 0,-3A3,3 0 0,1 3,0Z\" style=\"opacity: 1; stroke-width: 0px; fill: rgb(99, 110, 250); fill-opacity: 1;\"/><path class=\"point\" transform=\"translate(270,311.65)\" d=\"M3,0A3,3 0 1,1 0,-3A3,3 0 0,1 3,0Z\" style=\"opacity: 1; stroke-width: 0px; fill: rgb(99, 110, 250); fill-opacity: 1;\"/><path class=\"point\" transform=\"translate(270,311.37)\" d=\"M3,0A3,3 0 1,1 0,-3A3,3 0 0,1 3,0Z\" style=\"opacity: 1; stroke-width: 0px; fill: rgb(99, 110, 250); fill-opacity: 1;\"/><path class=\"point\" transform=\"translate(270,311.09)\" d=\"M3,0A3,3 0 1,1 0,-3A3,3 0 0,1 3,0Z\" style=\"opacity: 1; stroke-width: 0px; fill: rgb(99, 110, 250); fill-opacity: 1;\"/><path class=\"point\" transform=\"translate(270,311.09)\" d=\"M3,0A3,3 0 1,1 0,-3A3,3 0 0,1 3,0Z\" style=\"opacity: 1; stroke-width: 0px; fill: rgb(99, 110, 250); fill-opacity: 1;\"/><path class=\"point\" transform=\"translate(270,310.39)\" d=\"M3,0A3,3 0 1,1 0,-3A3,3 0 0,1 3,0Z\" style=\"opacity: 1; stroke-width: 0px; fill: rgb(99, 110, 250); fill-opacity: 1;\"/><path class=\"point\" transform=\"translate(270,310.39)\" d=\"M3,0A3,3 0 1,1 0,-3A3,3 0 0,1 3,0Z\" style=\"opacity: 1; stroke-width: 0px; fill: rgb(99, 110, 250); fill-opacity: 1;\"/><path class=\"point\" transform=\"translate(270,309.97)\" d=\"M3,0A3,3 0 1,1 0,-3A3,3 0 0,1 3,0Z\" style=\"opacity: 1; stroke-width: 0px; fill: rgb(99, 110, 250); fill-opacity: 1;\"/><path class=\"point\" transform=\"translate(270,309.97)\" d=\"M3,0A3,3 0 1,1 0,-3A3,3 0 0,1 3,0Z\" style=\"opacity: 1; stroke-width: 0px; fill: rgb(99, 110, 250); fill-opacity: 1;\"/><path class=\"point\" transform=\"translate(270,309.97)\" d=\"M3,0A3,3 0 1,1 0,-3A3,3 0 0,1 3,0Z\" style=\"opacity: 1; stroke-width: 0px; fill: rgb(99, 110, 250); fill-opacity: 1;\"/><path class=\"point\" transform=\"translate(270,309.68)\" d=\"M3,0A3,3 0 1,1 0,-3A3,3 0 0,1 3,0Z\" style=\"opacity: 1; stroke-width: 0px; fill: rgb(99, 110, 250); fill-opacity: 1;\"/><path class=\"point\" transform=\"translate(270,309.4)\" d=\"M3,0A3,3 0 1,1 0,-3A3,3 0 0,1 3,0Z\" style=\"opacity: 1; stroke-width: 0px; fill: rgb(99, 110, 250); fill-opacity: 1;\"/><path class=\"point\" transform=\"translate(270,309.26)\" d=\"M3,0A3,3 0 1,1 0,-3A3,3 0 0,1 3,0Z\" style=\"opacity: 1; stroke-width: 0px; fill: rgb(99, 110, 250); fill-opacity: 1;\"/><path class=\"point\" transform=\"translate(270,309.12)\" d=\"M3,0A3,3 0 1,1 0,-3A3,3 0 0,1 3,0Z\" style=\"opacity: 1; stroke-width: 0px; fill: rgb(99, 110, 250); fill-opacity: 1;\"/><path class=\"point\" transform=\"translate(270,308.7)\" d=\"M3,0A3,3 0 1,1 0,-3A3,3 0 0,1 3,0Z\" style=\"opacity: 1; stroke-width: 0px; fill: rgb(99, 110, 250); fill-opacity: 1;\"/><path class=\"point\" transform=\"translate(270,308.56)\" d=\"M3,0A3,3 0 1,1 0,-3A3,3 0 0,1 3,0Z\" style=\"opacity: 1; stroke-width: 0px; fill: rgb(99, 110, 250); fill-opacity: 1;\"/><path class=\"point\" transform=\"translate(270,308.42)\" d=\"M3,0A3,3 0 1,1 0,-3A3,3 0 0,1 3,0Z\" style=\"opacity: 1; stroke-width: 0px; fill: rgb(99, 110, 250); fill-opacity: 1;\"/><path class=\"point\" transform=\"translate(270,308)\" d=\"M3,0A3,3 0 1,1 0,-3A3,3 0 0,1 3,0Z\" style=\"opacity: 1; stroke-width: 0px; fill: rgb(99, 110, 250); fill-opacity: 1;\"/><path class=\"point\" transform=\"translate(270,307.72)\" d=\"M3,0A3,3 0 1,1 0,-3A3,3 0 0,1 3,0Z\" style=\"opacity: 1; stroke-width: 0px; fill: rgb(99, 110, 250); fill-opacity: 1;\"/><path class=\"point\" transform=\"translate(270,307.01)\" d=\"M3,0A3,3 0 1,1 0,-3A3,3 0 0,1 3,0Z\" style=\"opacity: 1; stroke-width: 0px; fill: rgb(99, 110, 250); fill-opacity: 1;\"/><path class=\"point\" transform=\"translate(270,305.61)\" d=\"M3,0A3,3 0 1,1 0,-3A3,3 0 0,1 3,0Z\" style=\"opacity: 1; stroke-width: 0px; fill: rgb(99, 110, 250); fill-opacity: 1;\"/><path class=\"point\" transform=\"translate(270,305.61)\" d=\"M3,0A3,3 0 1,1 0,-3A3,3 0 0,1 3,0Z\" style=\"opacity: 1; stroke-width: 0px; fill: rgb(99, 110, 250); fill-opacity: 1;\"/><path class=\"point\" transform=\"translate(270,305.19)\" d=\"M3,0A3,3 0 1,1 0,-3A3,3 0 0,1 3,0Z\" style=\"opacity: 1; stroke-width: 0px; fill: rgb(99, 110, 250); fill-opacity: 1;\"/><path class=\"point\" transform=\"translate(270,304.91)\" d=\"M3,0A3,3 0 1,1 0,-3A3,3 0 0,1 3,0Z\" style=\"opacity: 1; stroke-width: 0px; fill: rgb(99, 110, 250); fill-opacity: 1;\"/><path class=\"point\" transform=\"translate(270,304.77)\" d=\"M3,0A3,3 0 1,1 0,-3A3,3 0 0,1 3,0Z\" style=\"opacity: 1; stroke-width: 0px; fill: rgb(99, 110, 250); fill-opacity: 1;\"/><path class=\"point\" transform=\"translate(270,304.49)\" d=\"M3,0A3,3 0 1,1 0,-3A3,3 0 0,1 3,0Z\" style=\"opacity: 1; stroke-width: 0px; fill: rgb(99, 110, 250); fill-opacity: 1;\"/><path class=\"point\" transform=\"translate(270,304.2)\" d=\"M3,0A3,3 0 1,1 0,-3A3,3 0 0,1 3,0Z\" style=\"opacity: 1; stroke-width: 0px; fill: rgb(99, 110, 250); fill-opacity: 1;\"/><path class=\"point\" transform=\"translate(270,304.06)\" d=\"M3,0A3,3 0 1,1 0,-3A3,3 0 0,1 3,0Z\" style=\"opacity: 1; stroke-width: 0px; fill: rgb(99, 110, 250); fill-opacity: 1;\"/><path class=\"point\" transform=\"translate(270,303.5)\" d=\"M3,0A3,3 0 1,1 0,-3A3,3 0 0,1 3,0Z\" style=\"opacity: 1; stroke-width: 0px; fill: rgb(99, 110, 250); fill-opacity: 1;\"/><path class=\"point\" transform=\"translate(270,302.94)\" d=\"M3,0A3,3 0 1,1 0,-3A3,3 0 0,1 3,0Z\" style=\"opacity: 1; stroke-width: 0px; fill: rgb(99, 110, 250); fill-opacity: 1;\"/><path class=\"point\" transform=\"translate(270,300.97)\" d=\"M3,0A3,3 0 1,1 0,-3A3,3 0 0,1 3,0Z\" style=\"opacity: 1; stroke-width: 0px; fill: rgb(99, 110, 250); fill-opacity: 1;\"/><path class=\"point\" transform=\"translate(270,300.41)\" d=\"M3,0A3,3 0 1,1 0,-3A3,3 0 0,1 3,0Z\" style=\"opacity: 1; stroke-width: 0px; fill: rgb(99, 110, 250); fill-opacity: 1;\"/><path class=\"point\" transform=\"translate(270,300.13)\" d=\"M3,0A3,3 0 1,1 0,-3A3,3 0 0,1 3,0Z\" style=\"opacity: 1; stroke-width: 0px; fill: rgb(99, 110, 250); fill-opacity: 1;\"/><path class=\"point\" transform=\"translate(270,299.71)\" d=\"M3,0A3,3 0 1,1 0,-3A3,3 0 0,1 3,0Z\" style=\"opacity: 1; stroke-width: 0px; fill: rgb(99, 110, 250); fill-opacity: 1;\"/><path class=\"point\" transform=\"translate(270,297.32)\" d=\"M3,0A3,3 0 1,1 0,-3A3,3 0 0,1 3,0Z\" style=\"opacity: 1; stroke-width: 0px; fill: rgb(99, 110, 250); fill-opacity: 1;\"/><path class=\"point\" transform=\"translate(270,297.18)\" d=\"M3,0A3,3 0 1,1 0,-3A3,3 0 0,1 3,0Z\" style=\"opacity: 1; stroke-width: 0px; fill: rgb(99, 110, 250); fill-opacity: 1;\"/><path class=\"point\" transform=\"translate(270,291.7)\" d=\"M3,0A3,3 0 1,1 0,-3A3,3 0 0,1 3,0Z\" style=\"opacity: 1; stroke-width: 0px; fill: rgb(99, 110, 250); fill-opacity: 1;\"/><path class=\"point\" transform=\"translate(270,291.14)\" d=\"M3,0A3,3 0 1,1 0,-3A3,3 0 0,1 3,0Z\" style=\"opacity: 1; stroke-width: 0px; fill: rgb(99, 110, 250); fill-opacity: 1;\"/><path class=\"point\" transform=\"translate(270,289.03)\" d=\"M3,0A3,3 0 1,1 0,-3A3,3 0 0,1 3,0Z\" style=\"opacity: 1; stroke-width: 0px; fill: rgb(99, 110, 250); fill-opacity: 1;\"/><path class=\"point\" transform=\"translate(270,288.05)\" d=\"M3,0A3,3 0 1,1 0,-3A3,3 0 0,1 3,0Z\" style=\"opacity: 1; stroke-width: 0px; fill: rgb(99, 110, 250); fill-opacity: 1;\"/><path class=\"point\" transform=\"translate(270,284.39)\" d=\"M3,0A3,3 0 1,1 0,-3A3,3 0 0,1 3,0Z\" style=\"opacity: 1; stroke-width: 0px; fill: rgb(99, 110, 250); fill-opacity: 1;\"/><path class=\"point\" transform=\"translate(270,283.41)\" d=\"M3,0A3,3 0 1,1 0,-3A3,3 0 0,1 3,0Z\" style=\"opacity: 1; stroke-width: 0px; fill: rgb(99, 110, 250); fill-opacity: 1;\"/><path class=\"point\" transform=\"translate(270,276.39)\" d=\"M3,0A3,3 0 1,1 0,-3A3,3 0 0,1 3,0Z\" style=\"opacity: 1; stroke-width: 0px; fill: rgb(99, 110, 250); fill-opacity: 1;\"/><path class=\"point\" transform=\"translate(270,273.43)\" d=\"M3,0A3,3 0 1,1 0,-3A3,3 0 0,1 3,0Z\" style=\"opacity: 1; stroke-width: 0px; fill: rgb(99, 110, 250); fill-opacity: 1;\"/><path class=\"point\" transform=\"translate(270,272.45)\" d=\"M3,0A3,3 0 1,1 0,-3A3,3 0 0,1 3,0Z\" style=\"opacity: 1; stroke-width: 0px; fill: rgb(99, 110, 250); fill-opacity: 1;\"/><path class=\"point\" transform=\"translate(270,268.66)\" d=\"M3,0A3,3 0 1,1 0,-3A3,3 0 0,1 3,0Z\" style=\"opacity: 1; stroke-width: 0px; fill: rgb(99, 110, 250); fill-opacity: 1;\"/><path class=\"point\" transform=\"translate(270,264.44)\" d=\"M3,0A3,3 0 1,1 0,-3A3,3 0 0,1 3,0Z\" style=\"opacity: 1; stroke-width: 0px; fill: rgb(99, 110, 250); fill-opacity: 1;\"/><path class=\"point\" transform=\"translate(270,262.19)\" d=\"M3,0A3,3 0 1,1 0,-3A3,3 0 0,1 3,0Z\" style=\"opacity: 1; stroke-width: 0px; fill: rgb(99, 110, 250); fill-opacity: 1;\"/><path class=\"point\" transform=\"translate(270,259.95)\" d=\"M3,0A3,3 0 1,1 0,-3A3,3 0 0,1 3,0Z\" style=\"opacity: 1; stroke-width: 0px; fill: rgb(99, 110, 250); fill-opacity: 1;\"/><path class=\"point\" transform=\"translate(270,249.69)\" d=\"M3,0A3,3 0 1,1 0,-3A3,3 0 0,1 3,0Z\" style=\"opacity: 1; stroke-width: 0px; fill: rgb(99, 110, 250); fill-opacity: 1;\"/><path class=\"point\" transform=\"translate(270,249.41)\" d=\"M3,0A3,3 0 1,1 0,-3A3,3 0 0,1 3,0Z\" style=\"opacity: 1; stroke-width: 0px; fill: rgb(99, 110, 250); fill-opacity: 1;\"/><path class=\"point\" transform=\"translate(270,249.27)\" d=\"M3,0A3,3 0 1,1 0,-3A3,3 0 0,1 3,0Z\" style=\"opacity: 1; stroke-width: 0px; fill: rgb(99, 110, 250); fill-opacity: 1;\"/><path class=\"point\" transform=\"translate(270,243.51)\" d=\"M3,0A3,3 0 1,1 0,-3A3,3 0 0,1 3,0Z\" style=\"opacity: 1; stroke-width: 0px; fill: rgb(99, 110, 250); fill-opacity: 1;\"/><path class=\"point\" transform=\"translate(270,239.85)\" d=\"M3,0A3,3 0 1,1 0,-3A3,3 0 0,1 3,0Z\" style=\"opacity: 1; stroke-width: 0px; fill: rgb(99, 110, 250); fill-opacity: 1;\"/><path class=\"point\" transform=\"translate(270,236.06)\" d=\"M3,0A3,3 0 1,1 0,-3A3,3 0 0,1 3,0Z\" style=\"opacity: 1; stroke-width: 0px; fill: rgb(99, 110, 250); fill-opacity: 1;\"/><path class=\"point\" transform=\"translate(270,226.37)\" d=\"M3,0A3,3 0 1,1 0,-3A3,3 0 0,1 3,0Z\" style=\"opacity: 1; stroke-width: 0px; fill: rgb(99, 110, 250); fill-opacity: 1;\"/><path class=\"point\" transform=\"translate(270,222.29)\" d=\"M3,0A3,3 0 1,1 0,-3A3,3 0 0,1 3,0Z\" style=\"opacity: 1; stroke-width: 0px; fill: rgb(99, 110, 250); fill-opacity: 1;\"/><path class=\"point\" transform=\"translate(270,217.37)\" d=\"M3,0A3,3 0 1,1 0,-3A3,3 0 0,1 3,0Z\" style=\"opacity: 1; stroke-width: 0px; fill: rgb(99, 110, 250); fill-opacity: 1;\"/><path class=\"point\" transform=\"translate(270,175.5)\" d=\"M3,0A3,3 0 1,1 0,-3A3,3 0 0,1 3,0Z\" style=\"opacity: 1; stroke-width: 0px; fill: rgb(99, 110, 250); fill-opacity: 1;\"/><path class=\"point\" transform=\"translate(270,170.59)\" d=\"M3,0A3,3 0 1,1 0,-3A3,3 0 0,1 3,0Z\" style=\"opacity: 1; stroke-width: 0px; fill: rgb(99, 110, 250); fill-opacity: 1;\"/><path class=\"point\" transform=\"translate(270,139.96)\" d=\"M3,0A3,3 0 1,1 0,-3A3,3 0 0,1 3,0Z\" style=\"opacity: 1; stroke-width: 0px; fill: rgb(99, 110, 250); fill-opacity: 1;\"/><path class=\"point\" transform=\"translate(270,93.73)\" d=\"M3,0A3,3 0 1,1 0,-3A3,3 0 0,1 3,0Z\" style=\"opacity: 1; stroke-width: 0px; fill: rgb(99, 110, 250); fill-opacity: 1;\"/><path class=\"point\" transform=\"translate(270,61.7)\" d=\"M3,0A3,3 0 1,1 0,-3A3,3 0 0,1 3,0Z\" style=\"opacity: 1; stroke-width: 0px; fill: rgb(99, 110, 250); fill-opacity: 1;\"/><path class=\"point\" transform=\"translate(270,18)\" d=\"M3,0A3,3 0 1,1 0,-3A3,3 0 0,1 3,0Z\" style=\"opacity: 1; stroke-width: 0px; fill: rgb(99, 110, 250); fill-opacity: 1;\"/></g></g></g></g><g class=\"overplot\"/><path class=\"xlines-above crisp\" d=\"M0,0\" style=\"fill: none;\"/><path class=\"ylines-above crisp\" d=\"M0,0\" style=\"fill: none;\"/><g class=\"overlines-above\"/><g class=\"xaxislayer-above\"><g class=\"xtick\"><text text-anchor=\"middle\" x=\"0\" y=\"433\" transform=\"translate(350,0)\" style=\"font-family: 'Open Sans', verdana, arial, sans-serif; font-size: 12px; fill: rgb(42, 63, 95); fill-opacity: 1; white-space: pre; opacity: 1;\">event</text></g></g><g class=\"yaxislayer-above\"><g class=\"ytick\"><text text-anchor=\"end\" x=\"79\" y=\"4.199999999999999\" transform=\"translate(0,402.14)\" style=\"font-family: 'Open Sans', verdana, arial, sans-serif; font-size: 12px; fill: rgb(42, 63, 95); fill-opacity: 1; white-space: pre; opacity: 1;\">0</text></g><g class=\"ytick\"><text text-anchor=\"end\" x=\"79\" y=\"4.199999999999999\" style=\"font-family: 'Open Sans', verdana, arial, sans-serif; font-size: 12px; fill: rgb(42, 63, 95); fill-opacity: 1; white-space: pre; opacity: 1;\" transform=\"translate(0,331.89)\">500</text></g><g class=\"ytick\"><text text-anchor=\"end\" x=\"79\" y=\"4.199999999999999\" style=\"font-family: 'Open Sans', verdana, arial, sans-serif; font-size: 12px; fill: rgb(42, 63, 95); fill-opacity: 1; white-space: pre; opacity: 1;\" transform=\"translate(0,261.64)\">1000</text></g><g class=\"ytick\"><text text-anchor=\"end\" x=\"79\" y=\"4.199999999999999\" style=\"font-family: 'Open Sans', verdana, arial, sans-serif; font-size: 12px; fill: rgb(42, 63, 95); fill-opacity: 1; white-space: pre; opacity: 1;\" transform=\"translate(0,191.39)\">1500</text></g><g class=\"ytick\"><text text-anchor=\"end\" x=\"79\" y=\"4.199999999999999\" style=\"font-family: 'Open Sans', verdana, arial, sans-serif; font-size: 12px; fill: rgb(42, 63, 95); fill-opacity: 1; white-space: pre; opacity: 1;\" transform=\"translate(0,121.13)\">2000</text></g></g><g class=\"overaxes-above\"/></g></g><g class=\"polarlayer\"/><g class=\"smithlayer\"/><g class=\"ternarylayer\"/><g class=\"geolayer\"/><g class=\"funnelarealayer\"/><g class=\"pielayer\"/><g class=\"iciclelayer\"/><g class=\"treemaplayer\"/><g class=\"sunburstlayer\"/><g class=\"glimages\"/><defs id=\"topdefs-701f30\"><g class=\"clips\"/></defs><g class=\"layer-above\"><g class=\"imagelayer\"/><g class=\"shapelayer\"/></g><g class=\"infolayer\"><g class=\"g-gtitle\"/><g class=\"g-xtitle\"><text class=\"xtitle\" x=\"350\" y=\"460.8\" text-anchor=\"middle\" style=\"font-family: 'Open Sans', verdana, arial, sans-serif; font-size: 14px; fill: rgb(42, 63, 95); opacity: 1; font-weight: normal; white-space: pre;\">variable</text></g><g class=\"g-ytitle\"><text class=\"ytitle\" transform=\"rotate(-90,23.684375000000003,240)\" x=\"23.684375000000003\" y=\"240\" text-anchor=\"middle\" style=\"font-family: 'Open Sans', verdana, arial, sans-serif; font-size: 14px; fill: rgb(42, 63, 95); opacity: 1; font-weight: normal; white-space: pre;\">value</text></g></g></svg>"
      ]
     },
     "metadata": {},
     "output_type": "display_data"
    }
   ],
   "source": [
    "# Группируем пользователей и считаем для каждого число действий\n",
    "user_m_event = df.groupby('user_id', as_index=False) \\\n",
    "                 .agg({'event': 'count'}) \\\n",
    "                 .sort_values(by='event', ascending=False)\n",
    "\n",
    "display(user_m_event[['event']].describe().T)\n",
    "fig = px.box(user_m_event['event'])\n",
    "fig.show('svg')"
   ]
  },
  {
   "cell_type": "markdown",
   "metadata": {},
   "source": [
    "Оставим топ-99% по числу совершенных действий, таким образом удалятся самые аномальные значения"
   ]
  },
  {
   "cell_type": "code",
   "execution_count": 14,
   "metadata": {
    "scrolled": true
   },
   "outputs": [
    {
     "name": "stdout",
     "output_type": "stream",
     "text": [
      "За аномальных можно принять пользователей, число совершённых действий которых более 201 операций\n",
      "Количество аномальных пользователей: 76\n",
      "Пользователей после очистки - 7458\n",
      "Записей после очистки 206615\n",
      "Доля удалённых пользователей 1.01\n",
      "Доля удалённых записей 14.23\n"
     ]
    }
   ],
   "source": [
    "# Определяем 99 выборочный перцентиль\n",
    "t_nn = np.percentile(user_m_event['event'], 99).astype(int)\n",
    "\n",
    "print(f'За аномальных можно принять пользователей, число совершённых действий которых более {t_nn} операций')\n",
    "\n",
    "# Записываем в новую переменную только аномальных пользователей\n",
    "user_m_event_an = user_m_event.query('event >= @t_nn').copy()\n",
    "\n",
    "print('Количество аномальных пользователей:', len(user_m_event_an))\n",
    "\n",
    "user_c_bef = df['user_id'].nunique()\n",
    "ev_c_bef = df['event'].count()\n",
    "\n",
    "# Получаем\n",
    "val = user_m_event_an['user_id'].values\n",
    "df = df.query('user_id not in @val')\n",
    "\n",
    "print('Пользователей после очистки -', df['user_id'].nunique())\n",
    "print('Записей после очистки', df['event'].count())\n",
    "\n",
    "user_c_aft = df['user_id'].nunique()\n",
    "ev_c_aft = df['event'].count()\n",
    "print('Доля удалённых пользователей', round((100 - (user_c_aft / user_c_bef) * 100), 2))\n",
    "print('Доля удалённых записей', round((100 - (ev_c_aft / ev_c_bef) * 100), 2))"
   ]
  },
  {
   "cell_type": "markdown",
   "metadata": {},
   "source": [
    "Проверим, есть ли у нас пользователи из всех экспериментальных групп:"
   ]
  },
  {
   "cell_type": "code",
   "execution_count": 15,
   "metadata": {},
   "outputs": [
    {
     "data": {
      "text/html": [
       "<div>\n",
       "<style scoped>\n",
       "    .dataframe tbody tr th:only-of-type {\n",
       "        vertical-align: middle;\n",
       "    }\n",
       "\n",
       "    .dataframe tbody tr th {\n",
       "        vertical-align: top;\n",
       "    }\n",
       "\n",
       "    .dataframe thead th {\n",
       "        text-align: right;\n",
       "    }\n",
       "</style>\n",
       "<table border=\"1\" class=\"dataframe\">\n",
       "  <thead>\n",
       "    <tr style=\"text-align: right;\">\n",
       "      <th></th>\n",
       "      <th>exp_id</th>\n",
       "      <th>user_id</th>\n",
       "    </tr>\n",
       "  </thead>\n",
       "  <tbody>\n",
       "    <tr>\n",
       "      <th>0</th>\n",
       "      <td>246</td>\n",
       "      <td>2456</td>\n",
       "    </tr>\n",
       "    <tr>\n",
       "      <th>1</th>\n",
       "      <td>247</td>\n",
       "      <td>2491</td>\n",
       "    </tr>\n",
       "    <tr>\n",
       "      <th>2</th>\n",
       "      <td>248</td>\n",
       "      <td>2511</td>\n",
       "    </tr>\n",
       "  </tbody>\n",
       "</table>\n",
       "</div>"
      ],
      "text/plain": [
       "   exp_id  user_id\n",
       "0     246     2456\n",
       "1     247     2491\n",
       "2     248     2511"
      ]
     },
     "execution_count": 15,
     "metadata": {},
     "output_type": "execute_result"
    }
   ],
   "source": [
    "exp_gr_info = df.groupby('exp_id', as_index=False).agg({'user_id': 'nunique'})\n",
    "exp_gr_info"
   ]
  },
  {
   "cell_type": "markdown",
   "metadata": {},
   "source": [
    "Все группы представлены"
   ]
  },
  {
   "cell_type": "markdown",
   "metadata": {},
   "source": [
    "### Выводы\n",
    "\n",
    "По итогу изучения и предобработки данных можно отметить следующее:\n",
    "\n",
    "Мы располагаем данными за период с 25 июля по 7 августа 2019 года. По неизвестным нам причинам данные с 25 июля 1 августа дают скошенность по отношению к последующим данным. Было принято решение отбросить данные за эти даты. Количество пользователей после проделанных операций сократилось на 93. Всего осталось 7458 пользователей и 206615 записей.\n",
    "\n",
    "* В 246 контрольной группе 2456 пользователей;\n",
    "* В 247 контрольной группе 2491 пользователей;\n",
    "* В 248 контрольной группе 2511 пользователей.\n",
    "\n",
    "Все группы пользователей представлены."
   ]
  },
  {
   "cell_type": "markdown",
   "metadata": {},
   "source": [
    "## Анализ данных"
   ]
  },
  {
   "cell_type": "markdown",
   "metadata": {},
   "source": [
    "### Анализ действий пользователей"
   ]
  },
  {
   "cell_type": "markdown",
   "metadata": {},
   "source": [
    "Посмотрим, какие события есть в логах и как часто они встречаются:"
   ]
  },
  {
   "cell_type": "code",
   "execution_count": 16,
   "metadata": {},
   "outputs": [
    {
     "data": {
      "text/html": [
       "<div>\n",
       "<style scoped>\n",
       "    .dataframe tbody tr th:only-of-type {\n",
       "        vertical-align: middle;\n",
       "    }\n",
       "\n",
       "    .dataframe tbody tr th {\n",
       "        vertical-align: top;\n",
       "    }\n",
       "\n",
       "    .dataframe thead th {\n",
       "        text-align: right;\n",
       "    }\n",
       "</style>\n",
       "<table border=\"1\" class=\"dataframe\">\n",
       "  <thead>\n",
       "    <tr style=\"text-align: right;\">\n",
       "      <th></th>\n",
       "      <th>event</th>\n",
       "    </tr>\n",
       "  </thead>\n",
       "  <tbody>\n",
       "    <tr>\n",
       "      <th>Главный экран</th>\n",
       "      <td>113264</td>\n",
       "    </tr>\n",
       "    <tr>\n",
       "      <th>Просмотр предложений</th>\n",
       "      <td>40956</td>\n",
       "    </tr>\n",
       "    <tr>\n",
       "      <th>Переход в корзину</th>\n",
       "      <td>29250</td>\n",
       "    </tr>\n",
       "    <tr>\n",
       "      <th>Покупка</th>\n",
       "      <td>22164</td>\n",
       "    </tr>\n",
       "    <tr>\n",
       "      <th>Обучение</th>\n",
       "      <td>981</td>\n",
       "    </tr>\n",
       "  </tbody>\n",
       "</table>\n",
       "</div>"
      ],
      "text/plain": [
       "                       event\n",
       "Главный экран         113264\n",
       "Просмотр предложений   40956\n",
       "Переход в корзину      29250\n",
       "Покупка                22164\n",
       "Обучение                 981"
      ]
     },
     "execution_count": 16,
     "metadata": {},
     "output_type": "execute_result"
    }
   ],
   "source": [
    "df['event'].value_counts().to_frame()"
   ]
  },
  {
   "cell_type": "markdown",
   "metadata": {},
   "source": [
    "Удалим этап \"обучение\", так как заданием не предполагается "
   ]
  },
  {
   "cell_type": "code",
   "execution_count": 17,
   "metadata": {},
   "outputs": [],
   "source": [
    "df = df.query('event != \"Обучение\"')"
   ]
  },
  {
   "cell_type": "markdown",
   "metadata": {},
   "source": [
    "#### Выводы\n",
    "\n",
    "Самое частое событие из представленных - открытие главного экрана.\n",
    "Наименее частое - прохождение обучения."
   ]
  },
  {
   "cell_type": "markdown",
   "metadata": {},
   "source": [
    "### Воронка событий "
   ]
  },
  {
   "cell_type": "code",
   "execution_count": 18,
   "metadata": {},
   "outputs": [
    {
     "data": {
      "image/svg+xml": [
       "<svg class=\"main-svg\" xmlns=\"http://www.w3.org/2000/svg\" xmlns:xlink=\"http://www.w3.org/1999/xlink\" width=\"700\" height=\"500\" style=\"\" viewBox=\"0 0 700 500\"><rect x=\"0\" y=\"0\" width=\"700\" height=\"500\" style=\"fill: rgb(255, 255, 255); fill-opacity: 1;\"/><defs id=\"defs-4ac128\"><g class=\"clips\"><clipPath id=\"clip4ac128xyplot\" class=\"plotclip\"><rect width=\"435\" height=\"320\"/></clipPath><clipPath class=\"axesclip\" id=\"clip4ac128x\"><rect x=\"185\" y=\"0\" width=\"435\" height=\"500\"/></clipPath><clipPath class=\"axesclip\" id=\"clip4ac128y\"><rect x=\"0\" y=\"100\" width=\"700\" height=\"320\"/></clipPath><clipPath class=\"axesclip\" id=\"clip4ac128xy\"><rect x=\"185\" y=\"100\" width=\"435\" height=\"320\"/></clipPath></g><g class=\"gradients\"/><g class=\"patterns\"/></defs><g class=\"bglayer\"><rect class=\"bg\" x=\"185\" y=\"100\" width=\"435\" height=\"320\" style=\"fill: rgb(229, 236, 246); fill-opacity: 1; stroke-width: 0;\"/></g><g class=\"layer-below\"><g class=\"imagelayer\"/><g class=\"shapelayer\"/></g><g class=\"cartesianlayer\"><g class=\"subplot xy\"><g class=\"layer-subplot\"><g class=\"shapelayer\"/><g class=\"imagelayer\"/></g><g class=\"gridlayer\"><g class=\"x\"/><g class=\"y\"/></g><g class=\"zerolinelayer\"/><path class=\"xlines-below\"/><path class=\"ylines-below\"/><g class=\"overlines-below\"/><g class=\"xaxislayer-below\"/><g class=\"yaxislayer-below\"/><g class=\"overaxes-below\"/><g class=\"plot\" transform=\"translate(185,100)\" clip-path=\"url(#clip4ac128xyplot)\"><g class=\"funnellayer mlayer\"><g class=\"trace bars\" style=\"opacity: 1;\"><g class=\"regions\"><g class=\"region\"><path d=\"M21.75,72L97.1,88H337.9L413.25,72Z\" style=\"stroke-width: 0; fill: rgb(99, 110, 250); fill-opacity: 0.5;\"/></g><g class=\"region\"><path d=\"M97.1,152L120,168H315L337.9,152Z\" style=\"stroke-width: 0; fill: rgb(99, 110, 250); fill-opacity: 0.5;\"/></g><g class=\"region\"><path d=\"M120,232L125.2,248H309.8L315,232Z\" style=\"stroke-width: 0; fill: rgb(99, 110, 250); fill-opacity: 0.5;\"/></g><g class=\"region\"><path d=\"M0,0Z\" style=\"stroke-width: 0; fill: rgb(99, 110, 250); fill-opacity: 0.5;\"/></g></g><g class=\"points\"><g class=\"point\"><path d=\"M21.75,8V72H413.25V8Z\" style=\"vector-effect: non-scaling-stroke; fill: rgb(99, 110, 250); fill-opacity: 1; stroke: rgb(68, 68, 68); stroke-opacity: 1; stroke-width: 0px; opacity: 1;\"/><text class=\"bartext bartext-inside\" text-anchor=\"middle\" data-notex=\"1\" x=\"0\" y=\"0\" style=\"font-family: 'Open Sans', verdana, arial, sans-serif; font-size: 12px; fill: rgb(255, 255, 255); fill-opacity: 1; white-space: pre;\" transform=\"translate(217.5,28.8984375)\"><tspan class=\"line\" dy=\"0em\" x=\"0\" y=\"0\">7344</tspan><tspan class=\"line\" dy=\"1.3em\" x=\"0\" y=\"0\">100% of initial</tspan><tspan class=\"line\" dy=\"2.6em\" x=\"0\" y=\"0\">100% of previous</tspan></text></g><g class=\"point\"><path d=\"M97.1,88V152H337.9V88Z\" style=\"vector-effect: non-scaling-stroke; fill: rgb(99, 110, 250); fill-opacity: 1; stroke: rgb(68, 68, 68); stroke-opacity: 1; stroke-width: 0px; opacity: 1;\"/><text class=\"bartext bartext-inside\" text-anchor=\"middle\" data-notex=\"1\" x=\"0\" y=\"0\" style=\"font-family: 'Open Sans', verdana, arial, sans-serif; font-size: 12px; fill: rgb(255, 255, 255); fill-opacity: 1; white-space: pre;\" transform=\"translate(217.5,108.8984375)\"><tspan class=\"line\" dy=\"0em\" x=\"0\" y=\"0\">4517</tspan><tspan class=\"line\" dy=\"1.3em\" x=\"0\" y=\"0\">62% of initial</tspan><tspan class=\"line\" dy=\"2.6em\" x=\"0\" y=\"0\">62% of previous</tspan></text></g><g class=\"point\"><path d=\"M120,168V232H315V168Z\" style=\"vector-effect: non-scaling-stroke; fill: rgb(99, 110, 250); fill-opacity: 1; stroke: rgb(68, 68, 68); stroke-opacity: 1; stroke-width: 0px; opacity: 1;\"/><text class=\"bartext bartext-inside\" text-anchor=\"middle\" data-notex=\"1\" x=\"0\" y=\"0\" style=\"font-family: 'Open Sans', verdana, arial, sans-serif; font-size: 12px; fill: rgb(255, 255, 255); fill-opacity: 1; white-space: pre;\" transform=\"translate(217.5,188.8984375)\"><tspan class=\"line\" dy=\"0em\" x=\"0\" y=\"0\">3658</tspan><tspan class=\"line\" dy=\"1.3em\" x=\"0\" y=\"0\">50% of initial</tspan><tspan class=\"line\" dy=\"2.6em\" x=\"0\" y=\"0\">81% of previous</tspan></text></g><g class=\"point\"><path d=\"M125.2,248V312H309.8V248Z\" style=\"vector-effect: non-scaling-stroke; fill: rgb(99, 110, 250); fill-opacity: 1; stroke: rgb(68, 68, 68); stroke-opacity: 1; stroke-width: 0px; opacity: 1;\"/><text class=\"bartext bartext-inside\" text-anchor=\"middle\" data-notex=\"1\" x=\"0\" y=\"0\" style=\"font-family: 'Open Sans', verdana, arial, sans-serif; font-size: 12px; fill: rgb(255, 255, 255); fill-opacity: 1; white-space: pre;\" transform=\"translate(217.5,268.8984375)\"><tspan class=\"line\" dy=\"0em\" x=\"0\" y=\"0\">3463</tspan><tspan class=\"line\" dy=\"1.3em\" x=\"0\" y=\"0\">47% of initial</tspan><tspan class=\"line\" dy=\"2.6em\" x=\"0\" y=\"0\">95% of previous</tspan></text></g></g></g></g></g><g class=\"overplot\"/><path class=\"xlines-above crisp\" d=\"M0,0\" style=\"fill: none;\"/><path class=\"ylines-above crisp\" d=\"M0,0\" style=\"fill: none;\"/><g class=\"overlines-above\"/><g class=\"xaxislayer-above\"/><g class=\"yaxislayer-above\"><g class=\"ytick\"><text text-anchor=\"end\" x=\"184\" y=\"4.199999999999999\" transform=\"translate(0,380)\" style=\"font-family: 'Open Sans', verdana, arial, sans-serif; font-size: 12px; fill: rgb(42, 63, 95); fill-opacity: 1; white-space: pre; opacity: 1;\">Покупка</text></g><g class=\"ytick\"><text text-anchor=\"end\" x=\"184\" y=\"4.199999999999999\" transform=\"translate(0,300)\" style=\"font-family: 'Open Sans', verdana, arial, sans-serif; font-size: 12px; fill: rgb(42, 63, 95); fill-opacity: 1; white-space: pre; opacity: 1;\">Переход в корзину</text></g><g class=\"ytick\"><text text-anchor=\"end\" x=\"184\" y=\"4.199999999999999\" transform=\"translate(0,220)\" style=\"font-family: 'Open Sans', verdana, arial, sans-serif; font-size: 12px; fill: rgb(42, 63, 95); fill-opacity: 1; white-space: pre; opacity: 1;\">Просмотр предложений</text></g><g class=\"ytick\"><text text-anchor=\"end\" x=\"184\" y=\"4.199999999999999\" transform=\"translate(0,140)\" style=\"font-family: 'Open Sans', verdana, arial, sans-serif; font-size: 12px; fill: rgb(42, 63, 95); fill-opacity: 1; white-space: pre; opacity: 1;\">Главный экран</text></g></g><g class=\"overaxes-above\"/></g></g><g class=\"polarlayer\"/><g class=\"smithlayer\"/><g class=\"ternarylayer\"/><g class=\"geolayer\"/><g class=\"funnelarealayer\"/><g class=\"pielayer\"/><g class=\"iciclelayer\"/><g class=\"treemaplayer\"/><g class=\"sunburstlayer\"/><g class=\"glimages\"/><defs id=\"topdefs-4ac128\"><g class=\"clips\"/></defs><g class=\"layer-above\"><g class=\"imagelayer\"/><g class=\"shapelayer\"/></g><g class=\"infolayer\"><g class=\"g-gtitle\"><text class=\"gtitle\" x=\"35\" y=\"50\" text-anchor=\"start\" dy=\"0em\" style=\"font-family: 'Open Sans', verdana, arial, sans-serif; font-size: 17px; fill: rgb(42, 63, 95); opacity: 1; font-weight: normal; white-space: pre;\">Воронка продаж</text></g><g class=\"g-ytitle\" transform=\"translate(2.4716796875,0)\"><text class=\"ytitle\" transform=\"rotate(-90,11.528124999999989,260)\" x=\"11.528124999999989\" y=\"260\" text-anchor=\"middle\" style=\"font-family: 'Open Sans', verdana, arial, sans-serif; font-size: 14px; fill: rgb(42, 63, 95); opacity: 1; font-weight: normal; white-space: pre;\">События в логе</text></g></g></svg>"
      ]
     },
     "metadata": {},
     "output_type": "display_data"
    }
   ],
   "source": [
    "funnel_gr = df.groupby(['event'], as_index=False) \\\n",
    "              .agg({'user_id': 'nunique'}) \\\n",
    "              .sort_values(by='user_id', ascending=False) \\\n",
    "              .rename(columns={'user_id': 'amount'})\n",
    "\n",
    "fig = go.Figure(\n",
    "    go.Funnel(\n",
    "        y=funnel_gr['event'],\n",
    "        x=funnel_gr['amount'],\n",
    "        textinfo = 'value + percent initial + percent previous'\n",
    "    )\n",
    ")\n",
    "fig.update_layout(title='Воронка продаж')\n",
    "fig.update_yaxes(title_text='События в логе')   \n",
    "fig.show('svg')"
   ]
  },
  {
   "cell_type": "markdown",
   "metadata": {},
   "source": [
    "#### Выводы\n",
    "\n",
    "* Последовательность событий, выстроенная воронкой похожа на правду. Исключение - прохождение обучения. Вероятно, этот этап является опциональным и потому попал в самый низ получившейся воронки событий, всего 11% пользователей его проходят;\n",
    "\n",
    "* В глаза сразу же бросается несоответствие количества пользователей с начальным действием - просмотром главного экрана (общее количество пользователей - 7458, просмотревших главный экран - 7344). Возможно, это пользователи, которые перешли сразу на страницу просмотра предложений через нативную рекламу, ссылку от друга и т.п.;\n",
    "\n",
    "* Больше всего пользователей теряется на этапе перехода с главного экрана на просмотр предложений (61,5%);\n",
    "\n",
    "* До покупки доходит 3463 пользователя (46,4%)."
   ]
  },
  {
   "cell_type": "markdown",
   "metadata": {},
   "source": [
    "### Выводы \n",
    "\n",
    "Построена воронка событий, частота событий в логах. Данные обоих построений выглядят правдоподобно, можно приступать к изучению результатов эксперимента."
   ]
  },
  {
   "cell_type": "markdown",
   "metadata": {},
   "source": [
    "## Изучение результатов эксперимента"
   ]
  },
  {
   "cell_type": "markdown",
   "metadata": {},
   "source": [
    "Взглянем ещё раз на количество пользователей в каждой экспериментальной группе"
   ]
  },
  {
   "cell_type": "code",
   "execution_count": 19,
   "metadata": {},
   "outputs": [
    {
     "data": {
      "text/html": [
       "<div>\n",
       "<style scoped>\n",
       "    .dataframe tbody tr th:only-of-type {\n",
       "        vertical-align: middle;\n",
       "    }\n",
       "\n",
       "    .dataframe tbody tr th {\n",
       "        vertical-align: top;\n",
       "    }\n",
       "\n",
       "    .dataframe thead th {\n",
       "        text-align: right;\n",
       "    }\n",
       "</style>\n",
       "<table border=\"1\" class=\"dataframe\">\n",
       "  <thead>\n",
       "    <tr style=\"text-align: right;\">\n",
       "      <th></th>\n",
       "      <th>exp_id</th>\n",
       "      <th>user_id</th>\n",
       "    </tr>\n",
       "  </thead>\n",
       "  <tbody>\n",
       "    <tr>\n",
       "      <th>0</th>\n",
       "      <td>246</td>\n",
       "      <td>2456</td>\n",
       "    </tr>\n",
       "    <tr>\n",
       "      <th>1</th>\n",
       "      <td>247</td>\n",
       "      <td>2491</td>\n",
       "    </tr>\n",
       "    <tr>\n",
       "      <th>2</th>\n",
       "      <td>248</td>\n",
       "      <td>2511</td>\n",
       "    </tr>\n",
       "  </tbody>\n",
       "</table>\n",
       "</div>"
      ],
      "text/plain": [
       "   exp_id  user_id\n",
       "0     246     2456\n",
       "1     247     2491\n",
       "2     248     2511"
      ]
     },
     "execution_count": 19,
     "metadata": {},
     "output_type": "execute_result"
    }
   ],
   "source": [
    "exp_gr_info"
   ]
  },
  {
   "cell_type": "markdown",
   "metadata": {},
   "source": [
    "Запишем их в переменные:"
   ]
  },
  {
   "cell_type": "markdown",
   "metadata": {},
   "source": [
    "Проверим, нет ли пользователей, попавших в несколько экспериментальных групп"
   ]
  },
  {
   "cell_type": "code",
   "execution_count": 20,
   "metadata": {},
   "outputs": [
    {
     "data": {
      "text/html": [
       "<div>\n",
       "<style scoped>\n",
       "    .dataframe tbody tr th:only-of-type {\n",
       "        vertical-align: middle;\n",
       "    }\n",
       "\n",
       "    .dataframe tbody tr th {\n",
       "        vertical-align: top;\n",
       "    }\n",
       "\n",
       "    .dataframe thead th {\n",
       "        text-align: right;\n",
       "    }\n",
       "</style>\n",
       "<table border=\"1\" class=\"dataframe\">\n",
       "  <thead>\n",
       "    <tr style=\"text-align: right;\">\n",
       "      <th></th>\n",
       "      <th>exp_id</th>\n",
       "    </tr>\n",
       "  </thead>\n",
       "  <tbody>\n",
       "    <tr>\n",
       "      <th>1</th>\n",
       "      <td>7454</td>\n",
       "    </tr>\n",
       "  </tbody>\n",
       "</table>\n",
       "</div>"
      ],
      "text/plain": [
       "   exp_id\n",
       "1    7454"
      ]
     },
     "execution_count": 20,
     "metadata": {},
     "output_type": "execute_result"
    }
   ],
   "source": [
    "df.groupby('user_id', as_index=False).agg({'exp_id': 'nunique'})['exp_id'].value_counts().to_frame()"
   ]
  },
  {
   "cell_type": "markdown",
   "metadata": {},
   "source": [
    "Все пользователи состоят только в одной группе. Пользователей, попавших в несколько экспериментальных групп нет."
   ]
  },
  {
   "cell_type": "markdown",
   "metadata": {},
   "source": [
    "Напишем функцию, проверяющую гипотезу о равенстве"
   ]
  },
  {
   "cell_type": "code",
   "execution_count": 21,
   "metadata": {},
   "outputs": [],
   "source": [
    "def test_func(gr_on, gr_tw, ev):\n",
    "    \n",
    "    alpha = .05 # критический уровень статистической значимости\n",
    "\n",
    "    successes = np.array([df.query('exp_id == @gr_on & event == @ev')['user_id'].nunique(),\n",
    "                          df.query('exp_id == @gr_tw & event == @ev')['user_id'].nunique()])\n",
    "    \n",
    "    trials = np.array([df.query('exp_id == @gr_on')['user_id'].nunique(),\n",
    "                       df.query('exp_id == @gr_tw')['user_id'].nunique()])\n",
    "\n",
    "    # пропорция успехов в первой группе:\n",
    "    p1 = successes[0]/trials[0]\n",
    "\n",
    "    # пропорция успехов во второй группе:\n",
    "    p2 = successes[1]/trials[1]\n",
    "\n",
    "    # пропорция успехов в комбинированном датасете:\n",
    "    p_combined = (successes[0] + successes[1]) / (trials[0] + trials[1])\n",
    "\n",
    "    # разница пропорций в датасетах\n",
    "    difference = p1 - p2 \n",
    "\n",
    "    # считаем статистику в ст.отклонениях стандартного нормального распределения\n",
    "    z_value = difference / mth.sqrt(p_combined * (1 - p_combined) * (1/trials[0] + 1/trials[1]))\n",
    "\n",
    "    # задаем стандартное нормальное распределение (среднее 0, ст.отклонение 1)\n",
    "    distr = st.norm(0, 1)\n",
    "\n",
    "    # считаем статистику в ст.отклонениях стандартного нормального распределения\n",
    "    z_value = difference / mth.sqrt(\n",
    "        p_combined * (1 - p_combined) * (1 / trials[0] + 1 / trials[1])\n",
    "    )\n",
    "\n",
    "    # задаем стандартное нормальное распределение (среднее 0, ст.отклонение 1)\n",
    "    distr = st.norm(0, 1)\n",
    "\n",
    "    p_value = (1 - distr.cdf(abs(z_value))) * 2\n",
    "    \n",
    "    print('\\n', ev)\n",
    "\n",
    "    print('p-значение: ', p_value)\n",
    "\n",
    "    if p_value < alpha:\n",
    "        print('Отвергаем нулевую гипотезу: между долями есть значимая разница')\n",
    "    else:\n",
    "        print(\n",
    "            'Не получилось отвергнуть нулевую гипотезу, нет оснований считать доли разными')"
   ]
  },
  {
   "cell_type": "markdown",
   "metadata": {},
   "source": [
    "### Различие между группами 246 и 247"
   ]
  },
  {
   "cell_type": "markdown",
   "metadata": {},
   "source": [
    "**Введем нулевую и альтернативные гипотезы для этого и последующих сравнений**:\n",
    "\n",
    "$\\begin{equation*}\n",
    " \\begin{cases}\n",
    "   H_0 :\\text{Различий в конверсии между группами нет}\\\\\n",
    "   H_1 :\\text{Различия в конверсии между группами есть.}\n",
    " \\end{cases}\n",
    "\\end{equation*}$\n",
    "\n",
    "Уровень значимости: $\\alpha = 0.05$\n",
    "\n",
    "Рассчитаем p-value. Если p-value будет меньше выбранного уровня значимости ($\\alpha = 0.05$), то будут основания отвергнуть нулевую гипотезу в пользу альтернативной. Иначе сделаем вывод, что данные не позволили нам отвергнуть нулевую гипотезу."
   ]
  },
  {
   "cell_type": "markdown",
   "metadata": {},
   "source": [
    "Сравним 2 контрольные группы для A/A экперимента на примере совершения покупки:"
   ]
  },
  {
   "cell_type": "code",
   "execution_count": 22,
   "metadata": {},
   "outputs": [
    {
     "name": "stdout",
     "output_type": "stream",
     "text": [
      "\n",
      " Покупка\n",
      "p-значение:  0.13574398826607448\n",
      "Не получилось отвергнуть нулевую гипотезу, нет оснований считать доли разными\n"
     ]
    }
   ],
   "source": [
    "test_func(246, 247, 'Покупка')"
   ]
  },
  {
   "cell_type": "markdown",
   "metadata": {},
   "source": [
    "Проделаем то же самое для остальных событий"
   ]
  },
  {
   "cell_type": "code",
   "execution_count": 23,
   "metadata": {
    "scrolled": true
   },
   "outputs": [
    {
     "name": "stdout",
     "output_type": "stream",
     "text": [
      "\n",
      " Главный экран\n",
      "p-значение:  0.6674277103003372\n",
      "Не получилось отвергнуть нулевую гипотезу, нет оснований считать доли разными\n",
      "\n",
      " Просмотр предложений\n",
      "p-значение:  0.2767654959510515\n",
      "Не получилось отвергнуть нулевую гипотезу, нет оснований считать доли разными\n",
      "\n",
      " Переход в корзину\n",
      "p-значение:  0.2628160759054654\n",
      "Не получилось отвергнуть нулевую гипотезу, нет оснований считать доли разными\n",
      "\n",
      " Покупка\n",
      "p-значение:  0.13574398826607448\n",
      "Не получилось отвергнуть нулевую гипотезу, нет оснований считать доли разными\n"
     ]
    }
   ],
   "source": [
    "for num in df['event'].unique():\n",
    "    test_func(246, 247, num)"
   ]
  },
  {
   "cell_type": "markdown",
   "metadata": {},
   "source": [
    "#### Выводы:\n",
    "\n",
    "Различий между группами 246 и 247 нет."
   ]
  },
  {
   "cell_type": "markdown",
   "metadata": {},
   "source": [
    "### Различие между группами 246 и 248 (экспериментальная)"
   ]
  },
  {
   "cell_type": "code",
   "execution_count": 24,
   "metadata": {},
   "outputs": [
    {
     "name": "stdout",
     "output_type": "stream",
     "text": [
      "\n",
      " Главный экран\n",
      "p-значение:  0.2814719389970719\n",
      "Не получилось отвергнуть нулевую гипотезу, нет оснований считать доли разными\n",
      "\n",
      " Просмотр предложений\n",
      "p-значение:  0.22374437294463578\n",
      "Не получилось отвергнуть нулевую гипотезу, нет оснований считать доли разными\n",
      "\n",
      " Переход в корзину\n",
      "p-значение:  0.08551270605955108\n",
      "Не получилось отвергнуть нулевую гипотезу, нет оснований считать доли разными\n",
      "\n",
      " Покупка\n",
      "p-значение:  0.22875623127967426\n",
      "Не получилось отвергнуть нулевую гипотезу, нет оснований считать доли разными\n"
     ]
    }
   ],
   "source": [
    "for num in df['event'].unique():\n",
    "    test_func(246, 248, num)"
   ]
  },
  {
   "cell_type": "markdown",
   "metadata": {},
   "source": [
    "#### Выводы:\n",
    "\n",
    "Различий между группами 246 и 248 (экспериментальной) нет."
   ]
  },
  {
   "cell_type": "markdown",
   "metadata": {},
   "source": [
    "### Различие между группами 247 и 248 (экспериментальная)"
   ]
  },
  {
   "cell_type": "code",
   "execution_count": 25,
   "metadata": {},
   "outputs": [
    {
     "name": "stdout",
     "output_type": "stream",
     "text": [
      "\n",
      " Главный экран\n",
      "p-значение:  0.5151100783020421\n",
      "Не получилось отвергнуть нулевую гипотезу, нет оснований считать доли разными\n",
      "\n",
      " Просмотр предложений\n",
      "p-значение:  0.8985730856764382\n",
      "Не получилось отвергнуть нулевую гипотезу, нет оснований считать доли разными\n",
      "\n",
      " Переход в корзину\n",
      "p-значение:  0.5485507037235671\n",
      "Не получилось отвергнуть нулевую гипотезу, нет оснований считать доли разными\n",
      "\n",
      " Покупка\n",
      "p-значение:  0.7701611050267243\n",
      "Не получилось отвергнуть нулевую гипотезу, нет оснований считать доли разными\n"
     ]
    }
   ],
   "source": [
    "for num in df['event'].unique():\n",
    "    test_func(247, 248, num)"
   ]
  },
  {
   "cell_type": "markdown",
   "metadata": {},
   "source": [
    "#### Выводы:\n",
    "\n",
    "Различий между группами 247 и 248 (экспериментальной) нет."
   ]
  },
  {
   "cell_type": "markdown",
   "metadata": {},
   "source": [
    "### Различие между группами 246 и 247 (объединённая) и 248 (экспериментальная)"
   ]
  },
  {
   "cell_type": "code",
   "execution_count": 26,
   "metadata": {},
   "outputs": [
    {
     "name": "stdout",
     "output_type": "stream",
     "text": [
      "\n",
      " Главный экран\n",
      "p-значение:  0.3119454749745101\n",
      "Не получилось отвергнуть нулевую гипотезу, нет оснований считать доли разными\n",
      "\n",
      " Просмотр предложений\n",
      "p-значение:  0.43945868001043786\n",
      "Не получилось отвергнуть нулевую гипотезу, нет оснований считать доли разными\n",
      "\n",
      " Переход в корзину\n",
      "p-значение:  0.18112712794559194\n",
      "Не получилось отвергнуть нулевую гипотезу, нет оснований считать доли разными\n",
      "\n",
      " Покупка\n",
      "p-значение:  0.6011006343280214\n",
      "Не получилось отвергнуть нулевую гипотезу, нет оснований считать доли разными\n"
     ]
    }
   ],
   "source": [
    "for num in df['event'].unique():\n",
    "    test_func([246, 247], 248, num)"
   ]
  },
  {
   "cell_type": "markdown",
   "metadata": {},
   "source": [
    "#### Выводы:\n",
    "\n",
    "Различий между группами 246 и 247 (объединённая) и 248 (экспериментальной) нет."
   ]
  },
  {
   "cell_type": "markdown",
   "metadata": {},
   "source": [
    "### Вывод\n",
    "\n",
    "Проведён анализ между группами:\n",
    "\n",
    "- 246 и 247\n",
    "\n",
    "- 246 и 248\n",
    "\n",
    "- 247 и 248\n",
    "\n",
    "- 246 и 247 (объединённая) и 248\n",
    "\n",
    "Различий между всеми комбинациями групп нет. Изменение шрифта не принесёт никаких изменений.\n",
    "\n",
    "Уровень значимости при сравнении различий был установлен в 5%.\n",
    "\n",
    "Как правило, уровень значимости принимают равным 0,05: это означает, что на действующей модели лишь в 5% случаев есть вероятность выявить ложную разницу между двумя вариациями (то есть пятипроцентная вероятность ошибки). Про эту общепринятую константу обычно говорят “достоверность более 95%”. Большинство специалистов по проведению тестирований (как и большинство инструментов, доступных на сегодняшний день) довольствуются этим первым параметром."
   ]
  },
  {
   "cell_type": "markdown",
   "metadata": {},
   "source": [
    "## Общий вывод\n",
    "\n",
    "**Перед анализом данных и изучением результатов эксперимента была проведена предобработка данных:**\n",
    "\n",
    "    Мы располагаем данными за период с 25 июля по 7 августа 2019 года. По неизвестным нам причинам данные с 25 июля 1 августа дают скошенность по отношению к последующим данным. Было принято решение отбросить данные за эти даты. Количество пользователей после проделанных операций сократилось на 93. Всего осталось 7458 пользователей и 206615 записей.\n",
    "\n",
    "    * В 246 контрольной группе 2456 пользователей;\n",
    "    * В 247 контрольной группе 2491 пользователей;\n",
    "    * В 248 контрольной группе 2511 пользователей.\n",
    "\n",
    "    Все группы пользователей представлены. Пользователей, попавших в несколько групп - нет.\n",
    "\n",
    "**Далее был проведен анализ действий пользователей:**\n",
    "\n",
    "    Была построена воронка событий, частота событий в логах. Данные обоих построений выглядят правдоподобно.\n",
    "\n",
    "    Последовательность событий, выстроенная воронкой похожа на правду. Исключение - прохождение обучения. Вероятно, этот     этап является опциональным и потому попал в самый низ получившейся воронки событий, всего 11% пользователей его         проходят;\n",
    "\n",
    "    В глаза сразу же бросается несоответствие количества пользователей с начальным действием - просмотром главного экрана (общее количество пользователей - 7458, просмотревших главный экран - 7344). Возможно, это пользователи, которые перешли сразу на страницу просмотра предложений через нативную рекламу, ссылку от друга и т.п.;\n",
    "\n",
    "    Больше всего пользователей теряется на этапе перехода с главного экрана на просмотр предложений (61,5%);\n",
    "\n",
    "    До покупки доходит 3463 пользователя (46,4%).\n",
    "    \n",
    "**В завершении изучены результаты эксперимента:**\n",
    "\n",
    "    Сравнению подверглись все комбинации групп. По итогам сравнения различий между группами нет. Менеджеров можно успокоить, изменение шрифта не принёсёт \"непривычности\" пользователям, ровно как и бОльшей выручки для компании."
   ]
  }
 ],
 "metadata": {
  "ExecuteTimeLog": [
   {
    "duration": 1467,
    "start_time": "2022-07-18T08:16:18.530Z"
   },
   {
    "duration": 646,
    "start_time": "2022-07-18T08:16:59.631Z"
   },
   {
    "duration": 29,
    "start_time": "2022-07-18T08:17:14.300Z"
   },
   {
    "duration": 53,
    "start_time": "2022-07-18T08:17:34.464Z"
   },
   {
    "duration": 73,
    "start_time": "2022-07-18T08:18:33.931Z"
   },
   {
    "duration": 160,
    "start_time": "2022-07-18T08:19:02.782Z"
   },
   {
    "duration": 24,
    "start_time": "2022-07-18T08:19:04.133Z"
   },
   {
    "duration": 24,
    "start_time": "2022-07-18T08:19:25.888Z"
   },
   {
    "duration": 5,
    "start_time": "2022-07-18T08:21:02.211Z"
   },
   {
    "duration": 114,
    "start_time": "2022-07-18T08:21:15.800Z"
   },
   {
    "duration": 1260,
    "start_time": "2022-07-18T08:21:23.504Z"
   },
   {
    "duration": 153,
    "start_time": "2022-07-18T08:21:24.766Z"
   },
   {
    "duration": 36,
    "start_time": "2022-07-18T08:21:24.921Z"
   },
   {
    "duration": 11,
    "start_time": "2022-07-18T08:21:24.959Z"
   },
   {
    "duration": 11,
    "start_time": "2022-07-18T08:21:33.470Z"
   },
   {
    "duration": 7,
    "start_time": "2022-07-18T08:22:15.031Z"
   },
   {
    "duration": 15,
    "start_time": "2022-07-18T08:22:17.589Z"
   },
   {
    "duration": 16,
    "start_time": "2022-07-18T08:22:50.354Z"
   },
   {
    "duration": 14,
    "start_time": "2022-07-18T08:23:22.827Z"
   },
   {
    "duration": 20,
    "start_time": "2022-07-18T08:23:50.795Z"
   },
   {
    "duration": 16,
    "start_time": "2022-07-18T08:23:57.887Z"
   },
   {
    "duration": 1222,
    "start_time": "2022-07-18T08:25:41.429Z"
   },
   {
    "duration": 223,
    "start_time": "2022-07-18T08:25:42.653Z"
   },
   {
    "duration": 35,
    "start_time": "2022-07-18T08:25:42.878Z"
   },
   {
    "duration": 22,
    "start_time": "2022-07-18T08:25:42.922Z"
   },
   {
    "duration": 116,
    "start_time": "2022-07-18T08:32:39.813Z"
   },
   {
    "duration": 9,
    "start_time": "2022-07-18T08:32:57.862Z"
   },
   {
    "duration": 10,
    "start_time": "2022-07-18T08:33:01.826Z"
   },
   {
    "duration": 201,
    "start_time": "2022-07-18T08:34:30.433Z"
   },
   {
    "duration": 15,
    "start_time": "2022-07-18T08:34:38.899Z"
   },
   {
    "duration": 10,
    "start_time": "2022-07-18T08:34:43.783Z"
   },
   {
    "duration": 12,
    "start_time": "2022-07-18T08:35:07.615Z"
   },
   {
    "duration": 1258,
    "start_time": "2022-07-18T08:35:20.595Z"
   },
   {
    "duration": 216,
    "start_time": "2022-07-18T08:35:21.855Z"
   },
   {
    "duration": 36,
    "start_time": "2022-07-18T08:35:22.073Z"
   },
   {
    "duration": 26,
    "start_time": "2022-07-18T08:35:22.111Z"
   },
   {
    "duration": 211,
    "start_time": "2022-07-18T08:35:22.139Z"
   },
   {
    "duration": 197,
    "start_time": "2022-07-18T08:35:31.604Z"
   },
   {
    "duration": 1188,
    "start_time": "2022-07-18T08:35:44.775Z"
   },
   {
    "duration": 231,
    "start_time": "2022-07-18T08:35:45.965Z"
   },
   {
    "duration": 41,
    "start_time": "2022-07-18T08:35:46.198Z"
   },
   {
    "duration": 23,
    "start_time": "2022-07-18T08:35:46.241Z"
   },
   {
    "duration": 237,
    "start_time": "2022-07-18T08:35:46.265Z"
   },
   {
    "duration": 1227,
    "start_time": "2022-07-18T08:38:45.317Z"
   },
   {
    "duration": 149,
    "start_time": "2022-07-18T08:38:46.546Z"
   },
   {
    "duration": 31,
    "start_time": "2022-07-18T08:38:46.697Z"
   },
   {
    "duration": 36,
    "start_time": "2022-07-18T08:38:46.730Z"
   },
   {
    "duration": 19,
    "start_time": "2022-07-18T08:39:05.351Z"
   },
   {
    "duration": 103,
    "start_time": "2022-07-18T08:39:23.838Z"
   },
   {
    "duration": 10,
    "start_time": "2022-07-18T08:39:28.039Z"
   },
   {
    "duration": 10,
    "start_time": "2022-07-18T08:39:31.660Z"
   },
   {
    "duration": 9,
    "start_time": "2022-07-18T08:39:39.938Z"
   },
   {
    "duration": 11,
    "start_time": "2022-07-18T08:39:44.624Z"
   },
   {
    "duration": 59,
    "start_time": "2022-07-18T08:39:49.594Z"
   },
   {
    "duration": 84,
    "start_time": "2022-07-18T08:41:33.482Z"
   },
   {
    "duration": 62,
    "start_time": "2022-07-18T08:41:54.479Z"
   },
   {
    "duration": 71,
    "start_time": "2022-07-18T08:41:57.951Z"
   },
   {
    "duration": 58,
    "start_time": "2022-07-18T08:42:28.358Z"
   },
   {
    "duration": 5,
    "start_time": "2022-07-18T08:46:19.270Z"
   },
   {
    "duration": 4,
    "start_time": "2022-07-18T08:46:23.925Z"
   },
   {
    "duration": 6,
    "start_time": "2022-07-18T08:46:26.926Z"
   },
   {
    "duration": 6,
    "start_time": "2022-07-18T08:46:37.618Z"
   },
   {
    "duration": 7,
    "start_time": "2022-07-18T08:46:47.213Z"
   },
   {
    "duration": 5,
    "start_time": "2022-07-18T08:46:52.985Z"
   },
   {
    "duration": 5,
    "start_time": "2022-07-18T08:47:12.600Z"
   },
   {
    "duration": 18,
    "start_time": "2022-07-18T08:48:39.147Z"
   },
   {
    "duration": 5,
    "start_time": "2022-07-18T08:49:07.526Z"
   },
   {
    "duration": 102,
    "start_time": "2022-07-18T08:49:44.894Z"
   },
   {
    "duration": 7,
    "start_time": "2022-07-18T08:49:48.451Z"
   },
   {
    "duration": 18,
    "start_time": "2022-07-18T08:50:48.742Z"
   },
   {
    "duration": 7,
    "start_time": "2022-07-18T08:53:21.933Z"
   },
   {
    "duration": 7,
    "start_time": "2022-07-18T08:53:49.399Z"
   },
   {
    "duration": 75,
    "start_time": "2022-07-18T08:57:02.288Z"
   },
   {
    "duration": 90,
    "start_time": "2022-07-18T08:57:11.673Z"
   },
   {
    "duration": 66,
    "start_time": "2022-07-18T08:57:44.693Z"
   },
   {
    "duration": 80,
    "start_time": "2022-07-18T08:57:47.232Z"
   },
   {
    "duration": 67,
    "start_time": "2022-07-18T09:02:02.471Z"
   },
   {
    "duration": 1271,
    "start_time": "2022-07-18T09:02:54.266Z"
   },
   {
    "duration": 155,
    "start_time": "2022-07-18T09:02:55.539Z"
   },
   {
    "duration": 33,
    "start_time": "2022-07-18T09:02:55.696Z"
   },
   {
    "duration": 18,
    "start_time": "2022-07-18T09:02:55.731Z"
   },
   {
    "duration": 54,
    "start_time": "2022-07-18T09:02:55.750Z"
   },
   {
    "duration": 71,
    "start_time": "2022-07-18T09:02:55.805Z"
   },
   {
    "duration": 16,
    "start_time": "2022-07-18T09:02:55.878Z"
   },
   {
    "duration": 7,
    "start_time": "2022-07-18T09:02:55.896Z"
   },
   {
    "duration": 24,
    "start_time": "2022-07-18T09:02:55.904Z"
   },
   {
    "duration": 81,
    "start_time": "2022-07-18T09:02:55.930Z"
   },
   {
    "duration": 191,
    "start_time": "2022-07-18T09:07:18.310Z"
   },
   {
    "duration": 69,
    "start_time": "2022-07-18T09:07:36.499Z"
   },
   {
    "duration": 9,
    "start_time": "2022-07-18T09:08:07.623Z"
   },
   {
    "duration": 5562,
    "start_time": "2022-07-18T09:08:12.633Z"
   },
   {
    "duration": 8,
    "start_time": "2022-07-18T11:10:09.283Z"
   },
   {
    "duration": 29,
    "start_time": "2022-07-18T11:10:54.380Z"
   },
   {
    "duration": 31,
    "start_time": "2022-07-18T11:11:05.057Z"
   },
   {
    "duration": 36,
    "start_time": "2022-07-18T11:13:16.718Z"
   },
   {
    "duration": 333,
    "start_time": "2022-07-18T11:13:27.794Z"
   },
   {
    "duration": 326,
    "start_time": "2022-07-18T11:13:36.224Z"
   },
   {
    "duration": 37,
    "start_time": "2022-07-18T11:13:43.398Z"
   },
   {
    "duration": 19,
    "start_time": "2022-07-18T11:14:50.430Z"
   },
   {
    "duration": 24,
    "start_time": "2022-07-18T11:14:56.597Z"
   },
   {
    "duration": 1364,
    "start_time": "2022-07-18T11:16:32.280Z"
   },
   {
    "duration": 161,
    "start_time": "2022-07-18T11:16:33.646Z"
   },
   {
    "duration": 33,
    "start_time": "2022-07-18T11:16:33.809Z"
   },
   {
    "duration": 23,
    "start_time": "2022-07-18T11:16:33.845Z"
   },
   {
    "duration": 82,
    "start_time": "2022-07-18T11:16:33.870Z"
   },
   {
    "duration": 69,
    "start_time": "2022-07-18T11:16:33.955Z"
   },
   {
    "duration": 30,
    "start_time": "2022-07-18T11:16:34.026Z"
   },
   {
    "duration": 8,
    "start_time": "2022-07-18T11:16:34.058Z"
   },
   {
    "duration": 129,
    "start_time": "2022-07-18T11:16:34.067Z"
   },
   {
    "duration": 7033,
    "start_time": "2022-07-18T11:16:34.198Z"
   },
   {
    "duration": 29,
    "start_time": "2022-07-18T11:16:41.233Z"
   },
   {
    "duration": 37,
    "start_time": "2022-07-18T11:17:02.172Z"
   },
   {
    "duration": 20,
    "start_time": "2022-07-18T11:17:09.906Z"
   },
   {
    "duration": 18,
    "start_time": "2022-07-18T11:17:40.280Z"
   },
   {
    "duration": 10,
    "start_time": "2022-07-18T11:18:07.905Z"
   },
   {
    "duration": 12,
    "start_time": "2022-07-18T11:18:16.869Z"
   },
   {
    "duration": 62,
    "start_time": "2022-07-18T11:18:32.182Z"
   },
   {
    "duration": 46,
    "start_time": "2022-07-18T11:18:44.224Z"
   },
   {
    "duration": 33,
    "start_time": "2022-07-18T11:19:46.867Z"
   },
   {
    "duration": 37,
    "start_time": "2022-07-18T11:20:06.808Z"
   },
   {
    "duration": 1258,
    "start_time": "2022-07-18T11:25:25.793Z"
   },
   {
    "duration": 151,
    "start_time": "2022-07-18T11:25:27.053Z"
   },
   {
    "duration": 28,
    "start_time": "2022-07-18T11:25:27.206Z"
   },
   {
    "duration": 20,
    "start_time": "2022-07-18T11:25:27.236Z"
   },
   {
    "duration": 92,
    "start_time": "2022-07-18T11:25:27.258Z"
   },
   {
    "duration": 63,
    "start_time": "2022-07-18T11:25:27.351Z"
   },
   {
    "duration": 23,
    "start_time": "2022-07-18T11:25:27.423Z"
   },
   {
    "duration": 7,
    "start_time": "2022-07-18T11:25:27.448Z"
   },
   {
    "duration": 133,
    "start_time": "2022-07-18T11:25:27.457Z"
   },
   {
    "duration": 3,
    "start_time": "2022-07-18T11:25:27.592Z"
   },
   {
    "duration": 53,
    "start_time": "2022-07-18T11:25:27.597Z"
   },
   {
    "duration": 112,
    "start_time": "2022-07-18T11:25:34.949Z"
   },
   {
    "duration": 104,
    "start_time": "2022-07-18T11:25:45.551Z"
   },
   {
    "duration": 1266,
    "start_time": "2022-07-18T11:25:59.163Z"
   },
   {
    "duration": 157,
    "start_time": "2022-07-18T11:26:00.431Z"
   },
   {
    "duration": 33,
    "start_time": "2022-07-18T11:26:00.590Z"
   },
   {
    "duration": 20,
    "start_time": "2022-07-18T11:26:00.625Z"
   },
   {
    "duration": 79,
    "start_time": "2022-07-18T11:26:00.647Z"
   },
   {
    "duration": 64,
    "start_time": "2022-07-18T11:26:00.728Z"
   },
   {
    "duration": 39,
    "start_time": "2022-07-18T11:26:00.794Z"
   },
   {
    "duration": 19,
    "start_time": "2022-07-18T11:26:00.834Z"
   },
   {
    "duration": 120,
    "start_time": "2022-07-18T11:26:00.855Z"
   },
   {
    "duration": 3,
    "start_time": "2022-07-18T11:26:00.977Z"
   },
   {
    "duration": 80,
    "start_time": "2022-07-18T11:26:00.981Z"
   },
   {
    "duration": 32,
    "start_time": "2022-07-18T11:29:45.233Z"
   },
   {
    "duration": 112,
    "start_time": "2022-07-18T11:30:04.783Z"
   },
   {
    "duration": 9,
    "start_time": "2022-07-18T11:30:14.967Z"
   },
   {
    "duration": 25,
    "start_time": "2022-07-18T11:30:24.734Z"
   },
   {
    "duration": 465,
    "start_time": "2022-07-18T11:31:12.923Z"
   },
   {
    "duration": 70,
    "start_time": "2022-07-18T11:31:32.364Z"
   },
   {
    "duration": 63,
    "start_time": "2022-07-18T11:32:45.154Z"
   },
   {
    "duration": 1409,
    "start_time": "2022-07-18T17:09:25.533Z"
   },
   {
    "duration": 857,
    "start_time": "2022-07-18T17:09:26.944Z"
   },
   {
    "duration": 35,
    "start_time": "2022-07-18T17:09:27.809Z"
   },
   {
    "duration": 19,
    "start_time": "2022-07-18T17:09:27.845Z"
   },
   {
    "duration": 81,
    "start_time": "2022-07-18T17:09:27.866Z"
   },
   {
    "duration": 80,
    "start_time": "2022-07-18T17:09:27.950Z"
   },
   {
    "duration": 23,
    "start_time": "2022-07-18T17:09:28.036Z"
   },
   {
    "duration": 9,
    "start_time": "2022-07-18T17:09:28.060Z"
   },
   {
    "duration": 157,
    "start_time": "2022-07-18T17:09:28.071Z"
   },
   {
    "duration": 4,
    "start_time": "2022-07-18T17:09:28.229Z"
   },
   {
    "duration": 41,
    "start_time": "2022-07-18T17:09:28.236Z"
   },
   {
    "duration": 7,
    "start_time": "2022-07-18T17:09:28.279Z"
   },
   {
    "duration": 443,
    "start_time": "2022-07-18T17:09:28.288Z"
   },
   {
    "duration": 6306,
    "start_time": "2022-07-18T17:10:10.040Z"
   },
   {
    "duration": 11,
    "start_time": "2022-07-18T17:11:13.759Z"
   },
   {
    "duration": 6145,
    "start_time": "2022-07-18T17:11:32.082Z"
   },
   {
    "duration": 2,
    "start_time": "2022-07-18T17:12:44.698Z"
   },
   {
    "duration": 15,
    "start_time": "2022-07-18T17:14:43.007Z"
   },
   {
    "duration": 4,
    "start_time": "2022-07-18T17:16:25.068Z"
   },
   {
    "duration": 24,
    "start_time": "2022-07-18T17:17:27.218Z"
   },
   {
    "duration": 38,
    "start_time": "2022-07-18T17:17:45.598Z"
   },
   {
    "duration": 19,
    "start_time": "2022-07-18T17:18:19.435Z"
   },
   {
    "duration": 19,
    "start_time": "2022-07-18T17:18:38.453Z"
   },
   {
    "duration": 21,
    "start_time": "2022-07-18T17:18:51.529Z"
   },
   {
    "duration": 87,
    "start_time": "2022-07-18T17:19:32.654Z"
   },
   {
    "duration": 33,
    "start_time": "2022-07-18T17:19:37.345Z"
   },
   {
    "duration": 153,
    "start_time": "2022-07-18T17:21:16.822Z"
   },
   {
    "duration": 29,
    "start_time": "2022-07-18T17:21:21.758Z"
   },
   {
    "duration": 116,
    "start_time": "2022-07-18T17:22:27.829Z"
   },
   {
    "duration": 193,
    "start_time": "2022-07-18T17:22:33.186Z"
   },
   {
    "duration": 115,
    "start_time": "2022-07-18T17:22:41.966Z"
   },
   {
    "duration": 7,
    "start_time": "2022-07-18T18:02:42.968Z"
   },
   {
    "duration": 7,
    "start_time": "2022-07-18T18:03:28.875Z"
   },
   {
    "duration": 7,
    "start_time": "2022-07-18T18:03:45.653Z"
   },
   {
    "duration": 4,
    "start_time": "2022-07-18T18:04:01.647Z"
   },
   {
    "duration": 7,
    "start_time": "2022-07-18T18:04:10.151Z"
   },
   {
    "duration": 1332,
    "start_time": "2022-07-20T05:11:25.601Z"
   },
   {
    "duration": 963,
    "start_time": "2022-07-20T05:11:26.935Z"
   },
   {
    "duration": 26,
    "start_time": "2022-07-20T05:11:27.900Z"
   },
   {
    "duration": 24,
    "start_time": "2022-07-20T05:11:27.928Z"
   },
   {
    "duration": 54,
    "start_time": "2022-07-20T05:11:27.954Z"
   },
   {
    "duration": 76,
    "start_time": "2022-07-20T05:11:28.010Z"
   },
   {
    "duration": 23,
    "start_time": "2022-07-20T05:11:28.088Z"
   },
   {
    "duration": 8,
    "start_time": "2022-07-20T05:11:28.113Z"
   },
   {
    "duration": 103,
    "start_time": "2022-07-20T05:11:28.123Z"
   },
   {
    "duration": 2,
    "start_time": "2022-07-20T05:11:28.227Z"
   },
   {
    "duration": 38,
    "start_time": "2022-07-20T05:11:28.231Z"
   },
   {
    "duration": 492,
    "start_time": "2022-07-20T05:11:28.271Z"
   },
   {
    "duration": 7,
    "start_time": "2022-07-20T05:11:28.765Z"
   },
   {
    "duration": 8,
    "start_time": "2022-07-20T05:11:28.774Z"
   },
   {
    "duration": 12,
    "start_time": "2022-07-20T05:11:28.784Z"
   },
   {
    "duration": 179,
    "start_time": "2022-07-20T05:11:28.798Z"
   },
   {
    "duration": 151,
    "start_time": "2022-07-20T05:13:59.012Z"
   },
   {
    "duration": 15,
    "start_time": "2022-07-20T05:14:09.889Z"
   },
   {
    "duration": 6,
    "start_time": "2022-07-20T05:14:14.286Z"
   },
   {
    "duration": 10,
    "start_time": "2022-07-20T05:16:15.142Z"
   },
   {
    "duration": 16,
    "start_time": "2022-07-20T05:16:30.307Z"
   },
   {
    "duration": 7,
    "start_time": "2022-07-20T05:17:00.307Z"
   },
   {
    "duration": 10,
    "start_time": "2022-07-20T05:19:05.379Z"
   },
   {
    "duration": 8,
    "start_time": "2022-07-20T05:19:20.999Z"
   },
   {
    "duration": 7,
    "start_time": "2022-07-20T05:19:37.182Z"
   },
   {
    "duration": 13,
    "start_time": "2022-07-20T05:19:41.567Z"
   },
   {
    "duration": 11,
    "start_time": "2022-07-20T05:19:50.371Z"
   },
   {
    "duration": 9,
    "start_time": "2022-07-20T05:20:05.082Z"
   },
   {
    "duration": 9,
    "start_time": "2022-07-20T05:20:13.304Z"
   },
   {
    "duration": 11,
    "start_time": "2022-07-20T05:20:23.000Z"
   },
   {
    "duration": 8,
    "start_time": "2022-07-20T05:20:35.226Z"
   },
   {
    "duration": 11,
    "start_time": "2022-07-20T05:20:54.684Z"
   },
   {
    "duration": 1181,
    "start_time": "2022-07-20T05:21:00.460Z"
   },
   {
    "duration": 138,
    "start_time": "2022-07-20T05:21:01.643Z"
   },
   {
    "duration": 25,
    "start_time": "2022-07-20T05:21:01.783Z"
   },
   {
    "duration": 19,
    "start_time": "2022-07-20T05:21:01.810Z"
   },
   {
    "duration": 69,
    "start_time": "2022-07-20T05:21:01.832Z"
   },
   {
    "duration": 70,
    "start_time": "2022-07-20T05:21:01.902Z"
   },
   {
    "duration": 22,
    "start_time": "2022-07-20T05:21:01.974Z"
   },
   {
    "duration": 8,
    "start_time": "2022-07-20T05:21:01.997Z"
   },
   {
    "duration": 116,
    "start_time": "2022-07-20T05:21:02.006Z"
   },
   {
    "duration": 2,
    "start_time": "2022-07-20T05:21:02.124Z"
   },
   {
    "duration": 25,
    "start_time": "2022-07-20T05:21:02.128Z"
   },
   {
    "duration": 525,
    "start_time": "2022-07-20T05:21:02.154Z"
   },
   {
    "duration": 17,
    "start_time": "2022-07-20T05:21:02.681Z"
   },
   {
    "duration": 57,
    "start_time": "2022-07-20T05:21:02.701Z"
   },
   {
    "duration": 11,
    "start_time": "2022-07-20T05:21:02.760Z"
   },
   {
    "duration": 12,
    "start_time": "2022-07-20T05:21:02.773Z"
   },
   {
    "duration": 115,
    "start_time": "2022-07-20T05:21:02.787Z"
   },
   {
    "duration": 6,
    "start_time": "2022-07-20T05:21:17.798Z"
   },
   {
    "duration": 13,
    "start_time": "2022-07-20T05:21:20.725Z"
   },
   {
    "duration": 12,
    "start_time": "2022-07-20T05:21:25.589Z"
   },
   {
    "duration": 1237,
    "start_time": "2022-07-20T05:21:34.762Z"
   },
   {
    "duration": 154,
    "start_time": "2022-07-20T05:21:36.002Z"
   },
   {
    "duration": 32,
    "start_time": "2022-07-20T05:21:36.158Z"
   },
   {
    "duration": 35,
    "start_time": "2022-07-20T05:21:36.192Z"
   },
   {
    "duration": 71,
    "start_time": "2022-07-20T05:21:36.231Z"
   },
   {
    "duration": 72,
    "start_time": "2022-07-20T05:21:36.304Z"
   },
   {
    "duration": 21,
    "start_time": "2022-07-20T05:21:36.378Z"
   },
   {
    "duration": 8,
    "start_time": "2022-07-20T05:21:36.400Z"
   },
   {
    "duration": 104,
    "start_time": "2022-07-20T05:21:36.409Z"
   },
   {
    "duration": 3,
    "start_time": "2022-07-20T05:21:36.514Z"
   },
   {
    "duration": 20,
    "start_time": "2022-07-20T05:21:36.519Z"
   },
   {
    "duration": 476,
    "start_time": "2022-07-20T05:21:36.541Z"
   },
   {
    "duration": 34,
    "start_time": "2022-07-20T05:21:37.019Z"
   },
   {
    "duration": 7,
    "start_time": "2022-07-20T05:21:37.055Z"
   },
   {
    "duration": 8,
    "start_time": "2022-07-20T05:21:37.064Z"
   },
   {
    "duration": 9,
    "start_time": "2022-07-20T05:21:37.074Z"
   },
   {
    "duration": 115,
    "start_time": "2022-07-20T05:21:37.085Z"
   },
   {
    "duration": 7,
    "start_time": "2022-07-20T05:21:56.964Z"
   },
   {
    "duration": 1182,
    "start_time": "2022-07-20T05:22:31.777Z"
   },
   {
    "duration": 140,
    "start_time": "2022-07-20T05:22:32.962Z"
   },
   {
    "duration": 29,
    "start_time": "2022-07-20T05:22:33.103Z"
   },
   {
    "duration": 35,
    "start_time": "2022-07-20T05:22:33.134Z"
   },
   {
    "duration": 91,
    "start_time": "2022-07-20T05:22:33.172Z"
   },
   {
    "duration": 73,
    "start_time": "2022-07-20T05:22:33.265Z"
   },
   {
    "duration": 32,
    "start_time": "2022-07-20T05:22:33.340Z"
   },
   {
    "duration": 9,
    "start_time": "2022-07-20T05:22:33.373Z"
   },
   {
    "duration": 108,
    "start_time": "2022-07-20T05:22:33.384Z"
   },
   {
    "duration": 2,
    "start_time": "2022-07-20T05:22:33.494Z"
   },
   {
    "duration": 20,
    "start_time": "2022-07-20T05:22:33.498Z"
   },
   {
    "duration": 535,
    "start_time": "2022-07-20T05:22:33.520Z"
   },
   {
    "duration": 8,
    "start_time": "2022-07-20T05:22:34.057Z"
   },
   {
    "duration": 12,
    "start_time": "2022-07-20T05:22:34.068Z"
   },
   {
    "duration": 13,
    "start_time": "2022-07-20T05:22:34.082Z"
   },
   {
    "duration": 60,
    "start_time": "2022-07-20T05:22:34.097Z"
   },
   {
    "duration": 13,
    "start_time": "2022-07-20T05:22:34.159Z"
   },
   {
    "duration": 129,
    "start_time": "2022-07-20T05:22:34.174Z"
   },
   {
    "duration": 6,
    "start_time": "2022-07-20T05:22:55.233Z"
   },
   {
    "duration": 7,
    "start_time": "2022-07-20T05:22:56.253Z"
   },
   {
    "duration": 1216,
    "start_time": "2022-07-20T05:23:01.579Z"
   },
   {
    "duration": 142,
    "start_time": "2022-07-20T05:23:02.797Z"
   },
   {
    "duration": 32,
    "start_time": "2022-07-20T05:23:02.941Z"
   },
   {
    "duration": 21,
    "start_time": "2022-07-20T05:23:02.975Z"
   },
   {
    "duration": 78,
    "start_time": "2022-07-20T05:23:03.000Z"
   },
   {
    "duration": 54,
    "start_time": "2022-07-20T05:23:03.080Z"
   },
   {
    "duration": 32,
    "start_time": "2022-07-20T05:23:03.136Z"
   },
   {
    "duration": 8,
    "start_time": "2022-07-20T05:23:03.170Z"
   },
   {
    "duration": 104,
    "start_time": "2022-07-20T05:23:03.180Z"
   },
   {
    "duration": 3,
    "start_time": "2022-07-20T05:23:03.286Z"
   },
   {
    "duration": 18,
    "start_time": "2022-07-20T05:23:03.290Z"
   },
   {
    "duration": 503,
    "start_time": "2022-07-20T05:23:03.310Z"
   },
   {
    "duration": 8,
    "start_time": "2022-07-20T05:23:03.815Z"
   },
   {
    "duration": 8,
    "start_time": "2022-07-20T05:23:03.853Z"
   },
   {
    "duration": 7,
    "start_time": "2022-07-20T05:23:03.863Z"
   },
   {
    "duration": 6,
    "start_time": "2022-07-20T05:23:03.872Z"
   },
   {
    "duration": 10,
    "start_time": "2022-07-20T05:23:03.880Z"
   },
   {
    "duration": 136,
    "start_time": "2022-07-20T05:23:03.892Z"
   },
   {
    "duration": 4,
    "start_time": "2022-07-20T05:23:28.947Z"
   },
   {
    "duration": 8,
    "start_time": "2022-07-20T05:23:34.029Z"
   },
   {
    "duration": 4,
    "start_time": "2022-07-20T05:23:44.408Z"
   },
   {
    "duration": 8,
    "start_time": "2022-07-20T05:23:48.700Z"
   },
   {
    "duration": 4,
    "start_time": "2022-07-20T05:23:55.197Z"
   },
   {
    "duration": 1145,
    "start_time": "2022-07-20T05:24:11.000Z"
   },
   {
    "duration": 145,
    "start_time": "2022-07-20T05:24:12.147Z"
   },
   {
    "duration": 25,
    "start_time": "2022-07-20T05:24:12.293Z"
   },
   {
    "duration": 32,
    "start_time": "2022-07-20T05:24:12.320Z"
   },
   {
    "duration": 56,
    "start_time": "2022-07-20T05:24:12.355Z"
   },
   {
    "duration": 76,
    "start_time": "2022-07-20T05:24:12.413Z"
   },
   {
    "duration": 21,
    "start_time": "2022-07-20T05:24:12.490Z"
   },
   {
    "duration": 14,
    "start_time": "2022-07-20T05:24:12.513Z"
   },
   {
    "duration": 105,
    "start_time": "2022-07-20T05:24:12.528Z"
   },
   {
    "duration": 3,
    "start_time": "2022-07-20T05:24:12.634Z"
   },
   {
    "duration": 26,
    "start_time": "2022-07-20T05:24:12.639Z"
   },
   {
    "duration": 462,
    "start_time": "2022-07-20T05:24:12.667Z"
   },
   {
    "duration": 6,
    "start_time": "2022-07-20T05:24:13.131Z"
   },
   {
    "duration": 5,
    "start_time": "2022-07-20T05:24:13.151Z"
   },
   {
    "duration": 10,
    "start_time": "2022-07-20T05:24:13.158Z"
   },
   {
    "duration": 10,
    "start_time": "2022-07-20T05:24:13.169Z"
   },
   {
    "duration": 72,
    "start_time": "2022-07-20T05:24:13.181Z"
   },
   {
    "duration": 114,
    "start_time": "2022-07-20T05:24:13.255Z"
   },
   {
    "duration": 8,
    "start_time": "2022-07-20T05:24:23.264Z"
   },
   {
    "duration": 5,
    "start_time": "2022-07-20T05:24:42.516Z"
   },
   {
    "duration": 9,
    "start_time": "2022-07-20T05:24:48.941Z"
   },
   {
    "duration": 8,
    "start_time": "2022-07-20T05:25:00.830Z"
   },
   {
    "duration": 4,
    "start_time": "2022-07-20T05:25:07.428Z"
   },
   {
    "duration": 4,
    "start_time": "2022-07-20T05:25:11.191Z"
   },
   {
    "duration": 7,
    "start_time": "2022-07-20T05:27:36.524Z"
   },
   {
    "duration": 10,
    "start_time": "2022-07-20T05:29:05.698Z"
   },
   {
    "duration": 136,
    "start_time": "2022-07-20T05:31:12.747Z"
   },
   {
    "duration": 78,
    "start_time": "2022-07-20T05:31:22.680Z"
   },
   {
    "duration": 30,
    "start_time": "2022-07-20T05:31:28.715Z"
   },
   {
    "duration": 52,
    "start_time": "2022-07-20T05:31:44.677Z"
   },
   {
    "duration": 21,
    "start_time": "2022-07-20T05:32:32.952Z"
   },
   {
    "duration": 21,
    "start_time": "2022-07-20T05:32:48.719Z"
   },
   {
    "duration": 44,
    "start_time": "2022-07-20T05:36:21.260Z"
   },
   {
    "duration": 44,
    "start_time": "2022-07-20T05:36:51.484Z"
   },
   {
    "duration": 32,
    "start_time": "2022-07-20T05:38:58.644Z"
   },
   {
    "duration": 14,
    "start_time": "2022-07-20T05:39:51.991Z"
   },
   {
    "duration": 4,
    "start_time": "2022-07-20T05:40:25.603Z"
   },
   {
    "duration": 14,
    "start_time": "2022-07-20T05:40:34.177Z"
   },
   {
    "duration": 15,
    "start_time": "2022-07-20T05:41:40.848Z"
   },
   {
    "duration": 14,
    "start_time": "2022-07-20T05:42:47.539Z"
   },
   {
    "duration": 14,
    "start_time": "2022-07-20T05:44:05.775Z"
   },
   {
    "duration": 16,
    "start_time": "2022-07-20T05:45:25.891Z"
   },
   {
    "duration": 15,
    "start_time": "2022-07-20T05:45:41.662Z"
   },
   {
    "duration": 14,
    "start_time": "2022-07-20T05:45:53.481Z"
   },
   {
    "duration": 20,
    "start_time": "2022-07-20T05:46:05.804Z"
   },
   {
    "duration": 15,
    "start_time": "2022-07-20T05:46:09.839Z"
   },
   {
    "duration": 15,
    "start_time": "2022-07-20T05:46:15.861Z"
   },
   {
    "duration": 14,
    "start_time": "2022-07-20T05:46:42.255Z"
   },
   {
    "duration": 1143,
    "start_time": "2022-07-20T06:23:03.502Z"
   },
   {
    "duration": 140,
    "start_time": "2022-07-20T06:23:04.647Z"
   },
   {
    "duration": 24,
    "start_time": "2022-07-20T06:23:04.788Z"
   },
   {
    "duration": 16,
    "start_time": "2022-07-20T06:23:04.813Z"
   },
   {
    "duration": 65,
    "start_time": "2022-07-20T06:23:04.831Z"
   },
   {
    "duration": 61,
    "start_time": "2022-07-20T06:23:04.898Z"
   },
   {
    "duration": 20,
    "start_time": "2022-07-20T06:23:04.961Z"
   },
   {
    "duration": 7,
    "start_time": "2022-07-20T06:23:04.982Z"
   },
   {
    "duration": 112,
    "start_time": "2022-07-20T06:23:04.990Z"
   },
   {
    "duration": 2,
    "start_time": "2022-07-20T06:23:05.105Z"
   },
   {
    "duration": 23,
    "start_time": "2022-07-20T06:23:05.109Z"
   },
   {
    "duration": 477,
    "start_time": "2022-07-20T06:23:05.133Z"
   },
   {
    "duration": 664,
    "start_time": "2022-07-20T06:23:05.612Z"
   },
   {
    "duration": 9,
    "start_time": "2022-07-20T06:23:06.278Z"
   },
   {
    "duration": 5,
    "start_time": "2022-07-20T06:23:06.288Z"
   },
   {
    "duration": 5,
    "start_time": "2022-07-20T06:23:06.295Z"
   },
   {
    "duration": 8,
    "start_time": "2022-07-20T06:23:06.301Z"
   },
   {
    "duration": 89,
    "start_time": "2022-07-20T06:23:06.310Z"
   },
   {
    "duration": 8,
    "start_time": "2022-07-20T06:24:18.146Z"
   },
   {
    "duration": 1142,
    "start_time": "2022-07-20T06:25:01.280Z"
   },
   {
    "duration": 137,
    "start_time": "2022-07-20T06:25:02.424Z"
   },
   {
    "duration": 29,
    "start_time": "2022-07-20T06:25:02.563Z"
   },
   {
    "duration": 38,
    "start_time": "2022-07-20T06:25:02.594Z"
   },
   {
    "duration": 60,
    "start_time": "2022-07-20T06:25:02.634Z"
   },
   {
    "duration": 69,
    "start_time": "2022-07-20T06:25:02.696Z"
   },
   {
    "duration": 20,
    "start_time": "2022-07-20T06:25:02.767Z"
   },
   {
    "duration": 7,
    "start_time": "2022-07-20T06:25:02.789Z"
   },
   {
    "duration": 107,
    "start_time": "2022-07-20T06:25:02.798Z"
   },
   {
    "duration": 3,
    "start_time": "2022-07-20T06:25:02.906Z"
   },
   {
    "duration": 33,
    "start_time": "2022-07-20T06:25:02.910Z"
   },
   {
    "duration": 510,
    "start_time": "2022-07-20T06:25:02.945Z"
   },
   {
    "duration": 30,
    "start_time": "2022-07-20T06:25:03.459Z"
   },
   {
    "duration": 7,
    "start_time": "2022-07-20T06:25:03.491Z"
   },
   {
    "duration": 57,
    "start_time": "2022-07-20T06:25:03.499Z"
   },
   {
    "duration": 7,
    "start_time": "2022-07-20T06:25:03.560Z"
   },
   {
    "duration": 23,
    "start_time": "2022-07-20T06:25:03.569Z"
   },
   {
    "duration": 83,
    "start_time": "2022-07-20T06:25:03.593Z"
   },
   {
    "duration": 20,
    "start_time": "2022-07-20T06:25:15.171Z"
   },
   {
    "duration": 7,
    "start_time": "2022-07-20T06:25:28.215Z"
   },
   {
    "duration": 1206,
    "start_time": "2022-07-20T06:26:12.467Z"
   },
   {
    "duration": 149,
    "start_time": "2022-07-20T06:26:13.675Z"
   },
   {
    "duration": 28,
    "start_time": "2022-07-20T06:26:13.826Z"
   },
   {
    "duration": 19,
    "start_time": "2022-07-20T06:26:13.856Z"
   },
   {
    "duration": 53,
    "start_time": "2022-07-20T06:26:13.877Z"
   },
   {
    "duration": 76,
    "start_time": "2022-07-20T06:26:13.932Z"
   },
   {
    "duration": 26,
    "start_time": "2022-07-20T06:26:14.009Z"
   },
   {
    "duration": 21,
    "start_time": "2022-07-20T06:26:14.037Z"
   },
   {
    "duration": 104,
    "start_time": "2022-07-20T06:26:14.060Z"
   },
   {
    "duration": 2,
    "start_time": "2022-07-20T06:26:14.166Z"
   },
   {
    "duration": 21,
    "start_time": "2022-07-20T06:26:14.170Z"
   },
   {
    "duration": 511,
    "start_time": "2022-07-20T06:26:14.193Z"
   },
   {
    "duration": 49,
    "start_time": "2022-07-20T06:26:14.706Z"
   },
   {
    "duration": 8,
    "start_time": "2022-07-20T06:26:14.758Z"
   },
   {
    "duration": 11,
    "start_time": "2022-07-20T06:26:14.768Z"
   },
   {
    "duration": 6,
    "start_time": "2022-07-20T06:26:14.780Z"
   },
   {
    "duration": 10,
    "start_time": "2022-07-20T06:26:14.787Z"
   },
   {
    "duration": 70,
    "start_time": "2022-07-20T06:26:14.853Z"
   },
   {
    "duration": 8,
    "start_time": "2022-07-20T06:26:41.334Z"
   },
   {
    "duration": 9,
    "start_time": "2022-07-20T06:26:58.210Z"
   },
   {
    "duration": 20,
    "start_time": "2022-07-20T06:27:07.146Z"
   },
   {
    "duration": 6,
    "start_time": "2022-07-20T06:27:10.743Z"
   },
   {
    "duration": 23,
    "start_time": "2022-07-20T06:28:11.863Z"
   },
   {
    "duration": 21,
    "start_time": "2022-07-20T06:28:25.281Z"
   },
   {
    "duration": 1266,
    "start_time": "2022-07-20T06:29:14.942Z"
   },
   {
    "duration": 166,
    "start_time": "2022-07-20T06:29:16.211Z"
   },
   {
    "duration": 24,
    "start_time": "2022-07-20T06:29:16.379Z"
   },
   {
    "duration": 16,
    "start_time": "2022-07-20T06:29:16.405Z"
   },
   {
    "duration": 69,
    "start_time": "2022-07-20T06:29:16.423Z"
   },
   {
    "duration": 65,
    "start_time": "2022-07-20T06:29:16.494Z"
   },
   {
    "duration": 23,
    "start_time": "2022-07-20T06:29:16.561Z"
   },
   {
    "duration": 6,
    "start_time": "2022-07-20T06:29:16.586Z"
   },
   {
    "duration": 113,
    "start_time": "2022-07-20T06:29:16.597Z"
   },
   {
    "duration": 2,
    "start_time": "2022-07-20T06:29:16.713Z"
   },
   {
    "duration": 26,
    "start_time": "2022-07-20T06:29:16.716Z"
   },
   {
    "duration": 476,
    "start_time": "2022-07-20T06:29:16.744Z"
   },
   {
    "duration": 39,
    "start_time": "2022-07-20T06:29:17.222Z"
   },
   {
    "duration": 7,
    "start_time": "2022-07-20T06:29:17.262Z"
   },
   {
    "duration": 7,
    "start_time": "2022-07-20T06:29:17.270Z"
   },
   {
    "duration": 4,
    "start_time": "2022-07-20T06:29:17.279Z"
   },
   {
    "duration": 9,
    "start_time": "2022-07-20T06:29:17.285Z"
   },
   {
    "duration": 113,
    "start_time": "2022-07-20T06:29:17.295Z"
   },
   {
    "duration": 1257,
    "start_time": "2022-07-20T06:30:23.634Z"
   },
   {
    "duration": 152,
    "start_time": "2022-07-20T06:30:24.893Z"
   },
   {
    "duration": 28,
    "start_time": "2022-07-20T06:30:25.047Z"
   },
   {
    "duration": 19,
    "start_time": "2022-07-20T06:30:25.077Z"
   },
   {
    "duration": 76,
    "start_time": "2022-07-20T06:30:25.099Z"
   },
   {
    "duration": 59,
    "start_time": "2022-07-20T06:30:25.177Z"
   },
   {
    "duration": 27,
    "start_time": "2022-07-20T06:30:25.238Z"
   },
   {
    "duration": 7,
    "start_time": "2022-07-20T06:30:25.266Z"
   },
   {
    "duration": 113,
    "start_time": "2022-07-20T06:30:25.275Z"
   },
   {
    "duration": 2,
    "start_time": "2022-07-20T06:30:25.390Z"
   },
   {
    "duration": 39,
    "start_time": "2022-07-20T06:30:25.394Z"
   },
   {
    "duration": 500,
    "start_time": "2022-07-20T06:30:25.435Z"
   },
   {
    "duration": 42,
    "start_time": "2022-07-20T06:30:25.937Z"
   },
   {
    "duration": 6,
    "start_time": "2022-07-20T06:30:25.982Z"
   },
   {
    "duration": 64,
    "start_time": "2022-07-20T06:30:25.990Z"
   },
   {
    "duration": 11,
    "start_time": "2022-07-20T06:30:26.057Z"
   },
   {
    "duration": 14,
    "start_time": "2022-07-20T06:30:26.070Z"
   },
   {
    "duration": 129,
    "start_time": "2022-07-20T06:30:26.086Z"
   },
   {
    "duration": 1191,
    "start_time": "2022-07-20T06:31:12.449Z"
   },
   {
    "duration": 137,
    "start_time": "2022-07-20T06:31:13.642Z"
   },
   {
    "duration": 25,
    "start_time": "2022-07-20T06:31:13.780Z"
   },
   {
    "duration": 18,
    "start_time": "2022-07-20T06:31:13.807Z"
   },
   {
    "duration": 66,
    "start_time": "2022-07-20T06:31:13.826Z"
   },
   {
    "duration": 75,
    "start_time": "2022-07-20T06:31:13.893Z"
   },
   {
    "duration": 19,
    "start_time": "2022-07-20T06:31:13.970Z"
   },
   {
    "duration": 6,
    "start_time": "2022-07-20T06:31:13.991Z"
   },
   {
    "duration": 98,
    "start_time": "2022-07-20T06:31:13.999Z"
   },
   {
    "duration": 3,
    "start_time": "2022-07-20T06:31:14.099Z"
   },
   {
    "duration": 55,
    "start_time": "2022-07-20T06:31:14.104Z"
   },
   {
    "duration": 499,
    "start_time": "2022-07-20T06:31:14.160Z"
   },
   {
    "duration": 24,
    "start_time": "2022-07-20T06:31:14.660Z"
   },
   {
    "duration": 7,
    "start_time": "2022-07-20T06:31:14.685Z"
   },
   {
    "duration": 60,
    "start_time": "2022-07-20T06:31:14.694Z"
   },
   {
    "duration": 6,
    "start_time": "2022-07-20T06:31:14.755Z"
   },
   {
    "duration": 9,
    "start_time": "2022-07-20T06:31:14.763Z"
   },
   {
    "duration": 85,
    "start_time": "2022-07-20T06:31:14.774Z"
   },
   {
    "duration": 15,
    "start_time": "2022-07-20T06:34:15.547Z"
   },
   {
    "duration": 173,
    "start_time": "2022-07-20T06:34:21.416Z"
   },
   {
    "duration": 22,
    "start_time": "2022-07-20T06:34:23.624Z"
   },
   {
    "duration": 15,
    "start_time": "2022-07-20T06:34:30.536Z"
   },
   {
    "duration": 16,
    "start_time": "2022-07-20T06:34:54.010Z"
   },
   {
    "duration": 1041,
    "start_time": "2022-07-20T06:40:54.848Z"
   },
   {
    "duration": 1253,
    "start_time": "2022-07-20T06:41:33.634Z"
   },
   {
    "duration": 1074,
    "start_time": "2022-07-20T06:42:51.752Z"
   },
   {
    "duration": 1256,
    "start_time": "2022-07-20T06:43:08.115Z"
   },
   {
    "duration": 140,
    "start_time": "2022-07-20T06:43:09.372Z"
   },
   {
    "duration": 24,
    "start_time": "2022-07-20T06:43:09.514Z"
   },
   {
    "duration": 22,
    "start_time": "2022-07-20T06:43:09.540Z"
   },
   {
    "duration": 122,
    "start_time": "2022-07-20T06:43:09.564Z"
   },
   {
    "duration": 0,
    "start_time": "2022-07-20T06:43:09.688Z"
   },
   {
    "duration": 0,
    "start_time": "2022-07-20T06:43:09.689Z"
   },
   {
    "duration": 0,
    "start_time": "2022-07-20T06:43:09.691Z"
   },
   {
    "duration": 0,
    "start_time": "2022-07-20T06:43:09.692Z"
   },
   {
    "duration": 0,
    "start_time": "2022-07-20T06:43:09.693Z"
   },
   {
    "duration": 0,
    "start_time": "2022-07-20T06:43:09.695Z"
   },
   {
    "duration": 0,
    "start_time": "2022-07-20T06:43:09.696Z"
   },
   {
    "duration": 0,
    "start_time": "2022-07-20T06:43:09.697Z"
   },
   {
    "duration": 0,
    "start_time": "2022-07-20T06:43:09.699Z"
   },
   {
    "duration": 0,
    "start_time": "2022-07-20T06:43:09.700Z"
   },
   {
    "duration": 0,
    "start_time": "2022-07-20T06:43:09.701Z"
   },
   {
    "duration": 0,
    "start_time": "2022-07-20T06:43:09.703Z"
   },
   {
    "duration": 0,
    "start_time": "2022-07-20T06:43:09.704Z"
   },
   {
    "duration": 0,
    "start_time": "2022-07-20T06:43:09.706Z"
   },
   {
    "duration": 0,
    "start_time": "2022-07-20T06:43:09.707Z"
   },
   {
    "duration": 11,
    "start_time": "2022-07-20T06:43:21.942Z"
   },
   {
    "duration": 10,
    "start_time": "2022-07-20T06:43:40.160Z"
   },
   {
    "duration": 9,
    "start_time": "2022-07-20T06:43:48.866Z"
   },
   {
    "duration": 1207,
    "start_time": "2022-07-20T06:43:53.754Z"
   },
   {
    "duration": 156,
    "start_time": "2022-07-20T06:43:54.963Z"
   },
   {
    "duration": 32,
    "start_time": "2022-07-20T06:43:55.121Z"
   },
   {
    "duration": 19,
    "start_time": "2022-07-20T06:43:55.155Z"
   },
   {
    "duration": 20,
    "start_time": "2022-07-20T06:43:55.176Z"
   },
   {
    "duration": 116,
    "start_time": "2022-07-20T06:43:55.199Z"
   },
   {
    "duration": 0,
    "start_time": "2022-07-20T06:43:55.317Z"
   },
   {
    "duration": 0,
    "start_time": "2022-07-20T06:43:55.318Z"
   },
   {
    "duration": 0,
    "start_time": "2022-07-20T06:43:55.319Z"
   },
   {
    "duration": 0,
    "start_time": "2022-07-20T06:43:55.320Z"
   },
   {
    "duration": 0,
    "start_time": "2022-07-20T06:43:55.321Z"
   },
   {
    "duration": 0,
    "start_time": "2022-07-20T06:43:55.322Z"
   },
   {
    "duration": 0,
    "start_time": "2022-07-20T06:43:55.323Z"
   },
   {
    "duration": 1,
    "start_time": "2022-07-20T06:43:55.324Z"
   },
   {
    "duration": 0,
    "start_time": "2022-07-20T06:43:55.326Z"
   },
   {
    "duration": 0,
    "start_time": "2022-07-20T06:43:55.326Z"
   },
   {
    "duration": 0,
    "start_time": "2022-07-20T06:43:55.327Z"
   },
   {
    "duration": 0,
    "start_time": "2022-07-20T06:43:55.328Z"
   },
   {
    "duration": 0,
    "start_time": "2022-07-20T06:43:55.329Z"
   },
   {
    "duration": 0,
    "start_time": "2022-07-20T06:43:55.353Z"
   },
   {
    "duration": 66,
    "start_time": "2022-07-20T06:45:19.189Z"
   },
   {
    "duration": 57,
    "start_time": "2022-07-20T06:45:28.195Z"
   },
   {
    "duration": 85,
    "start_time": "2022-07-20T06:45:39.547Z"
   },
   {
    "duration": 5,
    "start_time": "2022-07-20T06:45:42.335Z"
   },
   {
    "duration": 12,
    "start_time": "2022-07-20T06:46:01.213Z"
   },
   {
    "duration": 6,
    "start_time": "2022-07-20T06:46:04.836Z"
   },
   {
    "duration": 5,
    "start_time": "2022-07-20T06:46:08.168Z"
   },
   {
    "duration": 38,
    "start_time": "2022-07-20T06:46:14.366Z"
   },
   {
    "duration": 19,
    "start_time": "2022-07-20T06:50:24.942Z"
   },
   {
    "duration": 4,
    "start_time": "2022-07-20T06:51:09.580Z"
   },
   {
    "duration": 35,
    "start_time": "2022-07-20T06:51:15.058Z"
   },
   {
    "duration": 73,
    "start_time": "2022-07-20T06:52:43.750Z"
   },
   {
    "duration": 79,
    "start_time": "2022-07-20T06:52:48.494Z"
   },
   {
    "duration": 12,
    "start_time": "2022-07-20T06:52:53.417Z"
   },
   {
    "duration": 31,
    "start_time": "2022-07-20T06:53:01.171Z"
   },
   {
    "duration": 77,
    "start_time": "2022-07-20T06:53:08.664Z"
   },
   {
    "duration": 75,
    "start_time": "2022-07-20T06:53:11.275Z"
   },
   {
    "duration": 81,
    "start_time": "2022-07-20T06:53:52.090Z"
   },
   {
    "duration": 1186,
    "start_time": "2022-07-20T06:54:02.201Z"
   },
   {
    "duration": 147,
    "start_time": "2022-07-20T06:54:03.389Z"
   },
   {
    "duration": 38,
    "start_time": "2022-07-20T06:54:03.537Z"
   },
   {
    "duration": 18,
    "start_time": "2022-07-20T06:54:03.577Z"
   },
   {
    "duration": 109,
    "start_time": "2022-07-20T06:54:03.597Z"
   },
   {
    "duration": 122,
    "start_time": "2022-07-20T06:54:03.708Z"
   },
   {
    "duration": 0,
    "start_time": "2022-07-20T06:54:03.833Z"
   },
   {
    "duration": 0,
    "start_time": "2022-07-20T06:54:03.834Z"
   },
   {
    "duration": 0,
    "start_time": "2022-07-20T06:54:03.836Z"
   },
   {
    "duration": 0,
    "start_time": "2022-07-20T06:54:03.837Z"
   },
   {
    "duration": 0,
    "start_time": "2022-07-20T06:54:03.852Z"
   },
   {
    "duration": 0,
    "start_time": "2022-07-20T06:54:03.853Z"
   },
   {
    "duration": 1,
    "start_time": "2022-07-20T06:54:03.854Z"
   },
   {
    "duration": 0,
    "start_time": "2022-07-20T06:54:03.856Z"
   },
   {
    "duration": 0,
    "start_time": "2022-07-20T06:54:03.856Z"
   },
   {
    "duration": 0,
    "start_time": "2022-07-20T06:54:03.858Z"
   },
   {
    "duration": 0,
    "start_time": "2022-07-20T06:54:03.859Z"
   },
   {
    "duration": 0,
    "start_time": "2022-07-20T06:54:03.860Z"
   },
   {
    "duration": 0,
    "start_time": "2022-07-20T06:54:03.861Z"
   },
   {
    "duration": 0,
    "start_time": "2022-07-20T06:54:03.862Z"
   },
   {
    "duration": 1252,
    "start_time": "2022-07-20T06:54:31.542Z"
   },
   {
    "duration": 147,
    "start_time": "2022-07-20T06:54:32.796Z"
   },
   {
    "duration": 40,
    "start_time": "2022-07-20T06:54:32.944Z"
   },
   {
    "duration": 17,
    "start_time": "2022-07-20T06:54:32.987Z"
   },
   {
    "duration": 102,
    "start_time": "2022-07-20T06:54:33.005Z"
   },
   {
    "duration": 115,
    "start_time": "2022-07-20T06:54:33.108Z"
   },
   {
    "duration": 0,
    "start_time": "2022-07-20T06:54:33.224Z"
   },
   {
    "duration": 0,
    "start_time": "2022-07-20T06:54:33.226Z"
   },
   {
    "duration": 0,
    "start_time": "2022-07-20T06:54:33.226Z"
   },
   {
    "duration": 0,
    "start_time": "2022-07-20T06:54:33.227Z"
   },
   {
    "duration": 0,
    "start_time": "2022-07-20T06:54:33.228Z"
   },
   {
    "duration": 0,
    "start_time": "2022-07-20T06:54:33.229Z"
   },
   {
    "duration": 0,
    "start_time": "2022-07-20T06:54:33.230Z"
   },
   {
    "duration": 0,
    "start_time": "2022-07-20T06:54:33.231Z"
   },
   {
    "duration": 0,
    "start_time": "2022-07-20T06:54:33.232Z"
   },
   {
    "duration": 0,
    "start_time": "2022-07-20T06:54:33.233Z"
   },
   {
    "duration": 0,
    "start_time": "2022-07-20T06:54:33.234Z"
   },
   {
    "duration": 0,
    "start_time": "2022-07-20T06:54:33.253Z"
   },
   {
    "duration": 0,
    "start_time": "2022-07-20T06:54:33.255Z"
   },
   {
    "duration": 0,
    "start_time": "2022-07-20T06:54:33.256Z"
   },
   {
    "duration": 19,
    "start_time": "2022-07-20T06:55:13.750Z"
   },
   {
    "duration": 77,
    "start_time": "2022-07-20T06:55:26.487Z"
   },
   {
    "duration": 12,
    "start_time": "2022-07-20T06:55:30.906Z"
   },
   {
    "duration": 13,
    "start_time": "2022-07-20T06:55:34.013Z"
   },
   {
    "duration": 13,
    "start_time": "2022-07-20T06:55:53.437Z"
   },
   {
    "duration": 12,
    "start_time": "2022-07-20T06:56:06.796Z"
   },
   {
    "duration": 73,
    "start_time": "2022-07-20T06:56:12.290Z"
   },
   {
    "duration": 1260,
    "start_time": "2022-07-20T06:56:18.041Z"
   },
   {
    "duration": 150,
    "start_time": "2022-07-20T06:56:19.302Z"
   },
   {
    "duration": 27,
    "start_time": "2022-07-20T06:56:19.454Z"
   },
   {
    "duration": 19,
    "start_time": "2022-07-20T06:56:19.482Z"
   },
   {
    "duration": 107,
    "start_time": "2022-07-20T06:56:19.503Z"
   },
   {
    "duration": 111,
    "start_time": "2022-07-20T06:56:19.612Z"
   },
   {
    "duration": 0,
    "start_time": "2022-07-20T06:56:19.725Z"
   },
   {
    "duration": 0,
    "start_time": "2022-07-20T06:56:19.726Z"
   },
   {
    "duration": 0,
    "start_time": "2022-07-20T06:56:19.727Z"
   },
   {
    "duration": 0,
    "start_time": "2022-07-20T06:56:19.728Z"
   },
   {
    "duration": 0,
    "start_time": "2022-07-20T06:56:19.729Z"
   },
   {
    "duration": 0,
    "start_time": "2022-07-20T06:56:19.730Z"
   },
   {
    "duration": 0,
    "start_time": "2022-07-20T06:56:19.731Z"
   },
   {
    "duration": 0,
    "start_time": "2022-07-20T06:56:19.732Z"
   },
   {
    "duration": 0,
    "start_time": "2022-07-20T06:56:19.732Z"
   },
   {
    "duration": 0,
    "start_time": "2022-07-20T06:56:19.734Z"
   },
   {
    "duration": 0,
    "start_time": "2022-07-20T06:56:19.753Z"
   },
   {
    "duration": 0,
    "start_time": "2022-07-20T06:56:19.754Z"
   },
   {
    "duration": 0,
    "start_time": "2022-07-20T06:56:19.756Z"
   },
   {
    "duration": 0,
    "start_time": "2022-07-20T06:56:19.757Z"
   },
   {
    "duration": 1231,
    "start_time": "2022-07-20T07:05:03.842Z"
   },
   {
    "duration": 141,
    "start_time": "2022-07-20T07:05:05.075Z"
   },
   {
    "duration": 25,
    "start_time": "2022-07-20T07:05:05.217Z"
   },
   {
    "duration": 23,
    "start_time": "2022-07-20T07:05:05.244Z"
   },
   {
    "duration": 105,
    "start_time": "2022-07-20T07:05:05.269Z"
   },
   {
    "duration": 104,
    "start_time": "2022-07-20T07:05:05.376Z"
   },
   {
    "duration": 1,
    "start_time": "2022-07-20T07:05:05.481Z"
   },
   {
    "duration": 0,
    "start_time": "2022-07-20T07:05:05.483Z"
   },
   {
    "duration": 0,
    "start_time": "2022-07-20T07:05:05.484Z"
   },
   {
    "duration": 0,
    "start_time": "2022-07-20T07:05:05.485Z"
   },
   {
    "duration": 0,
    "start_time": "2022-07-20T07:05:05.486Z"
   },
   {
    "duration": 0,
    "start_time": "2022-07-20T07:05:05.487Z"
   },
   {
    "duration": 0,
    "start_time": "2022-07-20T07:05:05.488Z"
   },
   {
    "duration": 0,
    "start_time": "2022-07-20T07:05:05.490Z"
   },
   {
    "duration": 0,
    "start_time": "2022-07-20T07:05:05.491Z"
   },
   {
    "duration": 0,
    "start_time": "2022-07-20T07:05:05.491Z"
   },
   {
    "duration": 0,
    "start_time": "2022-07-20T07:05:05.492Z"
   },
   {
    "duration": 0,
    "start_time": "2022-07-20T07:05:05.493Z"
   },
   {
    "duration": 0,
    "start_time": "2022-07-20T07:05:05.494Z"
   },
   {
    "duration": 0,
    "start_time": "2022-07-20T07:05:05.495Z"
   },
   {
    "duration": 1177,
    "start_time": "2022-07-20T07:07:29.475Z"
   },
   {
    "duration": 141,
    "start_time": "2022-07-20T07:07:30.654Z"
   },
   {
    "duration": 25,
    "start_time": "2022-07-20T07:07:30.796Z"
   },
   {
    "duration": 32,
    "start_time": "2022-07-20T07:07:30.823Z"
   },
   {
    "duration": 79,
    "start_time": "2022-07-20T07:07:30.856Z"
   },
   {
    "duration": 106,
    "start_time": "2022-07-20T07:07:30.937Z"
   },
   {
    "duration": 0,
    "start_time": "2022-07-20T07:07:31.045Z"
   },
   {
    "duration": 0,
    "start_time": "2022-07-20T07:07:31.052Z"
   },
   {
    "duration": 0,
    "start_time": "2022-07-20T07:07:31.053Z"
   },
   {
    "duration": 0,
    "start_time": "2022-07-20T07:07:31.054Z"
   },
   {
    "duration": 0,
    "start_time": "2022-07-20T07:07:31.055Z"
   },
   {
    "duration": 0,
    "start_time": "2022-07-20T07:07:31.056Z"
   },
   {
    "duration": 0,
    "start_time": "2022-07-20T07:07:31.057Z"
   },
   {
    "duration": 0,
    "start_time": "2022-07-20T07:07:31.057Z"
   },
   {
    "duration": 0,
    "start_time": "2022-07-20T07:07:31.058Z"
   },
   {
    "duration": 0,
    "start_time": "2022-07-20T07:07:31.059Z"
   },
   {
    "duration": 0,
    "start_time": "2022-07-20T07:07:31.060Z"
   },
   {
    "duration": 0,
    "start_time": "2022-07-20T07:07:31.061Z"
   },
   {
    "duration": 0,
    "start_time": "2022-07-20T07:07:31.062Z"
   },
   {
    "duration": 0,
    "start_time": "2022-07-20T07:07:31.063Z"
   },
   {
    "duration": 1156,
    "start_time": "2022-07-20T07:09:41.494Z"
   },
   {
    "duration": 139,
    "start_time": "2022-07-20T07:09:42.652Z"
   },
   {
    "duration": 27,
    "start_time": "2022-07-20T07:09:42.792Z"
   },
   {
    "duration": 112,
    "start_time": "2022-07-20T07:09:42.821Z"
   },
   {
    "duration": 11,
    "start_time": "2022-07-20T07:09:42.935Z"
   },
   {
    "duration": 101,
    "start_time": "2022-07-20T07:09:42.952Z"
   },
   {
    "duration": 0,
    "start_time": "2022-07-20T07:09:43.055Z"
   },
   {
    "duration": 0,
    "start_time": "2022-07-20T07:09:43.056Z"
   },
   {
    "duration": 0,
    "start_time": "2022-07-20T07:09:43.057Z"
   },
   {
    "duration": 0,
    "start_time": "2022-07-20T07:09:43.058Z"
   },
   {
    "duration": 0,
    "start_time": "2022-07-20T07:09:43.059Z"
   },
   {
    "duration": 0,
    "start_time": "2022-07-20T07:09:43.060Z"
   },
   {
    "duration": 0,
    "start_time": "2022-07-20T07:09:43.061Z"
   },
   {
    "duration": 0,
    "start_time": "2022-07-20T07:09:43.062Z"
   },
   {
    "duration": 0,
    "start_time": "2022-07-20T07:09:43.064Z"
   },
   {
    "duration": 0,
    "start_time": "2022-07-20T07:09:43.065Z"
   },
   {
    "duration": 0,
    "start_time": "2022-07-20T07:09:43.067Z"
   },
   {
    "duration": 0,
    "start_time": "2022-07-20T07:09:43.068Z"
   },
   {
    "duration": 0,
    "start_time": "2022-07-20T07:09:43.069Z"
   },
   {
    "duration": 0,
    "start_time": "2022-07-20T07:09:43.070Z"
   },
   {
    "duration": 1249,
    "start_time": "2022-07-20T07:10:02.421Z"
   },
   {
    "duration": 139,
    "start_time": "2022-07-20T07:10:03.672Z"
   },
   {
    "duration": 25,
    "start_time": "2022-07-20T07:10:03.813Z"
   },
   {
    "duration": 98,
    "start_time": "2022-07-20T07:10:03.840Z"
   },
   {
    "duration": 18,
    "start_time": "2022-07-20T07:10:03.940Z"
   },
   {
    "duration": 58,
    "start_time": "2022-07-20T07:10:03.959Z"
   },
   {
    "duration": 71,
    "start_time": "2022-07-20T07:10:04.019Z"
   },
   {
    "duration": 21,
    "start_time": "2022-07-20T07:10:04.092Z"
   },
   {
    "duration": 8,
    "start_time": "2022-07-20T07:10:04.115Z"
   },
   {
    "duration": 100,
    "start_time": "2022-07-20T07:10:04.124Z"
   },
   {
    "duration": 2,
    "start_time": "2022-07-20T07:10:04.226Z"
   },
   {
    "duration": 64,
    "start_time": "2022-07-20T07:10:04.229Z"
   },
   {
    "duration": 465,
    "start_time": "2022-07-20T07:10:04.294Z"
   },
   {
    "duration": 22,
    "start_time": "2022-07-20T07:10:04.761Z"
   },
   {
    "duration": 8,
    "start_time": "2022-07-20T07:10:04.784Z"
   },
   {
    "duration": 60,
    "start_time": "2022-07-20T07:10:04.794Z"
   },
   {
    "duration": 20,
    "start_time": "2022-07-20T07:10:04.855Z"
   },
   {
    "duration": 23,
    "start_time": "2022-07-20T07:10:04.877Z"
   },
   {
    "duration": 89,
    "start_time": "2022-07-20T07:10:04.902Z"
   },
   {
    "duration": 1203,
    "start_time": "2022-07-20T07:11:15.280Z"
   },
   {
    "duration": 139,
    "start_time": "2022-07-20T07:11:16.485Z"
   },
   {
    "duration": 39,
    "start_time": "2022-07-20T07:11:16.625Z"
   },
   {
    "duration": 20,
    "start_time": "2022-07-20T07:11:16.666Z"
   },
   {
    "duration": 89,
    "start_time": "2022-07-20T07:11:16.688Z"
   },
   {
    "duration": 87,
    "start_time": "2022-07-20T07:11:16.779Z"
   },
   {
    "duration": 30,
    "start_time": "2022-07-20T07:11:16.868Z"
   },
   {
    "duration": 7,
    "start_time": "2022-07-20T07:11:16.900Z"
   },
   {
    "duration": 107,
    "start_time": "2022-07-20T07:11:16.910Z"
   },
   {
    "duration": 3,
    "start_time": "2022-07-20T07:11:17.019Z"
   },
   {
    "duration": 51,
    "start_time": "2022-07-20T07:11:17.023Z"
   },
   {
    "duration": 472,
    "start_time": "2022-07-20T07:11:17.075Z"
   },
   {
    "duration": 25,
    "start_time": "2022-07-20T07:11:17.548Z"
   },
   {
    "duration": 6,
    "start_time": "2022-07-20T07:11:17.575Z"
   },
   {
    "duration": 11,
    "start_time": "2022-07-20T07:11:17.583Z"
   },
   {
    "duration": 57,
    "start_time": "2022-07-20T07:11:17.597Z"
   },
   {
    "duration": 15,
    "start_time": "2022-07-20T07:11:17.656Z"
   },
   {
    "duration": 103,
    "start_time": "2022-07-20T07:11:17.673Z"
   },
   {
    "duration": 62,
    "start_time": "2022-07-20T07:13:32.759Z"
   },
   {
    "duration": 1191,
    "start_time": "2022-07-20T07:15:12.677Z"
   },
   {
    "duration": 162,
    "start_time": "2022-07-20T07:15:13.871Z"
   },
   {
    "duration": 34,
    "start_time": "2022-07-20T07:15:14.035Z"
   },
   {
    "duration": 103,
    "start_time": "2022-07-20T07:15:14.070Z"
   },
   {
    "duration": 56,
    "start_time": "2022-07-20T07:15:14.177Z"
   },
   {
    "duration": 78,
    "start_time": "2022-07-20T07:15:14.235Z"
   },
   {
    "duration": 20,
    "start_time": "2022-07-20T07:15:14.315Z"
   },
   {
    "duration": 25,
    "start_time": "2022-07-20T07:15:14.336Z"
   },
   {
    "duration": 101,
    "start_time": "2022-07-20T07:15:14.368Z"
   },
   {
    "duration": 3,
    "start_time": "2022-07-20T07:15:14.471Z"
   },
   {
    "duration": 39,
    "start_time": "2022-07-20T07:15:14.476Z"
   },
   {
    "duration": 542,
    "start_time": "2022-07-20T07:15:14.517Z"
   },
   {
    "duration": 29,
    "start_time": "2022-07-20T07:15:15.060Z"
   },
   {
    "duration": 11,
    "start_time": "2022-07-20T07:15:15.091Z"
   },
   {
    "duration": 8,
    "start_time": "2022-07-20T07:15:15.104Z"
   },
   {
    "duration": 30,
    "start_time": "2022-07-20T07:15:15.151Z"
   },
   {
    "duration": 13,
    "start_time": "2022-07-20T07:15:15.183Z"
   },
   {
    "duration": 112,
    "start_time": "2022-07-20T07:15:15.198Z"
   },
   {
    "duration": 90,
    "start_time": "2022-07-20T07:16:36.969Z"
   },
   {
    "duration": 92,
    "start_time": "2022-07-20T07:16:53.644Z"
   },
   {
    "duration": 58,
    "start_time": "2022-07-20T07:29:07.944Z"
   },
   {
    "duration": 1295,
    "start_time": "2022-07-20T07:32:45.925Z"
   },
   {
    "duration": 145,
    "start_time": "2022-07-20T07:32:47.222Z"
   },
   {
    "duration": 26,
    "start_time": "2022-07-20T07:32:47.369Z"
   },
   {
    "duration": 100,
    "start_time": "2022-07-20T07:32:47.397Z"
   },
   {
    "duration": 65,
    "start_time": "2022-07-20T07:32:47.499Z"
   },
   {
    "duration": 60,
    "start_time": "2022-07-20T07:32:47.566Z"
   },
   {
    "duration": 33,
    "start_time": "2022-07-20T07:32:47.627Z"
   },
   {
    "duration": 7,
    "start_time": "2022-07-20T07:32:47.662Z"
   },
   {
    "duration": 111,
    "start_time": "2022-07-20T07:32:47.670Z"
   },
   {
    "duration": 2,
    "start_time": "2022-07-20T07:32:47.784Z"
   },
   {
    "duration": 44,
    "start_time": "2022-07-20T07:32:47.787Z"
   },
   {
    "duration": 512,
    "start_time": "2022-07-20T07:32:47.833Z"
   },
   {
    "duration": 24,
    "start_time": "2022-07-20T07:32:48.351Z"
   },
   {
    "duration": 6,
    "start_time": "2022-07-20T07:32:48.377Z"
   },
   {
    "duration": 9,
    "start_time": "2022-07-20T07:32:48.385Z"
   },
   {
    "duration": 58,
    "start_time": "2022-07-20T07:32:48.395Z"
   },
   {
    "duration": 13,
    "start_time": "2022-07-20T07:32:48.455Z"
   },
   {
    "duration": 91,
    "start_time": "2022-07-20T07:32:48.469Z"
   },
   {
    "duration": 88,
    "start_time": "2022-07-20T07:33:14.556Z"
   },
   {
    "duration": 177,
    "start_time": "2022-07-20T07:40:03.590Z"
   },
   {
    "duration": 80,
    "start_time": "2022-07-20T07:40:36.729Z"
   },
   {
    "duration": 61,
    "start_time": "2022-07-20T07:43:58.877Z"
   },
   {
    "duration": 48,
    "start_time": "2022-07-20T07:44:05.286Z"
   },
   {
    "duration": 48,
    "start_time": "2022-07-20T07:44:36.348Z"
   },
   {
    "duration": 52,
    "start_time": "2022-07-20T07:45:16.193Z"
   },
   {
    "duration": 9,
    "start_time": "2022-07-20T07:46:39.988Z"
   },
   {
    "duration": 43,
    "start_time": "2022-07-20T07:47:13.958Z"
   },
   {
    "duration": 8,
    "start_time": "2022-07-20T07:47:30.074Z"
   },
   {
    "duration": 50,
    "start_time": "2022-07-20T07:48:54.070Z"
   },
   {
    "duration": 1156,
    "start_time": "2022-07-20T07:50:13.311Z"
   },
   {
    "duration": 177,
    "start_time": "2022-07-20T07:50:14.469Z"
   },
   {
    "duration": 33,
    "start_time": "2022-07-20T07:50:14.648Z"
   },
   {
    "duration": 110,
    "start_time": "2022-07-20T07:50:14.684Z"
   },
   {
    "duration": 70,
    "start_time": "2022-07-20T07:50:14.795Z"
   },
   {
    "duration": 85,
    "start_time": "2022-07-20T07:50:14.867Z"
   },
   {
    "duration": 21,
    "start_time": "2022-07-20T07:50:14.954Z"
   },
   {
    "duration": 8,
    "start_time": "2022-07-20T07:50:14.976Z"
   },
   {
    "duration": 159,
    "start_time": "2022-07-20T07:50:14.986Z"
   },
   {
    "duration": 6,
    "start_time": "2022-07-20T07:50:15.147Z"
   },
   {
    "duration": 77,
    "start_time": "2022-07-20T07:50:15.155Z"
   },
   {
    "duration": 507,
    "start_time": "2022-07-20T07:50:15.233Z"
   },
   {
    "duration": 37,
    "start_time": "2022-07-20T07:50:15.741Z"
   },
   {
    "duration": 7,
    "start_time": "2022-07-20T07:50:15.780Z"
   },
   {
    "duration": 66,
    "start_time": "2022-07-20T07:50:15.789Z"
   },
   {
    "duration": 19,
    "start_time": "2022-07-20T07:50:15.856Z"
   },
   {
    "duration": 21,
    "start_time": "2022-07-20T07:50:15.876Z"
   },
   {
    "duration": 80,
    "start_time": "2022-07-20T07:50:15.898Z"
   },
   {
    "duration": 10,
    "start_time": "2022-07-20T07:56:28.627Z"
   },
   {
    "duration": 8,
    "start_time": "2022-07-20T07:56:35.961Z"
   },
   {
    "duration": 1384,
    "start_time": "2022-07-20T07:57:52.180Z"
   },
   {
    "duration": 10,
    "start_time": "2022-07-20T07:58:01.533Z"
   },
   {
    "duration": 1090,
    "start_time": "2022-07-20T07:58:20.525Z"
   },
   {
    "duration": 13,
    "start_time": "2022-07-20T07:58:25.749Z"
   },
   {
    "duration": 17,
    "start_time": "2022-07-20T07:59:22.565Z"
   },
   {
    "duration": 35,
    "start_time": "2022-07-20T07:59:32.471Z"
   },
   {
    "duration": 32,
    "start_time": "2022-07-20T07:59:52.426Z"
   },
   {
    "duration": 38,
    "start_time": "2022-07-20T08:00:32.518Z"
   },
   {
    "duration": 1691,
    "start_time": "2022-07-20T08:01:05.240Z"
   },
   {
    "duration": 221,
    "start_time": "2022-07-20T08:01:06.934Z"
   },
   {
    "duration": 43,
    "start_time": "2022-07-20T08:01:07.157Z"
   },
   {
    "duration": 141,
    "start_time": "2022-07-20T08:01:07.202Z"
   },
   {
    "duration": 74,
    "start_time": "2022-07-20T08:01:07.345Z"
   },
   {
    "duration": 61,
    "start_time": "2022-07-20T08:01:07.421Z"
   },
   {
    "duration": 91,
    "start_time": "2022-07-20T08:01:07.484Z"
   },
   {
    "duration": 30,
    "start_time": "2022-07-20T08:01:07.577Z"
   },
   {
    "duration": 10,
    "start_time": "2022-07-20T08:01:07.609Z"
   },
   {
    "duration": 172,
    "start_time": "2022-07-20T08:01:07.622Z"
   },
   {
    "duration": 3,
    "start_time": "2022-07-20T08:01:07.795Z"
   },
   {
    "duration": 73,
    "start_time": "2022-07-20T08:01:07.800Z"
   },
   {
    "duration": 634,
    "start_time": "2022-07-20T08:01:07.875Z"
   },
   {
    "duration": 50,
    "start_time": "2022-07-20T08:01:08.511Z"
   },
   {
    "duration": 7,
    "start_time": "2022-07-20T08:01:08.563Z"
   },
   {
    "duration": 12,
    "start_time": "2022-07-20T08:01:08.571Z"
   },
   {
    "duration": 88,
    "start_time": "2022-07-20T08:01:08.585Z"
   },
   {
    "duration": 10,
    "start_time": "2022-07-20T08:01:08.675Z"
   },
   {
    "duration": 114,
    "start_time": "2022-07-20T08:01:08.687Z"
   },
   {
    "duration": 81,
    "start_time": "2022-07-20T08:22:09.126Z"
   },
   {
    "duration": 57,
    "start_time": "2022-07-20T08:22:27.966Z"
   },
   {
    "duration": 1228,
    "start_time": "2022-07-20T11:50:07.768Z"
   },
   {
    "duration": 147,
    "start_time": "2022-07-20T11:50:08.998Z"
   },
   {
    "duration": 27,
    "start_time": "2022-07-20T11:50:09.146Z"
   },
   {
    "duration": 113,
    "start_time": "2022-07-20T11:50:09.175Z"
   },
   {
    "duration": 70,
    "start_time": "2022-07-20T11:50:09.290Z"
   },
   {
    "duration": 65,
    "start_time": "2022-07-20T11:50:09.362Z"
   },
   {
    "duration": 36,
    "start_time": "2022-07-20T11:50:09.429Z"
   },
   {
    "duration": 8,
    "start_time": "2022-07-20T11:50:09.467Z"
   },
   {
    "duration": 117,
    "start_time": "2022-07-20T11:50:09.477Z"
   },
   {
    "duration": 3,
    "start_time": "2022-07-20T11:50:09.597Z"
   },
   {
    "duration": 54,
    "start_time": "2022-07-20T11:50:09.601Z"
   },
   {
    "duration": 868,
    "start_time": "2022-07-20T11:50:09.657Z"
   },
   {
    "duration": 32,
    "start_time": "2022-07-20T11:50:10.526Z"
   },
   {
    "duration": 6,
    "start_time": "2022-07-20T11:50:10.559Z"
   },
   {
    "duration": 7,
    "start_time": "2022-07-20T11:50:10.566Z"
   },
   {
    "duration": 88,
    "start_time": "2022-07-20T11:50:10.575Z"
   },
   {
    "duration": 7,
    "start_time": "2022-07-20T11:50:10.665Z"
   },
   {
    "duration": 79,
    "start_time": "2022-07-20T11:50:10.674Z"
   },
   {
    "duration": 1217,
    "start_time": "2022-07-20T11:52:43.685Z"
   },
   {
    "duration": 154,
    "start_time": "2022-07-20T11:52:44.904Z"
   },
   {
    "duration": 30,
    "start_time": "2022-07-20T11:52:45.060Z"
   },
   {
    "duration": 110,
    "start_time": "2022-07-20T11:52:45.092Z"
   },
   {
    "duration": 75,
    "start_time": "2022-07-20T11:52:45.204Z"
   },
   {
    "duration": 76,
    "start_time": "2022-07-20T11:52:45.281Z"
   },
   {
    "duration": 24,
    "start_time": "2022-07-20T11:52:45.359Z"
   },
   {
    "duration": 8,
    "start_time": "2022-07-20T11:52:45.385Z"
   },
   {
    "duration": 119,
    "start_time": "2022-07-20T11:52:45.395Z"
   },
   {
    "duration": 2,
    "start_time": "2022-07-20T11:52:45.517Z"
   },
   {
    "duration": 59,
    "start_time": "2022-07-20T11:52:45.521Z"
   },
   {
    "duration": 526,
    "start_time": "2022-07-20T11:52:45.582Z"
   },
   {
    "duration": 64,
    "start_time": "2022-07-20T11:52:46.110Z"
   },
   {
    "duration": 9,
    "start_time": "2022-07-20T11:52:46.176Z"
   },
   {
    "duration": 66,
    "start_time": "2022-07-20T11:52:46.187Z"
   },
   {
    "duration": 37,
    "start_time": "2022-07-20T11:52:46.256Z"
   },
   {
    "duration": 61,
    "start_time": "2022-07-20T11:52:46.296Z"
   },
   {
    "duration": 113,
    "start_time": "2022-07-20T11:52:46.359Z"
   },
   {
    "duration": 1233,
    "start_time": "2022-07-20T11:54:15.965Z"
   },
   {
    "duration": 146,
    "start_time": "2022-07-20T11:54:17.200Z"
   },
   {
    "duration": 27,
    "start_time": "2022-07-20T11:54:17.348Z"
   },
   {
    "duration": 101,
    "start_time": "2022-07-20T11:54:17.377Z"
   },
   {
    "duration": 62,
    "start_time": "2022-07-20T11:54:17.480Z"
   },
   {
    "duration": 70,
    "start_time": "2022-07-20T11:54:17.544Z"
   },
   {
    "duration": 20,
    "start_time": "2022-07-20T11:54:17.615Z"
   },
   {
    "duration": 21,
    "start_time": "2022-07-20T11:54:17.637Z"
   },
   {
    "duration": 105,
    "start_time": "2022-07-20T11:54:17.659Z"
   },
   {
    "duration": 2,
    "start_time": "2022-07-20T11:54:17.767Z"
   },
   {
    "duration": 44,
    "start_time": "2022-07-20T11:54:17.770Z"
   },
   {
    "duration": 544,
    "start_time": "2022-07-20T11:54:17.816Z"
   },
   {
    "duration": 26,
    "start_time": "2022-07-20T11:54:18.362Z"
   },
   {
    "duration": 7,
    "start_time": "2022-07-20T11:54:18.390Z"
   },
   {
    "duration": 58,
    "start_time": "2022-07-20T11:54:18.399Z"
   },
   {
    "duration": 35,
    "start_time": "2022-07-20T11:54:18.459Z"
   },
   {
    "duration": 9,
    "start_time": "2022-07-20T11:54:18.495Z"
   },
   {
    "duration": 101,
    "start_time": "2022-07-20T11:54:18.506Z"
   },
   {
    "duration": 1193,
    "start_time": "2022-07-20T11:56:16.378Z"
   },
   {
    "duration": 151,
    "start_time": "2022-07-20T11:56:17.573Z"
   },
   {
    "duration": 31,
    "start_time": "2022-07-20T11:56:17.726Z"
   },
   {
    "duration": 103,
    "start_time": "2022-07-20T11:56:17.758Z"
   },
   {
    "duration": 66,
    "start_time": "2022-07-20T11:56:17.863Z"
   },
   {
    "duration": 87,
    "start_time": "2022-07-20T11:56:17.931Z"
   },
   {
    "duration": 22,
    "start_time": "2022-07-20T11:56:18.020Z"
   },
   {
    "duration": 10,
    "start_time": "2022-07-20T11:56:18.051Z"
   },
   {
    "duration": 114,
    "start_time": "2022-07-20T11:56:18.062Z"
   },
   {
    "duration": 3,
    "start_time": "2022-07-20T11:56:18.178Z"
   },
   {
    "duration": 67,
    "start_time": "2022-07-20T11:56:18.182Z"
   },
   {
    "duration": 540,
    "start_time": "2022-07-20T11:56:18.251Z"
   },
   {
    "duration": 64,
    "start_time": "2022-07-20T11:56:18.793Z"
   },
   {
    "duration": 6,
    "start_time": "2022-07-20T11:56:18.861Z"
   },
   {
    "duration": 15,
    "start_time": "2022-07-20T11:56:18.869Z"
   },
   {
    "duration": 82,
    "start_time": "2022-07-20T11:56:18.886Z"
   },
   {
    "duration": 9,
    "start_time": "2022-07-20T11:56:18.970Z"
   },
   {
    "duration": 75,
    "start_time": "2022-07-20T11:56:18.981Z"
   },
   {
    "duration": 1183,
    "start_time": "2022-07-20T11:59:26.303Z"
   },
   {
    "duration": 148,
    "start_time": "2022-07-20T11:59:27.488Z"
   },
   {
    "duration": 31,
    "start_time": "2022-07-20T11:59:27.638Z"
   },
   {
    "duration": 104,
    "start_time": "2022-07-20T11:59:27.671Z"
   },
   {
    "duration": 60,
    "start_time": "2022-07-20T11:59:27.776Z"
   },
   {
    "duration": 77,
    "start_time": "2022-07-20T11:59:27.837Z"
   },
   {
    "duration": 22,
    "start_time": "2022-07-20T11:59:27.916Z"
   },
   {
    "duration": 18,
    "start_time": "2022-07-20T11:59:27.939Z"
   },
   {
    "duration": 106,
    "start_time": "2022-07-20T11:59:27.958Z"
   },
   {
    "duration": 2,
    "start_time": "2022-07-20T11:59:28.066Z"
   },
   {
    "duration": 46,
    "start_time": "2022-07-20T11:59:28.070Z"
   },
   {
    "duration": 531,
    "start_time": "2022-07-20T11:59:28.118Z"
   },
   {
    "duration": 33,
    "start_time": "2022-07-20T11:59:28.650Z"
   },
   {
    "duration": 83,
    "start_time": "2022-07-20T11:59:28.685Z"
   },
   {
    "duration": 8,
    "start_time": "2022-07-20T11:59:28.770Z"
   },
   {
    "duration": 52,
    "start_time": "2022-07-20T11:59:28.779Z"
   },
   {
    "duration": 1288,
    "start_time": "2022-07-20T12:02:51.723Z"
   },
   {
    "duration": 164,
    "start_time": "2022-07-20T12:02:53.014Z"
   },
   {
    "duration": 26,
    "start_time": "2022-07-20T12:02:53.179Z"
   },
   {
    "duration": 117,
    "start_time": "2022-07-20T12:02:53.207Z"
   },
   {
    "duration": 89,
    "start_time": "2022-07-20T12:02:53.326Z"
   },
   {
    "duration": 98,
    "start_time": "2022-07-20T12:02:53.417Z"
   },
   {
    "duration": 25,
    "start_time": "2022-07-20T12:02:53.517Z"
   },
   {
    "duration": 8,
    "start_time": "2022-07-20T12:02:53.552Z"
   },
   {
    "duration": 108,
    "start_time": "2022-07-20T12:02:53.562Z"
   },
   {
    "duration": 2,
    "start_time": "2022-07-20T12:02:53.672Z"
   },
   {
    "duration": 52,
    "start_time": "2022-07-20T12:02:53.676Z"
   },
   {
    "duration": 524,
    "start_time": "2022-07-20T12:02:53.729Z"
   },
   {
    "duration": 5,
    "start_time": "2022-07-20T12:02:54.255Z"
   },
   {
    "duration": 258,
    "start_time": "2022-07-20T12:02:54.262Z"
   },
   {
    "duration": 0,
    "start_time": "2022-07-20T12:02:54.522Z"
   },
   {
    "duration": 0,
    "start_time": "2022-07-20T12:02:54.523Z"
   },
   {
    "duration": 0,
    "start_time": "2022-07-20T12:02:54.524Z"
   },
   {
    "duration": 0,
    "start_time": "2022-07-20T12:02:54.526Z"
   },
   {
    "duration": 6,
    "start_time": "2022-07-20T12:03:15.822Z"
   },
   {
    "duration": 6,
    "start_time": "2022-07-20T12:03:18.494Z"
   },
   {
    "duration": 6,
    "start_time": "2022-07-20T12:03:22.642Z"
   },
   {
    "duration": 7,
    "start_time": "2022-07-20T12:03:25.604Z"
   },
   {
    "duration": 5,
    "start_time": "2022-07-20T12:03:28.942Z"
   },
   {
    "duration": 5,
    "start_time": "2022-07-20T12:03:33.714Z"
   },
   {
    "duration": 5,
    "start_time": "2022-07-20T12:03:38.063Z"
   },
   {
    "duration": 6,
    "start_time": "2022-07-20T12:03:40.964Z"
   },
   {
    "duration": 1340,
    "start_time": "2022-07-20T12:03:58.566Z"
   },
   {
    "duration": 149,
    "start_time": "2022-07-20T12:03:59.908Z"
   },
   {
    "duration": 27,
    "start_time": "2022-07-20T12:04:00.059Z"
   },
   {
    "duration": 118,
    "start_time": "2022-07-20T12:04:00.088Z"
   },
   {
    "duration": 69,
    "start_time": "2022-07-20T12:04:00.208Z"
   },
   {
    "duration": 82,
    "start_time": "2022-07-20T12:04:00.279Z"
   },
   {
    "duration": 37,
    "start_time": "2022-07-20T12:04:00.363Z"
   },
   {
    "duration": 7,
    "start_time": "2022-07-20T12:04:00.402Z"
   },
   {
    "duration": 124,
    "start_time": "2022-07-20T12:04:00.411Z"
   },
   {
    "duration": 3,
    "start_time": "2022-07-20T12:04:00.537Z"
   },
   {
    "duration": 62,
    "start_time": "2022-07-20T12:04:00.541Z"
   },
   {
    "duration": 556,
    "start_time": "2022-07-20T12:04:00.605Z"
   },
   {
    "duration": 35,
    "start_time": "2022-07-20T12:04:01.163Z"
   },
   {
    "duration": 80,
    "start_time": "2022-07-20T12:04:01.200Z"
   },
   {
    "duration": 10,
    "start_time": "2022-07-20T12:04:01.282Z"
   },
   {
    "duration": 84,
    "start_time": "2022-07-20T12:04:01.294Z"
   },
   {
    "duration": 1274,
    "start_time": "2022-07-20T12:06:29.601Z"
   },
   {
    "duration": 142,
    "start_time": "2022-07-20T12:06:30.876Z"
   },
   {
    "duration": 26,
    "start_time": "2022-07-20T12:06:31.020Z"
   },
   {
    "duration": 11,
    "start_time": "2022-07-20T12:06:31.048Z"
   },
   {
    "duration": 107,
    "start_time": "2022-07-20T12:06:31.060Z"
   },
   {
    "duration": 62,
    "start_time": "2022-07-20T12:06:31.169Z"
   },
   {
    "duration": 77,
    "start_time": "2022-07-20T12:06:31.233Z"
   },
   {
    "duration": 20,
    "start_time": "2022-07-20T12:06:31.312Z"
   },
   {
    "duration": 23,
    "start_time": "2022-07-20T12:06:31.334Z"
   },
   {
    "duration": 104,
    "start_time": "2022-07-20T12:06:31.360Z"
   },
   {
    "duration": 2,
    "start_time": "2022-07-20T12:06:31.466Z"
   },
   {
    "duration": 40,
    "start_time": "2022-07-20T12:06:31.470Z"
   },
   {
    "duration": 484,
    "start_time": "2022-07-20T12:06:31.512Z"
   },
   {
    "duration": 60,
    "start_time": "2022-07-20T12:06:31.998Z"
   },
   {
    "duration": 36,
    "start_time": "2022-07-20T12:06:32.060Z"
   },
   {
    "duration": 55,
    "start_time": "2022-07-20T12:06:32.098Z"
   },
   {
    "duration": 110,
    "start_time": "2022-07-20T12:06:32.155Z"
   },
   {
    "duration": 148,
    "start_time": "2022-07-20T12:07:51.443Z"
   },
   {
    "duration": 13,
    "start_time": "2022-07-20T12:07:54.398Z"
   },
   {
    "duration": 1351,
    "start_time": "2022-07-20T12:08:03.651Z"
   },
   {
    "duration": 168,
    "start_time": "2022-07-20T12:08:05.004Z"
   },
   {
    "duration": 29,
    "start_time": "2022-07-20T12:08:05.174Z"
   },
   {
    "duration": 30,
    "start_time": "2022-07-20T12:08:05.205Z"
   },
   {
    "duration": 106,
    "start_time": "2022-07-20T12:08:05.252Z"
   },
   {
    "duration": 0,
    "start_time": "2022-07-20T12:08:05.361Z"
   },
   {
    "duration": 0,
    "start_time": "2022-07-20T12:08:05.362Z"
   },
   {
    "duration": 0,
    "start_time": "2022-07-20T12:08:05.364Z"
   },
   {
    "duration": 0,
    "start_time": "2022-07-20T12:08:05.366Z"
   },
   {
    "duration": 0,
    "start_time": "2022-07-20T12:08:05.367Z"
   },
   {
    "duration": 0,
    "start_time": "2022-07-20T12:08:05.368Z"
   },
   {
    "duration": 0,
    "start_time": "2022-07-20T12:08:05.370Z"
   },
   {
    "duration": 0,
    "start_time": "2022-07-20T12:08:05.372Z"
   },
   {
    "duration": 0,
    "start_time": "2022-07-20T12:08:05.373Z"
   },
   {
    "duration": 0,
    "start_time": "2022-07-20T12:08:05.375Z"
   },
   {
    "duration": 0,
    "start_time": "2022-07-20T12:08:05.376Z"
   },
   {
    "duration": 1,
    "start_time": "2022-07-20T12:08:05.377Z"
   },
   {
    "duration": 0,
    "start_time": "2022-07-20T12:08:05.379Z"
   },
   {
    "duration": 34,
    "start_time": "2022-07-20T12:08:22.717Z"
   },
   {
    "duration": 21,
    "start_time": "2022-07-20T12:08:30.966Z"
   },
   {
    "duration": 22,
    "start_time": "2022-07-20T12:10:48.158Z"
   },
   {
    "duration": 1192,
    "start_time": "2022-07-20T12:12:03.710Z"
   },
   {
    "duration": 156,
    "start_time": "2022-07-20T12:12:04.904Z"
   },
   {
    "duration": 40,
    "start_time": "2022-07-20T12:12:05.062Z"
   },
   {
    "duration": 106,
    "start_time": "2022-07-20T12:12:05.104Z"
   },
   {
    "duration": 71,
    "start_time": "2022-07-20T12:12:05.213Z"
   },
   {
    "duration": 66,
    "start_time": "2022-07-20T12:12:05.286Z"
   },
   {
    "duration": 32,
    "start_time": "2022-07-20T12:12:05.354Z"
   },
   {
    "duration": 12,
    "start_time": "2022-07-20T12:12:05.388Z"
   },
   {
    "duration": 114,
    "start_time": "2022-07-20T12:12:05.402Z"
   },
   {
    "duration": 2,
    "start_time": "2022-07-20T12:12:05.518Z"
   },
   {
    "duration": 56,
    "start_time": "2022-07-20T12:12:05.521Z"
   },
   {
    "duration": 508,
    "start_time": "2022-07-20T12:12:05.579Z"
   },
   {
    "duration": 91,
    "start_time": "2022-07-20T12:12:06.089Z"
   },
   {
    "duration": 88,
    "start_time": "2022-07-20T12:12:06.183Z"
   },
   {
    "duration": 10,
    "start_time": "2022-07-20T12:12:06.274Z"
   },
   {
    "duration": 94,
    "start_time": "2022-07-20T12:12:06.286Z"
   },
   {
    "duration": 1560,
    "start_time": "2022-07-20T12:26:32.453Z"
   },
   {
    "duration": 169,
    "start_time": "2022-07-20T12:26:34.015Z"
   },
   {
    "duration": 30,
    "start_time": "2022-07-20T12:26:34.186Z"
   },
   {
    "duration": 106,
    "start_time": "2022-07-20T12:26:34.218Z"
   },
   {
    "duration": 60,
    "start_time": "2022-07-20T12:26:34.326Z"
   },
   {
    "duration": 71,
    "start_time": "2022-07-20T12:26:34.387Z"
   },
   {
    "duration": 24,
    "start_time": "2022-07-20T12:26:34.460Z"
   },
   {
    "duration": 13,
    "start_time": "2022-07-20T12:26:34.486Z"
   },
   {
    "duration": 124,
    "start_time": "2022-07-20T12:26:34.501Z"
   },
   {
    "duration": 3,
    "start_time": "2022-07-20T12:26:34.626Z"
   },
   {
    "duration": 64,
    "start_time": "2022-07-20T12:26:34.630Z"
   },
   {
    "duration": 443,
    "start_time": "2022-07-20T12:26:34.696Z"
   },
   {
    "duration": 44,
    "start_time": "2022-07-20T12:26:35.140Z"
   },
   {
    "duration": 86,
    "start_time": "2022-07-20T12:26:35.187Z"
   },
   {
    "duration": 46,
    "start_time": "2022-07-20T12:26:35.275Z"
   },
   {
    "duration": 1210,
    "start_time": "2022-07-20T12:29:07.555Z"
   },
   {
    "duration": 149,
    "start_time": "2022-07-20T12:29:08.767Z"
   },
   {
    "duration": 30,
    "start_time": "2022-07-20T12:29:08.918Z"
   },
   {
    "duration": 88,
    "start_time": "2022-07-20T12:29:08.952Z"
   },
   {
    "duration": 63,
    "start_time": "2022-07-20T12:29:09.053Z"
   },
   {
    "duration": 76,
    "start_time": "2022-07-20T12:29:09.117Z"
   },
   {
    "duration": 17,
    "start_time": "2022-07-20T12:29:09.194Z"
   },
   {
    "duration": 7,
    "start_time": "2022-07-20T12:29:09.212Z"
   },
   {
    "duration": 105,
    "start_time": "2022-07-20T12:29:09.220Z"
   },
   {
    "duration": 3,
    "start_time": "2022-07-20T12:29:09.327Z"
   },
   {
    "duration": 81,
    "start_time": "2022-07-20T12:29:09.332Z"
   },
   {
    "duration": 440,
    "start_time": "2022-07-20T12:29:09.414Z"
   },
   {
    "duration": 34,
    "start_time": "2022-07-20T12:29:09.856Z"
   },
   {
    "duration": 87,
    "start_time": "2022-07-20T12:29:09.891Z"
   },
   {
    "duration": 48,
    "start_time": "2022-07-20T12:29:09.980Z"
   },
   {
    "duration": 1201,
    "start_time": "2022-07-20T13:54:33.258Z"
   },
   {
    "duration": 159,
    "start_time": "2022-07-20T13:54:34.461Z"
   },
   {
    "duration": 38,
    "start_time": "2022-07-20T13:54:34.622Z"
   },
   {
    "duration": 106,
    "start_time": "2022-07-20T13:54:34.662Z"
   },
   {
    "duration": 65,
    "start_time": "2022-07-20T13:54:34.770Z"
   },
   {
    "duration": 80,
    "start_time": "2022-07-20T13:54:34.836Z"
   },
   {
    "duration": 18,
    "start_time": "2022-07-20T13:54:34.918Z"
   },
   {
    "duration": 8,
    "start_time": "2022-07-20T13:54:34.952Z"
   },
   {
    "duration": 106,
    "start_time": "2022-07-20T13:54:34.962Z"
   },
   {
    "duration": 3,
    "start_time": "2022-07-20T13:54:35.069Z"
   },
   {
    "duration": 78,
    "start_time": "2022-07-20T13:54:35.074Z"
   },
   {
    "duration": 457,
    "start_time": "2022-07-20T13:54:35.154Z"
   },
   {
    "duration": 62,
    "start_time": "2022-07-20T13:54:35.613Z"
   },
   {
    "duration": 77,
    "start_time": "2022-07-20T13:54:35.677Z"
   },
   {
    "duration": 49,
    "start_time": "2022-07-20T13:54:35.756Z"
   },
   {
    "duration": 16,
    "start_time": "2022-07-20T13:55:52.353Z"
   },
   {
    "duration": 19,
    "start_time": "2022-07-20T13:58:51.778Z"
   },
   {
    "duration": 27,
    "start_time": "2022-07-20T13:58:58.881Z"
   },
   {
    "duration": 41,
    "start_time": "2022-07-20T13:59:15.686Z"
   },
   {
    "duration": 27,
    "start_time": "2022-07-20T13:59:24.292Z"
   },
   {
    "duration": 1359,
    "start_time": "2022-07-21T08:30:11.377Z"
   },
   {
    "duration": 471,
    "start_time": "2022-07-21T08:30:12.738Z"
   },
   {
    "duration": 28,
    "start_time": "2022-07-21T08:30:13.211Z"
   },
   {
    "duration": 96,
    "start_time": "2022-07-21T08:30:13.240Z"
   },
   {
    "duration": 67,
    "start_time": "2022-07-21T08:30:13.338Z"
   },
   {
    "duration": 70,
    "start_time": "2022-07-21T08:30:13.406Z"
   },
   {
    "duration": 30,
    "start_time": "2022-07-21T08:30:13.478Z"
   },
   {
    "duration": 7,
    "start_time": "2022-07-21T08:30:13.510Z"
   },
   {
    "duration": 108,
    "start_time": "2022-07-21T08:30:13.519Z"
   },
   {
    "duration": 3,
    "start_time": "2022-07-21T08:30:13.629Z"
   },
   {
    "duration": 43,
    "start_time": "2022-07-21T08:30:13.633Z"
   },
   {
    "duration": 538,
    "start_time": "2022-07-21T08:30:13.678Z"
   },
   {
    "duration": 84,
    "start_time": "2022-07-21T08:30:14.218Z"
   },
   {
    "duration": 29,
    "start_time": "2022-07-21T08:30:14.305Z"
   },
   {
    "duration": 17,
    "start_time": "2022-07-21T08:30:14.335Z"
   },
   {
    "duration": 84,
    "start_time": "2022-07-21T08:30:14.354Z"
   },
   {
    "duration": 1187,
    "start_time": "2022-07-21T08:44:05.944Z"
   },
   {
    "duration": 156,
    "start_time": "2022-07-21T08:44:07.133Z"
   },
   {
    "duration": 29,
    "start_time": "2022-07-21T08:44:07.290Z"
   },
   {
    "duration": 103,
    "start_time": "2022-07-21T08:44:07.321Z"
   },
   {
    "duration": 66,
    "start_time": "2022-07-21T08:44:07.427Z"
   },
   {
    "duration": 68,
    "start_time": "2022-07-21T08:44:07.501Z"
   },
   {
    "duration": 30,
    "start_time": "2022-07-21T08:44:07.571Z"
   },
   {
    "duration": 12,
    "start_time": "2022-07-21T08:44:07.602Z"
   },
   {
    "duration": 125,
    "start_time": "2022-07-21T08:44:07.615Z"
   },
   {
    "duration": 3,
    "start_time": "2022-07-21T08:44:07.741Z"
   },
   {
    "duration": 47,
    "start_time": "2022-07-21T08:44:07.746Z"
   },
   {
    "duration": 509,
    "start_time": "2022-07-21T08:44:07.800Z"
   },
   {
    "duration": 34,
    "start_time": "2022-07-21T08:44:08.311Z"
   },
   {
    "duration": 30,
    "start_time": "2022-07-21T08:44:08.401Z"
   },
   {
    "duration": 19,
    "start_time": "2022-07-21T08:44:08.433Z"
   },
   {
    "duration": 85,
    "start_time": "2022-07-21T08:44:08.454Z"
   },
   {
    "duration": 5,
    "start_time": "2022-07-21T08:44:08.541Z"
   },
   {
    "duration": 15,
    "start_time": "2022-07-21T09:12:42.170Z"
   },
   {
    "duration": 37,
    "start_time": "2022-07-21T09:13:33.827Z"
   },
   {
    "duration": 41,
    "start_time": "2022-07-21T09:13:51.689Z"
   },
   {
    "duration": 33,
    "start_time": "2022-07-21T09:14:18.867Z"
   },
   {
    "duration": 43,
    "start_time": "2022-07-21T09:14:27.351Z"
   },
   {
    "duration": 1213,
    "start_time": "2022-07-21T11:03:50.228Z"
   },
   {
    "duration": 173,
    "start_time": "2022-07-21T11:03:51.444Z"
   },
   {
    "duration": 31,
    "start_time": "2022-07-21T11:03:51.618Z"
   },
   {
    "duration": 107,
    "start_time": "2022-07-21T11:03:51.651Z"
   },
   {
    "duration": 68,
    "start_time": "2022-07-21T11:03:51.761Z"
   },
   {
    "duration": 76,
    "start_time": "2022-07-21T11:03:51.831Z"
   },
   {
    "duration": 21,
    "start_time": "2022-07-21T11:03:51.908Z"
   },
   {
    "duration": 8,
    "start_time": "2022-07-21T11:03:51.930Z"
   },
   {
    "duration": 113,
    "start_time": "2022-07-21T11:03:51.939Z"
   },
   {
    "duration": 3,
    "start_time": "2022-07-21T11:03:52.054Z"
   },
   {
    "duration": 65,
    "start_time": "2022-07-21T11:03:52.058Z"
   },
   {
    "duration": 493,
    "start_time": "2022-07-21T11:03:52.125Z"
   },
   {
    "duration": 32,
    "start_time": "2022-07-21T11:03:52.620Z"
   },
   {
    "duration": 76,
    "start_time": "2022-07-21T11:03:52.654Z"
   },
   {
    "duration": 20,
    "start_time": "2022-07-21T11:03:52.732Z"
   },
   {
    "duration": 94,
    "start_time": "2022-07-21T11:03:52.753Z"
   },
   {
    "duration": 6,
    "start_time": "2022-07-21T11:03:52.849Z"
   },
   {
    "duration": 54,
    "start_time": "2022-07-21T11:03:52.857Z"
   },
   {
    "duration": 4,
    "start_time": "2022-07-21T11:04:06.642Z"
   },
   {
    "duration": 4,
    "start_time": "2022-07-21T11:04:17.330Z"
   },
   {
    "duration": 6,
    "start_time": "2022-07-21T11:04:23.856Z"
   },
   {
    "duration": 169,
    "start_time": "2022-07-21T11:06:20.394Z"
   },
   {
    "duration": 19,
    "start_time": "2022-07-21T11:06:27.454Z"
   },
   {
    "duration": 29,
    "start_time": "2022-07-21T11:07:37.756Z"
   },
   {
    "duration": 45,
    "start_time": "2022-07-21T11:08:08.158Z"
   },
   {
    "duration": 49,
    "start_time": "2022-07-21T11:08:12.817Z"
   },
   {
    "duration": 1262,
    "start_time": "2022-07-21T11:08:40.176Z"
   },
   {
    "duration": 152,
    "start_time": "2022-07-21T11:08:41.440Z"
   },
   {
    "duration": 30,
    "start_time": "2022-07-21T11:08:41.593Z"
   },
   {
    "duration": 101,
    "start_time": "2022-07-21T11:08:41.625Z"
   },
   {
    "duration": 60,
    "start_time": "2022-07-21T11:08:41.728Z"
   },
   {
    "duration": 68,
    "start_time": "2022-07-21T11:08:41.801Z"
   },
   {
    "duration": 41,
    "start_time": "2022-07-21T11:08:41.870Z"
   },
   {
    "duration": 8,
    "start_time": "2022-07-21T11:08:41.913Z"
   },
   {
    "duration": 106,
    "start_time": "2022-07-21T11:08:41.922Z"
   },
   {
    "duration": 2,
    "start_time": "2022-07-21T11:08:42.031Z"
   },
   {
    "duration": 46,
    "start_time": "2022-07-21T11:08:42.035Z"
   },
   {
    "duration": 486,
    "start_time": "2022-07-21T11:08:42.082Z"
   },
   {
    "duration": 49,
    "start_time": "2022-07-21T11:08:42.570Z"
   },
   {
    "duration": 25,
    "start_time": "2022-07-21T11:08:42.621Z"
   },
   {
    "duration": 26,
    "start_time": "2022-07-21T11:08:42.700Z"
   },
   {
    "duration": 57,
    "start_time": "2022-07-21T11:08:42.727Z"
   },
   {
    "duration": 30,
    "start_time": "2022-07-21T11:08:42.785Z"
   },
   {
    "duration": 35,
    "start_time": "2022-07-21T11:08:42.816Z"
   },
   {
    "duration": 36,
    "start_time": "2022-07-21T11:08:42.852Z"
   },
   {
    "duration": 22,
    "start_time": "2022-07-21T11:08:42.889Z"
   },
   {
    "duration": 7,
    "start_time": "2022-07-21T11:08:42.912Z"
   },
   {
    "duration": 9,
    "start_time": "2022-07-21T11:08:42.920Z"
   },
   {
    "duration": 14,
    "start_time": "2022-07-21T11:09:02.638Z"
   },
   {
    "duration": 32,
    "start_time": "2022-07-21T11:09:23.438Z"
   },
   {
    "duration": 34,
    "start_time": "2022-07-21T11:09:25.764Z"
   },
   {
    "duration": 14,
    "start_time": "2022-07-21T11:09:26.323Z"
   },
   {
    "duration": 35,
    "start_time": "2022-07-21T11:09:40.294Z"
   },
   {
    "duration": 31,
    "start_time": "2022-07-21T11:09:57.814Z"
   },
   {
    "duration": 14,
    "start_time": "2022-07-21T11:10:01.129Z"
   },
   {
    "duration": 4,
    "start_time": "2022-07-21T11:10:58.666Z"
   },
   {
    "duration": 36,
    "start_time": "2022-07-21T11:11:09.677Z"
   },
   {
    "duration": 4,
    "start_time": "2022-07-21T11:11:39.537Z"
   },
   {
    "duration": 5,
    "start_time": "2022-07-21T11:11:40.493Z"
   },
   {
    "duration": 6,
    "start_time": "2022-07-21T11:11:58.165Z"
   },
   {
    "duration": 5,
    "start_time": "2022-07-21T11:12:25.643Z"
   },
   {
    "duration": 7,
    "start_time": "2022-07-21T11:12:30.873Z"
   },
   {
    "duration": 28,
    "start_time": "2022-07-21T11:18:31.194Z"
   },
   {
    "duration": 27,
    "start_time": "2022-07-21T11:18:45.723Z"
   },
   {
    "duration": 20,
    "start_time": "2022-07-21T11:18:49.759Z"
   },
   {
    "duration": 1229,
    "start_time": "2022-07-21T11:18:53.696Z"
   },
   {
    "duration": 145,
    "start_time": "2022-07-21T11:18:54.926Z"
   },
   {
    "duration": 28,
    "start_time": "2022-07-21T11:18:55.073Z"
   },
   {
    "duration": 107,
    "start_time": "2022-07-21T11:18:55.103Z"
   },
   {
    "duration": 78,
    "start_time": "2022-07-21T11:18:55.213Z"
   },
   {
    "duration": 80,
    "start_time": "2022-07-21T11:18:55.293Z"
   },
   {
    "duration": 38,
    "start_time": "2022-07-21T11:18:55.375Z"
   },
   {
    "duration": 12,
    "start_time": "2022-07-21T11:18:55.415Z"
   },
   {
    "duration": 103,
    "start_time": "2022-07-21T11:18:55.429Z"
   },
   {
    "duration": 2,
    "start_time": "2022-07-21T11:18:55.534Z"
   },
   {
    "duration": 44,
    "start_time": "2022-07-21T11:18:55.537Z"
   },
   {
    "duration": 487,
    "start_time": "2022-07-21T11:18:55.582Z"
   },
   {
    "duration": 44,
    "start_time": "2022-07-21T11:18:56.071Z"
   },
   {
    "duration": 27,
    "start_time": "2022-07-21T11:18:56.118Z"
   },
   {
    "duration": 69,
    "start_time": "2022-07-21T11:18:56.147Z"
   },
   {
    "duration": 70,
    "start_time": "2022-07-21T11:18:56.217Z"
   },
   {
    "duration": 15,
    "start_time": "2022-07-21T11:18:56.289Z"
   },
   {
    "duration": 5,
    "start_time": "2022-07-21T11:18:56.305Z"
   },
   {
    "duration": 38,
    "start_time": "2022-07-21T11:18:56.312Z"
   },
   {
    "duration": 30,
    "start_time": "2022-07-21T11:18:56.352Z"
   },
   {
    "duration": 18,
    "start_time": "2022-07-21T11:18:56.384Z"
   },
   {
    "duration": 8,
    "start_time": "2022-07-21T11:18:56.404Z"
   },
   {
    "duration": 12,
    "start_time": "2022-07-21T11:18:56.413Z"
   },
   {
    "duration": 6,
    "start_time": "2022-07-21T11:18:56.427Z"
   },
   {
    "duration": 3,
    "start_time": "2022-07-21T11:21:13.448Z"
   },
   {
    "duration": 174,
    "start_time": "2022-07-21T11:21:13.808Z"
   },
   {
    "duration": 1241,
    "start_time": "2022-07-21T11:21:33.769Z"
   },
   {
    "duration": 156,
    "start_time": "2022-07-21T11:21:35.012Z"
   },
   {
    "duration": 32,
    "start_time": "2022-07-21T11:21:35.170Z"
   },
   {
    "duration": 112,
    "start_time": "2022-07-21T11:21:35.205Z"
   },
   {
    "duration": 84,
    "start_time": "2022-07-21T11:21:35.319Z"
   },
   {
    "duration": 69,
    "start_time": "2022-07-21T11:21:35.405Z"
   },
   {
    "duration": 32,
    "start_time": "2022-07-21T11:21:35.476Z"
   },
   {
    "duration": 7,
    "start_time": "2022-07-21T11:21:35.510Z"
   },
   {
    "duration": 107,
    "start_time": "2022-07-21T11:21:35.518Z"
   },
   {
    "duration": 2,
    "start_time": "2022-07-21T11:21:35.627Z"
   },
   {
    "duration": 46,
    "start_time": "2022-07-21T11:21:35.631Z"
   },
   {
    "duration": 474,
    "start_time": "2022-07-21T11:21:35.678Z"
   },
   {
    "duration": 68,
    "start_time": "2022-07-21T11:21:36.154Z"
   },
   {
    "duration": 81,
    "start_time": "2022-07-21T11:21:36.224Z"
   },
   {
    "duration": 19,
    "start_time": "2022-07-21T11:21:36.307Z"
   },
   {
    "duration": 52,
    "start_time": "2022-07-21T11:21:36.328Z"
   },
   {
    "duration": 15,
    "start_time": "2022-07-21T11:21:36.400Z"
   },
   {
    "duration": 6,
    "start_time": "2022-07-21T11:21:36.417Z"
   },
   {
    "duration": 39,
    "start_time": "2022-07-21T11:21:36.425Z"
   },
   {
    "duration": 58,
    "start_time": "2022-07-21T11:21:36.466Z"
   },
   {
    "duration": 4,
    "start_time": "2022-07-21T11:21:36.526Z"
   },
   {
    "duration": 4,
    "start_time": "2022-07-21T11:21:36.532Z"
   },
   {
    "duration": 168,
    "start_time": "2022-07-21T11:21:36.538Z"
   },
   {
    "duration": 0,
    "start_time": "2022-07-21T11:21:36.708Z"
   },
   {
    "duration": 34,
    "start_time": "2022-07-21T11:22:27.746Z"
   },
   {
    "duration": 36,
    "start_time": "2022-07-21T11:23:22.906Z"
   },
   {
    "duration": 3,
    "start_time": "2022-07-21T11:23:31.014Z"
   },
   {
    "duration": 14,
    "start_time": "2022-07-21T11:23:31.520Z"
   },
   {
    "duration": 5,
    "start_time": "2022-07-21T11:25:03.862Z"
   },
   {
    "duration": 4,
    "start_time": "2022-07-21T11:25:04.322Z"
   },
   {
    "duration": 6,
    "start_time": "2022-07-21T11:25:06.065Z"
   },
   {
    "duration": 38,
    "start_time": "2022-07-21T11:26:33.339Z"
   },
   {
    "duration": 41,
    "start_time": "2022-07-21T11:26:53.938Z"
   },
   {
    "duration": 39,
    "start_time": "2022-07-21T11:27:10.177Z"
   },
   {
    "duration": 4,
    "start_time": "2022-07-21T11:27:22.890Z"
   },
   {
    "duration": 11,
    "start_time": "2022-07-21T11:27:23.510Z"
   },
   {
    "duration": 12,
    "start_time": "2022-07-21T11:27:26.648Z"
   },
   {
    "duration": 8,
    "start_time": "2022-07-21T11:27:41.740Z"
   },
   {
    "duration": 8,
    "start_time": "2022-07-21T11:27:50.090Z"
   },
   {
    "duration": 8,
    "start_time": "2022-07-21T11:27:53.978Z"
   },
   {
    "duration": 5,
    "start_time": "2022-07-21T11:27:59.089Z"
   },
   {
    "duration": 4,
    "start_time": "2022-07-21T11:28:03.739Z"
   },
   {
    "duration": 4,
    "start_time": "2022-07-21T11:28:12.510Z"
   },
   {
    "duration": 4,
    "start_time": "2022-07-21T11:28:38.605Z"
   },
   {
    "duration": 4,
    "start_time": "2022-07-21T11:30:07.206Z"
   },
   {
    "duration": 30,
    "start_time": "2022-07-21T11:32:17.219Z"
   },
   {
    "duration": 31,
    "start_time": "2022-07-21T11:32:36.170Z"
   },
   {
    "duration": 4,
    "start_time": "2022-07-21T11:32:42.990Z"
   },
   {
    "duration": 4,
    "start_time": "2022-07-21T11:32:43.428Z"
   },
   {
    "duration": 4,
    "start_time": "2022-07-21T11:32:44.304Z"
   },
   {
    "duration": 7,
    "start_time": "2022-07-21T11:32:45.848Z"
   },
   {
    "duration": 8,
    "start_time": "2022-07-21T11:33:34.649Z"
   },
   {
    "duration": 47,
    "start_time": "2022-07-21T11:37:52.225Z"
   },
   {
    "duration": 3,
    "start_time": "2022-07-21T11:37:56.701Z"
   },
   {
    "duration": 79,
    "start_time": "2022-07-21T11:39:53.870Z"
   },
   {
    "duration": 3,
    "start_time": "2022-07-21T11:40:42.825Z"
   },
   {
    "duration": 10,
    "start_time": "2022-07-21T11:41:44.116Z"
   },
   {
    "duration": 3,
    "start_time": "2022-07-21T11:41:59.841Z"
   },
   {
    "duration": 12,
    "start_time": "2022-07-21T11:42:00.290Z"
   },
   {
    "duration": 3,
    "start_time": "2022-07-21T11:42:28.457Z"
   },
   {
    "duration": 11,
    "start_time": "2022-07-21T11:42:28.922Z"
   },
   {
    "duration": 1196,
    "start_time": "2022-07-21T11:42:43.036Z"
   },
   {
    "duration": 149,
    "start_time": "2022-07-21T11:42:44.234Z"
   },
   {
    "duration": 32,
    "start_time": "2022-07-21T11:42:44.384Z"
   },
   {
    "duration": 102,
    "start_time": "2022-07-21T11:42:44.419Z"
   },
   {
    "duration": 77,
    "start_time": "2022-07-21T11:42:44.523Z"
   },
   {
    "duration": 69,
    "start_time": "2022-07-21T11:42:44.602Z"
   },
   {
    "duration": 32,
    "start_time": "2022-07-21T11:42:44.673Z"
   },
   {
    "duration": 8,
    "start_time": "2022-07-21T11:42:44.706Z"
   },
   {
    "duration": 109,
    "start_time": "2022-07-21T11:42:44.715Z"
   },
   {
    "duration": 3,
    "start_time": "2022-07-21T11:42:44.827Z"
   },
   {
    "duration": 61,
    "start_time": "2022-07-21T11:42:44.832Z"
   },
   {
    "duration": 595,
    "start_time": "2022-07-21T11:42:44.895Z"
   },
   {
    "duration": 55,
    "start_time": "2022-07-21T11:42:45.492Z"
   },
   {
    "duration": 37,
    "start_time": "2022-07-21T11:42:45.602Z"
   },
   {
    "duration": 20,
    "start_time": "2022-07-21T11:42:45.641Z"
   },
   {
    "duration": 80,
    "start_time": "2022-07-21T11:42:45.663Z"
   },
   {
    "duration": 16,
    "start_time": "2022-07-21T11:42:45.744Z"
   },
   {
    "duration": 7,
    "start_time": "2022-07-21T11:42:45.761Z"
   },
   {
    "duration": 18,
    "start_time": "2022-07-21T11:42:45.769Z"
   },
   {
    "duration": 54,
    "start_time": "2022-07-21T11:42:45.789Z"
   },
   {
    "duration": 32,
    "start_time": "2022-07-21T11:42:45.845Z"
   },
   {
    "duration": 3,
    "start_time": "2022-07-21T11:42:45.879Z"
   },
   {
    "duration": 30,
    "start_time": "2022-07-21T11:42:45.883Z"
   },
   {
    "duration": 11,
    "start_time": "2022-07-21T11:42:45.915Z"
   },
   {
    "duration": 11,
    "start_time": "2022-07-21T11:43:42.259Z"
   },
   {
    "duration": 14,
    "start_time": "2022-07-21T11:44:57.837Z"
   },
   {
    "duration": 13,
    "start_time": "2022-07-21T11:45:10.543Z"
   },
   {
    "duration": 101,
    "start_time": "2022-07-21T11:49:51.777Z"
   },
   {
    "duration": 7,
    "start_time": "2022-07-21T11:49:58.178Z"
   },
   {
    "duration": 35,
    "start_time": "2022-07-21T11:50:03.285Z"
   },
   {
    "duration": 6,
    "start_time": "2022-07-21T11:50:27.255Z"
   },
   {
    "duration": 40,
    "start_time": "2022-07-21T11:50:28.069Z"
   },
   {
    "duration": 6,
    "start_time": "2022-07-21T11:50:40.084Z"
   },
   {
    "duration": 50,
    "start_time": "2022-07-21T11:50:40.726Z"
   },
   {
    "duration": 11,
    "start_time": "2022-07-21T11:50:43.941Z"
   },
   {
    "duration": 12,
    "start_time": "2022-07-21T11:50:45.583Z"
   },
   {
    "duration": 7,
    "start_time": "2022-07-21T11:52:03.216Z"
   },
   {
    "duration": 58,
    "start_time": "2022-07-21T11:52:04.457Z"
   },
   {
    "duration": 7,
    "start_time": "2022-07-21T11:57:25.114Z"
   },
   {
    "duration": 38,
    "start_time": "2022-07-21T11:57:25.843Z"
   },
   {
    "duration": 6,
    "start_time": "2022-07-21T11:57:30.993Z"
   },
   {
    "duration": 35,
    "start_time": "2022-07-21T11:57:31.419Z"
   },
   {
    "duration": 6,
    "start_time": "2022-07-21T11:57:36.286Z"
   },
   {
    "duration": 37,
    "start_time": "2022-07-21T11:57:36.854Z"
   },
   {
    "duration": 7,
    "start_time": "2022-07-21T11:57:40.718Z"
   },
   {
    "duration": 40,
    "start_time": "2022-07-21T11:57:41.380Z"
   },
   {
    "duration": 8,
    "start_time": "2022-07-21T11:57:49.609Z"
   },
   {
    "duration": 48,
    "start_time": "2022-07-21T11:57:50.052Z"
   },
   {
    "duration": 152,
    "start_time": "2022-07-21T11:59:56.825Z"
   },
   {
    "duration": 165,
    "start_time": "2022-07-21T12:00:59.297Z"
   },
   {
    "duration": 28,
    "start_time": "2022-07-21T12:01:52.809Z"
   },
   {
    "duration": 166,
    "start_time": "2022-07-21T12:02:21.649Z"
   },
   {
    "duration": 26,
    "start_time": "2022-07-21T12:02:30.366Z"
   },
   {
    "duration": 22,
    "start_time": "2022-07-21T12:02:35.085Z"
   },
   {
    "duration": 159,
    "start_time": "2022-07-21T12:03:09.895Z"
   },
   {
    "duration": 1232,
    "start_time": "2022-07-21T12:06:38.695Z"
   },
   {
    "duration": 154,
    "start_time": "2022-07-21T12:06:39.929Z"
   },
   {
    "duration": 27,
    "start_time": "2022-07-21T12:06:40.084Z"
   },
   {
    "duration": 105,
    "start_time": "2022-07-21T12:06:40.113Z"
   },
   {
    "duration": 65,
    "start_time": "2022-07-21T12:06:40.220Z"
   },
   {
    "duration": 76,
    "start_time": "2022-07-21T12:06:40.287Z"
   },
   {
    "duration": 18,
    "start_time": "2022-07-21T12:06:40.365Z"
   },
   {
    "duration": 21,
    "start_time": "2022-07-21T12:06:40.384Z"
   },
   {
    "duration": 107,
    "start_time": "2022-07-21T12:06:40.406Z"
   },
   {
    "duration": 2,
    "start_time": "2022-07-21T12:06:40.516Z"
   },
   {
    "duration": 47,
    "start_time": "2022-07-21T12:06:40.520Z"
   },
   {
    "duration": 496,
    "start_time": "2022-07-21T12:06:40.568Z"
   },
   {
    "duration": 48,
    "start_time": "2022-07-21T12:06:41.066Z"
   },
   {
    "duration": 26,
    "start_time": "2022-07-21T12:06:41.115Z"
   },
   {
    "duration": 65,
    "start_time": "2022-07-21T12:06:41.143Z"
   },
   {
    "duration": 53,
    "start_time": "2022-07-21T12:06:41.210Z"
   },
   {
    "duration": 15,
    "start_time": "2022-07-21T12:06:41.265Z"
   },
   {
    "duration": 6,
    "start_time": "2022-07-21T12:06:41.300Z"
   },
   {
    "duration": 38,
    "start_time": "2022-07-21T12:06:41.308Z"
   },
   {
    "duration": 7,
    "start_time": "2022-07-21T12:06:41.348Z"
   },
   {
    "duration": 56,
    "start_time": "2022-07-21T12:06:41.357Z"
   },
   {
    "duration": 172,
    "start_time": "2022-07-21T12:06:41.415Z"
   },
   {
    "duration": 7,
    "start_time": "2022-07-21T12:07:06.251Z"
   },
   {
    "duration": 40,
    "start_time": "2022-07-21T12:07:06.702Z"
   },
   {
    "duration": 187,
    "start_time": "2022-07-21T12:07:08.038Z"
   },
   {
    "duration": 148,
    "start_time": "2022-07-21T12:07:15.726Z"
   },
   {
    "duration": 165,
    "start_time": "2022-07-21T12:07:24.440Z"
   },
   {
    "duration": 1246,
    "start_time": "2022-07-21T12:12:58.295Z"
   },
   {
    "duration": 154,
    "start_time": "2022-07-21T12:12:59.543Z"
   },
   {
    "duration": 28,
    "start_time": "2022-07-21T12:12:59.699Z"
   },
   {
    "duration": 109,
    "start_time": "2022-07-21T12:12:59.729Z"
   },
   {
    "duration": 73,
    "start_time": "2022-07-21T12:12:59.841Z"
   },
   {
    "duration": 68,
    "start_time": "2022-07-21T12:12:59.916Z"
   },
   {
    "duration": 29,
    "start_time": "2022-07-21T12:12:59.986Z"
   },
   {
    "duration": 8,
    "start_time": "2022-07-21T12:13:00.017Z"
   },
   {
    "duration": 111,
    "start_time": "2022-07-21T12:13:00.026Z"
   },
   {
    "duration": 3,
    "start_time": "2022-07-21T12:13:00.139Z"
   },
   {
    "duration": 66,
    "start_time": "2022-07-21T12:13:00.143Z"
   },
   {
    "duration": 504,
    "start_time": "2022-07-21T12:13:00.211Z"
   },
   {
    "duration": 85,
    "start_time": "2022-07-21T12:13:00.717Z"
   },
   {
    "duration": 28,
    "start_time": "2022-07-21T12:13:00.804Z"
   },
   {
    "duration": 33,
    "start_time": "2022-07-21T12:13:00.833Z"
   },
   {
    "duration": 80,
    "start_time": "2022-07-21T12:13:00.868Z"
   },
   {
    "duration": 7,
    "start_time": "2022-07-21T12:13:00.949Z"
   },
   {
    "duration": 55,
    "start_time": "2022-07-21T12:13:00.957Z"
   },
   {
    "duration": 7,
    "start_time": "2022-07-21T12:13:01.014Z"
   },
   {
    "duration": 56,
    "start_time": "2022-07-21T12:13:01.023Z"
   },
   {
    "duration": 226,
    "start_time": "2022-07-21T12:13:01.081Z"
   },
   {
    "duration": 205,
    "start_time": "2022-07-21T12:15:55.064Z"
   },
   {
    "duration": 9,
    "start_time": "2022-07-21T12:16:21.106Z"
   },
   {
    "duration": 50,
    "start_time": "2022-07-21T12:16:22.140Z"
   },
   {
    "duration": 229,
    "start_time": "2022-07-21T12:16:23.767Z"
   },
   {
    "duration": 201,
    "start_time": "2022-07-21T12:17:30.436Z"
   },
   {
    "duration": 179,
    "start_time": "2022-07-21T12:20:32.094Z"
   },
   {
    "duration": 194,
    "start_time": "2022-07-21T12:20:50.693Z"
   },
   {
    "duration": 223,
    "start_time": "2022-07-21T12:25:30.442Z"
   },
   {
    "duration": 7,
    "start_time": "2022-07-21T12:28:37.190Z"
   },
   {
    "duration": 6,
    "start_time": "2022-07-21T12:29:09.774Z"
   },
   {
    "duration": 164,
    "start_time": "2022-07-21T12:29:10.465Z"
   },
   {
    "duration": 181,
    "start_time": "2022-07-21T12:30:00.767Z"
   },
   {
    "duration": 7,
    "start_time": "2022-07-21T12:30:24.898Z"
   },
   {
    "duration": 204,
    "start_time": "2022-07-21T12:30:25.411Z"
   },
   {
    "duration": 6,
    "start_time": "2022-07-21T12:30:43.713Z"
   },
   {
    "duration": 135,
    "start_time": "2022-07-21T12:30:44.613Z"
   },
   {
    "duration": 7,
    "start_time": "2022-07-21T12:31:14.785Z"
   },
   {
    "duration": 85,
    "start_time": "2022-07-21T12:31:16.029Z"
   },
   {
    "duration": 9,
    "start_time": "2022-07-21T12:31:23.868Z"
   },
   {
    "duration": 198,
    "start_time": "2022-07-21T12:31:24.268Z"
   },
   {
    "duration": 1286,
    "start_time": "2022-07-22T06:43:13.189Z"
   },
   {
    "duration": 689,
    "start_time": "2022-07-22T06:43:14.477Z"
   },
   {
    "duration": 25,
    "start_time": "2022-07-22T06:43:15.168Z"
   },
   {
    "duration": 87,
    "start_time": "2022-07-22T06:43:15.195Z"
   },
   {
    "duration": 71,
    "start_time": "2022-07-22T06:43:15.284Z"
   },
   {
    "duration": 64,
    "start_time": "2022-07-22T06:43:15.357Z"
   },
   {
    "duration": 32,
    "start_time": "2022-07-22T06:43:15.422Z"
   },
   {
    "duration": 7,
    "start_time": "2022-07-22T06:43:15.455Z"
   },
   {
    "duration": 100,
    "start_time": "2022-07-22T06:43:15.464Z"
   },
   {
    "duration": 3,
    "start_time": "2022-07-22T06:43:15.567Z"
   },
   {
    "duration": 53,
    "start_time": "2022-07-22T06:43:15.572Z"
   },
   {
    "duration": 1720,
    "start_time": "2022-07-22T06:43:15.627Z"
   },
   {
    "duration": 29,
    "start_time": "2022-07-22T06:43:17.353Z"
   },
   {
    "duration": 76,
    "start_time": "2022-07-22T06:43:17.383Z"
   },
   {
    "duration": 17,
    "start_time": "2022-07-22T06:43:17.460Z"
   },
   {
    "duration": 96,
    "start_time": "2022-07-22T06:43:17.479Z"
   },
   {
    "duration": 6,
    "start_time": "2022-07-22T06:43:17.576Z"
   },
   {
    "duration": 42,
    "start_time": "2022-07-22T06:43:17.584Z"
   },
   {
    "duration": 27,
    "start_time": "2022-07-22T06:43:17.628Z"
   },
   {
    "duration": 47,
    "start_time": "2022-07-22T06:43:17.658Z"
   },
   {
    "duration": 161,
    "start_time": "2022-07-22T06:43:17.707Z"
   },
   {
    "duration": 154,
    "start_time": "2022-07-22T06:43:17.869Z"
   },
   {
    "duration": 155,
    "start_time": "2022-07-22T06:43:18.025Z"
   },
   {
    "duration": 201,
    "start_time": "2022-07-22T06:43:18.182Z"
   },
   {
    "duration": 4637,
    "start_time": "2022-07-22T06:43:38.489Z"
   },
   {
    "duration": 3,
    "start_time": "2022-07-22T06:43:56.951Z"
   },
   {
    "duration": 29,
    "start_time": "2022-07-22T06:47:27.567Z"
   },
   {
    "duration": 1391,
    "start_time": "2022-07-22T07:22:23.541Z"
   },
   {
    "duration": 587,
    "start_time": "2022-07-22T07:22:24.934Z"
   },
   {
    "duration": 31,
    "start_time": "2022-07-22T07:22:25.525Z"
   },
   {
    "duration": 97,
    "start_time": "2022-07-22T07:22:25.557Z"
   },
   {
    "duration": 72,
    "start_time": "2022-07-22T07:22:25.656Z"
   },
   {
    "duration": 77,
    "start_time": "2022-07-22T07:22:25.730Z"
   },
   {
    "duration": 27,
    "start_time": "2022-07-22T07:22:25.810Z"
   },
   {
    "duration": 9,
    "start_time": "2022-07-22T07:22:25.840Z"
   },
   {
    "duration": 118,
    "start_time": "2022-07-22T07:22:25.851Z"
   },
   {
    "duration": 6278,
    "start_time": "2022-07-22T07:22:25.971Z"
   },
   {
    "duration": 76,
    "start_time": "2022-07-22T07:22:32.251Z"
   },
   {
    "duration": 389,
    "start_time": "2022-07-22T07:22:32.329Z"
   },
   {
    "duration": 93,
    "start_time": "2022-07-22T07:22:32.720Z"
   },
   {
    "duration": 31,
    "start_time": "2022-07-22T07:22:32.816Z"
   },
   {
    "duration": 30,
    "start_time": "2022-07-22T07:22:32.902Z"
   },
   {
    "duration": 80,
    "start_time": "2022-07-22T07:22:32.933Z"
   },
   {
    "duration": 63,
    "start_time": "2022-07-22T07:22:33.015Z"
   },
   {
    "duration": 6,
    "start_time": "2022-07-22T07:22:33.101Z"
   },
   {
    "duration": 56,
    "start_time": "2022-07-22T07:22:33.110Z"
   },
   {
    "duration": 10,
    "start_time": "2022-07-22T07:22:33.168Z"
   },
   {
    "duration": 58,
    "start_time": "2022-07-22T07:22:33.180Z"
   },
   {
    "duration": 148,
    "start_time": "2022-07-22T07:22:33.239Z"
   },
   {
    "duration": 161,
    "start_time": "2022-07-22T07:22:33.389Z"
   },
   {
    "duration": 160,
    "start_time": "2022-07-22T07:22:33.552Z"
   },
   {
    "duration": 198,
    "start_time": "2022-07-22T07:22:33.714Z"
   },
   {
    "duration": 1199,
    "start_time": "2022-07-22T07:28:18.824Z"
   },
   {
    "duration": 161,
    "start_time": "2022-07-22T07:28:20.025Z"
   },
   {
    "duration": 33,
    "start_time": "2022-07-22T07:28:20.188Z"
   },
   {
    "duration": 117,
    "start_time": "2022-07-22T07:28:20.223Z"
   },
   {
    "duration": 78,
    "start_time": "2022-07-22T07:28:20.341Z"
   },
   {
    "duration": 80,
    "start_time": "2022-07-22T07:28:20.421Z"
   },
   {
    "duration": 20,
    "start_time": "2022-07-22T07:28:20.502Z"
   },
   {
    "duration": 8,
    "start_time": "2022-07-22T07:28:20.524Z"
   },
   {
    "duration": 119,
    "start_time": "2022-07-22T07:28:20.534Z"
   },
   {
    "duration": 6593,
    "start_time": "2022-07-22T07:28:20.656Z"
   },
   {
    "duration": 84,
    "start_time": "2022-07-22T07:28:27.252Z"
   },
   {
    "duration": 300,
    "start_time": "2022-07-22T07:28:27.338Z"
   },
   {
    "duration": 95,
    "start_time": "2022-07-22T07:28:27.640Z"
   },
   {
    "duration": 101,
    "start_time": "2022-07-22T07:28:27.737Z"
   },
   {
    "duration": 79,
    "start_time": "2022-07-22T07:28:27.840Z"
   },
   {
    "duration": 24,
    "start_time": "2022-07-22T07:28:27.921Z"
   },
   {
    "duration": 79,
    "start_time": "2022-07-22T07:28:27.947Z"
   },
   {
    "duration": 7,
    "start_time": "2022-07-22T07:28:28.028Z"
   },
   {
    "duration": 44,
    "start_time": "2022-07-22T07:28:28.037Z"
   },
   {
    "duration": 19,
    "start_time": "2022-07-22T07:28:28.085Z"
   },
   {
    "duration": 62,
    "start_time": "2022-07-22T07:28:28.106Z"
   },
   {
    "duration": 162,
    "start_time": "2022-07-22T07:28:28.170Z"
   },
   {
    "duration": 158,
    "start_time": "2022-07-22T07:28:28.334Z"
   },
   {
    "duration": 157,
    "start_time": "2022-07-22T07:28:28.493Z"
   },
   {
    "duration": 217,
    "start_time": "2022-07-22T07:28:28.653Z"
   },
   {
    "duration": 169,
    "start_time": "2022-07-22T07:44:01.673Z"
   },
   {
    "duration": 35,
    "start_time": "2022-07-22T07:44:09.784Z"
   },
   {
    "duration": 5,
    "start_time": "2022-07-22T07:44:30.326Z"
   },
   {
    "duration": 41,
    "start_time": "2022-07-22T07:44:59.173Z"
   },
   {
    "duration": 1325,
    "start_time": "2022-07-22T07:58:30.912Z"
   },
   {
    "duration": 149,
    "start_time": "2022-07-22T07:58:32.238Z"
   },
   {
    "duration": 31,
    "start_time": "2022-07-22T07:58:32.388Z"
   },
   {
    "duration": 112,
    "start_time": "2022-07-22T07:58:32.421Z"
   },
   {
    "duration": 77,
    "start_time": "2022-07-22T07:58:32.535Z"
   },
   {
    "duration": 65,
    "start_time": "2022-07-22T07:58:32.614Z"
   },
   {
    "duration": 25,
    "start_time": "2022-07-22T07:58:32.681Z"
   },
   {
    "duration": 41,
    "start_time": "2022-07-22T07:58:32.717Z"
   },
   {
    "duration": 105,
    "start_time": "2022-07-22T07:58:32.759Z"
   },
   {
    "duration": 0,
    "start_time": "2022-07-22T07:58:32.866Z"
   },
   {
    "duration": 0,
    "start_time": "2022-07-22T07:58:32.867Z"
   },
   {
    "duration": 0,
    "start_time": "2022-07-22T07:58:32.868Z"
   },
   {
    "duration": 0,
    "start_time": "2022-07-22T07:58:32.869Z"
   },
   {
    "duration": 0,
    "start_time": "2022-07-22T07:58:32.870Z"
   },
   {
    "duration": 0,
    "start_time": "2022-07-22T07:58:32.871Z"
   },
   {
    "duration": 0,
    "start_time": "2022-07-22T07:58:32.872Z"
   },
   {
    "duration": 0,
    "start_time": "2022-07-22T07:58:32.873Z"
   },
   {
    "duration": 0,
    "start_time": "2022-07-22T07:58:32.875Z"
   },
   {
    "duration": 0,
    "start_time": "2022-07-22T07:58:32.875Z"
   },
   {
    "duration": 0,
    "start_time": "2022-07-22T07:58:32.876Z"
   },
   {
    "duration": 0,
    "start_time": "2022-07-22T07:58:32.877Z"
   },
   {
    "duration": 0,
    "start_time": "2022-07-22T07:58:32.878Z"
   },
   {
    "duration": 0,
    "start_time": "2022-07-22T07:58:32.879Z"
   },
   {
    "duration": 0,
    "start_time": "2022-07-22T07:58:32.880Z"
   },
   {
    "duration": 0,
    "start_time": "2022-07-22T07:58:32.900Z"
   },
   {
    "duration": 0,
    "start_time": "2022-07-22T07:58:32.901Z"
   },
   {
    "duration": 0,
    "start_time": "2022-07-22T07:58:32.906Z"
   },
   {
    "duration": 34,
    "start_time": "2022-07-22T07:59:49.520Z"
   },
   {
    "duration": 29,
    "start_time": "2022-07-22T08:00:20.544Z"
   },
   {
    "duration": 38,
    "start_time": "2022-07-22T08:01:27.488Z"
   },
   {
    "duration": 74,
    "start_time": "2022-07-22T08:02:01.813Z"
   },
   {
    "duration": 39,
    "start_time": "2022-07-22T08:02:06.553Z"
   },
   {
    "duration": 67,
    "start_time": "2022-07-22T08:07:56.328Z"
   },
   {
    "duration": 67,
    "start_time": "2022-07-22T08:08:13.954Z"
   },
   {
    "duration": 64,
    "start_time": "2022-07-22T08:08:41.383Z"
   },
   {
    "duration": 68,
    "start_time": "2022-07-22T08:08:51.491Z"
   },
   {
    "duration": 81,
    "start_time": "2022-07-22T08:08:58.481Z"
   },
   {
    "duration": 5,
    "start_time": "2022-07-22T08:09:21.294Z"
   },
   {
    "duration": 6,
    "start_time": "2022-07-22T08:09:31.001Z"
   },
   {
    "duration": 5,
    "start_time": "2022-07-22T08:09:34.588Z"
   },
   {
    "duration": 75,
    "start_time": "2022-07-22T08:09:37.868Z"
   },
   {
    "duration": 57,
    "start_time": "2022-07-22T08:11:58.267Z"
   },
   {
    "duration": 643,
    "start_time": "2022-07-22T08:19:07.653Z"
   },
   {
    "duration": 81,
    "start_time": "2022-07-22T08:28:37.255Z"
   },
   {
    "duration": 120,
    "start_time": "2022-07-22T08:29:07.980Z"
   },
   {
    "duration": 405,
    "start_time": "2022-07-22T08:29:35.434Z"
   },
   {
    "duration": 61,
    "start_time": "2022-07-22T08:30:40.206Z"
   },
   {
    "duration": 1391,
    "start_time": "2022-07-22T08:30:55.067Z"
   },
   {
    "duration": 162,
    "start_time": "2022-07-22T08:30:56.460Z"
   },
   {
    "duration": 30,
    "start_time": "2022-07-22T08:30:56.624Z"
   },
   {
    "duration": 120,
    "start_time": "2022-07-22T08:30:56.657Z"
   },
   {
    "duration": 85,
    "start_time": "2022-07-22T08:30:56.778Z"
   },
   {
    "duration": 84,
    "start_time": "2022-07-22T08:30:56.864Z"
   },
   {
    "duration": 20,
    "start_time": "2022-07-22T08:30:56.950Z"
   },
   {
    "duration": 75,
    "start_time": "2022-07-22T08:30:56.972Z"
   },
   {
    "duration": 8,
    "start_time": "2022-07-22T08:30:57.049Z"
   },
   {
    "duration": 135,
    "start_time": "2022-07-22T08:30:57.059Z"
   },
   {
    "duration": 2,
    "start_time": "2022-07-22T08:30:57.196Z"
   },
   {
    "duration": 74,
    "start_time": "2022-07-22T08:30:57.201Z"
   },
   {
    "duration": 0,
    "start_time": "2022-07-22T08:30:57.276Z"
   },
   {
    "duration": 0,
    "start_time": "2022-07-22T08:30:57.278Z"
   },
   {
    "duration": 0,
    "start_time": "2022-07-22T08:30:57.278Z"
   },
   {
    "duration": 0,
    "start_time": "2022-07-22T08:30:57.280Z"
   },
   {
    "duration": 0,
    "start_time": "2022-07-22T08:30:57.281Z"
   },
   {
    "duration": 0,
    "start_time": "2022-07-22T08:30:57.282Z"
   },
   {
    "duration": 0,
    "start_time": "2022-07-22T08:30:57.283Z"
   },
   {
    "duration": 0,
    "start_time": "2022-07-22T08:30:57.284Z"
   },
   {
    "duration": 0,
    "start_time": "2022-07-22T08:30:57.285Z"
   },
   {
    "duration": 0,
    "start_time": "2022-07-22T08:30:57.287Z"
   },
   {
    "duration": 0,
    "start_time": "2022-07-22T08:30:57.288Z"
   },
   {
    "duration": 0,
    "start_time": "2022-07-22T08:30:57.289Z"
   },
   {
    "duration": 0,
    "start_time": "2022-07-22T08:30:57.290Z"
   },
   {
    "duration": 0,
    "start_time": "2022-07-22T08:30:57.291Z"
   },
   {
    "duration": 0,
    "start_time": "2022-07-22T08:30:57.292Z"
   },
   {
    "duration": 48,
    "start_time": "2022-07-22T08:31:29.620Z"
   },
   {
    "duration": 89,
    "start_time": "2022-07-22T08:31:42.374Z"
   },
   {
    "duration": 56,
    "start_time": "2022-07-22T08:32:08.774Z"
   },
   {
    "duration": 1412,
    "start_time": "2022-07-22T08:33:05.860Z"
   },
   {
    "duration": 167,
    "start_time": "2022-07-22T08:33:07.274Z"
   },
   {
    "duration": 35,
    "start_time": "2022-07-22T08:33:07.443Z"
   },
   {
    "duration": 128,
    "start_time": "2022-07-22T08:33:07.480Z"
   },
   {
    "duration": 72,
    "start_time": "2022-07-22T08:33:07.610Z"
   },
   {
    "duration": 93,
    "start_time": "2022-07-22T08:33:07.685Z"
   },
   {
    "duration": 43,
    "start_time": "2022-07-22T08:33:07.780Z"
   },
   {
    "duration": 79,
    "start_time": "2022-07-22T08:33:07.825Z"
   },
   {
    "duration": 8,
    "start_time": "2022-07-22T08:33:07.905Z"
   },
   {
    "duration": 122,
    "start_time": "2022-07-22T08:33:07.916Z"
   },
   {
    "duration": 2,
    "start_time": "2022-07-22T08:33:08.041Z"
   },
   {
    "duration": 73,
    "start_time": "2022-07-22T08:33:08.045Z"
   },
   {
    "duration": 123,
    "start_time": "2022-07-22T08:33:08.120Z"
   },
   {
    "duration": 0,
    "start_time": "2022-07-22T08:33:08.245Z"
   },
   {
    "duration": 0,
    "start_time": "2022-07-22T08:33:08.247Z"
   },
   {
    "duration": 0,
    "start_time": "2022-07-22T08:33:08.249Z"
   },
   {
    "duration": 0,
    "start_time": "2022-07-22T08:33:08.251Z"
   },
   {
    "duration": 0,
    "start_time": "2022-07-22T08:33:08.252Z"
   },
   {
    "duration": 1,
    "start_time": "2022-07-22T08:33:08.253Z"
   },
   {
    "duration": 0,
    "start_time": "2022-07-22T08:33:08.255Z"
   },
   {
    "duration": 0,
    "start_time": "2022-07-22T08:33:08.256Z"
   },
   {
    "duration": 0,
    "start_time": "2022-07-22T08:33:08.258Z"
   },
   {
    "duration": 0,
    "start_time": "2022-07-22T08:33:08.259Z"
   },
   {
    "duration": 0,
    "start_time": "2022-07-22T08:33:08.261Z"
   },
   {
    "duration": 0,
    "start_time": "2022-07-22T08:33:08.262Z"
   },
   {
    "duration": 0,
    "start_time": "2022-07-22T08:33:08.264Z"
   },
   {
    "duration": 0,
    "start_time": "2022-07-22T08:33:08.265Z"
   },
   {
    "duration": 1245,
    "start_time": "2022-07-22T08:33:57.218Z"
   },
   {
    "duration": 158,
    "start_time": "2022-07-22T08:33:58.466Z"
   },
   {
    "duration": 29,
    "start_time": "2022-07-22T08:33:58.625Z"
   },
   {
    "duration": 114,
    "start_time": "2022-07-22T08:33:58.656Z"
   },
   {
    "duration": 80,
    "start_time": "2022-07-22T08:33:58.773Z"
   },
   {
    "duration": 80,
    "start_time": "2022-07-22T08:33:58.855Z"
   },
   {
    "duration": 18,
    "start_time": "2022-07-22T08:33:58.936Z"
   },
   {
    "duration": 74,
    "start_time": "2022-07-22T08:33:58.957Z"
   },
   {
    "duration": 8,
    "start_time": "2022-07-22T08:33:59.033Z"
   },
   {
    "duration": 125,
    "start_time": "2022-07-22T08:33:59.043Z"
   },
   {
    "duration": 2,
    "start_time": "2022-07-22T08:33:59.170Z"
   },
   {
    "duration": 62,
    "start_time": "2022-07-22T08:33:59.173Z"
   },
   {
    "duration": 125,
    "start_time": "2022-07-22T08:33:59.237Z"
   },
   {
    "duration": 0,
    "start_time": "2022-07-22T08:33:59.364Z"
   },
   {
    "duration": 1,
    "start_time": "2022-07-22T08:33:59.365Z"
   },
   {
    "duration": 0,
    "start_time": "2022-07-22T08:33:59.367Z"
   },
   {
    "duration": 0,
    "start_time": "2022-07-22T08:33:59.368Z"
   },
   {
    "duration": 0,
    "start_time": "2022-07-22T08:33:59.370Z"
   },
   {
    "duration": 0,
    "start_time": "2022-07-22T08:33:59.370Z"
   },
   {
    "duration": 0,
    "start_time": "2022-07-22T08:33:59.371Z"
   },
   {
    "duration": 0,
    "start_time": "2022-07-22T08:33:59.373Z"
   },
   {
    "duration": 0,
    "start_time": "2022-07-22T08:33:59.374Z"
   },
   {
    "duration": 0,
    "start_time": "2022-07-22T08:33:59.375Z"
   },
   {
    "duration": 0,
    "start_time": "2022-07-22T08:33:59.402Z"
   },
   {
    "duration": 0,
    "start_time": "2022-07-22T08:33:59.403Z"
   },
   {
    "duration": 0,
    "start_time": "2022-07-22T08:33:59.404Z"
   },
   {
    "duration": 0,
    "start_time": "2022-07-22T08:33:59.405Z"
   },
   {
    "duration": 1330,
    "start_time": "2022-07-22T08:34:32.739Z"
   },
   {
    "duration": 210,
    "start_time": "2022-07-22T08:34:34.072Z"
   },
   {
    "duration": 53,
    "start_time": "2022-07-22T08:34:34.284Z"
   },
   {
    "duration": 116,
    "start_time": "2022-07-22T08:34:34.341Z"
   },
   {
    "duration": 84,
    "start_time": "2022-07-22T08:34:34.459Z"
   },
   {
    "duration": 96,
    "start_time": "2022-07-22T08:34:34.545Z"
   },
   {
    "duration": 19,
    "start_time": "2022-07-22T08:34:34.644Z"
   },
   {
    "duration": 75,
    "start_time": "2022-07-22T08:34:34.665Z"
   },
   {
    "duration": 11,
    "start_time": "2022-07-22T08:34:34.742Z"
   },
   {
    "duration": 173,
    "start_time": "2022-07-22T08:34:34.756Z"
   },
   {
    "duration": 2,
    "start_time": "2022-07-22T08:34:34.931Z"
   },
   {
    "duration": 57,
    "start_time": "2022-07-22T08:34:34.935Z"
   },
   {
    "duration": 133,
    "start_time": "2022-07-22T08:34:34.994Z"
   },
   {
    "duration": 0,
    "start_time": "2022-07-22T08:34:35.129Z"
   },
   {
    "duration": 0,
    "start_time": "2022-07-22T08:34:35.131Z"
   },
   {
    "duration": 0,
    "start_time": "2022-07-22T08:34:35.132Z"
   },
   {
    "duration": 0,
    "start_time": "2022-07-22T08:34:35.133Z"
   },
   {
    "duration": 0,
    "start_time": "2022-07-22T08:34:35.134Z"
   },
   {
    "duration": 0,
    "start_time": "2022-07-22T08:34:35.136Z"
   },
   {
    "duration": 0,
    "start_time": "2022-07-22T08:34:35.137Z"
   },
   {
    "duration": 0,
    "start_time": "2022-07-22T08:34:35.138Z"
   },
   {
    "duration": 0,
    "start_time": "2022-07-22T08:34:35.140Z"
   },
   {
    "duration": 0,
    "start_time": "2022-07-22T08:34:35.141Z"
   },
   {
    "duration": 0,
    "start_time": "2022-07-22T08:34:35.142Z"
   },
   {
    "duration": 0,
    "start_time": "2022-07-22T08:34:35.144Z"
   },
   {
    "duration": 0,
    "start_time": "2022-07-22T08:34:35.145Z"
   },
   {
    "duration": 0,
    "start_time": "2022-07-22T08:34:35.146Z"
   },
   {
    "duration": 1582,
    "start_time": "2022-07-22T08:36:17.550Z"
   },
   {
    "duration": 307,
    "start_time": "2022-07-22T08:36:19.134Z"
   },
   {
    "duration": 94,
    "start_time": "2022-07-22T08:36:19.443Z"
   },
   {
    "duration": 261,
    "start_time": "2022-07-22T08:36:19.540Z"
   },
   {
    "duration": 116,
    "start_time": "2022-07-22T08:36:19.803Z"
   },
   {
    "duration": 122,
    "start_time": "2022-07-22T08:36:19.920Z"
   },
   {
    "duration": 73,
    "start_time": "2022-07-22T08:36:20.045Z"
   },
   {
    "duration": 127,
    "start_time": "2022-07-22T08:36:20.120Z"
   },
   {
    "duration": 9,
    "start_time": "2022-07-22T08:36:20.301Z"
   },
   {
    "duration": 224,
    "start_time": "2022-07-22T08:36:20.311Z"
   },
   {
    "duration": 3,
    "start_time": "2022-07-22T08:36:20.537Z"
   },
   {
    "duration": 169,
    "start_time": "2022-07-22T08:36:20.542Z"
   },
   {
    "duration": 208,
    "start_time": "2022-07-22T08:36:20.713Z"
   },
   {
    "duration": 0,
    "start_time": "2022-07-22T08:36:20.923Z"
   },
   {
    "duration": 0,
    "start_time": "2022-07-22T08:36:20.925Z"
   },
   {
    "duration": 0,
    "start_time": "2022-07-22T08:36:20.927Z"
   },
   {
    "duration": 0,
    "start_time": "2022-07-22T08:36:20.928Z"
   },
   {
    "duration": 0,
    "start_time": "2022-07-22T08:36:20.930Z"
   },
   {
    "duration": 0,
    "start_time": "2022-07-22T08:36:20.931Z"
   },
   {
    "duration": 0,
    "start_time": "2022-07-22T08:36:20.932Z"
   },
   {
    "duration": 0,
    "start_time": "2022-07-22T08:36:20.934Z"
   },
   {
    "duration": 0,
    "start_time": "2022-07-22T08:36:20.936Z"
   },
   {
    "duration": 0,
    "start_time": "2022-07-22T08:36:20.937Z"
   },
   {
    "duration": 0,
    "start_time": "2022-07-22T08:36:20.938Z"
   },
   {
    "duration": 0,
    "start_time": "2022-07-22T08:36:20.940Z"
   },
   {
    "duration": 0,
    "start_time": "2022-07-22T08:36:20.941Z"
   },
   {
    "duration": 0,
    "start_time": "2022-07-22T08:36:20.943Z"
   },
   {
    "duration": 1265,
    "start_time": "2022-07-22T08:39:28.393Z"
   },
   {
    "duration": 155,
    "start_time": "2022-07-22T08:39:29.660Z"
   },
   {
    "duration": 28,
    "start_time": "2022-07-22T08:39:29.817Z"
   },
   {
    "duration": 107,
    "start_time": "2022-07-22T08:39:29.847Z"
   },
   {
    "duration": 77,
    "start_time": "2022-07-22T08:39:29.956Z"
   },
   {
    "duration": 76,
    "start_time": "2022-07-22T08:39:30.035Z"
   },
   {
    "duration": 26,
    "start_time": "2022-07-22T08:39:30.113Z"
   },
   {
    "duration": 78,
    "start_time": "2022-07-22T08:39:30.141Z"
   },
   {
    "duration": 9,
    "start_time": "2022-07-22T08:39:30.221Z"
   },
   {
    "duration": 117,
    "start_time": "2022-07-22T08:39:30.233Z"
   },
   {
    "duration": 2,
    "start_time": "2022-07-22T08:39:30.352Z"
   },
   {
    "duration": 61,
    "start_time": "2022-07-22T08:39:30.356Z"
   },
   {
    "duration": 513,
    "start_time": "2022-07-22T08:39:30.419Z"
   },
   {
    "duration": 114,
    "start_time": "2022-07-22T08:39:30.934Z"
   },
   {
    "duration": 172,
    "start_time": "2022-07-22T08:39:31.101Z"
   },
   {
    "duration": 1,
    "start_time": "2022-07-22T08:39:31.275Z"
   },
   {
    "duration": 0,
    "start_time": "2022-07-22T08:39:31.277Z"
   },
   {
    "duration": 0,
    "start_time": "2022-07-22T08:39:31.283Z"
   },
   {
    "duration": 0,
    "start_time": "2022-07-22T08:39:31.284Z"
   },
   {
    "duration": 0,
    "start_time": "2022-07-22T08:39:31.285Z"
   },
   {
    "duration": 0,
    "start_time": "2022-07-22T08:39:31.287Z"
   },
   {
    "duration": 0,
    "start_time": "2022-07-22T08:39:31.288Z"
   },
   {
    "duration": 0,
    "start_time": "2022-07-22T08:39:31.301Z"
   },
   {
    "duration": 0,
    "start_time": "2022-07-22T08:39:31.302Z"
   },
   {
    "duration": 0,
    "start_time": "2022-07-22T08:39:31.303Z"
   },
   {
    "duration": 0,
    "start_time": "2022-07-22T08:39:31.305Z"
   },
   {
    "duration": 0,
    "start_time": "2022-07-22T08:39:31.306Z"
   },
   {
    "duration": 1534,
    "start_time": "2022-07-22T08:41:21.889Z"
   },
   {
    "duration": 292,
    "start_time": "2022-07-22T08:41:23.425Z"
   },
   {
    "duration": 26,
    "start_time": "2022-07-22T08:41:23.719Z"
   },
   {
    "duration": 222,
    "start_time": "2022-07-22T08:41:23.800Z"
   },
   {
    "duration": 118,
    "start_time": "2022-07-22T08:41:24.024Z"
   },
   {
    "duration": 172,
    "start_time": "2022-07-22T08:41:24.144Z"
   },
   {
    "duration": 18,
    "start_time": "2022-07-22T08:41:24.318Z"
   },
   {
    "duration": 103,
    "start_time": "2022-07-22T08:41:24.337Z"
   },
   {
    "duration": 59,
    "start_time": "2022-07-22T08:41:24.442Z"
   },
   {
    "duration": 146,
    "start_time": "2022-07-22T08:41:24.504Z"
   },
   {
    "duration": 2,
    "start_time": "2022-07-22T08:41:24.652Z"
   },
   {
    "duration": 80,
    "start_time": "2022-07-22T08:41:24.656Z"
   },
   {
    "duration": 514,
    "start_time": "2022-07-22T08:41:24.738Z"
   },
   {
    "duration": 151,
    "start_time": "2022-07-22T08:41:25.254Z"
   },
   {
    "duration": 188,
    "start_time": "2022-07-22T08:41:25.407Z"
   },
   {
    "duration": 0,
    "start_time": "2022-07-22T08:41:25.597Z"
   },
   {
    "duration": 0,
    "start_time": "2022-07-22T08:41:25.598Z"
   },
   {
    "duration": 0,
    "start_time": "2022-07-22T08:41:25.599Z"
   },
   {
    "duration": 0,
    "start_time": "2022-07-22T08:41:25.601Z"
   },
   {
    "duration": 0,
    "start_time": "2022-07-22T08:41:25.602Z"
   },
   {
    "duration": 0,
    "start_time": "2022-07-22T08:41:25.603Z"
   },
   {
    "duration": 0,
    "start_time": "2022-07-22T08:41:25.604Z"
   },
   {
    "duration": 0,
    "start_time": "2022-07-22T08:41:25.605Z"
   },
   {
    "duration": 0,
    "start_time": "2022-07-22T08:41:25.606Z"
   },
   {
    "duration": 0,
    "start_time": "2022-07-22T08:41:25.607Z"
   },
   {
    "duration": 0,
    "start_time": "2022-07-22T08:41:25.608Z"
   },
   {
    "duration": 0,
    "start_time": "2022-07-22T08:41:25.609Z"
   },
   {
    "duration": 1167,
    "start_time": "2022-07-22T08:47:18.766Z"
   },
   {
    "duration": 147,
    "start_time": "2022-07-22T08:47:19.935Z"
   },
   {
    "duration": 26,
    "start_time": "2022-07-22T08:47:20.084Z"
   },
   {
    "duration": 100,
    "start_time": "2022-07-22T08:47:20.112Z"
   },
   {
    "duration": 64,
    "start_time": "2022-07-22T08:47:20.214Z"
   },
   {
    "duration": 73,
    "start_time": "2022-07-22T08:47:20.279Z"
   },
   {
    "duration": 17,
    "start_time": "2022-07-22T08:47:20.354Z"
   },
   {
    "duration": 60,
    "start_time": "2022-07-22T08:47:20.373Z"
   },
   {
    "duration": 6,
    "start_time": "2022-07-22T08:47:20.435Z"
   },
   {
    "duration": 113,
    "start_time": "2022-07-22T08:47:20.444Z"
   },
   {
    "duration": 2,
    "start_time": "2022-07-22T08:47:20.559Z"
   },
   {
    "duration": 55,
    "start_time": "2022-07-22T08:47:20.562Z"
   },
   {
    "duration": 494,
    "start_time": "2022-07-22T08:47:20.619Z"
   },
   {
    "duration": 87,
    "start_time": "2022-07-22T08:47:21.115Z"
   },
   {
    "duration": 61,
    "start_time": "2022-07-22T08:47:21.203Z"
   },
   {
    "duration": 20,
    "start_time": "2022-07-22T08:47:21.265Z"
   },
   {
    "duration": 23,
    "start_time": "2022-07-22T08:47:21.287Z"
   },
   {
    "duration": 56,
    "start_time": "2022-07-22T08:47:21.312Z"
   },
   {
    "duration": 5,
    "start_time": "2022-07-22T08:47:21.370Z"
   },
   {
    "duration": 62,
    "start_time": "2022-07-22T08:47:21.377Z"
   },
   {
    "duration": 6,
    "start_time": "2022-07-22T08:47:21.441Z"
   },
   {
    "duration": 84,
    "start_time": "2022-07-22T08:47:21.448Z"
   },
   {
    "duration": 144,
    "start_time": "2022-07-22T08:47:21.534Z"
   },
   {
    "duration": 164,
    "start_time": "2022-07-22T08:47:21.680Z"
   },
   {
    "duration": 163,
    "start_time": "2022-07-22T08:47:21.845Z"
   },
   {
    "duration": 191,
    "start_time": "2022-07-22T08:47:22.009Z"
   },
   {
    "duration": 1218,
    "start_time": "2022-07-22T08:52:54.044Z"
   },
   {
    "duration": 167,
    "start_time": "2022-07-22T08:52:55.265Z"
   },
   {
    "duration": 26,
    "start_time": "2022-07-22T08:52:55.434Z"
   },
   {
    "duration": 117,
    "start_time": "2022-07-22T08:52:55.462Z"
   },
   {
    "duration": 74,
    "start_time": "2022-07-22T08:52:55.581Z"
   },
   {
    "duration": 78,
    "start_time": "2022-07-22T08:52:55.657Z"
   },
   {
    "duration": 20,
    "start_time": "2022-07-22T08:52:55.737Z"
   },
   {
    "duration": 68,
    "start_time": "2022-07-22T08:52:55.758Z"
   },
   {
    "duration": 7,
    "start_time": "2022-07-22T08:52:55.828Z"
   },
   {
    "duration": 112,
    "start_time": "2022-07-22T08:52:55.838Z"
   },
   {
    "duration": 3,
    "start_time": "2022-07-22T08:52:55.952Z"
   },
   {
    "duration": 59,
    "start_time": "2022-07-22T08:52:55.956Z"
   },
   {
    "duration": 500,
    "start_time": "2022-07-22T08:52:56.016Z"
   },
   {
    "duration": 105,
    "start_time": "2022-07-22T08:52:56.518Z"
   },
   {
    "duration": 30,
    "start_time": "2022-07-22T08:52:56.625Z"
   },
   {
    "duration": 45,
    "start_time": "2022-07-22T08:52:56.657Z"
   },
   {
    "duration": 18,
    "start_time": "2022-07-22T08:52:56.703Z"
   },
   {
    "duration": 50,
    "start_time": "2022-07-22T08:52:56.723Z"
   },
   {
    "duration": 6,
    "start_time": "2022-07-22T08:52:56.775Z"
   },
   {
    "duration": 36,
    "start_time": "2022-07-22T08:52:56.800Z"
   },
   {
    "duration": 6,
    "start_time": "2022-07-22T08:52:56.838Z"
   },
   {
    "duration": 45,
    "start_time": "2022-07-22T08:52:56.845Z"
   },
   {
    "duration": 142,
    "start_time": "2022-07-22T08:52:56.901Z"
   },
   {
    "duration": 140,
    "start_time": "2022-07-22T08:52:57.045Z"
   },
   {
    "duration": 142,
    "start_time": "2022-07-22T08:52:57.187Z"
   },
   {
    "duration": 180,
    "start_time": "2022-07-22T08:52:57.332Z"
   },
   {
    "duration": 57,
    "start_time": "2022-07-22T09:03:44.152Z"
   },
   {
    "duration": 70,
    "start_time": "2022-07-22T09:40:37.488Z"
   },
   {
    "duration": 69,
    "start_time": "2022-07-22T09:42:21.866Z"
   },
   {
    "duration": 68,
    "start_time": "2022-07-22T09:42:27.981Z"
   },
   {
    "duration": 55,
    "start_time": "2022-07-22T09:42:52.124Z"
   },
   {
    "duration": 69,
    "start_time": "2022-07-22T09:42:59.150Z"
   },
   {
    "duration": 74,
    "start_time": "2022-07-22T09:45:07.177Z"
   },
   {
    "duration": 1397,
    "start_time": "2022-07-22T10:43:24.645Z"
   },
   {
    "duration": 508,
    "start_time": "2022-07-22T10:43:26.044Z"
   },
   {
    "duration": 29,
    "start_time": "2022-07-22T10:43:26.554Z"
   },
   {
    "duration": 97,
    "start_time": "2022-07-22T10:43:26.585Z"
   },
   {
    "duration": 75,
    "start_time": "2022-07-22T10:43:26.684Z"
   },
   {
    "duration": 78,
    "start_time": "2022-07-22T10:43:26.762Z"
   },
   {
    "duration": 18,
    "start_time": "2022-07-22T10:43:26.842Z"
   },
   {
    "duration": 65,
    "start_time": "2022-07-22T10:43:26.862Z"
   },
   {
    "duration": 7,
    "start_time": "2022-07-22T10:43:26.929Z"
   },
   {
    "duration": 112,
    "start_time": "2022-07-22T10:43:26.939Z"
   },
   {
    "duration": 3,
    "start_time": "2022-07-22T10:43:27.052Z"
   },
   {
    "duration": 61,
    "start_time": "2022-07-22T10:43:27.057Z"
   },
   {
    "duration": 598,
    "start_time": "2022-07-22T10:43:27.122Z"
   },
   {
    "duration": 149,
    "start_time": "2022-07-22T10:43:27.722Z"
   },
   {
    "duration": 73,
    "start_time": "2022-07-22T10:43:27.874Z"
   },
   {
    "duration": 37,
    "start_time": "2022-07-22T10:43:27.949Z"
   },
   {
    "duration": 34,
    "start_time": "2022-07-22T10:43:27.989Z"
   },
   {
    "duration": 109,
    "start_time": "2022-07-22T10:43:28.025Z"
   },
   {
    "duration": 56,
    "start_time": "2022-07-22T10:43:28.137Z"
   },
   {
    "duration": 16,
    "start_time": "2022-07-22T10:43:28.195Z"
   },
   {
    "duration": 51,
    "start_time": "2022-07-22T10:43:28.213Z"
   },
   {
    "duration": 11,
    "start_time": "2022-07-22T10:43:28.266Z"
   },
   {
    "duration": 51,
    "start_time": "2022-07-22T10:43:28.278Z"
   },
   {
    "duration": 133,
    "start_time": "2022-07-22T10:43:28.331Z"
   },
   {
    "duration": 150,
    "start_time": "2022-07-22T10:43:28.466Z"
   },
   {
    "duration": 157,
    "start_time": "2022-07-22T10:43:28.618Z"
   },
   {
    "duration": 183,
    "start_time": "2022-07-22T10:43:28.776Z"
   },
   {
    "duration": 1437,
    "start_time": "2022-07-22T10:45:02.241Z"
   },
   {
    "duration": 1131,
    "start_time": "2022-07-22T10:45:34.035Z"
   },
   {
    "duration": 64,
    "start_time": "2022-07-22T10:45:43.458Z"
   },
   {
    "duration": 63,
    "start_time": "2022-07-22T10:45:50.868Z"
   },
   {
    "duration": 73,
    "start_time": "2022-07-22T10:47:03.804Z"
   },
   {
    "duration": 59,
    "start_time": "2022-07-22T10:47:14.237Z"
   },
   {
    "duration": 71,
    "start_time": "2022-07-22T10:47:19.837Z"
   },
   {
    "duration": 65,
    "start_time": "2022-07-22T10:47:35.181Z"
   },
   {
    "duration": 69,
    "start_time": "2022-07-22T10:51:48.670Z"
   },
   {
    "duration": 83,
    "start_time": "2022-07-22T10:51:57.238Z"
   },
   {
    "duration": 72,
    "start_time": "2022-07-22T10:52:09.411Z"
   },
   {
    "duration": 64,
    "start_time": "2022-07-22T10:52:22.392Z"
   },
   {
    "duration": 59,
    "start_time": "2022-07-22T10:52:30.740Z"
   },
   {
    "duration": 59,
    "start_time": "2022-07-22T10:53:03.537Z"
   },
   {
    "duration": 69,
    "start_time": "2022-07-22T10:53:47.704Z"
   },
   {
    "duration": 1121,
    "start_time": "2022-07-22T10:56:12.755Z"
   },
   {
    "duration": 63,
    "start_time": "2022-07-22T10:56:45.025Z"
   },
   {
    "duration": 61,
    "start_time": "2022-07-22T10:57:07.645Z"
   },
   {
    "duration": 64,
    "start_time": "2022-07-22T10:57:34.773Z"
   },
   {
    "duration": 70,
    "start_time": "2022-07-22T10:57:53.574Z"
   },
   {
    "duration": 69,
    "start_time": "2022-07-22T10:58:01.253Z"
   },
   {
    "duration": 100,
    "start_time": "2022-07-22T10:58:11.661Z"
   },
   {
    "duration": 59,
    "start_time": "2022-07-22T10:58:41.138Z"
   },
   {
    "duration": 57,
    "start_time": "2022-07-22T10:59:16.944Z"
   },
   {
    "duration": 68,
    "start_time": "2022-07-22T10:59:33.050Z"
   },
   {
    "duration": 63,
    "start_time": "2022-07-22T11:00:02.650Z"
   },
   {
    "duration": 93,
    "start_time": "2022-07-22T11:00:12.085Z"
   },
   {
    "duration": 77,
    "start_time": "2022-07-22T11:01:36.151Z"
   },
   {
    "duration": 60,
    "start_time": "2022-07-22T12:19:41.979Z"
   },
   {
    "duration": 61,
    "start_time": "2022-07-22T12:20:10.743Z"
   },
   {
    "duration": 1315,
    "start_time": "2022-07-22T12:28:36.947Z"
   },
   {
    "duration": 168,
    "start_time": "2022-07-22T12:28:38.264Z"
   },
   {
    "duration": 30,
    "start_time": "2022-07-22T12:28:38.434Z"
   },
   {
    "duration": 146,
    "start_time": "2022-07-22T12:28:38.467Z"
   },
   {
    "duration": 69,
    "start_time": "2022-07-22T12:28:38.614Z"
   },
   {
    "duration": 108,
    "start_time": "2022-07-22T12:28:38.685Z"
   },
   {
    "duration": 32,
    "start_time": "2022-07-22T12:28:38.796Z"
   },
   {
    "duration": 68,
    "start_time": "2022-07-22T12:28:38.830Z"
   },
   {
    "duration": 13,
    "start_time": "2022-07-22T12:28:38.900Z"
   },
   {
    "duration": 104,
    "start_time": "2022-07-22T12:28:38.916Z"
   },
   {
    "duration": 17,
    "start_time": "2022-07-22T12:28:39.023Z"
   },
   {
    "duration": 77,
    "start_time": "2022-07-22T12:28:39.042Z"
   },
   {
    "duration": 558,
    "start_time": "2022-07-22T12:28:39.121Z"
   },
   {
    "duration": 140,
    "start_time": "2022-07-22T12:28:39.682Z"
   },
   {
    "duration": 30,
    "start_time": "2022-07-22T12:28:39.824Z"
   },
   {
    "duration": 23,
    "start_time": "2022-07-22T12:28:39.856Z"
   },
   {
    "duration": 39,
    "start_time": "2022-07-22T12:28:39.881Z"
   },
   {
    "duration": 73,
    "start_time": "2022-07-22T12:28:39.922Z"
   },
   {
    "duration": 16,
    "start_time": "2022-07-22T12:28:39.997Z"
   },
   {
    "duration": 54,
    "start_time": "2022-07-22T12:28:40.015Z"
   },
   {
    "duration": 15,
    "start_time": "2022-07-22T12:28:40.071Z"
   },
   {
    "duration": 108,
    "start_time": "2022-07-22T12:28:40.088Z"
   },
   {
    "duration": 155,
    "start_time": "2022-07-22T12:28:40.198Z"
   },
   {
    "duration": 155,
    "start_time": "2022-07-22T12:28:40.355Z"
   },
   {
    "duration": 136,
    "start_time": "2022-07-22T12:28:40.512Z"
   },
   {
    "duration": 165,
    "start_time": "2022-07-22T12:28:40.651Z"
   },
   {
    "duration": 1418,
    "start_time": "2022-07-22T13:55:04.678Z"
   },
   {
    "duration": 563,
    "start_time": "2022-07-22T13:55:06.098Z"
   },
   {
    "duration": 32,
    "start_time": "2022-07-22T13:55:06.662Z"
   },
   {
    "duration": 109,
    "start_time": "2022-07-22T13:55:06.696Z"
   },
   {
    "duration": 63,
    "start_time": "2022-07-22T13:55:06.807Z"
   },
   {
    "duration": 61,
    "start_time": "2022-07-22T13:55:06.871Z"
   },
   {
    "duration": 32,
    "start_time": "2022-07-22T13:55:06.933Z"
   },
   {
    "duration": 46,
    "start_time": "2022-07-22T13:55:06.966Z"
   },
   {
    "duration": 6,
    "start_time": "2022-07-22T13:55:07.014Z"
   },
   {
    "duration": 133,
    "start_time": "2022-07-22T13:55:07.023Z"
   },
   {
    "duration": 2,
    "start_time": "2022-07-22T13:55:07.157Z"
   },
   {
    "duration": 63,
    "start_time": "2022-07-22T13:55:07.161Z"
   },
   {
    "duration": 535,
    "start_time": "2022-07-22T13:55:07.226Z"
   },
   {
    "duration": 110,
    "start_time": "2022-07-22T13:55:07.763Z"
   },
   {
    "duration": 30,
    "start_time": "2022-07-22T13:55:07.874Z"
   },
   {
    "duration": 21,
    "start_time": "2022-07-22T13:55:07.905Z"
   },
   {
    "duration": 41,
    "start_time": "2022-07-22T13:55:07.927Z"
   },
   {
    "duration": 95,
    "start_time": "2022-07-22T13:55:07.969Z"
   },
   {
    "duration": 5,
    "start_time": "2022-07-22T13:55:08.065Z"
   },
   {
    "duration": 53,
    "start_time": "2022-07-22T13:55:08.072Z"
   },
   {
    "duration": 6,
    "start_time": "2022-07-22T13:55:08.127Z"
   },
   {
    "duration": 64,
    "start_time": "2022-07-22T13:55:08.134Z"
   },
   {
    "duration": 128,
    "start_time": "2022-07-22T13:55:08.200Z"
   },
   {
    "duration": 136,
    "start_time": "2022-07-22T13:55:08.329Z"
   },
   {
    "duration": 132,
    "start_time": "2022-07-22T13:55:08.466Z"
   },
   {
    "duration": 161,
    "start_time": "2022-07-22T13:55:08.600Z"
   },
   {
    "duration": 1447,
    "start_time": "2022-07-23T08:57:32.554Z"
   },
   {
    "duration": 507,
    "start_time": "2022-07-23T08:57:34.003Z"
   },
   {
    "duration": 29,
    "start_time": "2022-07-23T08:57:34.512Z"
   },
   {
    "duration": 95,
    "start_time": "2022-07-23T08:57:34.543Z"
   },
   {
    "duration": 79,
    "start_time": "2022-07-23T08:57:34.640Z"
   },
   {
    "duration": 83,
    "start_time": "2022-07-23T08:57:34.721Z"
   },
   {
    "duration": 19,
    "start_time": "2022-07-23T08:57:34.806Z"
   },
   {
    "duration": 60,
    "start_time": "2022-07-23T08:57:34.827Z"
   },
   {
    "duration": 8,
    "start_time": "2022-07-23T08:57:34.889Z"
   },
   {
    "duration": 116,
    "start_time": "2022-07-23T08:57:34.900Z"
   },
   {
    "duration": 3,
    "start_time": "2022-07-23T08:57:35.017Z"
   },
   {
    "duration": 56,
    "start_time": "2022-07-23T08:57:35.022Z"
   },
   {
    "duration": 542,
    "start_time": "2022-07-23T08:57:35.079Z"
   },
   {
    "duration": 76,
    "start_time": "2022-07-23T08:57:35.623Z"
   },
   {
    "duration": 71,
    "start_time": "2022-07-23T08:57:35.700Z"
   },
   {
    "duration": 20,
    "start_time": "2022-07-23T08:57:35.773Z"
   },
   {
    "duration": 22,
    "start_time": "2022-07-23T08:57:35.795Z"
   },
   {
    "duration": 77,
    "start_time": "2022-07-23T08:57:35.819Z"
   },
   {
    "duration": 6,
    "start_time": "2022-07-23T08:57:35.897Z"
   },
   {
    "duration": 37,
    "start_time": "2022-07-23T08:57:35.904Z"
   },
   {
    "duration": 7,
    "start_time": "2022-07-23T08:57:35.961Z"
   },
   {
    "duration": 43,
    "start_time": "2022-07-23T08:57:35.970Z"
   },
   {
    "duration": 154,
    "start_time": "2022-07-23T08:57:36.015Z"
   },
   {
    "duration": 207,
    "start_time": "2022-07-23T08:57:36.171Z"
   },
   {
    "duration": 209,
    "start_time": "2022-07-23T08:57:36.381Z"
   },
   {
    "duration": 201,
    "start_time": "2022-07-23T08:57:36.592Z"
   },
   {
    "duration": 4632,
    "start_time": "2022-07-23T08:58:50.756Z"
   },
   {
    "duration": 1204,
    "start_time": "2022-07-23T08:59:07.183Z"
   },
   {
    "duration": 154,
    "start_time": "2022-07-23T08:59:08.389Z"
   },
   {
    "duration": 29,
    "start_time": "2022-07-23T08:59:08.544Z"
   },
   {
    "duration": 106,
    "start_time": "2022-07-23T08:59:08.575Z"
   },
   {
    "duration": 102,
    "start_time": "2022-07-23T08:59:08.684Z"
   },
   {
    "duration": 84,
    "start_time": "2022-07-23T08:59:08.789Z"
   },
   {
    "duration": 20,
    "start_time": "2022-07-23T08:59:08.875Z"
   },
   {
    "duration": 77,
    "start_time": "2022-07-23T08:59:08.897Z"
   },
   {
    "duration": 7,
    "start_time": "2022-07-23T08:59:08.976Z"
   },
   {
    "duration": 104,
    "start_time": "2022-07-23T08:59:08.987Z"
   },
   {
    "duration": 5787,
    "start_time": "2022-07-23T08:59:09.093Z"
   },
   {
    "duration": 87,
    "start_time": "2022-07-23T08:59:14.882Z"
   },
   {
    "duration": 228,
    "start_time": "2022-07-23T08:59:14.971Z"
   },
   {
    "duration": 170,
    "start_time": "2022-07-23T08:59:15.200Z"
   },
   {
    "duration": 29,
    "start_time": "2022-07-23T08:59:15.372Z"
   },
   {
    "duration": 81,
    "start_time": "2022-07-23T08:59:15.403Z"
   },
   {
    "duration": 14,
    "start_time": "2022-07-23T08:59:15.486Z"
   },
   {
    "duration": 108,
    "start_time": "2022-07-23T08:59:15.502Z"
   },
   {
    "duration": 5,
    "start_time": "2022-07-23T08:59:15.612Z"
   },
   {
    "duration": 58,
    "start_time": "2022-07-23T08:59:15.619Z"
   },
   {
    "duration": 9,
    "start_time": "2022-07-23T08:59:15.679Z"
   },
   {
    "duration": 46,
    "start_time": "2022-07-23T08:59:15.689Z"
   },
   {
    "duration": 143,
    "start_time": "2022-07-23T08:59:15.737Z"
   },
   {
    "duration": 134,
    "start_time": "2022-07-23T08:59:15.882Z"
   },
   {
    "duration": 144,
    "start_time": "2022-07-23T08:59:16.017Z"
   },
   {
    "duration": 200,
    "start_time": "2022-07-23T08:59:16.163Z"
   },
   {
    "duration": 1409,
    "start_time": "2022-07-23T09:22:15.753Z"
   },
   {
    "duration": 494,
    "start_time": "2022-07-23T09:22:17.164Z"
   },
   {
    "duration": 27,
    "start_time": "2022-07-23T09:22:17.660Z"
   },
   {
    "duration": 90,
    "start_time": "2022-07-23T09:22:17.689Z"
   },
   {
    "duration": 70,
    "start_time": "2022-07-23T09:22:17.782Z"
   },
   {
    "duration": 106,
    "start_time": "2022-07-23T09:22:17.854Z"
   },
   {
    "duration": 78,
    "start_time": "2022-07-23T09:22:17.962Z"
   },
   {
    "duration": 106,
    "start_time": "2022-07-23T09:22:18.041Z"
   },
   {
    "duration": 9,
    "start_time": "2022-07-23T09:22:18.149Z"
   },
   {
    "duration": 266,
    "start_time": "2022-07-23T09:22:18.160Z"
   },
   {
    "duration": 6750,
    "start_time": "2022-07-23T09:22:18.428Z"
   },
   {
    "duration": 77,
    "start_time": "2022-07-23T09:22:25.180Z"
   },
   {
    "duration": 275,
    "start_time": "2022-07-23T09:22:25.258Z"
   },
   {
    "duration": 106,
    "start_time": "2022-07-23T09:22:25.535Z"
   },
   {
    "duration": 82,
    "start_time": "2022-07-23T09:22:25.643Z"
   },
   {
    "duration": 19,
    "start_time": "2022-07-23T09:22:25.726Z"
   },
   {
    "duration": 15,
    "start_time": "2022-07-23T09:22:25.746Z"
   },
   {
    "duration": 82,
    "start_time": "2022-07-23T09:22:25.762Z"
   },
   {
    "duration": 5,
    "start_time": "2022-07-23T09:22:25.845Z"
   },
   {
    "duration": 35,
    "start_time": "2022-07-23T09:22:25.852Z"
   },
   {
    "duration": 107,
    "start_time": "2022-07-23T09:22:25.888Z"
   },
   {
    "duration": 39,
    "start_time": "2022-07-23T09:22:25.996Z"
   },
   {
    "duration": 148,
    "start_time": "2022-07-23T09:22:26.038Z"
   },
   {
    "duration": 149,
    "start_time": "2022-07-23T09:22:26.187Z"
   },
   {
    "duration": 150,
    "start_time": "2022-07-23T09:22:26.337Z"
   },
   {
    "duration": 173,
    "start_time": "2022-07-23T09:22:26.489Z"
   },
   {
    "duration": 1269,
    "start_time": "2022-07-23T09:23:01.286Z"
   },
   {
    "duration": 151,
    "start_time": "2022-07-23T09:23:02.557Z"
   },
   {
    "duration": 32,
    "start_time": "2022-07-23T09:23:02.710Z"
   },
   {
    "duration": 108,
    "start_time": "2022-07-23T09:23:02.745Z"
   },
   {
    "duration": 77,
    "start_time": "2022-07-23T09:23:02.855Z"
   },
   {
    "duration": 74,
    "start_time": "2022-07-23T09:23:02.934Z"
   },
   {
    "duration": 30,
    "start_time": "2022-07-23T09:23:03.010Z"
   },
   {
    "duration": 82,
    "start_time": "2022-07-23T09:23:03.042Z"
   },
   {
    "duration": 6,
    "start_time": "2022-07-23T09:23:03.126Z"
   },
   {
    "duration": 119,
    "start_time": "2022-07-23T09:23:03.135Z"
   },
   {
    "duration": 8586,
    "start_time": "2022-07-23T09:23:03.255Z"
   },
   {
    "duration": 93,
    "start_time": "2022-07-23T09:23:11.844Z"
   },
   {
    "duration": 229,
    "start_time": "2022-07-23T09:23:11.939Z"
   },
   {
    "duration": 110,
    "start_time": "2022-07-23T09:23:12.223Z"
   },
   {
    "duration": 31,
    "start_time": "2022-07-23T09:23:12.335Z"
   },
   {
    "duration": 55,
    "start_time": "2022-07-23T09:23:12.368Z"
   },
   {
    "duration": 15,
    "start_time": "2022-07-23T09:23:12.426Z"
   },
   {
    "duration": 85,
    "start_time": "2022-07-23T09:23:12.443Z"
   },
   {
    "duration": 163,
    "start_time": "2022-07-23T09:23:12.529Z"
   },
   {
    "duration": 0,
    "start_time": "2022-07-23T09:23:12.693Z"
   },
   {
    "duration": 0,
    "start_time": "2022-07-23T09:23:12.695Z"
   },
   {
    "duration": 0,
    "start_time": "2022-07-23T09:23:12.696Z"
   },
   {
    "duration": 0,
    "start_time": "2022-07-23T09:23:12.697Z"
   },
   {
    "duration": 0,
    "start_time": "2022-07-23T09:23:12.698Z"
   },
   {
    "duration": 0,
    "start_time": "2022-07-23T09:23:12.699Z"
   },
   {
    "duration": 0,
    "start_time": "2022-07-23T09:23:12.700Z"
   },
   {
    "duration": 0,
    "start_time": "2022-07-23T09:23:12.701Z"
   },
   {
    "duration": 69,
    "start_time": "2022-07-23T09:23:29.352Z"
   },
   {
    "duration": 63,
    "start_time": "2022-07-23T09:23:56.846Z"
   },
   {
    "duration": 84,
    "start_time": "2022-07-23T09:27:04.056Z"
   },
   {
    "duration": 74,
    "start_time": "2022-07-23T09:27:44.892Z"
   },
   {
    "duration": 67,
    "start_time": "2022-07-23T09:30:08.154Z"
   },
   {
    "duration": 93,
    "start_time": "2022-07-23T09:35:46.548Z"
   },
   {
    "duration": 79,
    "start_time": "2022-07-23T09:36:21.595Z"
   },
   {
    "duration": 66,
    "start_time": "2022-07-23T09:36:33.063Z"
   },
   {
    "duration": 41,
    "start_time": "2022-07-23T09:40:27.805Z"
   },
   {
    "duration": 40,
    "start_time": "2022-07-23T09:40:38.445Z"
   },
   {
    "duration": 66,
    "start_time": "2022-07-23T09:40:47.118Z"
   },
   {
    "duration": 69,
    "start_time": "2022-07-23T09:40:53.268Z"
   },
   {
    "duration": 64,
    "start_time": "2022-07-23T09:41:04.796Z"
   },
   {
    "duration": 35,
    "start_time": "2022-07-23T09:41:12.770Z"
   },
   {
    "duration": 1448,
    "start_time": "2022-07-23T20:57:03.570Z"
   },
   {
    "duration": 550,
    "start_time": "2022-07-23T20:57:05.020Z"
   },
   {
    "duration": 29,
    "start_time": "2022-07-23T20:57:05.571Z"
   },
   {
    "duration": 99,
    "start_time": "2022-07-23T20:57:05.602Z"
   },
   {
    "duration": 69,
    "start_time": "2022-07-23T20:57:05.703Z"
   },
   {
    "duration": 64,
    "start_time": "2022-07-23T20:57:05.774Z"
   },
   {
    "duration": 33,
    "start_time": "2022-07-23T20:57:05.840Z"
   },
   {
    "duration": 56,
    "start_time": "2022-07-23T20:57:05.875Z"
   },
   {
    "duration": 8,
    "start_time": "2022-07-23T20:57:05.932Z"
   },
   {
    "duration": 100,
    "start_time": "2022-07-23T20:57:05.962Z"
   },
   {
    "duration": 6041,
    "start_time": "2022-07-23T20:57:06.064Z"
   },
   {
    "duration": 80,
    "start_time": "2022-07-23T20:57:12.108Z"
   },
   {
    "duration": 271,
    "start_time": "2022-07-23T20:57:12.190Z"
   },
   {
    "duration": 106,
    "start_time": "2022-07-23T20:57:12.463Z"
   },
   {
    "duration": 30,
    "start_time": "2022-07-23T20:57:12.571Z"
   },
   {
    "duration": 69,
    "start_time": "2022-07-23T20:57:12.603Z"
   },
   {
    "duration": 43,
    "start_time": "2022-07-23T20:57:12.674Z"
   },
   {
    "duration": 77,
    "start_time": "2022-07-23T20:57:12.720Z"
   },
   {
    "duration": 158,
    "start_time": "2022-07-23T20:57:12.798Z"
   },
   {
    "duration": 0,
    "start_time": "2022-07-23T20:57:12.960Z"
   },
   {
    "duration": 0,
    "start_time": "2022-07-23T20:57:12.962Z"
   },
   {
    "duration": 0,
    "start_time": "2022-07-23T20:57:12.963Z"
   },
   {
    "duration": 0,
    "start_time": "2022-07-23T20:57:12.964Z"
   },
   {
    "duration": 0,
    "start_time": "2022-07-23T20:57:12.965Z"
   },
   {
    "duration": 0,
    "start_time": "2022-07-23T20:57:12.966Z"
   },
   {
    "duration": 0,
    "start_time": "2022-07-23T20:57:12.966Z"
   },
   {
    "duration": 1,
    "start_time": "2022-07-23T20:57:12.967Z"
   },
   {
    "duration": 1211,
    "start_time": "2022-07-23T20:57:43.261Z"
   },
   {
    "duration": 154,
    "start_time": "2022-07-23T20:57:44.474Z"
   },
   {
    "duration": 31,
    "start_time": "2022-07-23T20:57:44.630Z"
   },
   {
    "duration": 110,
    "start_time": "2022-07-23T20:57:44.663Z"
   },
   {
    "duration": 61,
    "start_time": "2022-07-23T20:57:44.774Z"
   },
   {
    "duration": 75,
    "start_time": "2022-07-23T20:57:44.837Z"
   },
   {
    "duration": 19,
    "start_time": "2022-07-23T20:57:44.913Z"
   },
   {
    "duration": 60,
    "start_time": "2022-07-23T20:57:44.934Z"
   },
   {
    "duration": 6,
    "start_time": "2022-07-23T20:57:44.996Z"
   },
   {
    "duration": 139,
    "start_time": "2022-07-23T20:57:45.005Z"
   },
   {
    "duration": 5794,
    "start_time": "2022-07-23T20:57:45.146Z"
   },
   {
    "duration": 60,
    "start_time": "2022-07-23T20:57:50.942Z"
   },
   {
    "duration": 297,
    "start_time": "2022-07-23T20:57:51.004Z"
   },
   {
    "duration": 170,
    "start_time": "2022-07-23T20:57:51.303Z"
   },
   {
    "duration": 34,
    "start_time": "2022-07-23T20:57:51.475Z"
   },
   {
    "duration": 67,
    "start_time": "2022-07-23T20:57:51.511Z"
   },
   {
    "duration": 15,
    "start_time": "2022-07-23T20:57:51.580Z"
   },
   {
    "duration": 80,
    "start_time": "2022-07-23T20:57:51.597Z"
   },
   {
    "duration": 2,
    "start_time": "2022-07-23T20:57:51.679Z"
   },
   {
    "duration": 8,
    "start_time": "2022-07-23T20:57:51.683Z"
   },
   {
    "duration": 36,
    "start_time": "2022-07-23T20:57:51.693Z"
   },
   {
    "duration": 30,
    "start_time": "2022-07-23T20:57:51.731Z"
   },
   {
    "duration": 33,
    "start_time": "2022-07-23T20:57:51.762Z"
   },
   {
    "duration": 130,
    "start_time": "2022-07-23T20:57:51.797Z"
   },
   {
    "duration": 150,
    "start_time": "2022-07-23T20:57:51.928Z"
   },
   {
    "duration": 131,
    "start_time": "2022-07-23T20:57:52.079Z"
   },
   {
    "duration": 143,
    "start_time": "2022-07-23T20:57:52.211Z"
   }
  ],
  "kernelspec": {
   "display_name": "Python 3 (ipykernel)",
   "language": "python",
   "name": "python3"
  },
  "language_info": {
   "codemirror_mode": {
    "name": "ipython",
    "version": 3
   },
   "file_extension": ".py",
   "mimetype": "text/x-python",
   "name": "python",
   "nbconvert_exporter": "python",
   "pygments_lexer": "ipython3",
   "version": "3.9.7"
  },
  "toc": {
   "base_numbering": 1,
   "nav_menu": {},
   "number_sections": true,
   "sideBar": true,
   "skip_h1_title": true,
   "title_cell": "Table of Contents",
   "title_sidebar": "Contents",
   "toc_cell": false,
   "toc_position": {
    "height": "calc(100% - 180px)",
    "left": "10px",
    "top": "150px",
    "width": "356.797px"
   },
   "toc_section_display": true,
   "toc_window_display": true
  }
 },
 "nbformat": 4,
 "nbformat_minor": 2
}
